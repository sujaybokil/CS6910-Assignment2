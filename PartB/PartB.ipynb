{
  "nbformat": 4,
  "nbformat_minor": 0,
  "metadata": {
    "accelerator": "GPU",
    "colab": {
      "name": "CS6910-Assignment2.ipynb",
      "provenance": [],
      "collapsed_sections": [],
      "toc_visible": true
    },
    "kernelspec": {
      "display_name": "Python 3",
      "name": "python3"
    },
    "language_info": {
      "name": "python"
    },
    "widgets": {
      "application/vnd.jupyter.widget-state+json": {
        "66ad3344280441ec870e91d201701e4f": {
          "model_module": "@jupyter-widgets/controls",
          "model_name": "VBoxModel",
          "state": {
            "_view_name": "VBoxView",
            "_dom_classes": [],
            "_model_name": "VBoxModel",
            "_view_module": "@jupyter-widgets/controls",
            "_model_module_version": "1.5.0",
            "_view_count": null,
            "_view_module_version": "1.5.0",
            "box_style": "",
            "layout": "IPY_MODEL_36c2c12330414554a3ce23605aa15e41",
            "_model_module": "@jupyter-widgets/controls",
            "children": [
              "IPY_MODEL_b6a2071bc21c4aafbbb9f7b0b238fa2d",
              "IPY_MODEL_2d6de9bcb1834b33a333acaaa52e117e"
            ]
          }
        },
        "36c2c12330414554a3ce23605aa15e41": {
          "model_module": "@jupyter-widgets/base",
          "model_name": "LayoutModel",
          "state": {
            "_view_name": "LayoutView",
            "grid_template_rows": null,
            "right": null,
            "justify_content": null,
            "_view_module": "@jupyter-widgets/base",
            "overflow": null,
            "_model_module_version": "1.2.0",
            "_view_count": null,
            "flex_flow": null,
            "width": null,
            "min_width": null,
            "border": null,
            "align_items": null,
            "bottom": null,
            "_model_module": "@jupyter-widgets/base",
            "top": null,
            "grid_column": null,
            "overflow_y": null,
            "overflow_x": null,
            "grid_auto_flow": null,
            "grid_area": null,
            "grid_template_columns": null,
            "flex": null,
            "_model_name": "LayoutModel",
            "justify_items": null,
            "grid_row": null,
            "max_height": null,
            "align_content": null,
            "visibility": null,
            "align_self": null,
            "height": null,
            "min_height": null,
            "padding": null,
            "grid_auto_rows": null,
            "grid_gap": null,
            "max_width": null,
            "order": null,
            "_view_module_version": "1.2.0",
            "grid_template_areas": null,
            "object_position": null,
            "object_fit": null,
            "grid_auto_columns": null,
            "margin": null,
            "display": null,
            "left": null
          }
        },
        "b6a2071bc21c4aafbbb9f7b0b238fa2d": {
          "model_module": "@jupyter-widgets/controls",
          "model_name": "LabelModel",
          "state": {
            "_view_name": "LabelView",
            "style": "IPY_MODEL_b6384fc074f349c2aa6d8523280b5447",
            "_dom_classes": [],
            "description": "",
            "_model_name": "LabelModel",
            "placeholder": "​",
            "_view_module": "@jupyter-widgets/controls",
            "_model_module_version": "1.5.0",
            "value": " 3.86MB of 3.86MB uploaded (0.00MB deduped)\r",
            "_view_count": null,
            "_view_module_version": "1.5.0",
            "description_tooltip": null,
            "_model_module": "@jupyter-widgets/controls",
            "layout": "IPY_MODEL_b3eae86d1a154e839766be51264ea368"
          }
        },
        "2d6de9bcb1834b33a333acaaa52e117e": {
          "model_module": "@jupyter-widgets/controls",
          "model_name": "FloatProgressModel",
          "state": {
            "_view_name": "ProgressView",
            "style": "IPY_MODEL_4a7f8cadd3c448378300f79a0ff220f7",
            "_dom_classes": [],
            "description": "",
            "_model_name": "FloatProgressModel",
            "bar_style": "",
            "max": 1,
            "_view_module": "@jupyter-widgets/controls",
            "_model_module_version": "1.5.0",
            "value": 1,
            "_view_count": null,
            "_view_module_version": "1.5.0",
            "orientation": "horizontal",
            "min": 0,
            "description_tooltip": null,
            "_model_module": "@jupyter-widgets/controls",
            "layout": "IPY_MODEL_806f0ba32aaa43b4bbcfe75503cb8622"
          }
        },
        "b6384fc074f349c2aa6d8523280b5447": {
          "model_module": "@jupyter-widgets/controls",
          "model_name": "DescriptionStyleModel",
          "state": {
            "_view_name": "StyleView",
            "_model_name": "DescriptionStyleModel",
            "description_width": "",
            "_view_module": "@jupyter-widgets/base",
            "_model_module_version": "1.5.0",
            "_view_count": null,
            "_view_module_version": "1.2.0",
            "_model_module": "@jupyter-widgets/controls"
          }
        },
        "b3eae86d1a154e839766be51264ea368": {
          "model_module": "@jupyter-widgets/base",
          "model_name": "LayoutModel",
          "state": {
            "_view_name": "LayoutView",
            "grid_template_rows": null,
            "right": null,
            "justify_content": null,
            "_view_module": "@jupyter-widgets/base",
            "overflow": null,
            "_model_module_version": "1.2.0",
            "_view_count": null,
            "flex_flow": null,
            "width": null,
            "min_width": null,
            "border": null,
            "align_items": null,
            "bottom": null,
            "_model_module": "@jupyter-widgets/base",
            "top": null,
            "grid_column": null,
            "overflow_y": null,
            "overflow_x": null,
            "grid_auto_flow": null,
            "grid_area": null,
            "grid_template_columns": null,
            "flex": null,
            "_model_name": "LayoutModel",
            "justify_items": null,
            "grid_row": null,
            "max_height": null,
            "align_content": null,
            "visibility": null,
            "align_self": null,
            "height": null,
            "min_height": null,
            "padding": null,
            "grid_auto_rows": null,
            "grid_gap": null,
            "max_width": null,
            "order": null,
            "_view_module_version": "1.2.0",
            "grid_template_areas": null,
            "object_position": null,
            "object_fit": null,
            "grid_auto_columns": null,
            "margin": null,
            "display": null,
            "left": null
          }
        },
        "4a7f8cadd3c448378300f79a0ff220f7": {
          "model_module": "@jupyter-widgets/controls",
          "model_name": "ProgressStyleModel",
          "state": {
            "_view_name": "StyleView",
            "_model_name": "ProgressStyleModel",
            "description_width": "",
            "_view_module": "@jupyter-widgets/base",
            "_model_module_version": "1.5.0",
            "_view_count": null,
            "_view_module_version": "1.2.0",
            "bar_color": null,
            "_model_module": "@jupyter-widgets/controls"
          }
        },
        "806f0ba32aaa43b4bbcfe75503cb8622": {
          "model_module": "@jupyter-widgets/base",
          "model_name": "LayoutModel",
          "state": {
            "_view_name": "LayoutView",
            "grid_template_rows": null,
            "right": null,
            "justify_content": null,
            "_view_module": "@jupyter-widgets/base",
            "overflow": null,
            "_model_module_version": "1.2.0",
            "_view_count": null,
            "flex_flow": null,
            "width": null,
            "min_width": null,
            "border": null,
            "align_items": null,
            "bottom": null,
            "_model_module": "@jupyter-widgets/base",
            "top": null,
            "grid_column": null,
            "overflow_y": null,
            "overflow_x": null,
            "grid_auto_flow": null,
            "grid_area": null,
            "grid_template_columns": null,
            "flex": null,
            "_model_name": "LayoutModel",
            "justify_items": null,
            "grid_row": null,
            "max_height": null,
            "align_content": null,
            "visibility": null,
            "align_self": null,
            "height": null,
            "min_height": null,
            "padding": null,
            "grid_auto_rows": null,
            "grid_gap": null,
            "max_width": null,
            "order": null,
            "_view_module_version": "1.2.0",
            "grid_template_areas": null,
            "object_position": null,
            "object_fit": null,
            "grid_auto_columns": null,
            "margin": null,
            "display": null,
            "left": null
          }
        },
        "fa9df06b7cad45cd9f00ad73aec111e8": {
          "model_module": "@jupyter-widgets/controls",
          "model_name": "VBoxModel",
          "state": {
            "_view_name": "VBoxView",
            "_dom_classes": [],
            "_model_name": "VBoxModel",
            "_view_module": "@jupyter-widgets/controls",
            "_model_module_version": "1.5.0",
            "_view_count": null,
            "_view_module_version": "1.5.0",
            "box_style": "",
            "layout": "IPY_MODEL_6f4512d0db49414ebce9cb75f056f2fd",
            "_model_module": "@jupyter-widgets/controls",
            "children": [
              "IPY_MODEL_82ae6f172d614701845445cda009d74c",
              "IPY_MODEL_3da63bd7784549069eea30d57adf045d"
            ]
          }
        },
        "6f4512d0db49414ebce9cb75f056f2fd": {
          "model_module": "@jupyter-widgets/base",
          "model_name": "LayoutModel",
          "state": {
            "_view_name": "LayoutView",
            "grid_template_rows": null,
            "right": null,
            "justify_content": null,
            "_view_module": "@jupyter-widgets/base",
            "overflow": null,
            "_model_module_version": "1.2.0",
            "_view_count": null,
            "flex_flow": null,
            "width": null,
            "min_width": null,
            "border": null,
            "align_items": null,
            "bottom": null,
            "_model_module": "@jupyter-widgets/base",
            "top": null,
            "grid_column": null,
            "overflow_y": null,
            "overflow_x": null,
            "grid_auto_flow": null,
            "grid_area": null,
            "grid_template_columns": null,
            "flex": null,
            "_model_name": "LayoutModel",
            "justify_items": null,
            "grid_row": null,
            "max_height": null,
            "align_content": null,
            "visibility": null,
            "align_self": null,
            "height": null,
            "min_height": null,
            "padding": null,
            "grid_auto_rows": null,
            "grid_gap": null,
            "max_width": null,
            "order": null,
            "_view_module_version": "1.2.0",
            "grid_template_areas": null,
            "object_position": null,
            "object_fit": null,
            "grid_auto_columns": null,
            "margin": null,
            "display": null,
            "left": null
          }
        },
        "82ae6f172d614701845445cda009d74c": {
          "model_module": "@jupyter-widgets/controls",
          "model_name": "LabelModel",
          "state": {
            "_view_name": "LabelView",
            "style": "IPY_MODEL_59c8f764d46c4fb68cbd841676aef9a3",
            "_dom_classes": [],
            "description": "",
            "_model_name": "LabelModel",
            "placeholder": "​",
            "_view_module": "@jupyter-widgets/controls",
            "_model_module_version": "1.5.0",
            "value": " 9.52MB of 9.52MB uploaded (0.00MB deduped)\r",
            "_view_count": null,
            "_view_module_version": "1.5.0",
            "description_tooltip": null,
            "_model_module": "@jupyter-widgets/controls",
            "layout": "IPY_MODEL_35424201f90e41168e79cfe3545a2759"
          }
        },
        "3da63bd7784549069eea30d57adf045d": {
          "model_module": "@jupyter-widgets/controls",
          "model_name": "FloatProgressModel",
          "state": {
            "_view_name": "ProgressView",
            "style": "IPY_MODEL_b0e6df5ff6204b9994fcbbf30a25da2b",
            "_dom_classes": [],
            "description": "",
            "_model_name": "FloatProgressModel",
            "bar_style": "",
            "max": 1,
            "_view_module": "@jupyter-widgets/controls",
            "_model_module_version": "1.5.0",
            "value": 1,
            "_view_count": null,
            "_view_module_version": "1.5.0",
            "orientation": "horizontal",
            "min": 0,
            "description_tooltip": null,
            "_model_module": "@jupyter-widgets/controls",
            "layout": "IPY_MODEL_29661b1b915240a991696a1a95fa82b6"
          }
        },
        "59c8f764d46c4fb68cbd841676aef9a3": {
          "model_module": "@jupyter-widgets/controls",
          "model_name": "DescriptionStyleModel",
          "state": {
            "_view_name": "StyleView",
            "_model_name": "DescriptionStyleModel",
            "description_width": "",
            "_view_module": "@jupyter-widgets/base",
            "_model_module_version": "1.5.0",
            "_view_count": null,
            "_view_module_version": "1.2.0",
            "_model_module": "@jupyter-widgets/controls"
          }
        },
        "35424201f90e41168e79cfe3545a2759": {
          "model_module": "@jupyter-widgets/base",
          "model_name": "LayoutModel",
          "state": {
            "_view_name": "LayoutView",
            "grid_template_rows": null,
            "right": null,
            "justify_content": null,
            "_view_module": "@jupyter-widgets/base",
            "overflow": null,
            "_model_module_version": "1.2.0",
            "_view_count": null,
            "flex_flow": null,
            "width": null,
            "min_width": null,
            "border": null,
            "align_items": null,
            "bottom": null,
            "_model_module": "@jupyter-widgets/base",
            "top": null,
            "grid_column": null,
            "overflow_y": null,
            "overflow_x": null,
            "grid_auto_flow": null,
            "grid_area": null,
            "grid_template_columns": null,
            "flex": null,
            "_model_name": "LayoutModel",
            "justify_items": null,
            "grid_row": null,
            "max_height": null,
            "align_content": null,
            "visibility": null,
            "align_self": null,
            "height": null,
            "min_height": null,
            "padding": null,
            "grid_auto_rows": null,
            "grid_gap": null,
            "max_width": null,
            "order": null,
            "_view_module_version": "1.2.0",
            "grid_template_areas": null,
            "object_position": null,
            "object_fit": null,
            "grid_auto_columns": null,
            "margin": null,
            "display": null,
            "left": null
          }
        },
        "b0e6df5ff6204b9994fcbbf30a25da2b": {
          "model_module": "@jupyter-widgets/controls",
          "model_name": "ProgressStyleModel",
          "state": {
            "_view_name": "StyleView",
            "_model_name": "ProgressStyleModel",
            "description_width": "",
            "_view_module": "@jupyter-widgets/base",
            "_model_module_version": "1.5.0",
            "_view_count": null,
            "_view_module_version": "1.2.0",
            "bar_color": null,
            "_model_module": "@jupyter-widgets/controls"
          }
        },
        "29661b1b915240a991696a1a95fa82b6": {
          "model_module": "@jupyter-widgets/base",
          "model_name": "LayoutModel",
          "state": {
            "_view_name": "LayoutView",
            "grid_template_rows": null,
            "right": null,
            "justify_content": null,
            "_view_module": "@jupyter-widgets/base",
            "overflow": null,
            "_model_module_version": "1.2.0",
            "_view_count": null,
            "flex_flow": null,
            "width": null,
            "min_width": null,
            "border": null,
            "align_items": null,
            "bottom": null,
            "_model_module": "@jupyter-widgets/base",
            "top": null,
            "grid_column": null,
            "overflow_y": null,
            "overflow_x": null,
            "grid_auto_flow": null,
            "grid_area": null,
            "grid_template_columns": null,
            "flex": null,
            "_model_name": "LayoutModel",
            "justify_items": null,
            "grid_row": null,
            "max_height": null,
            "align_content": null,
            "visibility": null,
            "align_self": null,
            "height": null,
            "min_height": null,
            "padding": null,
            "grid_auto_rows": null,
            "grid_gap": null,
            "max_width": null,
            "order": null,
            "_view_module_version": "1.2.0",
            "grid_template_areas": null,
            "object_position": null,
            "object_fit": null,
            "grid_auto_columns": null,
            "margin": null,
            "display": null,
            "left": null
          }
        },
        "02b3f8f466f14048b51d90573db9db14": {
          "model_module": "@jupyter-widgets/controls",
          "model_name": "VBoxModel",
          "state": {
            "_view_name": "VBoxView",
            "_dom_classes": [],
            "_model_name": "VBoxModel",
            "_view_module": "@jupyter-widgets/controls",
            "_model_module_version": "1.5.0",
            "_view_count": null,
            "_view_module_version": "1.5.0",
            "box_style": "",
            "layout": "IPY_MODEL_8ede235531574778ba69327aa8045d93",
            "_model_module": "@jupyter-widgets/controls",
            "children": [
              "IPY_MODEL_118f66642d674af2b1210109582dbb61",
              "IPY_MODEL_707ba62d43ef4fa2a420636de30cb107"
            ]
          }
        },
        "8ede235531574778ba69327aa8045d93": {
          "model_module": "@jupyter-widgets/base",
          "model_name": "LayoutModel",
          "state": {
            "_view_name": "LayoutView",
            "grid_template_rows": null,
            "right": null,
            "justify_content": null,
            "_view_module": "@jupyter-widgets/base",
            "overflow": null,
            "_model_module_version": "1.2.0",
            "_view_count": null,
            "flex_flow": null,
            "width": null,
            "min_width": null,
            "border": null,
            "align_items": null,
            "bottom": null,
            "_model_module": "@jupyter-widgets/base",
            "top": null,
            "grid_column": null,
            "overflow_y": null,
            "overflow_x": null,
            "grid_auto_flow": null,
            "grid_area": null,
            "grid_template_columns": null,
            "flex": null,
            "_model_name": "LayoutModel",
            "justify_items": null,
            "grid_row": null,
            "max_height": null,
            "align_content": null,
            "visibility": null,
            "align_self": null,
            "height": null,
            "min_height": null,
            "padding": null,
            "grid_auto_rows": null,
            "grid_gap": null,
            "max_width": null,
            "order": null,
            "_view_module_version": "1.2.0",
            "grid_template_areas": null,
            "object_position": null,
            "object_fit": null,
            "grid_auto_columns": null,
            "margin": null,
            "display": null,
            "left": null
          }
        },
        "118f66642d674af2b1210109582dbb61": {
          "model_module": "@jupyter-widgets/controls",
          "model_name": "LabelModel",
          "state": {
            "_view_name": "LabelView",
            "style": "IPY_MODEL_0fd69b7af41548daa9830484183601f5",
            "_dom_classes": [],
            "description": "",
            "_model_name": "LabelModel",
            "placeholder": "​",
            "_view_module": "@jupyter-widgets/controls",
            "_model_module_version": "1.5.0",
            "value": " 6.64MB of 6.64MB uploaded (0.00MB deduped)\r",
            "_view_count": null,
            "_view_module_version": "1.5.0",
            "description_tooltip": null,
            "_model_module": "@jupyter-widgets/controls",
            "layout": "IPY_MODEL_7bd7c079b77847acb374950532b93200"
          }
        },
        "707ba62d43ef4fa2a420636de30cb107": {
          "model_module": "@jupyter-widgets/controls",
          "model_name": "FloatProgressModel",
          "state": {
            "_view_name": "ProgressView",
            "style": "IPY_MODEL_9339733ee15e4f8a87e4d87d78d55ab8",
            "_dom_classes": [],
            "description": "",
            "_model_name": "FloatProgressModel",
            "bar_style": "",
            "max": 1,
            "_view_module": "@jupyter-widgets/controls",
            "_model_module_version": "1.5.0",
            "value": 1,
            "_view_count": null,
            "_view_module_version": "1.5.0",
            "orientation": "horizontal",
            "min": 0,
            "description_tooltip": null,
            "_model_module": "@jupyter-widgets/controls",
            "layout": "IPY_MODEL_abeec411554f49d2b09dfdc5d90e41b5"
          }
        },
        "0fd69b7af41548daa9830484183601f5": {
          "model_module": "@jupyter-widgets/controls",
          "model_name": "DescriptionStyleModel",
          "state": {
            "_view_name": "StyleView",
            "_model_name": "DescriptionStyleModel",
            "description_width": "",
            "_view_module": "@jupyter-widgets/base",
            "_model_module_version": "1.5.0",
            "_view_count": null,
            "_view_module_version": "1.2.0",
            "_model_module": "@jupyter-widgets/controls"
          }
        },
        "7bd7c079b77847acb374950532b93200": {
          "model_module": "@jupyter-widgets/base",
          "model_name": "LayoutModel",
          "state": {
            "_view_name": "LayoutView",
            "grid_template_rows": null,
            "right": null,
            "justify_content": null,
            "_view_module": "@jupyter-widgets/base",
            "overflow": null,
            "_model_module_version": "1.2.0",
            "_view_count": null,
            "flex_flow": null,
            "width": null,
            "min_width": null,
            "border": null,
            "align_items": null,
            "bottom": null,
            "_model_module": "@jupyter-widgets/base",
            "top": null,
            "grid_column": null,
            "overflow_y": null,
            "overflow_x": null,
            "grid_auto_flow": null,
            "grid_area": null,
            "grid_template_columns": null,
            "flex": null,
            "_model_name": "LayoutModel",
            "justify_items": null,
            "grid_row": null,
            "max_height": null,
            "align_content": null,
            "visibility": null,
            "align_self": null,
            "height": null,
            "min_height": null,
            "padding": null,
            "grid_auto_rows": null,
            "grid_gap": null,
            "max_width": null,
            "order": null,
            "_view_module_version": "1.2.0",
            "grid_template_areas": null,
            "object_position": null,
            "object_fit": null,
            "grid_auto_columns": null,
            "margin": null,
            "display": null,
            "left": null
          }
        },
        "9339733ee15e4f8a87e4d87d78d55ab8": {
          "model_module": "@jupyter-widgets/controls",
          "model_name": "ProgressStyleModel",
          "state": {
            "_view_name": "StyleView",
            "_model_name": "ProgressStyleModel",
            "description_width": "",
            "_view_module": "@jupyter-widgets/base",
            "_model_module_version": "1.5.0",
            "_view_count": null,
            "_view_module_version": "1.2.0",
            "bar_color": null,
            "_model_module": "@jupyter-widgets/controls"
          }
        },
        "abeec411554f49d2b09dfdc5d90e41b5": {
          "model_module": "@jupyter-widgets/base",
          "model_name": "LayoutModel",
          "state": {
            "_view_name": "LayoutView",
            "grid_template_rows": null,
            "right": null,
            "justify_content": null,
            "_view_module": "@jupyter-widgets/base",
            "overflow": null,
            "_model_module_version": "1.2.0",
            "_view_count": null,
            "flex_flow": null,
            "width": null,
            "min_width": null,
            "border": null,
            "align_items": null,
            "bottom": null,
            "_model_module": "@jupyter-widgets/base",
            "top": null,
            "grid_column": null,
            "overflow_y": null,
            "overflow_x": null,
            "grid_auto_flow": null,
            "grid_area": null,
            "grid_template_columns": null,
            "flex": null,
            "_model_name": "LayoutModel",
            "justify_items": null,
            "grid_row": null,
            "max_height": null,
            "align_content": null,
            "visibility": null,
            "align_self": null,
            "height": null,
            "min_height": null,
            "padding": null,
            "grid_auto_rows": null,
            "grid_gap": null,
            "max_width": null,
            "order": null,
            "_view_module_version": "1.2.0",
            "grid_template_areas": null,
            "object_position": null,
            "object_fit": null,
            "grid_auto_columns": null,
            "margin": null,
            "display": null,
            "left": null
          }
        },
        "ee6c9664d88b499b8533dd54e70b42ea": {
          "model_module": "@jupyter-widgets/controls",
          "model_name": "VBoxModel",
          "state": {
            "_view_name": "VBoxView",
            "_dom_classes": [],
            "_model_name": "VBoxModel",
            "_view_module": "@jupyter-widgets/controls",
            "_model_module_version": "1.5.0",
            "_view_count": null,
            "_view_module_version": "1.5.0",
            "box_style": "",
            "layout": "IPY_MODEL_ded55daeea584ce79c19c14470910a1a",
            "_model_module": "@jupyter-widgets/controls",
            "children": [
              "IPY_MODEL_665af22f3033459cb73eae5e53a70e08",
              "IPY_MODEL_abcfc0d58c134e45bbed19e8261579d1"
            ]
          }
        },
        "ded55daeea584ce79c19c14470910a1a": {
          "model_module": "@jupyter-widgets/base",
          "model_name": "LayoutModel",
          "state": {
            "_view_name": "LayoutView",
            "grid_template_rows": null,
            "right": null,
            "justify_content": null,
            "_view_module": "@jupyter-widgets/base",
            "overflow": null,
            "_model_module_version": "1.2.0",
            "_view_count": null,
            "flex_flow": null,
            "width": null,
            "min_width": null,
            "border": null,
            "align_items": null,
            "bottom": null,
            "_model_module": "@jupyter-widgets/base",
            "top": null,
            "grid_column": null,
            "overflow_y": null,
            "overflow_x": null,
            "grid_auto_flow": null,
            "grid_area": null,
            "grid_template_columns": null,
            "flex": null,
            "_model_name": "LayoutModel",
            "justify_items": null,
            "grid_row": null,
            "max_height": null,
            "align_content": null,
            "visibility": null,
            "align_self": null,
            "height": null,
            "min_height": null,
            "padding": null,
            "grid_auto_rows": null,
            "grid_gap": null,
            "max_width": null,
            "order": null,
            "_view_module_version": "1.2.0",
            "grid_template_areas": null,
            "object_position": null,
            "object_fit": null,
            "grid_auto_columns": null,
            "margin": null,
            "display": null,
            "left": null
          }
        },
        "665af22f3033459cb73eae5e53a70e08": {
          "model_module": "@jupyter-widgets/controls",
          "model_name": "LabelModel",
          "state": {
            "_view_name": "LabelView",
            "style": "IPY_MODEL_6acc6c99470442b3ac44eeaaef9bd6aa",
            "_dom_classes": [],
            "description": "",
            "_model_name": "LabelModel",
            "placeholder": "​",
            "_view_module": "@jupyter-widgets/controls",
            "_model_module_version": "1.5.0",
            "value": " 3.80MB of 3.80MB uploaded (0.00MB deduped)\r",
            "_view_count": null,
            "_view_module_version": "1.5.0",
            "description_tooltip": null,
            "_model_module": "@jupyter-widgets/controls",
            "layout": "IPY_MODEL_20afbf7cd2164e538cee597c8853cb1e"
          }
        },
        "abcfc0d58c134e45bbed19e8261579d1": {
          "model_module": "@jupyter-widgets/controls",
          "model_name": "FloatProgressModel",
          "state": {
            "_view_name": "ProgressView",
            "style": "IPY_MODEL_82cc46ea9f8545dba41b03eaf3759a38",
            "_dom_classes": [],
            "description": "",
            "_model_name": "FloatProgressModel",
            "bar_style": "",
            "max": 1,
            "_view_module": "@jupyter-widgets/controls",
            "_model_module_version": "1.5.0",
            "value": 1,
            "_view_count": null,
            "_view_module_version": "1.5.0",
            "orientation": "horizontal",
            "min": 0,
            "description_tooltip": null,
            "_model_module": "@jupyter-widgets/controls",
            "layout": "IPY_MODEL_294c2918a4f948a1ae4fe3e3cb9aeead"
          }
        },
        "6acc6c99470442b3ac44eeaaef9bd6aa": {
          "model_module": "@jupyter-widgets/controls",
          "model_name": "DescriptionStyleModel",
          "state": {
            "_view_name": "StyleView",
            "_model_name": "DescriptionStyleModel",
            "description_width": "",
            "_view_module": "@jupyter-widgets/base",
            "_model_module_version": "1.5.0",
            "_view_count": null,
            "_view_module_version": "1.2.0",
            "_model_module": "@jupyter-widgets/controls"
          }
        },
        "20afbf7cd2164e538cee597c8853cb1e": {
          "model_module": "@jupyter-widgets/base",
          "model_name": "LayoutModel",
          "state": {
            "_view_name": "LayoutView",
            "grid_template_rows": null,
            "right": null,
            "justify_content": null,
            "_view_module": "@jupyter-widgets/base",
            "overflow": null,
            "_model_module_version": "1.2.0",
            "_view_count": null,
            "flex_flow": null,
            "width": null,
            "min_width": null,
            "border": null,
            "align_items": null,
            "bottom": null,
            "_model_module": "@jupyter-widgets/base",
            "top": null,
            "grid_column": null,
            "overflow_y": null,
            "overflow_x": null,
            "grid_auto_flow": null,
            "grid_area": null,
            "grid_template_columns": null,
            "flex": null,
            "_model_name": "LayoutModel",
            "justify_items": null,
            "grid_row": null,
            "max_height": null,
            "align_content": null,
            "visibility": null,
            "align_self": null,
            "height": null,
            "min_height": null,
            "padding": null,
            "grid_auto_rows": null,
            "grid_gap": null,
            "max_width": null,
            "order": null,
            "_view_module_version": "1.2.0",
            "grid_template_areas": null,
            "object_position": null,
            "object_fit": null,
            "grid_auto_columns": null,
            "margin": null,
            "display": null,
            "left": null
          }
        },
        "82cc46ea9f8545dba41b03eaf3759a38": {
          "model_module": "@jupyter-widgets/controls",
          "model_name": "ProgressStyleModel",
          "state": {
            "_view_name": "StyleView",
            "_model_name": "ProgressStyleModel",
            "description_width": "",
            "_view_module": "@jupyter-widgets/base",
            "_model_module_version": "1.5.0",
            "_view_count": null,
            "_view_module_version": "1.2.0",
            "bar_color": null,
            "_model_module": "@jupyter-widgets/controls"
          }
        },
        "294c2918a4f948a1ae4fe3e3cb9aeead": {
          "model_module": "@jupyter-widgets/base",
          "model_name": "LayoutModel",
          "state": {
            "_view_name": "LayoutView",
            "grid_template_rows": null,
            "right": null,
            "justify_content": null,
            "_view_module": "@jupyter-widgets/base",
            "overflow": null,
            "_model_module_version": "1.2.0",
            "_view_count": null,
            "flex_flow": null,
            "width": null,
            "min_width": null,
            "border": null,
            "align_items": null,
            "bottom": null,
            "_model_module": "@jupyter-widgets/base",
            "top": null,
            "grid_column": null,
            "overflow_y": null,
            "overflow_x": null,
            "grid_auto_flow": null,
            "grid_area": null,
            "grid_template_columns": null,
            "flex": null,
            "_model_name": "LayoutModel",
            "justify_items": null,
            "grid_row": null,
            "max_height": null,
            "align_content": null,
            "visibility": null,
            "align_self": null,
            "height": null,
            "min_height": null,
            "padding": null,
            "grid_auto_rows": null,
            "grid_gap": null,
            "max_width": null,
            "order": null,
            "_view_module_version": "1.2.0",
            "grid_template_areas": null,
            "object_position": null,
            "object_fit": null,
            "grid_auto_columns": null,
            "margin": null,
            "display": null,
            "left": null
          }
        },
        "03d3126fb3c94ddf8ba2c09e64741f82": {
          "model_module": "@jupyter-widgets/controls",
          "model_name": "VBoxModel",
          "state": {
            "_view_name": "VBoxView",
            "_dom_classes": [],
            "_model_name": "VBoxModel",
            "_view_module": "@jupyter-widgets/controls",
            "_model_module_version": "1.5.0",
            "_view_count": null,
            "_view_module_version": "1.5.0",
            "box_style": "",
            "layout": "IPY_MODEL_6f99e46daea941798fdd04b1903f4780",
            "_model_module": "@jupyter-widgets/controls",
            "children": [
              "IPY_MODEL_5dac7ee2303b4ab9a393af31e7101e75",
              "IPY_MODEL_c6eebea384bd4ef5b271531a5584e1c0"
            ]
          }
        },
        "6f99e46daea941798fdd04b1903f4780": {
          "model_module": "@jupyter-widgets/base",
          "model_name": "LayoutModel",
          "state": {
            "_view_name": "LayoutView",
            "grid_template_rows": null,
            "right": null,
            "justify_content": null,
            "_view_module": "@jupyter-widgets/base",
            "overflow": null,
            "_model_module_version": "1.2.0",
            "_view_count": null,
            "flex_flow": null,
            "width": null,
            "min_width": null,
            "border": null,
            "align_items": null,
            "bottom": null,
            "_model_module": "@jupyter-widgets/base",
            "top": null,
            "grid_column": null,
            "overflow_y": null,
            "overflow_x": null,
            "grid_auto_flow": null,
            "grid_area": null,
            "grid_template_columns": null,
            "flex": null,
            "_model_name": "LayoutModel",
            "justify_items": null,
            "grid_row": null,
            "max_height": null,
            "align_content": null,
            "visibility": null,
            "align_self": null,
            "height": null,
            "min_height": null,
            "padding": null,
            "grid_auto_rows": null,
            "grid_gap": null,
            "max_width": null,
            "order": null,
            "_view_module_version": "1.2.0",
            "grid_template_areas": null,
            "object_position": null,
            "object_fit": null,
            "grid_auto_columns": null,
            "margin": null,
            "display": null,
            "left": null
          }
        },
        "5dac7ee2303b4ab9a393af31e7101e75": {
          "model_module": "@jupyter-widgets/controls",
          "model_name": "LabelModel",
          "state": {
            "_view_name": "LabelView",
            "style": "IPY_MODEL_fa539c1b588649739e266a59545f2bc7",
            "_dom_classes": [],
            "description": "",
            "_model_name": "LabelModel",
            "placeholder": "​",
            "_view_module": "@jupyter-widgets/controls",
            "_model_module_version": "1.5.0",
            "value": " 0.01MB of 0.01MB uploaded (0.00MB deduped)\r",
            "_view_count": null,
            "_view_module_version": "1.5.0",
            "description_tooltip": null,
            "_model_module": "@jupyter-widgets/controls",
            "layout": "IPY_MODEL_ec0b7add11be469bb33976114b0e09ea"
          }
        },
        "c6eebea384bd4ef5b271531a5584e1c0": {
          "model_module": "@jupyter-widgets/controls",
          "model_name": "FloatProgressModel",
          "state": {
            "_view_name": "ProgressView",
            "style": "IPY_MODEL_0822eed66c09447da8d242f8b9df640b",
            "_dom_classes": [],
            "description": "",
            "_model_name": "FloatProgressModel",
            "bar_style": "",
            "max": 1,
            "_view_module": "@jupyter-widgets/controls",
            "_model_module_version": "1.5.0",
            "value": 1,
            "_view_count": null,
            "_view_module_version": "1.5.0",
            "orientation": "horizontal",
            "min": 0,
            "description_tooltip": null,
            "_model_module": "@jupyter-widgets/controls",
            "layout": "IPY_MODEL_3ea46d5708ed4e68b2c52272d33bf435"
          }
        },
        "fa539c1b588649739e266a59545f2bc7": {
          "model_module": "@jupyter-widgets/controls",
          "model_name": "DescriptionStyleModel",
          "state": {
            "_view_name": "StyleView",
            "_model_name": "DescriptionStyleModel",
            "description_width": "",
            "_view_module": "@jupyter-widgets/base",
            "_model_module_version": "1.5.0",
            "_view_count": null,
            "_view_module_version": "1.2.0",
            "_model_module": "@jupyter-widgets/controls"
          }
        },
        "ec0b7add11be469bb33976114b0e09ea": {
          "model_module": "@jupyter-widgets/base",
          "model_name": "LayoutModel",
          "state": {
            "_view_name": "LayoutView",
            "grid_template_rows": null,
            "right": null,
            "justify_content": null,
            "_view_module": "@jupyter-widgets/base",
            "overflow": null,
            "_model_module_version": "1.2.0",
            "_view_count": null,
            "flex_flow": null,
            "width": null,
            "min_width": null,
            "border": null,
            "align_items": null,
            "bottom": null,
            "_model_module": "@jupyter-widgets/base",
            "top": null,
            "grid_column": null,
            "overflow_y": null,
            "overflow_x": null,
            "grid_auto_flow": null,
            "grid_area": null,
            "grid_template_columns": null,
            "flex": null,
            "_model_name": "LayoutModel",
            "justify_items": null,
            "grid_row": null,
            "max_height": null,
            "align_content": null,
            "visibility": null,
            "align_self": null,
            "height": null,
            "min_height": null,
            "padding": null,
            "grid_auto_rows": null,
            "grid_gap": null,
            "max_width": null,
            "order": null,
            "_view_module_version": "1.2.0",
            "grid_template_areas": null,
            "object_position": null,
            "object_fit": null,
            "grid_auto_columns": null,
            "margin": null,
            "display": null,
            "left": null
          }
        },
        "0822eed66c09447da8d242f8b9df640b": {
          "model_module": "@jupyter-widgets/controls",
          "model_name": "ProgressStyleModel",
          "state": {
            "_view_name": "StyleView",
            "_model_name": "ProgressStyleModel",
            "description_width": "",
            "_view_module": "@jupyter-widgets/base",
            "_model_module_version": "1.5.0",
            "_view_count": null,
            "_view_module_version": "1.2.0",
            "bar_color": null,
            "_model_module": "@jupyter-widgets/controls"
          }
        },
        "3ea46d5708ed4e68b2c52272d33bf435": {
          "model_module": "@jupyter-widgets/base",
          "model_name": "LayoutModel",
          "state": {
            "_view_name": "LayoutView",
            "grid_template_rows": null,
            "right": null,
            "justify_content": null,
            "_view_module": "@jupyter-widgets/base",
            "overflow": null,
            "_model_module_version": "1.2.0",
            "_view_count": null,
            "flex_flow": null,
            "width": null,
            "min_width": null,
            "border": null,
            "align_items": null,
            "bottom": null,
            "_model_module": "@jupyter-widgets/base",
            "top": null,
            "grid_column": null,
            "overflow_y": null,
            "overflow_x": null,
            "grid_auto_flow": null,
            "grid_area": null,
            "grid_template_columns": null,
            "flex": null,
            "_model_name": "LayoutModel",
            "justify_items": null,
            "grid_row": null,
            "max_height": null,
            "align_content": null,
            "visibility": null,
            "align_self": null,
            "height": null,
            "min_height": null,
            "padding": null,
            "grid_auto_rows": null,
            "grid_gap": null,
            "max_width": null,
            "order": null,
            "_view_module_version": "1.2.0",
            "grid_template_areas": null,
            "object_position": null,
            "object_fit": null,
            "grid_auto_columns": null,
            "margin": null,
            "display": null,
            "left": null
          }
        },
        "1b6f9f99872c433eba4afbcbeda9fe5d": {
          "model_module": "@jupyter-widgets/controls",
          "model_name": "VBoxModel",
          "state": {
            "_view_name": "VBoxView",
            "_dom_classes": [],
            "_model_name": "VBoxModel",
            "_view_module": "@jupyter-widgets/controls",
            "_model_module_version": "1.5.0",
            "_view_count": null,
            "_view_module_version": "1.5.0",
            "box_style": "",
            "layout": "IPY_MODEL_d0bef598b1e94f5f9175fa9385ad1d7f",
            "_model_module": "@jupyter-widgets/controls",
            "children": [
              "IPY_MODEL_6f139f4d52f64da8b626cf5bbfe40e27",
              "IPY_MODEL_03c1ad685c70473c8e8a8f6d34d9fabe"
            ]
          }
        },
        "d0bef598b1e94f5f9175fa9385ad1d7f": {
          "model_module": "@jupyter-widgets/base",
          "model_name": "LayoutModel",
          "state": {
            "_view_name": "LayoutView",
            "grid_template_rows": null,
            "right": null,
            "justify_content": null,
            "_view_module": "@jupyter-widgets/base",
            "overflow": null,
            "_model_module_version": "1.2.0",
            "_view_count": null,
            "flex_flow": null,
            "width": null,
            "min_width": null,
            "border": null,
            "align_items": null,
            "bottom": null,
            "_model_module": "@jupyter-widgets/base",
            "top": null,
            "grid_column": null,
            "overflow_y": null,
            "overflow_x": null,
            "grid_auto_flow": null,
            "grid_area": null,
            "grid_template_columns": null,
            "flex": null,
            "_model_name": "LayoutModel",
            "justify_items": null,
            "grid_row": null,
            "max_height": null,
            "align_content": null,
            "visibility": null,
            "align_self": null,
            "height": null,
            "min_height": null,
            "padding": null,
            "grid_auto_rows": null,
            "grid_gap": null,
            "max_width": null,
            "order": null,
            "_view_module_version": "1.2.0",
            "grid_template_areas": null,
            "object_position": null,
            "object_fit": null,
            "grid_auto_columns": null,
            "margin": null,
            "display": null,
            "left": null
          }
        },
        "6f139f4d52f64da8b626cf5bbfe40e27": {
          "model_module": "@jupyter-widgets/controls",
          "model_name": "LabelModel",
          "state": {
            "_view_name": "LabelView",
            "style": "IPY_MODEL_59b40fa845d74633a832c3ccebe6f251",
            "_dom_classes": [],
            "description": "",
            "_model_name": "LabelModel",
            "placeholder": "​",
            "_view_module": "@jupyter-widgets/controls",
            "_model_module_version": "1.5.0",
            "value": " 0.01MB of 0.01MB uploaded (0.00MB deduped)\r",
            "_view_count": null,
            "_view_module_version": "1.5.0",
            "description_tooltip": null,
            "_model_module": "@jupyter-widgets/controls",
            "layout": "IPY_MODEL_13b72d14118744cebc2b31a9c83486cb"
          }
        },
        "03c1ad685c70473c8e8a8f6d34d9fabe": {
          "model_module": "@jupyter-widgets/controls",
          "model_name": "FloatProgressModel",
          "state": {
            "_view_name": "ProgressView",
            "style": "IPY_MODEL_5dd23c6763ef4f1a95bac40d1353a373",
            "_dom_classes": [],
            "description": "",
            "_model_name": "FloatProgressModel",
            "bar_style": "",
            "max": 1,
            "_view_module": "@jupyter-widgets/controls",
            "_model_module_version": "1.5.0",
            "value": 1,
            "_view_count": null,
            "_view_module_version": "1.5.0",
            "orientation": "horizontal",
            "min": 0,
            "description_tooltip": null,
            "_model_module": "@jupyter-widgets/controls",
            "layout": "IPY_MODEL_57024700f65643918530b77d62e900b4"
          }
        },
        "59b40fa845d74633a832c3ccebe6f251": {
          "model_module": "@jupyter-widgets/controls",
          "model_name": "DescriptionStyleModel",
          "state": {
            "_view_name": "StyleView",
            "_model_name": "DescriptionStyleModel",
            "description_width": "",
            "_view_module": "@jupyter-widgets/base",
            "_model_module_version": "1.5.0",
            "_view_count": null,
            "_view_module_version": "1.2.0",
            "_model_module": "@jupyter-widgets/controls"
          }
        },
        "13b72d14118744cebc2b31a9c83486cb": {
          "model_module": "@jupyter-widgets/base",
          "model_name": "LayoutModel",
          "state": {
            "_view_name": "LayoutView",
            "grid_template_rows": null,
            "right": null,
            "justify_content": null,
            "_view_module": "@jupyter-widgets/base",
            "overflow": null,
            "_model_module_version": "1.2.0",
            "_view_count": null,
            "flex_flow": null,
            "width": null,
            "min_width": null,
            "border": null,
            "align_items": null,
            "bottom": null,
            "_model_module": "@jupyter-widgets/base",
            "top": null,
            "grid_column": null,
            "overflow_y": null,
            "overflow_x": null,
            "grid_auto_flow": null,
            "grid_area": null,
            "grid_template_columns": null,
            "flex": null,
            "_model_name": "LayoutModel",
            "justify_items": null,
            "grid_row": null,
            "max_height": null,
            "align_content": null,
            "visibility": null,
            "align_self": null,
            "height": null,
            "min_height": null,
            "padding": null,
            "grid_auto_rows": null,
            "grid_gap": null,
            "max_width": null,
            "order": null,
            "_view_module_version": "1.2.0",
            "grid_template_areas": null,
            "object_position": null,
            "object_fit": null,
            "grid_auto_columns": null,
            "margin": null,
            "display": null,
            "left": null
          }
        },
        "5dd23c6763ef4f1a95bac40d1353a373": {
          "model_module": "@jupyter-widgets/controls",
          "model_name": "ProgressStyleModel",
          "state": {
            "_view_name": "StyleView",
            "_model_name": "ProgressStyleModel",
            "description_width": "",
            "_view_module": "@jupyter-widgets/base",
            "_model_module_version": "1.5.0",
            "_view_count": null,
            "_view_module_version": "1.2.0",
            "bar_color": null,
            "_model_module": "@jupyter-widgets/controls"
          }
        },
        "57024700f65643918530b77d62e900b4": {
          "model_module": "@jupyter-widgets/base",
          "model_name": "LayoutModel",
          "state": {
            "_view_name": "LayoutView",
            "grid_template_rows": null,
            "right": null,
            "justify_content": null,
            "_view_module": "@jupyter-widgets/base",
            "overflow": null,
            "_model_module_version": "1.2.0",
            "_view_count": null,
            "flex_flow": null,
            "width": null,
            "min_width": null,
            "border": null,
            "align_items": null,
            "bottom": null,
            "_model_module": "@jupyter-widgets/base",
            "top": null,
            "grid_column": null,
            "overflow_y": null,
            "overflow_x": null,
            "grid_auto_flow": null,
            "grid_area": null,
            "grid_template_columns": null,
            "flex": null,
            "_model_name": "LayoutModel",
            "justify_items": null,
            "grid_row": null,
            "max_height": null,
            "align_content": null,
            "visibility": null,
            "align_self": null,
            "height": null,
            "min_height": null,
            "padding": null,
            "grid_auto_rows": null,
            "grid_gap": null,
            "max_width": null,
            "order": null,
            "_view_module_version": "1.2.0",
            "grid_template_areas": null,
            "object_position": null,
            "object_fit": null,
            "grid_auto_columns": null,
            "margin": null,
            "display": null,
            "left": null
          }
        },
        "29dd456f44054be1abd0c6882c6ac1aa": {
          "model_module": "@jupyter-widgets/controls",
          "model_name": "VBoxModel",
          "state": {
            "_view_name": "VBoxView",
            "_dom_classes": [],
            "_model_name": "VBoxModel",
            "_view_module": "@jupyter-widgets/controls",
            "_model_module_version": "1.5.0",
            "_view_count": null,
            "_view_module_version": "1.5.0",
            "box_style": "",
            "layout": "IPY_MODEL_84f4164bace34f5b8c4790465149d83a",
            "_model_module": "@jupyter-widgets/controls",
            "children": [
              "IPY_MODEL_614694a337934a77b30d8485a86808fe",
              "IPY_MODEL_16bc80cd7a97497bb604303e68d45506"
            ]
          }
        },
        "84f4164bace34f5b8c4790465149d83a": {
          "model_module": "@jupyter-widgets/base",
          "model_name": "LayoutModel",
          "state": {
            "_view_name": "LayoutView",
            "grid_template_rows": null,
            "right": null,
            "justify_content": null,
            "_view_module": "@jupyter-widgets/base",
            "overflow": null,
            "_model_module_version": "1.2.0",
            "_view_count": null,
            "flex_flow": null,
            "width": null,
            "min_width": null,
            "border": null,
            "align_items": null,
            "bottom": null,
            "_model_module": "@jupyter-widgets/base",
            "top": null,
            "grid_column": null,
            "overflow_y": null,
            "overflow_x": null,
            "grid_auto_flow": null,
            "grid_area": null,
            "grid_template_columns": null,
            "flex": null,
            "_model_name": "LayoutModel",
            "justify_items": null,
            "grid_row": null,
            "max_height": null,
            "align_content": null,
            "visibility": null,
            "align_self": null,
            "height": null,
            "min_height": null,
            "padding": null,
            "grid_auto_rows": null,
            "grid_gap": null,
            "max_width": null,
            "order": null,
            "_view_module_version": "1.2.0",
            "grid_template_areas": null,
            "object_position": null,
            "object_fit": null,
            "grid_auto_columns": null,
            "margin": null,
            "display": null,
            "left": null
          }
        },
        "614694a337934a77b30d8485a86808fe": {
          "model_module": "@jupyter-widgets/controls",
          "model_name": "LabelModel",
          "state": {
            "_view_name": "LabelView",
            "style": "IPY_MODEL_1b436053d1534f7a84328e499d839d63",
            "_dom_classes": [],
            "description": "",
            "_model_name": "LabelModel",
            "placeholder": "​",
            "_view_module": "@jupyter-widgets/controls",
            "_model_module_version": "1.5.0",
            "value": " 7.95MB of 7.95MB uploaded (0.00MB deduped)\r",
            "_view_count": null,
            "_view_module_version": "1.5.0",
            "description_tooltip": null,
            "_model_module": "@jupyter-widgets/controls",
            "layout": "IPY_MODEL_93b56193f8df4946b247faf957afed5c"
          }
        },
        "16bc80cd7a97497bb604303e68d45506": {
          "model_module": "@jupyter-widgets/controls",
          "model_name": "FloatProgressModel",
          "state": {
            "_view_name": "ProgressView",
            "style": "IPY_MODEL_c05e99577222408d90b5a9ff30a66dcb",
            "_dom_classes": [],
            "description": "",
            "_model_name": "FloatProgressModel",
            "bar_style": "",
            "max": 1,
            "_view_module": "@jupyter-widgets/controls",
            "_model_module_version": "1.5.0",
            "value": 1,
            "_view_count": null,
            "_view_module_version": "1.5.0",
            "orientation": "horizontal",
            "min": 0,
            "description_tooltip": null,
            "_model_module": "@jupyter-widgets/controls",
            "layout": "IPY_MODEL_ee38e6469b1a48d0a6359285cd85ee7c"
          }
        },
        "1b436053d1534f7a84328e499d839d63": {
          "model_module": "@jupyter-widgets/controls",
          "model_name": "DescriptionStyleModel",
          "state": {
            "_view_name": "StyleView",
            "_model_name": "DescriptionStyleModel",
            "description_width": "",
            "_view_module": "@jupyter-widgets/base",
            "_model_module_version": "1.5.0",
            "_view_count": null,
            "_view_module_version": "1.2.0",
            "_model_module": "@jupyter-widgets/controls"
          }
        },
        "93b56193f8df4946b247faf957afed5c": {
          "model_module": "@jupyter-widgets/base",
          "model_name": "LayoutModel",
          "state": {
            "_view_name": "LayoutView",
            "grid_template_rows": null,
            "right": null,
            "justify_content": null,
            "_view_module": "@jupyter-widgets/base",
            "overflow": null,
            "_model_module_version": "1.2.0",
            "_view_count": null,
            "flex_flow": null,
            "width": null,
            "min_width": null,
            "border": null,
            "align_items": null,
            "bottom": null,
            "_model_module": "@jupyter-widgets/base",
            "top": null,
            "grid_column": null,
            "overflow_y": null,
            "overflow_x": null,
            "grid_auto_flow": null,
            "grid_area": null,
            "grid_template_columns": null,
            "flex": null,
            "_model_name": "LayoutModel",
            "justify_items": null,
            "grid_row": null,
            "max_height": null,
            "align_content": null,
            "visibility": null,
            "align_self": null,
            "height": null,
            "min_height": null,
            "padding": null,
            "grid_auto_rows": null,
            "grid_gap": null,
            "max_width": null,
            "order": null,
            "_view_module_version": "1.2.0",
            "grid_template_areas": null,
            "object_position": null,
            "object_fit": null,
            "grid_auto_columns": null,
            "margin": null,
            "display": null,
            "left": null
          }
        },
        "c05e99577222408d90b5a9ff30a66dcb": {
          "model_module": "@jupyter-widgets/controls",
          "model_name": "ProgressStyleModel",
          "state": {
            "_view_name": "StyleView",
            "_model_name": "ProgressStyleModel",
            "description_width": "",
            "_view_module": "@jupyter-widgets/base",
            "_model_module_version": "1.5.0",
            "_view_count": null,
            "_view_module_version": "1.2.0",
            "bar_color": null,
            "_model_module": "@jupyter-widgets/controls"
          }
        },
        "ee38e6469b1a48d0a6359285cd85ee7c": {
          "model_module": "@jupyter-widgets/base",
          "model_name": "LayoutModel",
          "state": {
            "_view_name": "LayoutView",
            "grid_template_rows": null,
            "right": null,
            "justify_content": null,
            "_view_module": "@jupyter-widgets/base",
            "overflow": null,
            "_model_module_version": "1.2.0",
            "_view_count": null,
            "flex_flow": null,
            "width": null,
            "min_width": null,
            "border": null,
            "align_items": null,
            "bottom": null,
            "_model_module": "@jupyter-widgets/base",
            "top": null,
            "grid_column": null,
            "overflow_y": null,
            "overflow_x": null,
            "grid_auto_flow": null,
            "grid_area": null,
            "grid_template_columns": null,
            "flex": null,
            "_model_name": "LayoutModel",
            "justify_items": null,
            "grid_row": null,
            "max_height": null,
            "align_content": null,
            "visibility": null,
            "align_self": null,
            "height": null,
            "min_height": null,
            "padding": null,
            "grid_auto_rows": null,
            "grid_gap": null,
            "max_width": null,
            "order": null,
            "_view_module_version": "1.2.0",
            "grid_template_areas": null,
            "object_position": null,
            "object_fit": null,
            "grid_auto_columns": null,
            "margin": null,
            "display": null,
            "left": null
          }
        },
        "d3881b8322e5468b80ed3c3de7b2c348": {
          "model_module": "@jupyter-widgets/controls",
          "model_name": "VBoxModel",
          "state": {
            "_view_name": "VBoxView",
            "_dom_classes": [],
            "_model_name": "VBoxModel",
            "_view_module": "@jupyter-widgets/controls",
            "_model_module_version": "1.5.0",
            "_view_count": null,
            "_view_module_version": "1.5.0",
            "box_style": "",
            "layout": "IPY_MODEL_33cb953002734f08abc3bc8e1ca1a042",
            "_model_module": "@jupyter-widgets/controls",
            "children": [
              "IPY_MODEL_b970a7b26d03478da72d451853592226",
              "IPY_MODEL_008960c6691b42ab997c4a4910404ae8"
            ]
          }
        },
        "33cb953002734f08abc3bc8e1ca1a042": {
          "model_module": "@jupyter-widgets/base",
          "model_name": "LayoutModel",
          "state": {
            "_view_name": "LayoutView",
            "grid_template_rows": null,
            "right": null,
            "justify_content": null,
            "_view_module": "@jupyter-widgets/base",
            "overflow": null,
            "_model_module_version": "1.2.0",
            "_view_count": null,
            "flex_flow": null,
            "width": null,
            "min_width": null,
            "border": null,
            "align_items": null,
            "bottom": null,
            "_model_module": "@jupyter-widgets/base",
            "top": null,
            "grid_column": null,
            "overflow_y": null,
            "overflow_x": null,
            "grid_auto_flow": null,
            "grid_area": null,
            "grid_template_columns": null,
            "flex": null,
            "_model_name": "LayoutModel",
            "justify_items": null,
            "grid_row": null,
            "max_height": null,
            "align_content": null,
            "visibility": null,
            "align_self": null,
            "height": null,
            "min_height": null,
            "padding": null,
            "grid_auto_rows": null,
            "grid_gap": null,
            "max_width": null,
            "order": null,
            "_view_module_version": "1.2.0",
            "grid_template_areas": null,
            "object_position": null,
            "object_fit": null,
            "grid_auto_columns": null,
            "margin": null,
            "display": null,
            "left": null
          }
        },
        "b970a7b26d03478da72d451853592226": {
          "model_module": "@jupyter-widgets/controls",
          "model_name": "LabelModel",
          "state": {
            "_view_name": "LabelView",
            "style": "IPY_MODEL_04b097eb270640d39118ace0cef32c24",
            "_dom_classes": [],
            "description": "",
            "_model_name": "LabelModel",
            "placeholder": "​",
            "_view_module": "@jupyter-widgets/controls",
            "_model_module_version": "1.5.0",
            "value": " 0.01MB of 0.01MB uploaded (0.00MB deduped)\r",
            "_view_count": null,
            "_view_module_version": "1.5.0",
            "description_tooltip": null,
            "_model_module": "@jupyter-widgets/controls",
            "layout": "IPY_MODEL_45fbef47a3cf492f8c4f76186ae69d92"
          }
        },
        "008960c6691b42ab997c4a4910404ae8": {
          "model_module": "@jupyter-widgets/controls",
          "model_name": "FloatProgressModel",
          "state": {
            "_view_name": "ProgressView",
            "style": "IPY_MODEL_0bb55cd36be742949648eaecdd8dead3",
            "_dom_classes": [],
            "description": "",
            "_model_name": "FloatProgressModel",
            "bar_style": "",
            "max": 1,
            "_view_module": "@jupyter-widgets/controls",
            "_model_module_version": "1.5.0",
            "value": 1,
            "_view_count": null,
            "_view_module_version": "1.5.0",
            "orientation": "horizontal",
            "min": 0,
            "description_tooltip": null,
            "_model_module": "@jupyter-widgets/controls",
            "layout": "IPY_MODEL_88c2929c182c4dc6a7a0808445724284"
          }
        },
        "04b097eb270640d39118ace0cef32c24": {
          "model_module": "@jupyter-widgets/controls",
          "model_name": "DescriptionStyleModel",
          "state": {
            "_view_name": "StyleView",
            "_model_name": "DescriptionStyleModel",
            "description_width": "",
            "_view_module": "@jupyter-widgets/base",
            "_model_module_version": "1.5.0",
            "_view_count": null,
            "_view_module_version": "1.2.0",
            "_model_module": "@jupyter-widgets/controls"
          }
        },
        "45fbef47a3cf492f8c4f76186ae69d92": {
          "model_module": "@jupyter-widgets/base",
          "model_name": "LayoutModel",
          "state": {
            "_view_name": "LayoutView",
            "grid_template_rows": null,
            "right": null,
            "justify_content": null,
            "_view_module": "@jupyter-widgets/base",
            "overflow": null,
            "_model_module_version": "1.2.0",
            "_view_count": null,
            "flex_flow": null,
            "width": null,
            "min_width": null,
            "border": null,
            "align_items": null,
            "bottom": null,
            "_model_module": "@jupyter-widgets/base",
            "top": null,
            "grid_column": null,
            "overflow_y": null,
            "overflow_x": null,
            "grid_auto_flow": null,
            "grid_area": null,
            "grid_template_columns": null,
            "flex": null,
            "_model_name": "LayoutModel",
            "justify_items": null,
            "grid_row": null,
            "max_height": null,
            "align_content": null,
            "visibility": null,
            "align_self": null,
            "height": null,
            "min_height": null,
            "padding": null,
            "grid_auto_rows": null,
            "grid_gap": null,
            "max_width": null,
            "order": null,
            "_view_module_version": "1.2.0",
            "grid_template_areas": null,
            "object_position": null,
            "object_fit": null,
            "grid_auto_columns": null,
            "margin": null,
            "display": null,
            "left": null
          }
        },
        "0bb55cd36be742949648eaecdd8dead3": {
          "model_module": "@jupyter-widgets/controls",
          "model_name": "ProgressStyleModel",
          "state": {
            "_view_name": "StyleView",
            "_model_name": "ProgressStyleModel",
            "description_width": "",
            "_view_module": "@jupyter-widgets/base",
            "_model_module_version": "1.5.0",
            "_view_count": null,
            "_view_module_version": "1.2.0",
            "bar_color": null,
            "_model_module": "@jupyter-widgets/controls"
          }
        },
        "88c2929c182c4dc6a7a0808445724284": {
          "model_module": "@jupyter-widgets/base",
          "model_name": "LayoutModel",
          "state": {
            "_view_name": "LayoutView",
            "grid_template_rows": null,
            "right": null,
            "justify_content": null,
            "_view_module": "@jupyter-widgets/base",
            "overflow": null,
            "_model_module_version": "1.2.0",
            "_view_count": null,
            "flex_flow": null,
            "width": null,
            "min_width": null,
            "border": null,
            "align_items": null,
            "bottom": null,
            "_model_module": "@jupyter-widgets/base",
            "top": null,
            "grid_column": null,
            "overflow_y": null,
            "overflow_x": null,
            "grid_auto_flow": null,
            "grid_area": null,
            "grid_template_columns": null,
            "flex": null,
            "_model_name": "LayoutModel",
            "justify_items": null,
            "grid_row": null,
            "max_height": null,
            "align_content": null,
            "visibility": null,
            "align_self": null,
            "height": null,
            "min_height": null,
            "padding": null,
            "grid_auto_rows": null,
            "grid_gap": null,
            "max_width": null,
            "order": null,
            "_view_module_version": "1.2.0",
            "grid_template_areas": null,
            "object_position": null,
            "object_fit": null,
            "grid_auto_columns": null,
            "margin": null,
            "display": null,
            "left": null
          }
        },
        "3a4d90b9d6154a2ba27df4f4bc0aea4c": {
          "model_module": "@jupyter-widgets/controls",
          "model_name": "VBoxModel",
          "state": {
            "_view_name": "VBoxView",
            "_dom_classes": [],
            "_model_name": "VBoxModel",
            "_view_module": "@jupyter-widgets/controls",
            "_model_module_version": "1.5.0",
            "_view_count": null,
            "_view_module_version": "1.5.0",
            "box_style": "",
            "layout": "IPY_MODEL_1ae532c2c8b44f4d818c5a11df56e8d8",
            "_model_module": "@jupyter-widgets/controls",
            "children": [
              "IPY_MODEL_862a305435cf4f6388efe9496ca0f279",
              "IPY_MODEL_c7e004ec02ec43a8aeebe50c2f2c1557"
            ]
          }
        },
        "1ae532c2c8b44f4d818c5a11df56e8d8": {
          "model_module": "@jupyter-widgets/base",
          "model_name": "LayoutModel",
          "state": {
            "_view_name": "LayoutView",
            "grid_template_rows": null,
            "right": null,
            "justify_content": null,
            "_view_module": "@jupyter-widgets/base",
            "overflow": null,
            "_model_module_version": "1.2.0",
            "_view_count": null,
            "flex_flow": null,
            "width": null,
            "min_width": null,
            "border": null,
            "align_items": null,
            "bottom": null,
            "_model_module": "@jupyter-widgets/base",
            "top": null,
            "grid_column": null,
            "overflow_y": null,
            "overflow_x": null,
            "grid_auto_flow": null,
            "grid_area": null,
            "grid_template_columns": null,
            "flex": null,
            "_model_name": "LayoutModel",
            "justify_items": null,
            "grid_row": null,
            "max_height": null,
            "align_content": null,
            "visibility": null,
            "align_self": null,
            "height": null,
            "min_height": null,
            "padding": null,
            "grid_auto_rows": null,
            "grid_gap": null,
            "max_width": null,
            "order": null,
            "_view_module_version": "1.2.0",
            "grid_template_areas": null,
            "object_position": null,
            "object_fit": null,
            "grid_auto_columns": null,
            "margin": null,
            "display": null,
            "left": null
          }
        },
        "862a305435cf4f6388efe9496ca0f279": {
          "model_module": "@jupyter-widgets/controls",
          "model_name": "LabelModel",
          "state": {
            "_view_name": "LabelView",
            "style": "IPY_MODEL_27234adb92784e5686f932269f92ed8f",
            "_dom_classes": [],
            "description": "",
            "_model_name": "LabelModel",
            "placeholder": "​",
            "_view_module": "@jupyter-widgets/controls",
            "_model_module_version": "1.5.0",
            "value": " 7.83MB of 7.83MB uploaded (0.00MB deduped)\r",
            "_view_count": null,
            "_view_module_version": "1.5.0",
            "description_tooltip": null,
            "_model_module": "@jupyter-widgets/controls",
            "layout": "IPY_MODEL_4b58b23f4a9f479c8b0103ce24d87100"
          }
        },
        "c7e004ec02ec43a8aeebe50c2f2c1557": {
          "model_module": "@jupyter-widgets/controls",
          "model_name": "FloatProgressModel",
          "state": {
            "_view_name": "ProgressView",
            "style": "IPY_MODEL_7cef1d7c185d491babd233af4bba8ad4",
            "_dom_classes": [],
            "description": "",
            "_model_name": "FloatProgressModel",
            "bar_style": "",
            "max": 1,
            "_view_module": "@jupyter-widgets/controls",
            "_model_module_version": "1.5.0",
            "value": 1,
            "_view_count": null,
            "_view_module_version": "1.5.0",
            "orientation": "horizontal",
            "min": 0,
            "description_tooltip": null,
            "_model_module": "@jupyter-widgets/controls",
            "layout": "IPY_MODEL_0cfd210c1966401bac4039bb703e8a1c"
          }
        },
        "27234adb92784e5686f932269f92ed8f": {
          "model_module": "@jupyter-widgets/controls",
          "model_name": "DescriptionStyleModel",
          "state": {
            "_view_name": "StyleView",
            "_model_name": "DescriptionStyleModel",
            "description_width": "",
            "_view_module": "@jupyter-widgets/base",
            "_model_module_version": "1.5.0",
            "_view_count": null,
            "_view_module_version": "1.2.0",
            "_model_module": "@jupyter-widgets/controls"
          }
        },
        "4b58b23f4a9f479c8b0103ce24d87100": {
          "model_module": "@jupyter-widgets/base",
          "model_name": "LayoutModel",
          "state": {
            "_view_name": "LayoutView",
            "grid_template_rows": null,
            "right": null,
            "justify_content": null,
            "_view_module": "@jupyter-widgets/base",
            "overflow": null,
            "_model_module_version": "1.2.0",
            "_view_count": null,
            "flex_flow": null,
            "width": null,
            "min_width": null,
            "border": null,
            "align_items": null,
            "bottom": null,
            "_model_module": "@jupyter-widgets/base",
            "top": null,
            "grid_column": null,
            "overflow_y": null,
            "overflow_x": null,
            "grid_auto_flow": null,
            "grid_area": null,
            "grid_template_columns": null,
            "flex": null,
            "_model_name": "LayoutModel",
            "justify_items": null,
            "grid_row": null,
            "max_height": null,
            "align_content": null,
            "visibility": null,
            "align_self": null,
            "height": null,
            "min_height": null,
            "padding": null,
            "grid_auto_rows": null,
            "grid_gap": null,
            "max_width": null,
            "order": null,
            "_view_module_version": "1.2.0",
            "grid_template_areas": null,
            "object_position": null,
            "object_fit": null,
            "grid_auto_columns": null,
            "margin": null,
            "display": null,
            "left": null
          }
        },
        "7cef1d7c185d491babd233af4bba8ad4": {
          "model_module": "@jupyter-widgets/controls",
          "model_name": "ProgressStyleModel",
          "state": {
            "_view_name": "StyleView",
            "_model_name": "ProgressStyleModel",
            "description_width": "",
            "_view_module": "@jupyter-widgets/base",
            "_model_module_version": "1.5.0",
            "_view_count": null,
            "_view_module_version": "1.2.0",
            "bar_color": null,
            "_model_module": "@jupyter-widgets/controls"
          }
        },
        "0cfd210c1966401bac4039bb703e8a1c": {
          "model_module": "@jupyter-widgets/base",
          "model_name": "LayoutModel",
          "state": {
            "_view_name": "LayoutView",
            "grid_template_rows": null,
            "right": null,
            "justify_content": null,
            "_view_module": "@jupyter-widgets/base",
            "overflow": null,
            "_model_module_version": "1.2.0",
            "_view_count": null,
            "flex_flow": null,
            "width": null,
            "min_width": null,
            "border": null,
            "align_items": null,
            "bottom": null,
            "_model_module": "@jupyter-widgets/base",
            "top": null,
            "grid_column": null,
            "overflow_y": null,
            "overflow_x": null,
            "grid_auto_flow": null,
            "grid_area": null,
            "grid_template_columns": null,
            "flex": null,
            "_model_name": "LayoutModel",
            "justify_items": null,
            "grid_row": null,
            "max_height": null,
            "align_content": null,
            "visibility": null,
            "align_self": null,
            "height": null,
            "min_height": null,
            "padding": null,
            "grid_auto_rows": null,
            "grid_gap": null,
            "max_width": null,
            "order": null,
            "_view_module_version": "1.2.0",
            "grid_template_areas": null,
            "object_position": null,
            "object_fit": null,
            "grid_auto_columns": null,
            "margin": null,
            "display": null,
            "left": null
          }
        },
        "181dcd495b544fb880452115a851a2c7": {
          "model_module": "@jupyter-widgets/controls",
          "model_name": "VBoxModel",
          "state": {
            "_view_name": "VBoxView",
            "_dom_classes": [],
            "_model_name": "VBoxModel",
            "_view_module": "@jupyter-widgets/controls",
            "_model_module_version": "1.5.0",
            "_view_count": null,
            "_view_module_version": "1.5.0",
            "box_style": "",
            "layout": "IPY_MODEL_0249933506034b9497a1a25c24194e20",
            "_model_module": "@jupyter-widgets/controls",
            "children": [
              "IPY_MODEL_b25953c6ab704680bdc39bb724eda237",
              "IPY_MODEL_3f22dec0d8854501b9a1b5d420b9b87d"
            ]
          }
        },
        "0249933506034b9497a1a25c24194e20": {
          "model_module": "@jupyter-widgets/base",
          "model_name": "LayoutModel",
          "state": {
            "_view_name": "LayoutView",
            "grid_template_rows": null,
            "right": null,
            "justify_content": null,
            "_view_module": "@jupyter-widgets/base",
            "overflow": null,
            "_model_module_version": "1.2.0",
            "_view_count": null,
            "flex_flow": null,
            "width": null,
            "min_width": null,
            "border": null,
            "align_items": null,
            "bottom": null,
            "_model_module": "@jupyter-widgets/base",
            "top": null,
            "grid_column": null,
            "overflow_y": null,
            "overflow_x": null,
            "grid_auto_flow": null,
            "grid_area": null,
            "grid_template_columns": null,
            "flex": null,
            "_model_name": "LayoutModel",
            "justify_items": null,
            "grid_row": null,
            "max_height": null,
            "align_content": null,
            "visibility": null,
            "align_self": null,
            "height": null,
            "min_height": null,
            "padding": null,
            "grid_auto_rows": null,
            "grid_gap": null,
            "max_width": null,
            "order": null,
            "_view_module_version": "1.2.0",
            "grid_template_areas": null,
            "object_position": null,
            "object_fit": null,
            "grid_auto_columns": null,
            "margin": null,
            "display": null,
            "left": null
          }
        },
        "b25953c6ab704680bdc39bb724eda237": {
          "model_module": "@jupyter-widgets/controls",
          "model_name": "LabelModel",
          "state": {
            "_view_name": "LabelView",
            "style": "IPY_MODEL_5f0e227f57ed45739813e58d2563f2c6",
            "_dom_classes": [],
            "description": "",
            "_model_name": "LabelModel",
            "placeholder": "​",
            "_view_module": "@jupyter-widgets/controls",
            "_model_module_version": "1.5.0",
            "value": " 9.79MB of 9.79MB uploaded (0.00MB deduped)\r",
            "_view_count": null,
            "_view_module_version": "1.5.0",
            "description_tooltip": null,
            "_model_module": "@jupyter-widgets/controls",
            "layout": "IPY_MODEL_6ecf54ad70eb49a6b14d7020c299836b"
          }
        },
        "3f22dec0d8854501b9a1b5d420b9b87d": {
          "model_module": "@jupyter-widgets/controls",
          "model_name": "FloatProgressModel",
          "state": {
            "_view_name": "ProgressView",
            "style": "IPY_MODEL_9a27f635f3bf484e833a894b1c992caa",
            "_dom_classes": [],
            "description": "",
            "_model_name": "FloatProgressModel",
            "bar_style": "",
            "max": 1,
            "_view_module": "@jupyter-widgets/controls",
            "_model_module_version": "1.5.0",
            "value": 1,
            "_view_count": null,
            "_view_module_version": "1.5.0",
            "orientation": "horizontal",
            "min": 0,
            "description_tooltip": null,
            "_model_module": "@jupyter-widgets/controls",
            "layout": "IPY_MODEL_908e6ae60a7a43739e55966c995387be"
          }
        },
        "5f0e227f57ed45739813e58d2563f2c6": {
          "model_module": "@jupyter-widgets/controls",
          "model_name": "DescriptionStyleModel",
          "state": {
            "_view_name": "StyleView",
            "_model_name": "DescriptionStyleModel",
            "description_width": "",
            "_view_module": "@jupyter-widgets/base",
            "_model_module_version": "1.5.0",
            "_view_count": null,
            "_view_module_version": "1.2.0",
            "_model_module": "@jupyter-widgets/controls"
          }
        },
        "6ecf54ad70eb49a6b14d7020c299836b": {
          "model_module": "@jupyter-widgets/base",
          "model_name": "LayoutModel",
          "state": {
            "_view_name": "LayoutView",
            "grid_template_rows": null,
            "right": null,
            "justify_content": null,
            "_view_module": "@jupyter-widgets/base",
            "overflow": null,
            "_model_module_version": "1.2.0",
            "_view_count": null,
            "flex_flow": null,
            "width": null,
            "min_width": null,
            "border": null,
            "align_items": null,
            "bottom": null,
            "_model_module": "@jupyter-widgets/base",
            "top": null,
            "grid_column": null,
            "overflow_y": null,
            "overflow_x": null,
            "grid_auto_flow": null,
            "grid_area": null,
            "grid_template_columns": null,
            "flex": null,
            "_model_name": "LayoutModel",
            "justify_items": null,
            "grid_row": null,
            "max_height": null,
            "align_content": null,
            "visibility": null,
            "align_self": null,
            "height": null,
            "min_height": null,
            "padding": null,
            "grid_auto_rows": null,
            "grid_gap": null,
            "max_width": null,
            "order": null,
            "_view_module_version": "1.2.0",
            "grid_template_areas": null,
            "object_position": null,
            "object_fit": null,
            "grid_auto_columns": null,
            "margin": null,
            "display": null,
            "left": null
          }
        },
        "9a27f635f3bf484e833a894b1c992caa": {
          "model_module": "@jupyter-widgets/controls",
          "model_name": "ProgressStyleModel",
          "state": {
            "_view_name": "StyleView",
            "_model_name": "ProgressStyleModel",
            "description_width": "",
            "_view_module": "@jupyter-widgets/base",
            "_model_module_version": "1.5.0",
            "_view_count": null,
            "_view_module_version": "1.2.0",
            "bar_color": null,
            "_model_module": "@jupyter-widgets/controls"
          }
        },
        "908e6ae60a7a43739e55966c995387be": {
          "model_module": "@jupyter-widgets/base",
          "model_name": "LayoutModel",
          "state": {
            "_view_name": "LayoutView",
            "grid_template_rows": null,
            "right": null,
            "justify_content": null,
            "_view_module": "@jupyter-widgets/base",
            "overflow": null,
            "_model_module_version": "1.2.0",
            "_view_count": null,
            "flex_flow": null,
            "width": null,
            "min_width": null,
            "border": null,
            "align_items": null,
            "bottom": null,
            "_model_module": "@jupyter-widgets/base",
            "top": null,
            "grid_column": null,
            "overflow_y": null,
            "overflow_x": null,
            "grid_auto_flow": null,
            "grid_area": null,
            "grid_template_columns": null,
            "flex": null,
            "_model_name": "LayoutModel",
            "justify_items": null,
            "grid_row": null,
            "max_height": null,
            "align_content": null,
            "visibility": null,
            "align_self": null,
            "height": null,
            "min_height": null,
            "padding": null,
            "grid_auto_rows": null,
            "grid_gap": null,
            "max_width": null,
            "order": null,
            "_view_module_version": "1.2.0",
            "grid_template_areas": null,
            "object_position": null,
            "object_fit": null,
            "grid_auto_columns": null,
            "margin": null,
            "display": null,
            "left": null
          }
        }
      }
    }
  },
  "cells": [
    {
      "cell_type": "code",
      "metadata": {
        "colab": {
          "base_uri": "https://localhost:8080/"
        },
        "id": "MvK1fsl3OD7i",
        "outputId": "d2a29e2a-21f3-4d72-83ae-81e6acb8bc99"
      },
      "source": [
        "!pip install -U wandb"
      ],
      "execution_count": 2,
      "outputs": [
        {
          "output_type": "stream",
          "text": [
            "Requirement already up-to-date: wandb in /usr/local/lib/python3.7/dist-packages (0.10.24)\n",
            "Requirement already satisfied, skipping upgrade: GitPython>=1.0.0 in /usr/local/lib/python3.7/dist-packages (from wandb) (3.1.14)\n",
            "Requirement already satisfied, skipping upgrade: PyYAML in /usr/local/lib/python3.7/dist-packages (from wandb) (3.13)\n",
            "Requirement already satisfied, skipping upgrade: docker-pycreds>=0.4.0 in /usr/local/lib/python3.7/dist-packages (from wandb) (0.4.0)\n",
            "Requirement already satisfied, skipping upgrade: six>=1.13.0 in /usr/local/lib/python3.7/dist-packages (from wandb) (1.15.0)\n",
            "Requirement already satisfied, skipping upgrade: python-dateutil>=2.6.1 in /usr/local/lib/python3.7/dist-packages (from wandb) (2.8.1)\n",
            "Requirement already satisfied, skipping upgrade: subprocess32>=3.5.3 in /usr/local/lib/python3.7/dist-packages (from wandb) (3.5.4)\n",
            "Requirement already satisfied, skipping upgrade: sentry-sdk>=0.4.0 in /usr/local/lib/python3.7/dist-packages (from wandb) (1.0.0)\n",
            "Requirement already satisfied, skipping upgrade: Click>=7.0 in /usr/local/lib/python3.7/dist-packages (from wandb) (7.1.2)\n",
            "Requirement already satisfied, skipping upgrade: protobuf>=3.12.0 in /usr/local/lib/python3.7/dist-packages (from wandb) (3.12.4)\n",
            "Requirement already satisfied, skipping upgrade: pathtools in /usr/local/lib/python3.7/dist-packages (from wandb) (0.1.2)\n",
            "Requirement already satisfied, skipping upgrade: requests<3,>=2.0.0 in /usr/local/lib/python3.7/dist-packages (from wandb) (2.23.0)\n",
            "Requirement already satisfied, skipping upgrade: shortuuid>=0.5.0 in /usr/local/lib/python3.7/dist-packages (from wandb) (1.0.1)\n",
            "Requirement already satisfied, skipping upgrade: promise<3,>=2.0 in /usr/local/lib/python3.7/dist-packages (from wandb) (2.3)\n",
            "Requirement already satisfied, skipping upgrade: psutil>=5.0.0 in /usr/local/lib/python3.7/dist-packages (from wandb) (5.4.8)\n",
            "Requirement already satisfied, skipping upgrade: configparser>=3.8.1 in /usr/local/lib/python3.7/dist-packages (from wandb) (5.0.2)\n",
            "Requirement already satisfied, skipping upgrade: gitdb<5,>=4.0.1 in /usr/local/lib/python3.7/dist-packages (from GitPython>=1.0.0->wandb) (4.0.7)\n",
            "Requirement already satisfied, skipping upgrade: certifi in /usr/local/lib/python3.7/dist-packages (from sentry-sdk>=0.4.0->wandb) (2020.12.5)\n",
            "Requirement already satisfied, skipping upgrade: urllib3>=1.10.0 in /usr/local/lib/python3.7/dist-packages (from sentry-sdk>=0.4.0->wandb) (1.24.3)\n",
            "Requirement already satisfied, skipping upgrade: setuptools in /usr/local/lib/python3.7/dist-packages (from protobuf>=3.12.0->wandb) (54.2.0)\n",
            "Requirement already satisfied, skipping upgrade: chardet<4,>=3.0.2 in /usr/local/lib/python3.7/dist-packages (from requests<3,>=2.0.0->wandb) (3.0.4)\n",
            "Requirement already satisfied, skipping upgrade: idna<3,>=2.5 in /usr/local/lib/python3.7/dist-packages (from requests<3,>=2.0.0->wandb) (2.10)\n",
            "Requirement already satisfied, skipping upgrade: smmap<5,>=3.0.1 in /usr/local/lib/python3.7/dist-packages (from gitdb<5,>=4.0.1->GitPython>=1.0.0->wandb) (4.0.0)\n"
          ],
          "name": "stdout"
        }
      ]
    },
    {
      "cell_type": "markdown",
      "metadata": {
        "id": "26mbZ3EnEltx"
      },
      "source": [
        "# PART B"
      ]
    },
    {
      "cell_type": "code",
      "metadata": {
        "id": "xsWkdjgy2p6p"
      },
      "source": [
        "# import necessary libraries\n",
        "import os\n",
        "import glob\n",
        "import wandb\n",
        "from wandb.keras import WandbCallback\n",
        "import tensorflow as tf \n",
        "from tensorflow.keras.preprocessing.image import ImageDataGenerator\n",
        "from tensorflow.keras import layers\n",
        "import numpy as np \n",
        "\n",
        "%matplotlib inline\n",
        "%config InlineBackend.figure_format = 'svg'\n",
        "import matplotlib.pyplot as plt\n",
        "import matplotlib.image as mpimg"
      ],
      "execution_count": 3,
      "outputs": []
    },
    {
      "cell_type": "code",
      "metadata": {
        "colab": {
          "base_uri": "https://localhost:8080/"
        },
        "id": "Z4Fe_M0zpFlf",
        "outputId": "3ed49533-cccf-4578-abee-81742defaef3"
      },
      "source": [
        "def load_data(input_shape=(256,256)):\n",
        "\n",
        "    DATA_DIR = r\"/content/drive/MyDrive/inaturalist_12K\"\n",
        "\n",
        "    train_dir = os.path.join(DATA_DIR, \"train\")\n",
        "    val_dir = os.path.join(DATA_DIR, \"val\")\n",
        "\n",
        "    train_generator = ImageDataGenerator(rescale=1./255,\n",
        "                                    rotation_range=50,\n",
        "                                    zoom_range=0.2,\n",
        "                                    shear_range=0.2,\n",
        "                                    horizontal_flip=True)\n",
        "    val_generator =ImageDataGenerator(rescale=1./255)\n",
        "\n",
        "    train_ds = train_generator.flow_from_directory(train_dir, target_size=input_shape, batch_size=128, shuffle=True)\n",
        "    val_ds = val_generator.flow_from_directory(val_dir, target_size=input_shape, batch_size=128)\n",
        "\n",
        "    return train_ds, val_ds\n",
        "\n",
        "train_ds, val_ds = load_data()"
      ],
      "execution_count": 4,
      "outputs": [
        {
          "output_type": "stream",
          "text": [
            "Found 10000 images belonging to 10 classes.\n",
            "Found 2000 images belonging to 10 classes.\n"
          ],
          "name": "stdout"
        }
      ]
    },
    {
      "cell_type": "code",
      "metadata": {
        "id": "DXpP-QixrLtg"
      },
      "source": [
        "## Utility functions for plotting ##\n",
        "def plot_sample_images(dir_path):\n",
        "\n",
        "    subdirs = glob.glob(os.path.join(dir_path,r\"*\"))\n",
        "\n",
        "    fig_height = len(subdirs)//5 \n",
        "\n",
        "    if len(subdirs)%5 != 0:\n",
        "        fig_height+=1\n",
        "\n",
        "    fig, axs = plt.subplots(fig_height, 5, figsize=(10, fig_height*2))\n",
        "    fig.suptitle(\"Sample images from each class\")\n",
        "    axs = axs.reshape(-1)\n",
        "\n",
        "    for i, subdir in enumerate(subdirs):\n",
        "\n",
        "        class_name = os.path.basename(subdir)\n",
        "        axs[i].set_title(class_name)\n",
        "        \n",
        "        img_path = glob.glob(os.path.join(subdir, r\"*\"))[0]\n",
        "        img = mpimg.imread(img_path)    \n",
        "        axs[i].imshow(img)\n",
        "\n",
        "    plt.show()"
      ],
      "execution_count": 5,
      "outputs": []
    },
    {
      "cell_type": "code",
      "metadata": {
        "colab": {
          "base_uri": "https://localhost:8080/",
          "height": 383
        },
        "id": "s4rRzlnc1I8I",
        "outputId": "59bea54a-a2ff-42d8-c3f0-66035e1386c8"
      },
      "source": [
        "DATA_DIR = r\"/content/drive/MyDrive/inaturalist_12K\"\n",
        "plot_sample_images(os.path.join(DATA_DIR,\"train\"))"
      ],
      "execution_count": 6,
      "outputs": [
        {
          "output_type": "display_data",
          "data": {
            "text/plain": [
              "<Figure size 720x288 with 10 Axes>"
            ],
            "image/svg+xml": "<?xml version=\"1.0\" encoding=\"utf-8\" standalone=\"no\"?>\n<!DOCTYPE svg PUBLIC \"-//W3C//DTD SVG 1.1//EN\"\n  \"http://www.w3.org/Graphics/SVG/1.1/DTD/svg11.dtd\">\n<!-- Created with matplotlib (https://matplotlib.org/) -->\n<svg height=\"271.553822pt\" version=\"1.1\" viewBox=\"0 0 598.4875 271.553822\" width=\"598.4875pt\" xmlns=\"http://www.w3.org/2000/svg\" xmlns:xlink=\"http://www.w3.org/1999/xlink\">\n <defs>\n  <style type=\"text/css\">\n*{stroke-linecap:butt;stroke-linejoin:round;}\n  </style>\n </defs>\n <g id=\"figure_1\">\n  <g id=\"patch_1\">\n   <path d=\"M 0 271.553822 \nL 598.4875 271.553822 \nL 598.4875 0 \nL 0 0 \nz\n\" style=\"fill:none;\"/>\n  </g>\n  <g id=\"axes_1\">\n   <g id=\"patch_2\">\n    <path d=\"M 33.2875 133.52163 \nL 129.494397 133.52163 \nL 129.494397 37.314734 \nL 33.2875 37.314734 \nz\n\" style=\"fill:#ffffff;\"/>\n   </g>\n   <g clip-path=\"url(#p0182ecacd8)\">\n    <image height=\"97\" id=\"image4a451a9c38\" transform=\"scale(1 -1)translate(0 -97)\" width=\"97\" x=\"33.2875\" xlink:href=\"data:image/png;base64,\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\" y=\"-36.52163\"/>\n   </g>\n   <g id=\"matplotlib.axis_1\">\n    <g id=\"xtick_1\">\n     <g id=\"line2d_1\">\n      <defs>\n       <path d=\"M 0 0 \nL 0 3.5 \n\" id=\"m9904beed74\" style=\"stroke:#000000;stroke-width:0.8;\"/>\n      </defs>\n      <g>\n       <use style=\"stroke:#000000;stroke-width:0.8;\" x=\"33.347629\" xlink:href=\"#m9904beed74\" y=\"133.52163\"/>\n      </g>\n     </g>\n     <g id=\"text_1\">\n      <!-- 0 -->\n      <defs>\n       <path d=\"M 31.78125 66.40625 \nQ 24.171875 66.40625 20.328125 58.90625 \nQ 16.5 51.421875 16.5 36.375 \nQ 16.5 21.390625 20.328125 13.890625 \nQ 24.171875 6.390625 31.78125 6.390625 \nQ 39.453125 6.390625 43.28125 13.890625 \nQ 47.125 21.390625 47.125 36.375 \nQ 47.125 51.421875 43.28125 58.90625 \nQ 39.453125 66.40625 31.78125 66.40625 \nz\nM 31.78125 74.21875 \nQ 44.046875 74.21875 50.515625 64.515625 \nQ 56.984375 54.828125 56.984375 36.375 \nQ 56.984375 17.96875 50.515625 8.265625 \nQ 44.046875 -1.421875 31.78125 -1.421875 \nQ 19.53125 -1.421875 13.0625 8.265625 \nQ 6.59375 17.96875 6.59375 36.375 \nQ 6.59375 54.828125 13.0625 64.515625 \nQ 19.53125 74.21875 31.78125 74.21875 \nz\n\" id=\"DejaVuSans-48\"/>\n      </defs>\n      <g transform=\"translate(30.166379 148.120068)scale(0.1 -0.1)\">\n       <use xlink:href=\"#DejaVuSans-48\"/>\n      </g>\n     </g>\n    </g>\n    <g id=\"xtick_2\">\n     <g id=\"line2d_2\">\n      <g>\n       <use style=\"stroke:#000000;stroke-width:0.8;\" x=\"93.47694\" xlink:href=\"#m9904beed74\" y=\"133.52163\"/>\n      </g>\n     </g>\n     <g id=\"text_2\">\n      <!-- 500 -->\n      <defs>\n       <path d=\"M 10.796875 72.90625 \nL 49.515625 72.90625 \nL 49.515625 64.59375 \nL 19.828125 64.59375 \nL 19.828125 46.734375 \nQ 21.96875 47.46875 24.109375 47.828125 \nQ 26.265625 48.1875 28.421875 48.1875 \nQ 40.625 48.1875 47.75 41.5 \nQ 54.890625 34.8125 54.890625 23.390625 \nQ 54.890625 11.625 47.5625 5.09375 \nQ 40.234375 -1.421875 26.90625 -1.421875 \nQ 22.3125 -1.421875 17.546875 -0.640625 \nQ 12.796875 0.140625 7.71875 1.703125 \nL 7.71875 11.625 \nQ 12.109375 9.234375 16.796875 8.0625 \nQ 21.484375 6.890625 26.703125 6.890625 \nQ 35.15625 6.890625 40.078125 11.328125 \nQ 45.015625 15.765625 45.015625 23.390625 \nQ 45.015625 31 40.078125 35.4375 \nQ 35.15625 39.890625 26.703125 39.890625 \nQ 22.75 39.890625 18.8125 39.015625 \nQ 14.890625 38.140625 10.796875 36.28125 \nz\n\" id=\"DejaVuSans-53\"/>\n      </defs>\n      <g transform=\"translate(83.93319 148.120068)scale(0.1 -0.1)\">\n       <use xlink:href=\"#DejaVuSans-53\"/>\n       <use x=\"63.623047\" xlink:href=\"#DejaVuSans-48\"/>\n       <use x=\"127.246094\" xlink:href=\"#DejaVuSans-48\"/>\n      </g>\n     </g>\n    </g>\n   </g>\n   <g id=\"matplotlib.axis_2\">\n    <g id=\"ytick_1\">\n     <g id=\"line2d_3\">\n      <defs>\n       <path d=\"M 0 0 \nL -3.5 0 \n\" id=\"m73953ed94d\" style=\"stroke:#000000;stroke-width:0.8;\"/>\n      </defs>\n      <g>\n       <use style=\"stroke:#000000;stroke-width:0.8;\" x=\"33.2875\" xlink:href=\"#m73953ed94d\" y=\"37.374863\"/>\n      </g>\n     </g>\n     <g id=\"text_3\">\n      <!-- 0 -->\n      <g transform=\"translate(19.925 41.174082)scale(0.1 -0.1)\">\n       <use xlink:href=\"#DejaVuSans-48\"/>\n      </g>\n     </g>\n    </g>\n    <g id=\"ytick_2\">\n     <g id=\"line2d_4\">\n      <g>\n       <use style=\"stroke:#000000;stroke-width:0.8;\" x=\"33.2875\" xlink:href=\"#m73953ed94d\" y=\"61.426587\"/>\n      </g>\n     </g>\n     <g id=\"text_4\">\n      <!-- 200 -->\n      <defs>\n       <path d=\"M 19.1875 8.296875 \nL 53.609375 8.296875 \nL 53.609375 0 \nL 7.328125 0 \nL 7.328125 8.296875 \nQ 12.9375 14.109375 22.625 23.890625 \nQ 32.328125 33.6875 34.8125 36.53125 \nQ 39.546875 41.84375 41.421875 45.53125 \nQ 43.3125 49.21875 43.3125 52.78125 \nQ 43.3125 58.59375 39.234375 62.25 \nQ 35.15625 65.921875 28.609375 65.921875 \nQ 23.96875 65.921875 18.8125 64.3125 \nQ 13.671875 62.703125 7.8125 59.421875 \nL 7.8125 69.390625 \nQ 13.765625 71.78125 18.9375 73 \nQ 24.125 74.21875 28.421875 74.21875 \nQ 39.75 74.21875 46.484375 68.546875 \nQ 53.21875 62.890625 53.21875 53.421875 \nQ 53.21875 48.921875 51.53125 44.890625 \nQ 49.859375 40.875 45.40625 35.40625 \nQ 44.1875 33.984375 37.640625 27.21875 \nQ 31.109375 20.453125 19.1875 8.296875 \nz\n\" id=\"DejaVuSans-50\"/>\n      </defs>\n      <g transform=\"translate(7.2 65.225806)scale(0.1 -0.1)\">\n       <use xlink:href=\"#DejaVuSans-50\"/>\n       <use x=\"63.623047\" xlink:href=\"#DejaVuSans-48\"/>\n       <use x=\"127.246094\" xlink:href=\"#DejaVuSans-48\"/>\n      </g>\n     </g>\n    </g>\n    <g id=\"ytick_3\">\n     <g id=\"line2d_5\">\n      <g>\n       <use style=\"stroke:#000000;stroke-width:0.8;\" x=\"33.2875\" xlink:href=\"#m73953ed94d\" y=\"85.478311\"/>\n      </g>\n     </g>\n     <g id=\"text_5\">\n      <!-- 400 -->\n      <defs>\n       <path d=\"M 37.796875 64.3125 \nL 12.890625 25.390625 \nL 37.796875 25.390625 \nz\nM 35.203125 72.90625 \nL 47.609375 72.90625 \nL 47.609375 25.390625 \nL 58.015625 25.390625 \nL 58.015625 17.1875 \nL 47.609375 17.1875 \nL 47.609375 0 \nL 37.796875 0 \nL 37.796875 17.1875 \nL 4.890625 17.1875 \nL 4.890625 26.703125 \nz\n\" id=\"DejaVuSans-52\"/>\n      </defs>\n      <g transform=\"translate(7.2 89.27753)scale(0.1 -0.1)\">\n       <use xlink:href=\"#DejaVuSans-52\"/>\n       <use x=\"63.623047\" xlink:href=\"#DejaVuSans-48\"/>\n       <use x=\"127.246094\" xlink:href=\"#DejaVuSans-48\"/>\n      </g>\n     </g>\n    </g>\n    <g id=\"ytick_4\">\n     <g id=\"line2d_6\">\n      <g>\n       <use style=\"stroke:#000000;stroke-width:0.8;\" x=\"33.2875\" xlink:href=\"#m73953ed94d\" y=\"109.530035\"/>\n      </g>\n     </g>\n     <g id=\"text_6\">\n      <!-- 600 -->\n      <defs>\n       <path d=\"M 33.015625 40.375 \nQ 26.375 40.375 22.484375 35.828125 \nQ 18.609375 31.296875 18.609375 23.390625 \nQ 18.609375 15.53125 22.484375 10.953125 \nQ 26.375 6.390625 33.015625 6.390625 \nQ 39.65625 6.390625 43.53125 10.953125 \nQ 47.40625 15.53125 47.40625 23.390625 \nQ 47.40625 31.296875 43.53125 35.828125 \nQ 39.65625 40.375 33.015625 40.375 \nz\nM 52.59375 71.296875 \nL 52.59375 62.3125 \nQ 48.875 64.0625 45.09375 64.984375 \nQ 41.3125 65.921875 37.59375 65.921875 \nQ 27.828125 65.921875 22.671875 59.328125 \nQ 17.53125 52.734375 16.796875 39.40625 \nQ 19.671875 43.65625 24.015625 45.921875 \nQ 28.375 48.1875 33.59375 48.1875 \nQ 44.578125 48.1875 50.953125 41.515625 \nQ 57.328125 34.859375 57.328125 23.390625 \nQ 57.328125 12.15625 50.6875 5.359375 \nQ 44.046875 -1.421875 33.015625 -1.421875 \nQ 20.359375 -1.421875 13.671875 8.265625 \nQ 6.984375 17.96875 6.984375 36.375 \nQ 6.984375 53.65625 15.1875 63.9375 \nQ 23.390625 74.21875 37.203125 74.21875 \nQ 40.921875 74.21875 44.703125 73.484375 \nQ 48.484375 72.75 52.59375 71.296875 \nz\n\" id=\"DejaVuSans-54\"/>\n      </defs>\n      <g transform=\"translate(7.2 113.329254)scale(0.1 -0.1)\">\n       <use xlink:href=\"#DejaVuSans-54\"/>\n       <use x=\"63.623047\" xlink:href=\"#DejaVuSans-48\"/>\n       <use x=\"127.246094\" xlink:href=\"#DejaVuSans-48\"/>\n      </g>\n     </g>\n    </g>\n   </g>\n   <g id=\"patch_3\">\n    <path d=\"M 33.2875 133.52163 \nL 33.2875 37.314734 \n\" style=\"fill:none;stroke:#000000;stroke-linecap:square;stroke-linejoin:miter;stroke-width:0.8;\"/>\n   </g>\n   <g id=\"patch_4\">\n    <path d=\"M 129.494397 133.52163 \nL 129.494397 37.314734 \n\" style=\"fill:none;stroke:#000000;stroke-linecap:square;stroke-linejoin:miter;stroke-width:0.8;\"/>\n   </g>\n   <g id=\"patch_5\">\n    <path d=\"M 33.2875 133.52163 \nL 129.494397 133.52163 \n\" style=\"fill:none;stroke:#000000;stroke-linecap:square;stroke-linejoin:miter;stroke-width:0.8;\"/>\n   </g>\n   <g id=\"patch_6\">\n    <path d=\"M 33.2875 37.314734 \nL 129.494397 37.314734 \n\" style=\"fill:none;stroke:#000000;stroke-linecap:square;stroke-linejoin:miter;stroke-width:0.8;\"/>\n   </g>\n   <g id=\"text_7\">\n    <!-- Plantae -->\n    <defs>\n     <path d=\"M 19.671875 64.796875 \nL 19.671875 37.40625 \nL 32.078125 37.40625 \nQ 38.96875 37.40625 42.71875 40.96875 \nQ 46.484375 44.53125 46.484375 51.125 \nQ 46.484375 57.671875 42.71875 61.234375 \nQ 38.96875 64.796875 32.078125 64.796875 \nz\nM 9.8125 72.90625 \nL 32.078125 72.90625 \nQ 44.34375 72.90625 50.609375 67.359375 \nQ 56.890625 61.8125 56.890625 51.125 \nQ 56.890625 40.328125 50.609375 34.8125 \nQ 44.34375 29.296875 32.078125 29.296875 \nL 19.671875 29.296875 \nL 19.671875 0 \nL 9.8125 0 \nz\n\" id=\"DejaVuSans-80\"/>\n     <path d=\"M 9.421875 75.984375 \nL 18.40625 75.984375 \nL 18.40625 0 \nL 9.421875 0 \nz\n\" id=\"DejaVuSans-108\"/>\n     <path d=\"M 34.28125 27.484375 \nQ 23.390625 27.484375 19.1875 25 \nQ 14.984375 22.515625 14.984375 16.5 \nQ 14.984375 11.71875 18.140625 8.90625 \nQ 21.296875 6.109375 26.703125 6.109375 \nQ 34.1875 6.109375 38.703125 11.40625 \nQ 43.21875 16.703125 43.21875 25.484375 \nL 43.21875 27.484375 \nz\nM 52.203125 31.203125 \nL 52.203125 0 \nL 43.21875 0 \nL 43.21875 8.296875 \nQ 40.140625 3.328125 35.546875 0.953125 \nQ 30.953125 -1.421875 24.3125 -1.421875 \nQ 15.921875 -1.421875 10.953125 3.296875 \nQ 6 8.015625 6 15.921875 \nQ 6 25.140625 12.171875 29.828125 \nQ 18.359375 34.515625 30.609375 34.515625 \nL 43.21875 34.515625 \nL 43.21875 35.40625 \nQ 43.21875 41.609375 39.140625 45 \nQ 35.0625 48.390625 27.6875 48.390625 \nQ 23 48.390625 18.546875 47.265625 \nQ 14.109375 46.140625 10.015625 43.890625 \nL 10.015625 52.203125 \nQ 14.9375 54.109375 19.578125 55.046875 \nQ 24.21875 56 28.609375 56 \nQ 40.484375 56 46.34375 49.84375 \nQ 52.203125 43.703125 52.203125 31.203125 \nz\n\" id=\"DejaVuSans-97\"/>\n     <path d=\"M 54.890625 33.015625 \nL 54.890625 0 \nL 45.90625 0 \nL 45.90625 32.71875 \nQ 45.90625 40.484375 42.875 44.328125 \nQ 39.84375 48.1875 33.796875 48.1875 \nQ 26.515625 48.1875 22.3125 43.546875 \nQ 18.109375 38.921875 18.109375 30.90625 \nL 18.109375 0 \nL 9.078125 0 \nL 9.078125 54.6875 \nL 18.109375 54.6875 \nL 18.109375 46.1875 \nQ 21.34375 51.125 25.703125 53.5625 \nQ 30.078125 56 35.796875 56 \nQ 45.21875 56 50.046875 50.171875 \nQ 54.890625 44.34375 54.890625 33.015625 \nz\n\" id=\"DejaVuSans-110\"/>\n     <path d=\"M 18.3125 70.21875 \nL 18.3125 54.6875 \nL 36.8125 54.6875 \nL 36.8125 47.703125 \nL 18.3125 47.703125 \nL 18.3125 18.015625 \nQ 18.3125 11.328125 20.140625 9.421875 \nQ 21.96875 7.515625 27.59375 7.515625 \nL 36.8125 7.515625 \nL 36.8125 0 \nL 27.59375 0 \nQ 17.1875 0 13.234375 3.875 \nQ 9.28125 7.765625 9.28125 18.015625 \nL 9.28125 47.703125 \nL 2.6875 47.703125 \nL 2.6875 54.6875 \nL 9.28125 54.6875 \nL 9.28125 70.21875 \nz\n\" id=\"DejaVuSans-116\"/>\n     <path d=\"M 56.203125 29.59375 \nL 56.203125 25.203125 \nL 14.890625 25.203125 \nQ 15.484375 15.921875 20.484375 11.0625 \nQ 25.484375 6.203125 34.421875 6.203125 \nQ 39.59375 6.203125 44.453125 7.46875 \nQ 49.3125 8.734375 54.109375 11.28125 \nL 54.109375 2.78125 \nQ 49.265625 0.734375 44.1875 -0.34375 \nQ 39.109375 -1.421875 33.890625 -1.421875 \nQ 20.796875 -1.421875 13.15625 6.1875 \nQ 5.515625 13.8125 5.515625 26.8125 \nQ 5.515625 40.234375 12.765625 48.109375 \nQ 20.015625 56 32.328125 56 \nQ 43.359375 56 49.78125 48.890625 \nQ 56.203125 41.796875 56.203125 29.59375 \nz\nM 47.21875 32.234375 \nQ 47.125 39.59375 43.09375 43.984375 \nQ 39.0625 48.390625 32.421875 48.390625 \nQ 24.90625 48.390625 20.390625 44.140625 \nQ 15.875 39.890625 15.1875 32.171875 \nz\n\" id=\"DejaVuSans-101\"/>\n    </defs>\n    <g transform=\"translate(58.905948 31.314734)scale(0.12 -0.12)\">\n     <use xlink:href=\"#DejaVuSans-80\"/>\n     <use x=\"60.302734\" xlink:href=\"#DejaVuSans-108\"/>\n     <use x=\"88.085938\" xlink:href=\"#DejaVuSans-97\"/>\n     <use x=\"149.365234\" xlink:href=\"#DejaVuSans-110\"/>\n     <use x=\"212.744141\" xlink:href=\"#DejaVuSans-116\"/>\n     <use x=\"251.953125\" xlink:href=\"#DejaVuSans-97\"/>\n     <use x=\"313.232422\" xlink:href=\"#DejaVuSans-101\"/>\n    </g>\n   </g>\n  </g>\n  <g id=\"axes_2\">\n   <g id=\"patch_7\">\n    <path d=\"M 148.735776 121.495768 \nL 244.942672 121.495768 \nL 244.942672 49.340596 \nL 148.735776 49.340596 \nz\n\" style=\"fill:#ffffff;\"/>\n   </g>\n   <g clip-path=\"url(#pf772446216)\">\n    <image height=\"73\" id=\"image91eece8f3d\" transform=\"scale(1 -1)translate(0 -73)\" width=\"97\" x=\"148.735776\" xlink:href=\"data:image/png;base64,\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\" y=\"-48.495768\"/>\n   </g>\n   <g id=\"matplotlib.axis_3\">\n    <g id=\"xtick_3\">\n     <g id=\"line2d_7\">\n      <g>\n       <use style=\"stroke:#000000;stroke-width:0.8;\" x=\"148.795905\" xlink:href=\"#m9904beed74\" y=\"121.495768\"/>\n      </g>\n     </g>\n     <g id=\"text_8\">\n      <!-- 0 -->\n      <g transform=\"translate(145.614655 136.094206)scale(0.1 -0.1)\">\n       <use xlink:href=\"#DejaVuSans-48\"/>\n      </g>\n     </g>\n    </g>\n    <g id=\"xtick_4\">\n     <g id=\"line2d_8\">\n      <g>\n       <use style=\"stroke:#000000;stroke-width:0.8;\" x=\"208.925216\" xlink:href=\"#m9904beed74\" y=\"121.495768\"/>\n      </g>\n     </g>\n     <g id=\"text_9\">\n      <!-- 500 -->\n      <g transform=\"translate(199.381466 136.094206)scale(0.1 -0.1)\">\n       <use xlink:href=\"#DejaVuSans-53\"/>\n       <use x=\"63.623047\" xlink:href=\"#DejaVuSans-48\"/>\n       <use x=\"127.246094\" xlink:href=\"#DejaVuSans-48\"/>\n      </g>\n     </g>\n    </g>\n   </g>\n   <g id=\"matplotlib.axis_4\">\n    <g id=\"ytick_5\">\n     <g id=\"line2d_9\">\n      <g>\n       <use style=\"stroke:#000000;stroke-width:0.8;\" x=\"148.735776\" xlink:href=\"#m73953ed94d\" y=\"49.400725\"/>\n      </g>\n     </g>\n     <g id=\"text_10\">\n      <!-- 0 -->\n      <g transform=\"translate(135.373276 53.199944)scale(0.1 -0.1)\">\n       <use xlink:href=\"#DejaVuSans-48\"/>\n      </g>\n     </g>\n    </g>\n    <g id=\"ytick_6\">\n     <g id=\"line2d_10\">\n      <g>\n       <use style=\"stroke:#000000;stroke-width:0.8;\" x=\"148.735776\" xlink:href=\"#m73953ed94d\" y=\"73.452449\"/>\n      </g>\n     </g>\n     <g id=\"text_11\">\n      <!-- 200 -->\n      <g transform=\"translate(122.648276 77.251668)scale(0.1 -0.1)\">\n       <use xlink:href=\"#DejaVuSans-50\"/>\n       <use x=\"63.623047\" xlink:href=\"#DejaVuSans-48\"/>\n       <use x=\"127.246094\" xlink:href=\"#DejaVuSans-48\"/>\n      </g>\n     </g>\n    </g>\n    <g id=\"ytick_7\">\n     <g id=\"line2d_11\">\n      <g>\n       <use style=\"stroke:#000000;stroke-width:0.8;\" x=\"148.735776\" xlink:href=\"#m73953ed94d\" y=\"97.504173\"/>\n      </g>\n     </g>\n     <g id=\"text_12\">\n      <!-- 400 -->\n      <g transform=\"translate(122.648276 101.303392)scale(0.1 -0.1)\">\n       <use xlink:href=\"#DejaVuSans-52\"/>\n       <use x=\"63.623047\" xlink:href=\"#DejaVuSans-48\"/>\n       <use x=\"127.246094\" xlink:href=\"#DejaVuSans-48\"/>\n      </g>\n     </g>\n    </g>\n   </g>\n   <g id=\"patch_8\">\n    <path d=\"M 148.735776 121.495768 \nL 148.735776 49.340596 \n\" style=\"fill:none;stroke:#000000;stroke-linecap:square;stroke-linejoin:miter;stroke-width:0.8;\"/>\n   </g>\n   <g id=\"patch_9\">\n    <path d=\"M 244.942672 121.495768 \nL 244.942672 49.340596 \n\" style=\"fill:none;stroke:#000000;stroke-linecap:square;stroke-linejoin:miter;stroke-width:0.8;\"/>\n   </g>\n   <g id=\"patch_10\">\n    <path d=\"M 148.735776 121.495768 \nL 244.942672 121.495768 \n\" style=\"fill:none;stroke:#000000;stroke-linecap:square;stroke-linejoin:miter;stroke-width:0.8;\"/>\n   </g>\n   <g id=\"patch_11\">\n    <path d=\"M 148.735776 49.340596 \nL 244.942672 49.340596 \n\" style=\"fill:none;stroke:#000000;stroke-linecap:square;stroke-linejoin:miter;stroke-width:0.8;\"/>\n   </g>\n   <g id=\"text_13\">\n    <!-- Aves -->\n    <defs>\n     <path d=\"M 34.1875 63.1875 \nL 20.796875 26.90625 \nL 47.609375 26.90625 \nz\nM 28.609375 72.90625 \nL 39.796875 72.90625 \nL 67.578125 0 \nL 57.328125 0 \nL 50.6875 18.703125 \nL 17.828125 18.703125 \nL 11.1875 0 \nL 0.78125 0 \nz\n\" id=\"DejaVuSans-65\"/>\n     <path d=\"M 2.984375 54.6875 \nL 12.5 54.6875 \nL 29.59375 8.796875 \nL 46.6875 54.6875 \nL 56.203125 54.6875 \nL 35.6875 0 \nL 23.484375 0 \nz\n\" id=\"DejaVuSans-118\"/>\n     <path d=\"M 44.28125 53.078125 \nL 44.28125 44.578125 \nQ 40.484375 46.53125 36.375 47.5 \nQ 32.28125 48.484375 27.875 48.484375 \nQ 21.1875 48.484375 17.84375 46.4375 \nQ 14.5 44.390625 14.5 40.28125 \nQ 14.5 37.15625 16.890625 35.375 \nQ 19.28125 33.59375 26.515625 31.984375 \nL 29.59375 31.296875 \nQ 39.15625 29.25 43.1875 25.515625 \nQ 47.21875 21.78125 47.21875 15.09375 \nQ 47.21875 7.46875 41.1875 3.015625 \nQ 35.15625 -1.421875 24.609375 -1.421875 \nQ 20.21875 -1.421875 15.453125 -0.5625 \nQ 10.6875 0.296875 5.421875 2 \nL 5.421875 11.28125 \nQ 10.40625 8.6875 15.234375 7.390625 \nQ 20.0625 6.109375 24.8125 6.109375 \nQ 31.15625 6.109375 34.5625 8.28125 \nQ 37.984375 10.453125 37.984375 14.40625 \nQ 37.984375 18.0625 35.515625 20.015625 \nQ 33.0625 21.96875 24.703125 23.78125 \nL 21.578125 24.515625 \nQ 13.234375 26.265625 9.515625 29.90625 \nQ 5.8125 33.546875 5.8125 39.890625 \nQ 5.8125 47.609375 11.28125 51.796875 \nQ 16.75 56 26.8125 56 \nQ 31.78125 56 36.171875 55.265625 \nQ 40.578125 54.546875 44.28125 53.078125 \nz\n\" id=\"DejaVuSans-115\"/>\n    </defs>\n    <g transform=\"translate(182.718599 43.340596)scale(0.12 -0.12)\">\n     <use xlink:href=\"#DejaVuSans-65\"/>\n     <use x=\"62.533203\" xlink:href=\"#DejaVuSans-118\"/>\n     <use x=\"121.712891\" xlink:href=\"#DejaVuSans-101\"/>\n     <use x=\"183.236328\" xlink:href=\"#DejaVuSans-115\"/>\n    </g>\n   </g>\n  </g>\n  <g id=\"axes_3\">\n   <g id=\"patch_12\">\n    <path d=\"M 264.184052 120.653958 \nL 360.390948 120.653958 \nL 360.390948 50.182406 \nL 264.184052 50.182406 \nz\n\" style=\"fill:#ffffff;\"/>\n   </g>\n   <g clip-path=\"url(#p67cca62ee3)\">\n    <image height=\"71\" id=\"image809b8983c9\" transform=\"scale(1 -1)translate(0 -71)\" width=\"97\" x=\"264.184052\" xlink:href=\"data:image/png;base64,\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\" y=\"-49.653958\"/>\n   </g>\n   <g id=\"matplotlib.axis_5\">\n    <g id=\"xtick_5\">\n     <g id=\"line2d_12\">\n      <g>\n       <use style=\"stroke:#000000;stroke-width:0.8;\" x=\"264.244181\" xlink:href=\"#m9904beed74\" y=\"120.653958\"/>\n      </g>\n     </g>\n     <g id=\"text_14\">\n      <!-- 0 -->\n      <g transform=\"translate(261.062931 135.252395)scale(0.1 -0.1)\">\n       <use xlink:href=\"#DejaVuSans-48\"/>\n      </g>\n     </g>\n    </g>\n    <g id=\"xtick_6\">\n     <g id=\"line2d_13\">\n      <g>\n       <use style=\"stroke:#000000;stroke-width:0.8;\" x=\"324.373491\" xlink:href=\"#m9904beed74\" y=\"120.653958\"/>\n      </g>\n     </g>\n     <g id=\"text_15\">\n      <!-- 500 -->\n      <g transform=\"translate(314.829741 135.252395)scale(0.1 -0.1)\">\n       <use xlink:href=\"#DejaVuSans-53\"/>\n       <use x=\"63.623047\" xlink:href=\"#DejaVuSans-48\"/>\n       <use x=\"127.246094\" xlink:href=\"#DejaVuSans-48\"/>\n      </g>\n     </g>\n    </g>\n   </g>\n   <g id=\"matplotlib.axis_6\">\n    <g id=\"ytick_8\">\n     <g id=\"line2d_14\">\n      <g>\n       <use style=\"stroke:#000000;stroke-width:0.8;\" x=\"264.184052\" xlink:href=\"#m73953ed94d\" y=\"50.242535\"/>\n      </g>\n     </g>\n     <g id=\"text_16\">\n      <!-- 0 -->\n      <g transform=\"translate(250.821552 54.041754)scale(0.1 -0.1)\">\n       <use xlink:href=\"#DejaVuSans-48\"/>\n      </g>\n     </g>\n    </g>\n    <g id=\"ytick_9\">\n     <g id=\"line2d_15\">\n      <g>\n       <use style=\"stroke:#000000;stroke-width:0.8;\" x=\"264.184052\" xlink:href=\"#m73953ed94d\" y=\"74.294259\"/>\n      </g>\n     </g>\n     <g id=\"text_17\">\n      <!-- 200 -->\n      <g transform=\"translate(238.096552 78.093478)scale(0.1 -0.1)\">\n       <use xlink:href=\"#DejaVuSans-50\"/>\n       <use x=\"63.623047\" xlink:href=\"#DejaVuSans-48\"/>\n       <use x=\"127.246094\" xlink:href=\"#DejaVuSans-48\"/>\n      </g>\n     </g>\n    </g>\n    <g id=\"ytick_10\">\n     <g id=\"line2d_16\">\n      <g>\n       <use style=\"stroke:#000000;stroke-width:0.8;\" x=\"264.184052\" xlink:href=\"#m73953ed94d\" y=\"98.345984\"/>\n      </g>\n     </g>\n     <g id=\"text_18\">\n      <!-- 400 -->\n      <g transform=\"translate(238.096552 102.145202)scale(0.1 -0.1)\">\n       <use xlink:href=\"#DejaVuSans-52\"/>\n       <use x=\"63.623047\" xlink:href=\"#DejaVuSans-48\"/>\n       <use x=\"127.246094\" xlink:href=\"#DejaVuSans-48\"/>\n      </g>\n     </g>\n    </g>\n   </g>\n   <g id=\"patch_13\">\n    <path d=\"M 264.184052 120.653958 \nL 264.184052 50.182406 \n\" style=\"fill:none;stroke:#000000;stroke-linecap:square;stroke-linejoin:miter;stroke-width:0.8;\"/>\n   </g>\n   <g id=\"patch_14\">\n    <path d=\"M 360.390948 120.653958 \nL 360.390948 50.182406 \n\" style=\"fill:none;stroke:#000000;stroke-linecap:square;stroke-linejoin:miter;stroke-width:0.8;\"/>\n   </g>\n   <g id=\"patch_15\">\n    <path d=\"M 264.184052 120.653958 \nL 360.390948 120.653958 \n\" style=\"fill:none;stroke:#000000;stroke-linecap:square;stroke-linejoin:miter;stroke-width:0.8;\"/>\n   </g>\n   <g id=\"patch_16\">\n    <path d=\"M 264.184052 50.182406 \nL 360.390948 50.182406 \n\" style=\"fill:none;stroke:#000000;stroke-linecap:square;stroke-linejoin:miter;stroke-width:0.8;\"/>\n   </g>\n   <g id=\"text_19\">\n    <!-- Amphibia -->\n    <defs>\n     <path d=\"M 52 44.1875 \nQ 55.375 50.25 60.0625 53.125 \nQ 64.75 56 71.09375 56 \nQ 79.640625 56 84.28125 50.015625 \nQ 88.921875 44.046875 88.921875 33.015625 \nL 88.921875 0 \nL 79.890625 0 \nL 79.890625 32.71875 \nQ 79.890625 40.578125 77.09375 44.375 \nQ 74.3125 48.1875 68.609375 48.1875 \nQ 61.625 48.1875 57.5625 43.546875 \nQ 53.515625 38.921875 53.515625 30.90625 \nL 53.515625 0 \nL 44.484375 0 \nL 44.484375 32.71875 \nQ 44.484375 40.625 41.703125 44.40625 \nQ 38.921875 48.1875 33.109375 48.1875 \nQ 26.21875 48.1875 22.15625 43.53125 \nQ 18.109375 38.875 18.109375 30.90625 \nL 18.109375 0 \nL 9.078125 0 \nL 9.078125 54.6875 \nL 18.109375 54.6875 \nL 18.109375 46.1875 \nQ 21.1875 51.21875 25.484375 53.609375 \nQ 29.78125 56 35.6875 56 \nQ 41.65625 56 45.828125 52.96875 \nQ 50 49.953125 52 44.1875 \nz\n\" id=\"DejaVuSans-109\"/>\n     <path d=\"M 18.109375 8.203125 \nL 18.109375 -20.796875 \nL 9.078125 -20.796875 \nL 9.078125 54.6875 \nL 18.109375 54.6875 \nL 18.109375 46.390625 \nQ 20.953125 51.265625 25.265625 53.625 \nQ 29.59375 56 35.59375 56 \nQ 45.5625 56 51.78125 48.09375 \nQ 58.015625 40.1875 58.015625 27.296875 \nQ 58.015625 14.40625 51.78125 6.484375 \nQ 45.5625 -1.421875 35.59375 -1.421875 \nQ 29.59375 -1.421875 25.265625 0.953125 \nQ 20.953125 3.328125 18.109375 8.203125 \nz\nM 48.6875 27.296875 \nQ 48.6875 37.203125 44.609375 42.84375 \nQ 40.53125 48.484375 33.40625 48.484375 \nQ 26.265625 48.484375 22.1875 42.84375 \nQ 18.109375 37.203125 18.109375 27.296875 \nQ 18.109375 17.390625 22.1875 11.75 \nQ 26.265625 6.109375 33.40625 6.109375 \nQ 40.53125 6.109375 44.609375 11.75 \nQ 48.6875 17.390625 48.6875 27.296875 \nz\n\" id=\"DejaVuSans-112\"/>\n     <path d=\"M 54.890625 33.015625 \nL 54.890625 0 \nL 45.90625 0 \nL 45.90625 32.71875 \nQ 45.90625 40.484375 42.875 44.328125 \nQ 39.84375 48.1875 33.796875 48.1875 \nQ 26.515625 48.1875 22.3125 43.546875 \nQ 18.109375 38.921875 18.109375 30.90625 \nL 18.109375 0 \nL 9.078125 0 \nL 9.078125 75.984375 \nL 18.109375 75.984375 \nL 18.109375 46.1875 \nQ 21.34375 51.125 25.703125 53.5625 \nQ 30.078125 56 35.796875 56 \nQ 45.21875 56 50.046875 50.171875 \nQ 54.890625 44.34375 54.890625 33.015625 \nz\n\" id=\"DejaVuSans-104\"/>\n     <path d=\"M 9.421875 54.6875 \nL 18.40625 54.6875 \nL 18.40625 0 \nL 9.421875 0 \nz\nM 9.421875 75.984375 \nL 18.40625 75.984375 \nL 18.40625 64.59375 \nL 9.421875 64.59375 \nz\n\" id=\"DejaVuSans-105\"/>\n     <path d=\"M 48.6875 27.296875 \nQ 48.6875 37.203125 44.609375 42.84375 \nQ 40.53125 48.484375 33.40625 48.484375 \nQ 26.265625 48.484375 22.1875 42.84375 \nQ 18.109375 37.203125 18.109375 27.296875 \nQ 18.109375 17.390625 22.1875 11.75 \nQ 26.265625 6.109375 33.40625 6.109375 \nQ 40.53125 6.109375 44.609375 11.75 \nQ 48.6875 17.390625 48.6875 27.296875 \nz\nM 18.109375 46.390625 \nQ 20.953125 51.265625 25.265625 53.625 \nQ 29.59375 56 35.59375 56 \nQ 45.5625 56 51.78125 48.09375 \nQ 58.015625 40.1875 58.015625 27.296875 \nQ 58.015625 14.40625 51.78125 6.484375 \nQ 45.5625 -1.421875 35.59375 -1.421875 \nQ 29.59375 -1.421875 25.265625 0.953125 \nQ 20.953125 3.328125 18.109375 8.203125 \nL 18.109375 0 \nL 9.078125 0 \nL 9.078125 75.984375 \nL 18.109375 75.984375 \nz\n\" id=\"DejaVuSans-98\"/>\n    </defs>\n    <g transform=\"translate(283.9075 44.182406)scale(0.12 -0.12)\">\n     <use xlink:href=\"#DejaVuSans-65\"/>\n     <use x=\"68.408203\" xlink:href=\"#DejaVuSans-109\"/>\n     <use x=\"165.820312\" xlink:href=\"#DejaVuSans-112\"/>\n     <use x=\"229.296875\" xlink:href=\"#DejaVuSans-104\"/>\n     <use x=\"292.675781\" xlink:href=\"#DejaVuSans-105\"/>\n     <use x=\"320.458984\" xlink:href=\"#DejaVuSans-98\"/>\n     <use x=\"383.935547\" xlink:href=\"#DejaVuSans-105\"/>\n     <use x=\"411.71875\" xlink:href=\"#DejaVuSans-97\"/>\n    </g>\n   </g>\n  </g>\n  <g id=\"axes_4\">\n   <g id=\"patch_17\">\n    <path d=\"M 379.632328 134.628871 \nL 475.839224 134.628871 \nL 475.839224 36.207493 \nL 379.632328 36.207493 \nz\n\" style=\"fill:#ffffff;\"/>\n   </g>\n   <g clip-path=\"url(#p6a87d807d6)\">\n    <image height=\"99\" id=\"imageb5788ba319\" transform=\"scale(1 -1)translate(0 -99)\" width=\"97\" x=\"379.632328\" xlink:href=\"data:image/png;base64,\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\" y=\"-35.628871\"/>\n   </g>\n   <g id=\"matplotlib.axis_7\">\n    <g id=\"xtick_7\">\n     <g id=\"line2d_17\">\n      <g>\n       <use style=\"stroke:#000000;stroke-width:0.8;\" x=\"379.693841\" xlink:href=\"#m9904beed74\" y=\"134.628871\"/>\n      </g>\n     </g>\n     <g id=\"text_20\">\n      <!-- 0 -->\n      <g transform=\"translate(376.512591 149.227308)scale(0.1 -0.1)\">\n       <use xlink:href=\"#DejaVuSans-48\"/>\n      </g>\n     </g>\n    </g>\n    <g id=\"xtick_8\">\n     <g id=\"line2d_18\">\n      <g>\n       <use style=\"stroke:#000000;stroke-width:0.8;\" x=\"441.207202\" xlink:href=\"#m9904beed74\" y=\"134.628871\"/>\n      </g>\n     </g>\n     <g id=\"text_21\">\n      <!-- 500 -->\n      <g transform=\"translate(431.663452 149.227308)scale(0.1 -0.1)\">\n       <use xlink:href=\"#DejaVuSans-53\"/>\n       <use x=\"63.623047\" xlink:href=\"#DejaVuSans-48\"/>\n       <use x=\"127.246094\" xlink:href=\"#DejaVuSans-48\"/>\n      </g>\n     </g>\n    </g>\n   </g>\n   <g id=\"matplotlib.axis_8\">\n    <g id=\"ytick_11\">\n     <g id=\"line2d_19\">\n      <g>\n       <use style=\"stroke:#000000;stroke-width:0.8;\" x=\"379.632328\" xlink:href=\"#m73953ed94d\" y=\"36.269006\"/>\n      </g>\n     </g>\n     <g id=\"text_22\">\n      <!-- 0 -->\n      <g transform=\"translate(366.269828 40.068225)scale(0.1 -0.1)\">\n       <use xlink:href=\"#DejaVuSans-48\"/>\n      </g>\n     </g>\n    </g>\n    <g id=\"ytick_12\">\n     <g id=\"line2d_20\">\n      <g>\n       <use style=\"stroke:#000000;stroke-width:0.8;\" x=\"379.632328\" xlink:href=\"#m73953ed94d\" y=\"60.874351\"/>\n      </g>\n     </g>\n     <g id=\"text_23\">\n      <!-- 200 -->\n      <g transform=\"translate(353.544828 64.67357)scale(0.1 -0.1)\">\n       <use xlink:href=\"#DejaVuSans-50\"/>\n       <use x=\"63.623047\" xlink:href=\"#DejaVuSans-48\"/>\n       <use x=\"127.246094\" xlink:href=\"#DejaVuSans-48\"/>\n      </g>\n     </g>\n    </g>\n    <g id=\"ytick_13\">\n     <g id=\"line2d_21\">\n      <g>\n       <use style=\"stroke:#000000;stroke-width:0.8;\" x=\"379.632328\" xlink:href=\"#m73953ed94d\" y=\"85.479695\"/>\n      </g>\n     </g>\n     <g id=\"text_24\">\n      <!-- 400 -->\n      <g transform=\"translate(353.544828 89.278914)scale(0.1 -0.1)\">\n       <use xlink:href=\"#DejaVuSans-52\"/>\n       <use x=\"63.623047\" xlink:href=\"#DejaVuSans-48\"/>\n       <use x=\"127.246094\" xlink:href=\"#DejaVuSans-48\"/>\n      </g>\n     </g>\n    </g>\n    <g id=\"ytick_14\">\n     <g id=\"line2d_22\">\n      <g>\n       <use style=\"stroke:#000000;stroke-width:0.8;\" x=\"379.632328\" xlink:href=\"#m73953ed94d\" y=\"110.08504\"/>\n      </g>\n     </g>\n     <g id=\"text_25\">\n      <!-- 600 -->\n      <g transform=\"translate(353.544828 113.884258)scale(0.1 -0.1)\">\n       <use xlink:href=\"#DejaVuSans-54\"/>\n       <use x=\"63.623047\" xlink:href=\"#DejaVuSans-48\"/>\n       <use x=\"127.246094\" xlink:href=\"#DejaVuSans-48\"/>\n      </g>\n     </g>\n    </g>\n   </g>\n   <g id=\"patch_18\">\n    <path d=\"M 379.632328 134.628871 \nL 379.632328 36.207493 \n\" style=\"fill:none;stroke:#000000;stroke-linecap:square;stroke-linejoin:miter;stroke-width:0.8;\"/>\n   </g>\n   <g id=\"patch_19\">\n    <path d=\"M 475.839224 134.628871 \nL 475.839224 36.207493 \n\" style=\"fill:none;stroke:#000000;stroke-linecap:square;stroke-linejoin:miter;stroke-width:0.8;\"/>\n   </g>\n   <g id=\"patch_20\">\n    <path d=\"M 379.632328 134.628871 \nL 475.839224 134.628871 \n\" style=\"fill:none;stroke:#000000;stroke-linecap:square;stroke-linejoin:miter;stroke-width:0.8;\"/>\n   </g>\n   <g id=\"patch_21\">\n    <path d=\"M 379.632328 36.207493 \nL 475.839224 36.207493 \n\" style=\"fill:none;stroke:#000000;stroke-linecap:square;stroke-linejoin:miter;stroke-width:0.8;\"/>\n   </g>\n   <g id=\"text_26\">\n    <!-- Insecta -->\n    <defs>\n     <path d=\"M 9.8125 72.90625 \nL 19.671875 72.90625 \nL 19.671875 0 \nL 9.8125 0 \nz\n\" id=\"DejaVuSans-73\"/>\n     <path d=\"M 48.78125 52.59375 \nL 48.78125 44.1875 \nQ 44.96875 46.296875 41.140625 47.34375 \nQ 37.3125 48.390625 33.40625 48.390625 \nQ 24.65625 48.390625 19.8125 42.84375 \nQ 14.984375 37.3125 14.984375 27.296875 \nQ 14.984375 17.28125 19.8125 11.734375 \nQ 24.65625 6.203125 33.40625 6.203125 \nQ 37.3125 6.203125 41.140625 7.25 \nQ 44.96875 8.296875 48.78125 10.40625 \nL 48.78125 2.09375 \nQ 45.015625 0.34375 40.984375 -0.53125 \nQ 36.96875 -1.421875 32.421875 -1.421875 \nQ 20.0625 -1.421875 12.78125 6.34375 \nQ 5.515625 14.109375 5.515625 27.296875 \nQ 5.515625 40.671875 12.859375 48.328125 \nQ 20.21875 56 33.015625 56 \nQ 37.15625 56 41.109375 55.140625 \nQ 45.0625 54.296875 48.78125 52.59375 \nz\n\" id=\"DejaVuSans-99\"/>\n    </defs>\n    <g transform=\"translate(406.017651 30.207493)scale(0.12 -0.12)\">\n     <use xlink:href=\"#DejaVuSans-73\"/>\n     <use x=\"29.492188\" xlink:href=\"#DejaVuSans-110\"/>\n     <use x=\"92.871094\" xlink:href=\"#DejaVuSans-115\"/>\n     <use x=\"144.970703\" xlink:href=\"#DejaVuSans-101\"/>\n     <use x=\"206.494141\" xlink:href=\"#DejaVuSans-99\"/>\n     <use x=\"261.474609\" xlink:href=\"#DejaVuSans-116\"/>\n     <use x=\"300.683594\" xlink:href=\"#DejaVuSans-97\"/>\n    </g>\n   </g>\n  </g>\n  <g id=\"axes_5\">\n   <g id=\"patch_22\">\n    <path d=\"M 495.080603 117.527234 \nL 591.2875 117.527234 \nL 591.2875 53.30913 \nL 495.080603 53.30913 \nz\n\" style=\"fill:#ffffff;\"/>\n   </g>\n   <g clip-path=\"url(#p7a23578775)\">\n    <image height=\"65\" id=\"imageadc1711ebc\" transform=\"scale(1 -1)translate(0 -65)\" width=\"97\" x=\"495.080603\" xlink:href=\"data:image/png;base64,\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\" y=\"-52.527234\"/>\n   </g>\n   <g id=\"matplotlib.axis_9\">\n    <g id=\"xtick_9\">\n     <g id=\"line2d_23\">\n      <g>\n       <use style=\"stroke:#000000;stroke-width:0.8;\" x=\"495.140733\" xlink:href=\"#m9904beed74\" y=\"117.527234\"/>\n      </g>\n     </g>\n     <g id=\"text_27\">\n      <!-- 0 -->\n      <g transform=\"translate(491.959483 132.125671)scale(0.1 -0.1)\">\n       <use xlink:href=\"#DejaVuSans-48\"/>\n      </g>\n     </g>\n    </g>\n    <g id=\"xtick_10\">\n     <g id=\"line2d_24\">\n      <g>\n       <use style=\"stroke:#000000;stroke-width:0.8;\" x=\"555.270043\" xlink:href=\"#m9904beed74\" y=\"117.527234\"/>\n      </g>\n     </g>\n     <g id=\"text_28\">\n      <!-- 500 -->\n      <g transform=\"translate(545.726293 132.125671)scale(0.1 -0.1)\">\n       <use xlink:href=\"#DejaVuSans-53\"/>\n       <use x=\"63.623047\" xlink:href=\"#DejaVuSans-48\"/>\n       <use x=\"127.246094\" xlink:href=\"#DejaVuSans-48\"/>\n      </g>\n     </g>\n    </g>\n   </g>\n   <g id=\"matplotlib.axis_10\">\n    <g id=\"ytick_15\">\n     <g id=\"line2d_25\">\n      <g>\n       <use style=\"stroke:#000000;stroke-width:0.8;\" x=\"495.080603\" xlink:href=\"#m73953ed94d\" y=\"53.369259\"/>\n      </g>\n     </g>\n     <g id=\"text_29\">\n      <!-- 0 -->\n      <g transform=\"translate(481.718103 57.168478)scale(0.1 -0.1)\">\n       <use xlink:href=\"#DejaVuSans-48\"/>\n      </g>\n     </g>\n    </g>\n    <g id=\"ytick_16\">\n     <g id=\"line2d_26\">\n      <g>\n       <use style=\"stroke:#000000;stroke-width:0.8;\" x=\"495.080603\" xlink:href=\"#m73953ed94d\" y=\"77.420984\"/>\n      </g>\n     </g>\n     <g id=\"text_30\">\n      <!-- 200 -->\n      <g transform=\"translate(468.993103 81.220202)scale(0.1 -0.1)\">\n       <use xlink:href=\"#DejaVuSans-50\"/>\n       <use x=\"63.623047\" xlink:href=\"#DejaVuSans-48\"/>\n       <use x=\"127.246094\" xlink:href=\"#DejaVuSans-48\"/>\n      </g>\n     </g>\n    </g>\n    <g id=\"ytick_17\">\n     <g id=\"line2d_27\">\n      <g>\n       <use style=\"stroke:#000000;stroke-width:0.8;\" x=\"495.080603\" xlink:href=\"#m73953ed94d\" y=\"101.472708\"/>\n      </g>\n     </g>\n     <g id=\"text_31\">\n      <!-- 400 -->\n      <g transform=\"translate(468.993103 105.271926)scale(0.1 -0.1)\">\n       <use xlink:href=\"#DejaVuSans-52\"/>\n       <use x=\"63.623047\" xlink:href=\"#DejaVuSans-48\"/>\n       <use x=\"127.246094\" xlink:href=\"#DejaVuSans-48\"/>\n      </g>\n     </g>\n    </g>\n   </g>\n   <g id=\"patch_23\">\n    <path d=\"M 495.080603 117.527234 \nL 495.080603 53.30913 \n\" style=\"fill:none;stroke:#000000;stroke-linecap:square;stroke-linejoin:miter;stroke-width:0.8;\"/>\n   </g>\n   <g id=\"patch_24\">\n    <path d=\"M 591.2875 117.527234 \nL 591.2875 53.30913 \n\" style=\"fill:none;stroke:#000000;stroke-linecap:square;stroke-linejoin:miter;stroke-width:0.8;\"/>\n   </g>\n   <g id=\"patch_25\">\n    <path d=\"M 495.080603 117.527234 \nL 591.2875 117.527234 \n\" style=\"fill:none;stroke:#000000;stroke-linecap:square;stroke-linejoin:miter;stroke-width:0.8;\"/>\n   </g>\n   <g id=\"patch_26\">\n    <path d=\"M 495.080603 53.30913 \nL 591.2875 53.30913 \n\" style=\"fill:none;stroke:#000000;stroke-linecap:square;stroke-linejoin:miter;stroke-width:0.8;\"/>\n   </g>\n   <g id=\"text_32\">\n    <!-- Animalia -->\n    <g transform=\"translate(517.078427 47.30913)scale(0.12 -0.12)\">\n     <use xlink:href=\"#DejaVuSans-65\"/>\n     <use x=\"68.408203\" xlink:href=\"#DejaVuSans-110\"/>\n     <use x=\"131.787109\" xlink:href=\"#DejaVuSans-105\"/>\n     <use x=\"159.570312\" xlink:href=\"#DejaVuSans-109\"/>\n     <use x=\"256.982422\" xlink:href=\"#DejaVuSans-97\"/>\n     <use x=\"318.261719\" xlink:href=\"#DejaVuSans-108\"/>\n     <use x=\"346.044922\" xlink:href=\"#DejaVuSans-105\"/>\n     <use x=\"373.828125\" xlink:href=\"#DejaVuSans-97\"/>\n    </g>\n   </g>\n  </g>\n  <g id=\"axes_6\">\n   <g id=\"patch_27\">\n    <path d=\"M 33.2875 240.099404 \nL 129.494397 240.099404 \nL 129.494397 167.944232 \nL 33.2875 167.944232 \nz\n\" style=\"fill:#ffffff;\"/>\n   </g>\n   <g clip-path=\"url(#p5785532839)\">\n    <image height=\"73\" id=\"image7d4304c75d\" transform=\"scale(1 -1)translate(0 -73)\" width=\"97\" x=\"33.2875\" xlink:href=\"data:image/png;base64,\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\" y=\"-167.099404\"/>\n   </g>\n   <g id=\"matplotlib.axis_11\">\n    <g id=\"xtick_11\">\n     <g id=\"line2d_28\">\n      <g>\n       <use style=\"stroke:#000000;stroke-width:0.8;\" x=\"33.347629\" xlink:href=\"#m9904beed74\" y=\"240.099404\"/>\n      </g>\n     </g>\n     <g id=\"text_33\">\n      <!-- 0 -->\n      <g transform=\"translate(30.166379 254.697842)scale(0.1 -0.1)\">\n       <use xlink:href=\"#DejaVuSans-48\"/>\n      </g>\n     </g>\n    </g>\n    <g id=\"xtick_12\">\n     <g id=\"line2d_29\">\n      <g>\n       <use style=\"stroke:#000000;stroke-width:0.8;\" x=\"93.47694\" xlink:href=\"#m9904beed74\" y=\"240.099404\"/>\n      </g>\n     </g>\n     <g id=\"text_34\">\n      <!-- 500 -->\n      <g transform=\"translate(83.93319 254.697842)scale(0.1 -0.1)\">\n       <use xlink:href=\"#DejaVuSans-53\"/>\n       <use x=\"63.623047\" xlink:href=\"#DejaVuSans-48\"/>\n       <use x=\"127.246094\" xlink:href=\"#DejaVuSans-48\"/>\n      </g>\n     </g>\n    </g>\n   </g>\n   <g id=\"matplotlib.axis_12\">\n    <g id=\"ytick_18\">\n     <g id=\"line2d_30\">\n      <g>\n       <use style=\"stroke:#000000;stroke-width:0.8;\" x=\"33.2875\" xlink:href=\"#m73953ed94d\" y=\"168.004361\"/>\n      </g>\n     </g>\n     <g id=\"text_35\">\n      <!-- 0 -->\n      <g transform=\"translate(19.925 171.80358)scale(0.1 -0.1)\">\n       <use xlink:href=\"#DejaVuSans-48\"/>\n      </g>\n     </g>\n    </g>\n    <g id=\"ytick_19\">\n     <g id=\"line2d_31\">\n      <g>\n       <use style=\"stroke:#000000;stroke-width:0.8;\" x=\"33.2875\" xlink:href=\"#m73953ed94d\" y=\"192.056085\"/>\n      </g>\n     </g>\n     <g id=\"text_36\">\n      <!-- 200 -->\n      <g transform=\"translate(7.2 195.855304)scale(0.1 -0.1)\">\n       <use xlink:href=\"#DejaVuSans-50\"/>\n       <use x=\"63.623047\" xlink:href=\"#DejaVuSans-48\"/>\n       <use x=\"127.246094\" xlink:href=\"#DejaVuSans-48\"/>\n      </g>\n     </g>\n    </g>\n    <g id=\"ytick_20\">\n     <g id=\"line2d_32\">\n      <g>\n       <use style=\"stroke:#000000;stroke-width:0.8;\" x=\"33.2875\" xlink:href=\"#m73953ed94d\" y=\"216.10781\"/>\n      </g>\n     </g>\n     <g id=\"text_37\">\n      <!-- 400 -->\n      <g transform=\"translate(7.2 219.907028)scale(0.1 -0.1)\">\n       <use xlink:href=\"#DejaVuSans-52\"/>\n       <use x=\"63.623047\" xlink:href=\"#DejaVuSans-48\"/>\n       <use x=\"127.246094\" xlink:href=\"#DejaVuSans-48\"/>\n      </g>\n     </g>\n    </g>\n   </g>\n   <g id=\"patch_28\">\n    <path d=\"M 33.2875 240.099404 \nL 33.2875 167.944232 \n\" style=\"fill:none;stroke:#000000;stroke-linecap:square;stroke-linejoin:miter;stroke-width:0.8;\"/>\n   </g>\n   <g id=\"patch_29\">\n    <path d=\"M 129.494397 240.099404 \nL 129.494397 167.944232 \n\" style=\"fill:none;stroke:#000000;stroke-linecap:square;stroke-linejoin:miter;stroke-width:0.8;\"/>\n   </g>\n   <g id=\"patch_30\">\n    <path d=\"M 33.2875 240.099404 \nL 129.494397 240.099404 \n\" style=\"fill:none;stroke:#000000;stroke-linecap:square;stroke-linejoin:miter;stroke-width:0.8;\"/>\n   </g>\n   <g id=\"patch_31\">\n    <path d=\"M 33.2875 167.944232 \nL 129.494397 167.944232 \n\" style=\"fill:none;stroke:#000000;stroke-linecap:square;stroke-linejoin:miter;stroke-width:0.8;\"/>\n   </g>\n   <g id=\"text_38\">\n    <!-- Mollusca -->\n    <defs>\n     <path d=\"M 9.8125 72.90625 \nL 24.515625 72.90625 \nL 43.109375 23.296875 \nL 61.8125 72.90625 \nL 76.515625 72.90625 \nL 76.515625 0 \nL 66.890625 0 \nL 66.890625 64.015625 \nL 48.09375 14.015625 \nL 38.1875 14.015625 \nL 19.390625 64.015625 \nL 19.390625 0 \nL 9.8125 0 \nz\n\" id=\"DejaVuSans-77\"/>\n     <path d=\"M 30.609375 48.390625 \nQ 23.390625 48.390625 19.1875 42.75 \nQ 14.984375 37.109375 14.984375 27.296875 \nQ 14.984375 17.484375 19.15625 11.84375 \nQ 23.34375 6.203125 30.609375 6.203125 \nQ 37.796875 6.203125 41.984375 11.859375 \nQ 46.1875 17.53125 46.1875 27.296875 \nQ 46.1875 37.015625 41.984375 42.703125 \nQ 37.796875 48.390625 30.609375 48.390625 \nz\nM 30.609375 56 \nQ 42.328125 56 49.015625 48.375 \nQ 55.71875 40.765625 55.71875 27.296875 \nQ 55.71875 13.875 49.015625 6.21875 \nQ 42.328125 -1.421875 30.609375 -1.421875 \nQ 18.84375 -1.421875 12.171875 6.21875 \nQ 5.515625 13.875 5.515625 27.296875 \nQ 5.515625 40.765625 12.171875 48.375 \nQ 18.84375 56 30.609375 56 \nz\n\" id=\"DejaVuSans-111\"/>\n     <path d=\"M 8.5 21.578125 \nL 8.5 54.6875 \nL 17.484375 54.6875 \nL 17.484375 21.921875 \nQ 17.484375 14.15625 20.5 10.265625 \nQ 23.53125 6.390625 29.59375 6.390625 \nQ 36.859375 6.390625 41.078125 11.03125 \nQ 45.3125 15.671875 45.3125 23.6875 \nL 45.3125 54.6875 \nL 54.296875 54.6875 \nL 54.296875 0 \nL 45.3125 0 \nL 45.3125 8.40625 \nQ 42.046875 3.421875 37.71875 1 \nQ 33.40625 -1.421875 27.6875 -1.421875 \nQ 18.265625 -1.421875 13.375 4.4375 \nQ 8.5 10.296875 8.5 21.578125 \nz\nM 31.109375 56 \nz\n\" id=\"DejaVuSans-117\"/>\n    </defs>\n    <g transform=\"translate(55.305011 161.944232)scale(0.12 -0.12)\">\n     <use xlink:href=\"#DejaVuSans-77\"/>\n     <use x=\"86.279297\" xlink:href=\"#DejaVuSans-111\"/>\n     <use x=\"147.460938\" xlink:href=\"#DejaVuSans-108\"/>\n     <use x=\"175.244141\" xlink:href=\"#DejaVuSans-108\"/>\n     <use x=\"203.027344\" xlink:href=\"#DejaVuSans-117\"/>\n     <use x=\"266.40625\" xlink:href=\"#DejaVuSans-115\"/>\n     <use x=\"318.505859\" xlink:href=\"#DejaVuSans-99\"/>\n     <use x=\"373.486328\" xlink:href=\"#DejaVuSans-97\"/>\n    </g>\n   </g>\n  </g>\n  <g id=\"axes_7\">\n   <g id=\"patch_32\">\n    <path d=\"M 148.735776 236.070741 \nL 244.942672 236.070741 \nL 244.942672 171.972896 \nL 148.735776 171.972896 \nz\n\" style=\"fill:#ffffff;\"/>\n   </g>\n   <g clip-path=\"url(#p8d6860571a)\">\n    <image height=\"65\" id=\"imagea3e97f4435\" transform=\"scale(1 -1)translate(0 -65)\" width=\"97\" x=\"148.735776\" xlink:href=\"data:image/png;base64,\niVBORw0KGgoAAAANSUhEUgAAAGEAAABBCAYAAADBqsqVAAAABHNCSVQICAgIfAhkiAAAIABJREFUeJw0utePpVt63vdbX84779oVu6ur48l5zpkZcmYYRVImxQEMQoIMAYZvDNgw/B/MhS9swPCNbwwDhgzYgCEQtESJ9FjmjDwkJ598Tp/Tuaq68s7py2F9vmh6/QvPep/3fYLwvaDeCVz2uy6PriZM4wyEQlHB3qDD22/9Bnfu9Pmf/9e/IKOg11UIlxqqatBs6thCwxAqtVKgCY1Itsi1LrVMSNYnbLZc2o5F0A1o9/e49/Itdja6BK5Bup7y9NEDPrn/JRfZFWpl4NPl/rNzKsVACtCQqEIShyGBo7HKcgzdQVVMBDW9Xpe33/s2Ubji5MmXaJpJxzVI1DXCK5kc5cjS5ZV7d5nMlpRljOkGBE0LV61RTYskDYnihHZgEkYJqAGKCvPZlJolZQ0ygVUkefDsFEMVDPotBtsmjmbgDTZpBi1G5wlSm6OrFnVtcu1ggGqqmHKDfnfA1nYHbWDxi48+pGt1OH1yQmANUFVV+0Fe5ai1JEoL4rJCINA1DUeHZquLKkouFim6HrFcgt/TGWwfUMqC9WqGik5eN1CCe2zfeY+Dm9t4ekyRzZHo7O0d8NLrb/D663fZ3eqhkHN29JhPPvw1v/r8ERfjNWrmopiC4WLJaJxQC0ngmOh6geHUzJYRSVUgao3A8bF0gzCOyLOMq+FTJuNLDF2lFQSUVcbm/iYHr3wDUSlca7XQFY3nVxPKssB3LHRVkMuYeZihqwau7+E0tojSCNW1yPOMwGsSp4Ky0MiSiOUqZhnFtDybtucStLfoDq5zsP86W1t3aHU3SbIVWS6otRJEQTwJeeed3+TV195kHF1gBBZ9c5tOc5fVcsLVyRVaXUsqKVgkKaWU1DWYhs617Q6WqGB1zlEZURcxZawTOAbpLEE2HcpoQhw32Nx9i90bd9nZ20avVzx/+CHh+JjA6/P6G6/y2is32NzoYhsqi9kVzx5+zUcff8HFNCQqQ2QhsZs+4TLhYrhG6A62KajrHFFV6I0abQGeZ1MsNVzHpqpzSlGxjFO8Zpcb1zZotlpoUmc2mbKSZ/Q0n0bQxl2GxLUBioYiBLIWZFnJZL3AcVzMZhNNzbi6OEIKQdPRuVqk1GVIr+1TZhbPozVZHqMbGgkK2/fe4/t/+h9zfW+bVquJomiEUcLDx/f45P7fs1xeYduCMIxpNts0Gi069RZRFnFr94B1UtHotTg/K9A0BUxNkFclKAqBY7LTb7DTgPmiZDafcHK6wLJMDM1kvUopS8Hw9Iy9nX3eff9NXn3jVVqextXzh3z+2ccswzW3X3qHl1+5w85WB9+zqNKI06Mn3P/kUx4dXpAla2arlLiM8T2D6WpKVkUoZkKVlqzzGk0BohqjBls3MBQH0xKEUcQiWSJrhb29AXv9XVoNh81Oh9FoQmmtidMJ58/P+fQXCwKtg2oXiBp02ybMK+L1DKepEsc5ShXieiqLtc7rr36Lk7NHpGmFqpwR2AcUek2tqsxXCWUteP+bH/Bf/hf/Fbs7W+iaQAA1YJo67779Jm7g8/c/+SHT0SndZh/L9kFVUCyd8elzmmULz/Po9gJuvuSgKQIUBWopsE2B7yhodcL5WOD5DaoKGnaNHQQUtYrfqNEUkxs3X+Lll25ze38Lzyo4PnzE48ePcJot3v32B9y9c51206XKQsaXzzl88BUff/oll9MlVa0QRwmoGlqtUcQ1cRVSqjlVWeE7NqtqTZYp6IpJthLYgYrtV2SJxnC6AlPQbFgk64yJNsE0u4xGc2SR4vR1qtEOJ88m5LFG7AmK+ZiWqRDFGZahkcQRjibp9F5BdzQUfcW1nWvopopir7FdgzTsEMVQqCWL9RJJhWV5/OP/6Pvs7m5hqIKaF+8FEAKhauzvXUf73h/w4KvPiZZDVmHMNFlyNjvms0//lgf1Z7x1530615r8xRf/O5pAkOYSVSioRUWe1iiyxvNcHL9B0NoAVMokoywq0FT8Vp/NQQPXKJgPn/HV1ZDJKmVjZ8Dt2zfY293CNhUW43OeP3vEx7/+hC8eHpLkOYomEIogLWt0JGGSoqkKaVaiqBJZg2EU9Fs62VwnkTUSUEpIhwJVVTAtDdWssRyNrr/HSwd9kkIyC4fc29uhFAYPjk9IEgPXtMjCOaUsuIoljmMiHJNBZ8DLr7zKN7/zOzx69jmX53+Hml7y5ME5mm1gCYtc6bEKS4SiICgZbLe4fuc13nr9dTRVkJQ11C+YRAhI84rlKoQqp+EHNBptZtNjLq6eIjYKnh8+4PzpFVl0wdH9U/7oT77Ly/t30KRiIVSNvErJkpwwB00pUFcr/LXCTbPD3t4OjWYHDSiSNUI1sX2PEpWrVcqyUPGaAdvbHQJPZzY6YXR6zCcf/prDyynTpGKxSMjTBNc1sR1wfJ1olYAU6IZGVGYkaYlu1BQyJo4giUu6Oyqj85o40Wh2DKaLCNc2aDY6mIaBqUqGF1coTs3evkcapxQskMxoN68xma1I05hMlvRaDQaDLjdvv8z73/4NXnrpHq7vI3SLyeURhxefoboLPG2XNAtIs5Q8DQnXS9xOk4NXb7G7eZcKhSitiJICXRFgaVSyZjye8uzh54gqo5AKo+EFVZ0xzS9xMpPLozPyyCBPclI54xcf/ZQ//OM/RLMdn7qWJHFCVYOUgrwGqopotiJ7+JjFOqbdatNutvBdA9VQcBWJqoEfWAipk8VrZldnXJ085ez5CY+fHXIxnOA6JlJzEKqBblTEUYmuWczTAiFAUWuiNCXJcmokuipwNyRSkTgBrGOJoju4pkqUZVBJ5suEhpdyOVxg6AY7G20alotauwhLstE/oBK7pONL5mqFokju7G3y/T/7ZzQ6m7S6GwwGffzAo5SS27duM776TfLcYbU4ZXqxYjo5QTNSNAMwa/q7Tap0zHq6wzLMiPMlVVni2QbTyZqHD+5zMXzI2dEhRZKgGDa+3cRuGLS2B1xdXjA6nZJlCopq4HdcLqcTDk+/QCuLlDzP0FQDRSgookYIqGsFhEacCS4mCXERso5yhIyoKWg0mniOjWkI8igkzTLSqmI2XbAKE8o8IckKwqTAcyWWbbJKatKixC7BtHzKMqeoXgBQSYmmC+pSYzWSDG5YTI8keajiBgboAkvTEVKhVEtm0ZKm20DIGs0w2N2+SV0XIAzuvPa7lNnPEGpIVUt6gcfOdoeNjQ5Bt48fNBGKQlpUGIZGmsa88fpbvPnWNxiOhtz/4td89OufMo+PKeIcQ3MYnswwhM+d3ztgMl9h6hp1WTBK1vzq5z/m41/9DLNZYWoerZZHw/eRUtK5tkHQaXD4q/uEyxWidqkqoIK6UDh6eo5WVxlVmaMbTbqdDppMKMuaWvPwGz1M16UqM+L1hOPLGUWeUgtQVBXPtzEMFWRNmleomkaepeRxRFVVVLWgkrBaRbhVhWkbqJrGVr+JbaqoSpvJesYky1AyBTUTGIYChc7oKCOPdNy+ZDlMaXdV9I0Sq/aor2YUmUQnwfBa/OPv/xm37r7C0ckJn/7iJyxXIV988TFmviAtVGzLJgojLo8fcv78Af2dOwStHkLVSbOc1dUJu9dv0t/cYbDRx33321iGw1/9X/8bZVaSFwXzq5Q3334L3QoYjoZoomZ0ecZHv/gJj7/+nF6rgxY1sdoerm6xM+iTC0Fzt0e4viKajlGEQiFyZC3wNBPbaDM5q9CKokAoUMsSUxP02l02BgOEsLEdh+nlOWfnZ5TRiiLNSQuJrAU1JUVZYpgGCA1F0VCkhhAWhYyQtaQooJI1mqaRldBr6Di+jW8arOIU38uRMsdWDbIyp6wU6kJBrTSMyoOqJBqV1JRkSQ5KQJJNKFKBgktl9vn+v/jP+ca3v0m74bCMx8yjJ3z2c0iTBMuD3naL6emEUVTxb//9X9EPfPZuTljGEfE6QjcM9BqqqsBwHJbzCY8e3ueXv/xbltMQyzWospi27+DaJtPRBQLB+ekhn370cy7Pzwk8h6IsUbKMfqPPb967yWVcIT0Lw7EZnx4js4zA95mnK8IoQeLjBx3Gkzmarps4pkpalEymE6rMptkMaAY2rbbP1uA1bt29zXI2ZXRxxsVwxCoVmMGASjGRVUa8XqLbDoblUuUrRLQmz3OyvMYwLBotH881afkqeQZlVlHmFWdXK1S/RskEmjQopaBhB5i6yu5WA5lXoNvE0Zqz8ZiW52N6TY4nC6rK4J/+Z/8173/wDRzX5vz8kD//8/+Jxw+OaFoZpm3R7w+I1imLdci2ZxPlElnHnJx8xWSe4Ngt2i0dxenw1ZOvOLp4ztNHD7j/9QNMu6LhNqlkRi1hsZjzyS9/gtf6ktU64vziAlUVeL5PLSWKqtJoeOiqwSyMiAoLza2Il5dUUUh34GJqgtkwwjRNEDrxOkOToPY29n6gi5IkezEmSVYwn4W0Wm2KaE2UlgS+z2Bzi/2Dm+zv36TVaFBnIYYCplah6hFZsiJeryiLlLIsKIoC0zJpNxt0Gx6DfgtN0bHbBkVVcDaekBQZWSQpcoiTAllJbBU0odFvOayzHOoKWas4zU1a/bu0m03mszHvffsPefMbvwlC5ejZ1/zlv/qX3N2/x+v3XmW2mFFXGb7vIkXCchLR39qlTBIUU2MSnZPFFY6l0Gh2GPQHPHzyOV88+xlffv4MUzXptZr4VoAqVLJC4fj0kuV6xXodM51MyIuCg51dNMOmrEo67T7ddgshJNN1TAmouqSQE8o0oqxVwmVFlWq0202KPCeKE1zbRHN8j8VoTilrQGIaBs3AJFpccTiaMF6VNJtNdjZ3eOetl7l154D9G/tMpiGHxxfcv/8pq8mKOMnJywopa1RdRVcVLFNBVQqKLKVIPRqOiSxqsixHZhVRViJQ6XSaWO0OeTonrWpaQYPXv/VH7F2/yWQ2Jc1yvN41+oNtHj74iPrBl4wuP+HBhxtEWcXk7AH//E9/l629m+RlzSqP+OyXHyIKiawMdvau0e9vMBtfoeklA3sfZ0ejv/kmN+6+w1df/JIkT1nOTTQyvvHOe3hewHI+5/T8GEV7cbTYmoqpKRi+S1rkCCRVlWPbFhsbXTzPJ42XaLpGWWtkcUV8sqDdN7B9i2xqIdouulqRqQLViCj1HG02viJJCmpA0w3quuZ8uOD8ckxRSsq6Jk4TVuGa+XLE06fPuHnrNlvb13n1zbfpbF3j448/5vDwKVE0J89iqipFVTUcy8KxPXRDRzdVJvEVhbdkNNJI0xJDt2k2PAzLZnP7OkoxpdMIeOnV1zi4dcDejZd41fOZTGas05LRbEmyCiGWtOxNvv74J5xdjPngG2+wee02QbPBep1gqgatRoNbN3Z5On2CEhkMr87Jq5poBXkxpaUbfPPuPW7cexW30UexBKvkR4i0IAxDoixnHU5wAo/zJ8coQC0EmiZIswJVaKyjmCRNaLa7tJoWaZbjB016/T5qnWDYCp63j2YUHJ1cMDrNaLVaROsEQ2i0Gxu4GzpqLeUP6lqCAFUIalmiUJMXxQvdUNfUgKwFeZ4zXaw5vRhzeXbGfDrCMHVsv4Hb2sC0PIoiRxEqzWab63vXGfT7SFmxiiPiLCM3C6qyJg8litBRFJW6LDAVaHT3uHv3HvvXttjYPsBv9bEsmyxaUiRLDk/OOH32JRdHp8yXC771nd+m2+mQJFNu3HmHxXTKk89/xsnJOV89PsQLWiRhyvnFCDAZzUJcp4milBiWh2sHlJigmDx7+CV5OUIqErlKODw+RTNyWm2P+XwBZU2j1SJOU8pSYts2Aonn2ASBj8wz2oHP5tYug80B7737FjcOXmK9XrGeL5gtKtJYxdAEcZIjFJ2ylHgNA00IhaIo0HUDWdeotUTWNQiBqmiIWlJWJUkaI8uUMs955eaA45OnHJ08ot1s4Dg+VmMDz6rY22yxjmxcN8ByfVrdgDgJiZIFy3lIGYekoaCUUGcleZniOi6j0QjddlmHXYqqi65rgCSJ1hR5yHR0xtnJT4jrr8mKiHicIETC7/7B7/Ph3/6QT3/2Y47OLjk9foLuNEHqVFlBw25wUj1nPlkjagPdLFiHOV6m8ezRA6KopLm5T7Q6JIly8sWatI5pBy0sPeDRw3OyOMexTExVI9UNFE3FclzW6zm9rsdmv0u4DhFIijylP9hh68YrWKaKBO7HM6oqQkrJYl2iqg55nlLLgjo10KQsQQigQlbVC9Gk6dSKIPB9HFNnPp8TZRVSgq7WfP7F18SVpN1yKasC19bQygmKobCz7TFeqchaYho18+Ex4XJKEHRxHIPJZMFyPaWUYOg1iApNrRCKpC4jpMyptRaFsFks5tRlSjg754sPf8RCfszl4xorSLHrAZejIRdXR7jNTX704/+Hn332lHWcIGrJdq9Dr92g1QpIsgLTrnC8Dkmcoao23Y0eYXLO8+MhZ2cPCDYFk0ijiCTbN7dpdncZz2OezOZAhWnb9Da6NGWbq/GKcL3CUVWKrCBJMzq9Pq+89g5lXdHd2Ma2bUCyWIVMJxHxOqaSL7SUphv4rkGnYeN5LlpVSRAKVVWj6yqaCoqoycuKKAwpMw3VdOk3HdIkIkpiNAWaDY2tro1teTQDC9v1kWXCcLlE5jlCrVlMVxR5QbvTZrPXJE0UltMlINBUFcvUsXSDlu/g2xaGpiDTiPNn92lt7NDsbXF28ZzTJw+YLFcU8T4iu0IXHlkp+bu/+RlfffwFg0Gb//sXXxPXLbTem8hkzHB9xJOzS8rDIzzbxLMMPM9jMptx795dWs0Oq/VTVN1C1mOE0aFOdFotj1uv7HN1mbBeL0njhP3NFqpjs1rPmUcrwlUKUsFttjDsBmfnl6i6gaJr2GaTXApOz684Oz3h17/4KaPhlFrWyEpALTAcnaJMX3hQWYX2/y9joahouklVJNRlRVUJ7KBFkWd02tfw7ZLz53NUVUOlxnICrM2SPA5JyhZGsmKexpxeniJqQZTm6Njs7W6hBUtWi5J5XHMxWqFrOp22j268yDEs3cBQFXY2uqxWIev4kPPx/8jNe+/z4P7fYxgKSmNBMs8Q9hLXbnN6uMRzag6P15QVIDSE5mF397G2fp/i6qestF8SzzLyzGJ/5zq+71EWkvl4AnWNGbS5fu86zz47o4xzXFMjViRPx8c8eXDJ+fGMfrtBw+8RFxWiqpkOF1DXVBWogx16gx0a7R7t/iYSldVkyNdff42QFcv1kjDOWK7WKHWNbZlommQ2G4KoMVybjqujGbpOlueoAsoiQ1agCAVBjSLA8vvs3LiNKUP0MgchiXMNy65YLUI2BwbxaIKveMTVDKWZcny8JA8Fg26FocJqoiDKiDBNkQiaDQdV1nS7HQpZ0m5s8Xvf+w4PH37Os8OH7N1rMj4tOD361xDEVIWB161ZxzlKoNHebdBp7HL4+DlCCUnikCRaUZkOspKoSFrv/ydoxyvSxx/xvfde5XvffovD0xmeoeE6JutcIathuRxTS5PFWUhVVJSF5MGHx0zna1QFtrsByyRFlgqz5ZwizfEsC8V16HU76IrEazdpNALa/W3mqyVFvqKsNPKsIM8ykjjGdVxcx0VXSqI8J01LFCHIC1Druv4BQkEVAlmDoptouglUJHGEbjfxmy0MTUevU1aZYGuzTbIeoyo1/Zt7tPxbbG0K8o1z3LbP5bM1VVVT1imrWYFnexjNHOEXuNoGm4MNeoHHoNths99lb7NJVZecHT9lXJ2iN+YY1Sa11Jhcheg4yNglz2rSJGd0NWQ6nCFKBd8PMI2Sk8slZR6h2D3c3j6q1wb7NpvZERoliZRcXQ4pZc5wskA1dIJeQCZXUKRomkccpqwXa6aziEQpuHNrizLRWaU1juNQFhlhnOKa9gsBu7WBaylsb7S4dXDAdDZlPp8hlIo0y7kajfADm2YjoBEEWIaK61k0222CpkstK/ymguo4/g9M3UDKF56Qbnk4bgNd1ynLjCxeES1nqErF87NzkgJUTRBnC6pKJ56XlEXIqjii9BPCsODyacJ6LMlTiNMMy9QoI8nkssB3XOI4JUolt24esFjMWCymtHwVVbcITJ/aTlDLDdbLlOOTU3QzJskk03FCkajIyiYNU3rtFnFecnR+SRoXaArIqkDbeptat2leewlrdcL68ojZZE3DNrE0gVQsGn2bOx/sgaqwuChAQpRGDKcTptGCKMxwTAtTWPR7fRqexXy5JMxKNrst9m7cZu/GDfqbNr/1m99FqBYXwyFxnLBe50xnS+azOaalU8uKokyx9RdnbqPto7kSy5Xs32yhbu1c+4FlmsgayqrGDdq4rk/NC1qqqgoUFSErFNWm1k2EZtFp26yWM+yWi6rnrN1nBG2N068lpw8T/iGyRlFBFTppWrLR7XJtcwOhqCiKxnI+YjyZYmjeC05HoFUZ0wud0fkYob6gSk3PmS8qygKavodnuTTaW5i6QZFn1FWNZWr4ro2oMqrmLRRvgBa0cRstkqc/x3NNBhsBWSkxdJ29u9tIkTG+PGO9zCnrhJVyxfhywWQUo9cWt3ZuE3T7lLzYg7aj0dm8TsN1eOnuHfISJpM18WLE2eSKskxZLVask5wwzrAsG9dx6babpEWKIgRpXiG0DNuXNDsarY6DZtsBpngRXQqhQhERzmMMt40XWNRSYOoG/d4mviFZCB/XD8hXlwz6Ho1rAhnDMqy4fKqiOzWmrVFXFYoA4x8mamPQxrZNVEOwjFes5jG1ULl5rUca55xdTtBNE9QJeZZRSUlemDSDFnVpI8hIiwJF1GxuB9hmj9V8jKmrmLqKbfl0Oi2KCp7FR5S8QxIlqNdfQfG3aPklrY6PVudcv3YH2jonx09ZzzSkv8DFIj7LGV2GKIagriTzOMJt+tiOQiVz+rcajM8UFsMVs3XIwyfHtDyTVzdV5rFKrWjEeY7hGuiZQhaWICWWYZKmkm67ie5aBE0dCxMTyJMUTRE1Sl3Q7bZx3Abr+ZA8q2i0fIJGi3KzS5qV7Gx2SJYnzE9PmV+quJZJbeqMvi7Q+hOCXQ3bMHn4rxckYYVmKYi6xjQUmn7wDzokZTIfsVxPAJftrS18z0GwIM1iLscRG/sFWqrQaDSZrSPKskbUAtvUqQpJt9XG1VzycIbf6LC1u49UdFrdHqoQLOZTph8/ZFomVFWNNDwO3vgGg+gBau0jZYzdbjETZ+i6R26dMQ+fUhUdTh5fsdFskFYlMlMQVUJRhlgNiRLrJJc50aJko9MhyzJazSaOqTEKFfobPTJFZxlNifM1aTJDNw0K4XF8NkJIhbio2fYauEaTeL3CdzVM2UTdbNo/yKMVSZLTu/Yar9/bYrlM2N7eJLAVVApWYcRqMeb47Iosi1+oQ01H03XKLMNULUor4fxxQjTVSJOKzo6JLMDSLRzbhbrG0jTWkSRLKgzTwDEFo/mMOM2I44halqQrSVEaGIZNYYbohsJiFgMvNIymG5iGSlmkzGdjojAmijMUSwdXEi1ihpcn1I19ZHANs9HAcwTXjRmWoXM1mVKxIs9h/PyMzi0dU/aQS5XurslqWCJzBc8LXtRSul2Chslm/wChqKzXIc1GmxrBxeU5k+kUKRTeff+bOMEmy8WcvMiRVUbQNnH8ABWB51oYus7OTh83aDOdztE0QVlpaNe2uxw+CamLhNHZE6q5YBnnKMMrqnzJaDonLVRu3T6gJQyyZE0+HmOoLwCy3AALlctHa06fLMmSEkWBeFFQloJClURRxM5Gh+FsSUVNlkmEYmFYTQwtphYQxjG6ar3geZmSpGtiClajgiLNCXydQb9LLSvUOqcWyotfOBni2Cs+nz9BUzXilSBOMhrVEVf5++S5pHfnTb7XaZGGC8THvyRaHTE9HpJGJenTiK3ON3mePsIpHQadIWJboXvQZXj4HLQFSnWdrx6fkCQRnaCBZZn4QcD+9T1WYcb+Vp8bt+7wxcOvaW1kFGrKbLVmmc0w8yWBvoUQCrUC81WI7ffY27/JfHHBs+Mh2tHJiLwU2KZBOnvO0ytBY+s2YRozvbpCEQp7uzuYps5ynlBWNYbpYFouXqCR5TlpZaLELooIUZSKuoYsqrFsBztQcHWVMI4RhsQLNAaiw/bWgHa7xeTkHKXIGa8k0s9QTUFeVi+aH1FJkZbYlk2r1UXXDCpZMGh7XM1ixokHTgGKhowqkkySFRJDU/GKS+o8JU9LltLF7O7Q7/epFIW/+dl9siJBNw22b16nLtcUWkIR5yhOxeBuA2+jwLV2uOEfcBllTA+f4Yoe737wAdEqpKhH1IqDYzlcTcdU2ZrpaMJimhMuCkQtqcqMLI9o7Hnsbe8CCnlR4roOquFzenZOmQu0VVwi0KCq0TUDq64ooznv3t0kuOETNFyM1jbPx0tkVbJardno9djd28VQZ6RZzGIpUJQmWrNgeVUQxikIje29m4TREUmREhUpeV6SpzYrOaYsa2bTK0bTCCFrUFWmqzmiI6lUg+VEg1qh5Vns727hBF1WqyWuaTONJEmekYcLUB1M36UtNBpbLuPZC3pzmGHUIWlWsszgFw+fUx19xNXFQ2ZJhOc2yKqQTIy5PJrQ7TQIZUqaCqJzgSc84knN/YsZlSExRJtGxyKM1qyjFSGXVNEEmXWpZIaCpCwLFK1iY9/DnW+zmge4DYfXXrmD59jIShDnNZVMKEOJIitEXaH5roOsVdI0paoUhKLSa3V59+V7dB0Dt7dB7bXwnz9FKjq6colmeAStLprSJjx9gi5iZlGKLG08z0YRKmmaE82eIxXlRaWmyqhRyLWCItRIshLLUIiSlPkypZQViqhQnII0rqkycPwAX3doOTbj5ZgnxyN2Bx0UVaMsoK4EogoJw5qtzQ1UXcHOKxRlgtMa4irnhOldsrzmk4sRweOPwZS4tkWAx/PzKZ/99YjrnVssixjVhv3b+4TLmtVwQl5ULNYz3nz7XapEJYnmfPbJp0znKxSK2u7HAAAgAElEQVRVYW+rj+MIrm1fxzBNHNOmUOH2O20uTx2++mXCZm8TxwxoOg6GY6IHWxyfPWZ4NkKtC9I4RGsGHpv9LabLiFxavPraK+zs7rB/dxdPphiuwWgRkq+vGJ0foZo9AtdERkPOhiPCKANyFAR1KRGaRuB55MkMz/bIKFiuagzdJ5YxFS9ow2oJluuc/RtbaCdz6hpkVaKEUGcVpqbg6Q36Wx1qI8cscvZ32mSFwnwdYqgwW0f02k329m/SbPo0PAVN11guwCw86nRGHZTEaYXe2cPwc0pvzMXTEsuvaLQkceTz8vvv4FgbFLIERePpw2fcuvUWy3DOMj3jzjvbPHz+CbPxEplr9Jo9Bv0Opu2xMRiws70L8kUfNVvXzC8S6sKk4XVpBV3SOCWzXHqdazjNDqWisFgKzk9HLNYxmupu8doHv8PeziZJnDO4tkur1cRUwbc0VJFRugt6k+u0GyPOh2MoXMooIwpzNrttPF9jNFsxmi2I04Jmu4Xn+C8abEmNLOSLCmWtEM9qFKGQrkuEKTE6BR/sfMB8Mub87JxbB/sMZyuKsmCzv0HgalxcXbBIUly7yXa7xXixwLQ1VKXGsH2u39inKhNsvaLfbRHFCVhdkvMR7OTkqaR0Hc7PUmrW6LJBGkt6NxokVcEqDvn2t/4EdJu0BKXWuX2wi1BjhusGZxdP6DVLlNTEN9pU0kI3dcJcokcF4uqCuwdttgYtxpMOl49qFEXgmQ0upkNW6ZpKVdm3XQLXwHV2aAY9VMVkOluiVdQodkCzN+BWt4FuvTDBFCFIqwLTDugMGuyXJWfnExznkqqUuJqN0Gqu372H5fu441O2swpNVRBqxfnpCZfjNa1WC0U1SZKYWkhqoWGoUKQVlq6RLXSGUUgaFdy6eZ1XX75H+2LE4dk5q3jFfJYh6pK208NwN7DUBTtdnygrGXS7LJYrwrTGlAlFMsczLKTM+emv/gb8D5BFTpmVVJpL0x9QhAlpnrB95zVef/dbfPIv/zt+/qNfcnP3LTZ3r/Phg7/n4vATPvko4o3v3CQLLT7//AnF0GajvYVm1ERVRm0o2LpOGics65JVmNBpd1mGX+M7Fo5fk4RrymJCM9iklAVhkpMOl+RFReAHdLpdNF1HvX2w84ODWy/R29jAME0M20HXVWqg2WxS1hLf96lVizxPOD+/oNZtcqli+Q0sQzJbjMnR0YWg1ekQrpaMxhMyQhbzmChMyIoXtsdGr4OpayhC56XbtwjXK2aLNYoUbG5scrC/SxTnRNGMk4vnOKbF9qCNECqamnIyvWA8q5nOQi5GE8IoRKtzbu8FdNo+rU6Xfn/A7HLMXrfNlfc2iuOzseHx27c8Lob3eff1D/ij7/8L/s0P/x0Pv/qYuvJ4/uwpyfiSy5MjRvMZQb/BeHpJEuccP76i4fXZ2d1BmhJMhfFZiG7kdFttuq0mdZVz59YtvnxyTlHO8XspeVlDbtLt7GN7fS7OR9z//AsWiyVB0CCOY46fPUYry5Tl/ILFcodmp0NeVLSbHmVZYtgWUlXIyhrF9HCafSzH5PLslOUqZX//OsfPL5guQxQtYP/GFsXVCdPhFSgCozbw2iZt32cR5nS3buJaAplM0CyH3Z1dahRq5YLVcs4y7HF8ekla5Gxv9DB1jaBh8+qdfaoC/vI//B2VnVJkAtN0uL7dZBVmWLbN3sFLGLqGbtrYScxLN66TigZ6GZPFKWHawL22yXd//7u898o/4qNPv+Di2REiNVmmY3yRM5s2KBWF/V0Ht9/g9GgFZsbOYJ+tVv9FlyqOqTGxTBVb0RB1RSVLjk+veO+dAlXJMKya67u3ONfmCNvmzmvfodXr8fXDZ8wePyGOIjZ6bYqypixDtFg5ZTo+5OLYZ2dnE1XUGJaJrViIuiJcRRw+O0TqFleXI/JC4d6tW6RFyWp+xXQSIkSOKdacPH2CoZegZFidEDFr4jhbjEYX6LaJbSpsdALiWKFMV8TRmuv712i0oSxMTg+vuPXKP+Hx159x+Owc25Yk6peczGJOjk0s26DQNYqppK5r3nrrA756+BmZlBiWA1VOmpdEcYHl+Xj+AG2UkKU5UVgQVhajixOmy/+Fq5MRk2iEYwW0mj5/8mf/jNt37jKbnHN8+DmXj65Q1ib6QOHgjT7rc4XlfEZdKqhaRTMoONgeUCkCxSo4Pp2xXC146+0dLoZniMxDy3MG125x/WAP21Q4GwYkeU6SrPnyi08xLYXA01G3bhY/uDot8WwXigjD8mh2+1S1ZL2OGI6nRGnBdHjF/c8/ZTS85NXX3yKOQ44PD9lomqiKxbVbdyk5I45y6tri4iTn8nJJkoQcnlzSaXu0mxaB67A1aOAYJrUwODw8YjZNKPKcra1tfuM73+Hnf/93pOEF3ZZPIST3Hz8lWsbU6FzrbvNP/tEfcHN/j68en6KXKU9PrnBtC8dtkBWSp0+e8ne/+oJGEHCaD0iUAN2y6OlnLB/+gi9/9ZSrszENI+DezXv8wR//KW++9036/Q22t3a4sXuDxSonLSFNBFqtM1+OUPQ1q0XKZDan25ZsDjbx/QGlseBitMRzfO7evcuz42PGFxNc06XVbBM0muRVzdOj5zx/+og0T9D1gqKIcT0fLRrbBIbk+ZP7FEnM4PpLTKYTJlePefDFfY6PTlE1m2g5ZTQ8RZY1Dx4ccvf2Drdv36UuY+L1nP/wt7+iNHPWSYGh2hi6RbuhYega/U6b3e0bvP/WAbNlzirK2draR9PBImEcTQgRaLbH/c8+xDVyDt58hc7mPp9/9ZhkdYEsYxqbGr/x3f+U9977Nlenj/nprz/n+SQhjAr+/C//PTt7WzQ9l7PTSyokP//k14Sb18iVAeG6wdF5SLBI0YVNZ9Dhu7/9e7zx8jfp9rpUlaQoKnTN4OHZJY+fPUGpU1o9hTitcM0eV+sJmb7GPTih0biJKnWEgGUYo6o2J1dzPvigTeB1WaRTLD9lODnm7Efn1AKi1QjXKsgqge0qOKbP7tZNtJfv/QF/+se/g1qEKJqFlp/yP/w3/z2T0QXj6QQrgH7zgK1Nm8X8lNde/R4fvPsmr33rO5Q15NGSKFxSCoN/+9d/TXe7ZHwUAhC4Dhvb19nIUxSh8OTJMYph0+9tYFg6vmdzpdssyivKxEFrwa9/9RGuq5Nmgh///JfsbN7kG2/9MYv5FLfXYhzP+OzL+3z4+Q85Gp9yNooRssbS4fLqlOeZQss10A2TOMnQkhH5fELa9EnaGm++cYBTbNBoOWAW1AoUVY4sJLWEr756zA9/+Nfo1oKutcHR8ALFmuAZG1SKSZYP6QUWnn6LXNFI4xmjM4lpmSjminW04Ob+DR7UIzRXYfI8oogzTN2gynNcR+CpgqKMUHybqFyg9fdb9Hbu4VgOo/MH/PW/+z9I+AwUjXf+qE+nHaMmm+z27nFtd5NX7n6bl954n7KqkELDsFwM02Jzbx/DLMhmNg3fptVxEVVJma/p9RqcPX2Oow3Q8gRv/wbnl2PqKuHk5JDl3KYVuJwffk1vw6eoKtLKxRYmp8dHbG4f8PI7v8Xo4oyf/finTC7/Ty4XM/J1gShrFFVls+uSSgm2ju9prMMMXdEgX1CupuQLj+HU5vIi47d/6xa712/w5//mX/E3f/Xfcv1uh+lVThVVxKsV3cCgYbtM1lcY+OiGQkFCa5BjGS2segO3fYNEzElWGmWZ02+0oMx5+PQxH3zjN5isjxlfrkmjhK7nIXSHRVJRlBKDlDBZogUlZThDfeXlrR+MrzIOD5/wox/+BV89+YjBDZdi7ZIsVZLhBn3vGo67xdbWS+xdu4HlNsjzkrKusVyHNF7zsx/9Fctwiat53Lx+HcNNKfAppM5sMsbQShaLBbIqOHx2TBzFlEnIcBwymq+xLZub1wb42wa1mNHZ2mU2SqjzErUuMRRBkaY8fHzCcDhCSIOirHFsk37LY6NtkeSCTqdBJzBx3YA0g6RQCcWLNM/ybDbkkJZnUAmNRyefcTU8ZPx8xWI44eWb1/jD3/9t3n77HSqlwXyW0G5vk0QKdbGgKqbkRMyHPdYhiFKyXusUhcAwEwxvwXC44Pb+bfKk4uFXDxFljiYlSZIyXWfM1wlFEaErUBQKtSjQrKLB+OxrluEj9l/doenf4uwSdDUiz3RMb0XnmkGvtYVtwCKu6NsuVR2RJhlX4xlVnqGoNq3WProasoiGhOGaoiyodZtey0FkOU4dceuaC1afr0Zj4twhTVNsXce2XGZhRXkaYSg6v/7F59zavsPuG++wWOcYToPPvvx/mU4mZAV4tkBzLTqdPgd7fWw1Z5VdkZUaw6LNsnRJfJX9jsPoPKWIlqSRz8q2ubi64NH/18SZNdlxGNn5q32vu9++vaG70c1GowGCAEiAmxZrZGlkzcjri+35M/wPDr/bDw5HOMIeh0Kh0GKNLY1GpECKJAgQG7vR++27b3Xr1l7lh1ZMTP6EzMiMk5nnnKM2gmWytvkGcTTn3t53+N6H36LZqCLJMlp5hWdPX2EoGT4nWI0h/bOC2VDD0V2ieUqiGeiyTGLFGKWr00yiZrx4+YQb12/g2jL+PCKWZRAMothn4SfIhczy2ha5oOLFr5CXl1cYjL9Gv+ajqSIVp87F4BvW37PRhQDdsahXljk/fU0Yj/n0T6/5wQ9+Qq1RYTrpEYY5giAQJSJZEpFFOYHnMY9j3OqMJIVYvMbOzfdpuiKVcoXXp4dcDn+LZa+gGVXevrmDJAJSziRIyHwDmYAghUUUkvpTOheneLMRWZ7zrYe3+db963TPjvjD0x6j8ZRKNWchlbkM6oRzhUKQEGSFfKZSpBliGpNGEW29heJ1efzMJ5M1BPUaiijwhafzJBrz3m5CpVJit2pTrbiMgh66G9Nolmk2NW6u/Iiqu04cxgyGY745OCH2chaLhNAHlYKLixNubOxQr62Si31k0WXuCyiShi5HxFFAEAeoZkwSh8hHx98wmS7Qehv0iwLZmNLYmxBFVa5vW3QPSrT9Cb979Ld40Zj2a4nT1westlwkbcakp5AVClvXt1GYMx4NsFwXSVU5O0uQFQVNvEQGJm6N9uiY4+NXnJ6rWMaCjRWNXBTY3d5g58Yen3/xCWdnA+aeR93R8b0ZWZZy2ukwGI2ouBY/+cvvsb93A2/UQdZ/xy8fdzkeN+lHEnkGeZ6R5ynECZM4Ic9VSBJiP6CfhJy9HBAlOVrVhjBHEIHhkJ9/nPKLJzVK9SZvbjfR3fdp6M8xxznhZcDS2io3bzxAknVUReamKJIJGotXXyHpE4xQ48bOPZavbSNoFisrSwTSBQvfx+ukiFmEpRXEqcxo6OOKOiIKkmlbHxWIyIqDKBb0uz6LbpVsotM5kXn9qsts6jOadTl4FjD3Mjb2qshpRuciQpFkNptlZMNELDLaozkzb3F1K0Iky3J01+TG+iqvj444PD3k/LxPEmVULBXDUJlMpqxt7fDue++S5TmzMOfHP/wL7tx7B1VVePLiCdPxgEalxE++/x5vP/wQs9TAdUvcunOPj7MPOB3bpFGCIBSIgnDFKhQERFFEkCzSXERRZSRS5n5CUdshyE1S+xru6hbVRoMg1Rj7NqsbLXY2Hda3mujTIZ2jI3J1wXjo8dVXh/zp8085Gz7l4rTLbDwljVN0ZB6+/SF37r1PY6lFJlxBc7tsMs+HnJ/0iL0YVZUolUts795h5dpthp0h8ubdOfF4DcKIyXiBbWk41X3euX+Tx49+jWeecdq5oN8DS7MospA4UDCsVZZXI9I0warX6Y0uKHKFJJkRRQV5IaKoKmkSct4eIAQw9i7BmlNuZgSewlqryc7WOqeXAw6/ec7PftrFz+dIsYVbbtHtd2h3DpmFxyzVl6ibMtWSQa21jKyYuPYqhaRgO4eEUYFg1BA1E92QSDMBya4hZylKOmGWWGRZTmavo4s13nh4h1s7FSTg/VtltmsSUVZwOc94qy5RknJ+8X++5Pef/AFNjdCckMJz6Rw9RxBtJmMbicurj5+uUW+4bO28gW4azAOP5xe/R4hi7tz4NoJk0z7+A87GKmly9UPYvL6DVWrwxaPfI2eJzHw+QpBM3HINSzepNmwGw1M8bwpRlXg2YKmxhaMF9HoDwmmAkF/9pa9fW8YLEzRVoDt7iWpLxKmKqsYECxFZLLG+UiUVdZaWb9EfnKGpsLVd590HN+m2B5ADacrlWQdfnbJS3ub1wXMECcaTnCKs82/+w7/njZ1NhDyiWmugqDKCKOEHCfv7TZ5N3mc0jEgHbfSKgV2y0GtLnD1rU5KH3Htwg2ZJ4OHNMjVLZK2msqYICBRIQIaAhMC+K5AnCbORR0n2ePv+Nu3uBUkyR818Gq5NWJgUkoZYRJi6QGMzQzYXXE6ec3RRMPE/J9cGdM+r2LbL7sZD/vUPV0gyndF4xh8//h2/+7tfIKgmg04P2VHfw6j79Hsd/ChGVSLGwXPOz5apbQYUhwZCo0EqGzi2jSQIjOcphuCTyAp2qUoR9El1B3GuMBtbbOxHpLOcb15mFFJErxfhOAvyHNxSlWtrSyi6ASiYmsHq6hqtZoWIAinyKORjhpMVyAKCeZetVo1qrcrqxg6yrCAKV6YeSRRzcXzIf7y1zge31vhvTwtcVvmXtzWqusAsEfgvjxx27Zi/eeigiKByVfMCEIEcgRTIioIgiJiPx2SLEY5r8fD+LRT9HRZBxHnniM8++Qy5Ajdv3+WPj78kiUeUK2WIJXrjCb73iDDp4pQ99NxFEATO28fIosn2+n0KQSVJMyzLYtC5YNbvoRQJ0sbm3kdFHJKkMVHis7xcobaWMbyYUZIbmEaF1g2DUfsALxuzub6BIGi025f48zlv3bvL9vYWo96A+czDXZqRTmUu2hqqtU6pWsUtL1Gr1mlWHQQBRuMZzapDnov0exNWmxayHhKJBaZaxu/HmNrV0lZq1GnWlrh55wGVSpU8F1AUCUEUGQ07JNGCw9en7NTK3CrNubOpserK1BSRuibw3pbMm2sqoigAkAAxkP65EFmWcXLW58mTp+iSSrVk4lgKllvFsEooqo5pmrSaq2xuXicKY+Z+QK87xrHKNFYsJl5I4CXIio/p5pQrAprqkkdNdGGJWvkaimIgiwVF4hOGC1bWNqhVq2iagpwEMxbRnCQfcu1mCGmNg0cysbCgPQyZJyfsr7VYvzslKDz6pzV0UWW5YqBWrzGbBxS5iCDbyI0r5c3luYSmV4nDOW5FQVULsjzES20219YJgxGBN+bF0XM67YAg2ODunVUMYs6HM8pqlUzNmY0DJp0eQiFhlD5meaWFIIg8fvKYwXBG5/wFRZSQCSpF7CMKBUEmM2lVcFrXqDaqyKJIhkDEVRdIf3ZkUYAiTvj1rz7h5bMXpPmUweY6D+/fp9WqoYoKV7DpKpI05XLQQTFUDk8uCeIUI9c5fz1ElEIsU8eqxihaDd/ro0oycMU4VBSV3rBD7/Kc3c0tHty/Q4pKmsN0OkNOF3P0eoc77yXM+xaXXwdMJzMEYwXV8Khd73PwpMHttz5AXHnCy/4M19hle2eX16/PePTH36FoChW7TKcnMJjIVF0DVxfQayVqjTJ5GLIQJtTLa+j5HN8bsba6zONXFyzCiFrVQbIs5vFzksxGd0WG0yMM0eDtt27S6/coxB6PvvoYfxjy1VefEQYRqhpz9/Y9PvjW9+m0L+h0LhDjmGefnrEIvmTr3lu89eBNXE0l+yfJ14Eiy3j66gxNLPgXP/wOjmNy0b7g57/5n4yjERV9k3fu3KXeaCIIAq+OTnl59muIC9KJjWWWsS2XoshIkjFZXjCfGehyGUnwsFydqttgEnR4ef4rCjFlOgbf83j47rcolU0AKiUTOZd18tTh8JtTRKlPrE/Y3P8eQgz+PEWTlzHdJQbnAkdfGsxHAtceVNjdvc15Z8L22hJzb4iQ9mi1EoS8gqSY3Ltzj2bTprfwSYMCY1albJvYqUB57y0sJaBRlVkEIpatMh2cgF5hs9XCLulIkcN85iNrIrVGk1gd8ekn/5fQS5CMBRWjhJ8MqVYdJFFmMu4TLDwGvTlJnKErBcMnj/hqMuT+dz/AtK0rhSqQ5jmvXp5g6gYP3nuIYajIskBzZZk5bX758X/l8MkBnRdfY7gl0lwgRyNnhuG4bK9vYVslpl5AlgtMvZCsSNCCMmrNQNZNGo0a68092jOFweIxaRpTWa6TThKGEw+3VEYUBCRRQNY1nUEnRR3WSbUQKZUY+E9YW61T6BKLYRmCEL8/5vCbEc1Kne7phLr8HEXKEEsrbG9vYzg2kpzSPTnj9cmY/ixh+XodMwHDzNBb9au35XxO7/QF60t1amWT+QIKIUAopSy8kOXV68yDCLGQqbgl5osIU5UYDVJEo8eSmzAbuOiyhmO9gaLa/MPv/55r19bx/JQiG+LaBmO/y3wWMej26QxG/OW/+2tc20Ki4NmLQya9PvcePLgqgHTVJbEgkBcpNRrEpZggVSnn4KgKUS4wlUX05QGZFHLeTojCAFnISNIOy2sSMSmSAZJsM4mG5IOXxFmMgE4cx6zUawhWFdux/qwTvArp5vbGR4tkzlLLwqpPqC01qOkO9Y0W4VwkiE45O+szHkcghGyubzP2fE4uO+xsrGBpEqtb+6ysrWMZZVZWVjENHV0TsG0B3TjGNFeJw4I8z8jImXk5mzvXMR2TumVQqdfojWa4RoVJP0TUr4QVuq0iFTnH7TbTeYdyLaaktEgSHVuxkLCY9keoSkGcCfSHA8b+AMOosH/jPooM3qiH4M9xFRHXdrjoHvD4y0/Z273N0lINRRIQgTBOePLygN/88udEY5/QFxEFHcupYpoa9eYyZWedZFYijjWGgwmjfgfLEBHlAM1RUC2T+TxFKiRQhvQmfYaDAX44QhR0Nltvs760S8mp/CPCQxCQh96EdqeNKO+yV7/NeCQjKyX8SQvbhTg9JY/7JKnJ3u0GF8dnDAYR5UqFnq/x1o0WtYqJbYoUVgXNsKmvbCErGqIsoYgfIqAwnY54+vUf6Z17WLrG3POp1dcQ0wIKE2dtQTwuk6JgCwVIIuPpkO7pgFq5wu7qHQxRI0wWlAyRPJOQi4LV5RbTcEGc+yj2BDWZ4pSvUaqVMPXb3Nq7gyQUGLpC+8XnvBp+QSRMeX6SIqkf4DpVzvt9fv/53zHot6ktiQwdAeGbBFtJiZKQeWohRuEVqS3IyfwZFBmarmPYkMsqmiOwtbvKq2eXpNmCDAPDVUiSBVka4DgtLNPF0h3+nP4r67aiQJ7OuhRyjKzHtI+njMcBN/YaJIXMGxs3+PadVfrd/8WH+9+lrPq42RPkbYlvjo948fUjbu//DaQLZFElikKGwzHltS3yrEBXMjRVp8hzGkvr1C/79MwZo3FANRZ48fiQtZaFrsmcvJLIojlLSyZJFCEKEC1iikzE1WUkMUeUcizVJJ6nqFbKcD7mVbsgjRKUUoxQBBR+Tlf6nPnLKclIRQAaZZtKzaXTPyDOU8gkuoNHhJMeg4nNSeeYwJuQFjlTuYxdK3PvzevEIXT6EyxNJCouITHIM5U8LSgbAqMwoGRXkIwamnzMpD9BKqasrjtMg4DFNCCLM3RDZam0R9VeQ0ACIC8yFqGHIAhIWyutj0bziAc/2mXFaVB1HCrVOtWyxd1779JYixl6n/HkyxH37+zz9sOH7O7fJMg/ZdCNMSpvsLq2jqZr+KMOF0eXBIuUYXdAIeRYrkvZtTm7HLJY+Cy1lpl5Id3LM/qDGWaliVtbIpj4JGFEydZJVIdCykjzM+pWi5u39nHrFXrec+aLBTkRvtjBN19TxCqi4ZOrMYODKXkckSc2k8uALPKZz3tIiEwWA0Klz/LmBhV3m+75glEnozeYEYd9KvWUTAxpulu8ufMuO9s3r+w7s4gwTvCjHgsvYTRaMJlMSeIxjVKVUrnMtY1NvPmCo8MRoadhGTJRPCOYSoSBTJoZ7G29T9VpABBGPucXrzg+/ZpFtEAWJRlRjjl8esKPP/y36NslKrUm5VqTletN+u0Osl/jL757m90777C8vkMYTFE/riDXnvLq9W+5d+8+ZrlO+/iEP37xFFk8xCmpXJtfx2xU6I8ChmMPUdY5ePaUbvc1y80VauUYp5Tx+uSEMMkpVxyGwy5yZqGvXKCWPfRRmcEwQCg8JjOfkitScny8wCVdyMihgKRPyHOLQp4TxSlJqDAPwG1mKKpJfzgmKgJct0revEG0mBJNY8gULBVK1auDX6GbPHz/Ljc2HxJHIaauUrIUjo6P+OyLCRedBXFSoJsiy5XrtJYauKUWleoag2mCLB0g6gHjeUpa6OSpgSQKaKKBqaoUZGRZShhNEYWcZnWPVAT5/HJMEImsr1/HrDSpllqYholbrWOUDYThOlv7P+bDb38XyyqRZAXDwSV+PsBZTpm1j/nTJ7/lV51LJqMuc29GXKhovsM0nVG4JobSYDYZsZgOyMMJTjVGNi1OR4d8/tnnBH2TVt1CWbZRVySajoPhtjl5miKrHuliRrVeQhVsyvoKl5cHrNw2yY8UkihHDJa4HPdRVJVwkZIFPpN5QoqLZYjIsoeuqSRexNGz5yTpCMuy2d5+k9cnX1IUJXreCM3U6Y/b7O0IlPQSrm1RrVZwKjUOji85PnuJKglXSky3heHUyQpod16RZh6GqVKgXM373ECSbYRMZKlso4jgz4dXzG1RoVHfQTeudgVpb/+tj2RF5dvf/SuOer9lafldlpstavU6pmky92KiTMaqLNOsuSRJwPNXP+f15P+RJmAlDZ5/dUK726FRsigkle5gSG80QTWqHB5c4o97zEcdsjzm+vUNOr2cNEnonY3odDyiIOH2/k1yNWRSHGBny6xtNEnHIug+nh+BqKJZE/ATct1j0h0QegKykiGoGbOehCRmBJ6PqihIikyaF6eobR0AAASUSURBVBSZgCQlpOqIIF8wH8xJ8zm1TY2l+g7tzgGDaZfJNCeMM85ORizV1lhfXcO2LSzHplQqk6cRC3+B5VQoOVVKpTKObSIqGovARzVyLodjDCfAsi3CUEJVdTTRYHtrk9bSNdI4J/QDhPzKlk5RNIoCpL/68b/66MGDu7hGxKvDT8mMAdfXv0OtUUbIBaI45ejZb/gf//s/o1sbSEXMz372nzg46dF9raGkAmliYhoOgqTTH0+YTMZYhoZrScRJhKLIVCwZ23YwHJc0y3Fdm9l0QrBI2N/fQzN0eqMZcz9mbVshE0aEI5s8N4mmCStlG02WGE3HSJJFXswJFipLboO80BkNzul02kRRTKEsEFSRPFYQxJSy41IoMUEagJgj2QlRvuDFVyf0+h2SNML3ciTTQrBhdWmTjdVNTFNFlkQ0TaPeaJIlEdOpT7VcRpFlBHIWkUfIkNaKwcSzmY5TfG+BWJgUJATBjJ2tXZqNZRRFJ0sywmBGvJgz9xb0Rh7St//Z9z+K45Du0TOCeIbmTik7O+zv3SJPRSxDZxo8ZSL9d/7007/l73/5Ga/bZ5weZVRbBqOuhb8AUbHIEUFcoKgC73/4PW7d2mU0CdGkFFk3sR2NNBbQLItud0R/MGF9rc7US2l3BoSLBZYrMY0mKJUZYtAgjxycsgyCyiKJ8NRz0HOShYNrLFN1K4y8CUdnp7QvfcK4QFENXF1HRSeMU9IMFkFElmSAi22usFR+g7LtkCcCWZbw1t4GiZpg1yPCxYDN5duUHBdBuNqrDMOg3mwiCTFRGJBlAkEa0Ly2YBb4tM985KKCJjnYukGjVsNWDTwv4Nb+XVzHQRAFikIgiRNExSRIwbBspFrF/ai5bJJ1e0ShzDt3fsAH3/lr8lSkKGSyNOTTxz8lVF6RzEIu2ufsfPguLVdneKKTFS7r17ZAkgkWMyRJpyhUnMZ1vLnHZBZSsSR002E6TRiMZwxHY9qXPURJRTMsAm+MIoFlmAz7BVLsEkwdLKWC00qxVhNefDUlywsWeQejFGErKxBdQdCLbodut48fhTTXLK4t75AXInEEuSgyGE6Q5RxRDFGkMrtv3GdzY4fdG/tsbO4gCiLtzpDpYE7vJMLzptzYuUmrsYogCP+43NqWyebmFrV6leF4QhiHNFo1dN1GkBYokn1lyaNrNOsOlmHjLVJu3dzD0HXy/GoMi4oBkky1VqFSspA1QeDgmwPurq5z/8F93v3nP+L1UR9VTFhZKtPpnTHxzunPHGp3TOblYxL7GY21dbyxwXBoMRpOKMScJAm4bI8wbJenj7/EkEMazRVUZ4kwjfGDCMc1GA46zL0JIOB7Y8q2juVWMZUESRLJBYUiUoiTnFzocPpCwzVrKLKAbEuIqopZU4lOJc66XYRkjqwIiIoIVsDR+BV5qKAVOgk5XpwgBRJqmqEbEaquo+oOQSKimlX2btylO7hkcJAynHq0VJAU5Z9cFoQ/e8UWqKrK9vYO5WqdL579A6ap0etOcSsGWWQgpBAlMYPZmDgE05BQZIkszRj0+yS5gKIouK6LockA/H/nwfygtGxNzAAAAABJRU5ErkJggg==\" y=\"-171.070741\"/>\n   </g>\n   <g id=\"matplotlib.axis_13\">\n    <g id=\"xtick_13\">\n     <g id=\"line2d_33\">\n      <g>\n       <use style=\"stroke:#000000;stroke-width:0.8;\" x=\"148.795905\" xlink:href=\"#m9904beed74\" y=\"236.070741\"/>\n      </g>\n     </g>\n     <g id=\"text_39\">\n      <!-- 0 -->\n      <g transform=\"translate(145.614655 250.669178)scale(0.1 -0.1)\">\n       <use xlink:href=\"#DejaVuSans-48\"/>\n      </g>\n     </g>\n    </g>\n    <g id=\"xtick_14\">\n     <g id=\"line2d_34\">\n      <g>\n       <use style=\"stroke:#000000;stroke-width:0.8;\" x=\"208.925216\" xlink:href=\"#m9904beed74\" y=\"236.070741\"/>\n      </g>\n     </g>\n     <g id=\"text_40\">\n      <!-- 500 -->\n      <g transform=\"translate(199.381466 250.669178)scale(0.1 -0.1)\">\n       <use xlink:href=\"#DejaVuSans-53\"/>\n       <use x=\"63.623047\" xlink:href=\"#DejaVuSans-48\"/>\n       <use x=\"127.246094\" xlink:href=\"#DejaVuSans-48\"/>\n      </g>\n     </g>\n    </g>\n   </g>\n   <g id=\"matplotlib.axis_14\">\n    <g id=\"ytick_21\">\n     <g id=\"line2d_35\">\n      <g>\n       <use style=\"stroke:#000000;stroke-width:0.8;\" x=\"148.735776\" xlink:href=\"#m73953ed94d\" y=\"172.033025\"/>\n      </g>\n     </g>\n     <g id=\"text_41\">\n      <!-- 0 -->\n      <g transform=\"translate(135.373276 175.832244)scale(0.1 -0.1)\">\n       <use xlink:href=\"#DejaVuSans-48\"/>\n      </g>\n     </g>\n    </g>\n    <g id=\"ytick_22\">\n     <g id=\"line2d_36\">\n      <g>\n       <use style=\"stroke:#000000;stroke-width:0.8;\" x=\"148.735776\" xlink:href=\"#m73953ed94d\" y=\"196.084749\"/>\n      </g>\n     </g>\n     <g id=\"text_42\">\n      <!-- 200 -->\n      <g transform=\"translate(122.648276 199.883968)scale(0.1 -0.1)\">\n       <use xlink:href=\"#DejaVuSans-50\"/>\n       <use x=\"63.623047\" xlink:href=\"#DejaVuSans-48\"/>\n       <use x=\"127.246094\" xlink:href=\"#DejaVuSans-48\"/>\n      </g>\n     </g>\n    </g>\n    <g id=\"ytick_23\">\n     <g id=\"line2d_37\">\n      <g>\n       <use style=\"stroke:#000000;stroke-width:0.8;\" x=\"148.735776\" xlink:href=\"#m73953ed94d\" y=\"220.136473\"/>\n      </g>\n     </g>\n     <g id=\"text_43\">\n      <!-- 400 -->\n      <g transform=\"translate(122.648276 223.935692)scale(0.1 -0.1)\">\n       <use xlink:href=\"#DejaVuSans-52\"/>\n       <use x=\"63.623047\" xlink:href=\"#DejaVuSans-48\"/>\n       <use x=\"127.246094\" xlink:href=\"#DejaVuSans-48\"/>\n      </g>\n     </g>\n    </g>\n   </g>\n   <g id=\"patch_33\">\n    <path d=\"M 148.735776 236.070741 \nL 148.735776 171.972896 \n\" style=\"fill:none;stroke:#000000;stroke-linecap:square;stroke-linejoin:miter;stroke-width:0.8;\"/>\n   </g>\n   <g id=\"patch_34\">\n    <path d=\"M 244.942672 236.070741 \nL 244.942672 171.972896 \n\" style=\"fill:none;stroke:#000000;stroke-linecap:square;stroke-linejoin:miter;stroke-width:0.8;\"/>\n   </g>\n   <g id=\"patch_35\">\n    <path d=\"M 148.735776 236.070741 \nL 244.942672 236.070741 \n\" style=\"fill:none;stroke:#000000;stroke-linecap:square;stroke-linejoin:miter;stroke-width:0.8;\"/>\n   </g>\n   <g id=\"patch_36\">\n    <path d=\"M 148.735776 171.972896 \nL 244.942672 171.972896 \n\" style=\"fill:none;stroke:#000000;stroke-linecap:square;stroke-linejoin:miter;stroke-width:0.8;\"/>\n   </g>\n   <g id=\"text_44\">\n    <!-- Fungi -->\n    <defs>\n     <path d=\"M 9.8125 72.90625 \nL 51.703125 72.90625 \nL 51.703125 64.59375 \nL 19.671875 64.59375 \nL 19.671875 43.109375 \nL 48.578125 43.109375 \nL 48.578125 34.8125 \nL 19.671875 34.8125 \nL 19.671875 0 \nL 9.8125 0 \nz\n\" id=\"DejaVuSans-70\"/>\n     <path d=\"M 45.40625 27.984375 \nQ 45.40625 37.75 41.375 43.109375 \nQ 37.359375 48.484375 30.078125 48.484375 \nQ 22.859375 48.484375 18.828125 43.109375 \nQ 14.796875 37.75 14.796875 27.984375 \nQ 14.796875 18.265625 18.828125 12.890625 \nQ 22.859375 7.515625 30.078125 7.515625 \nQ 37.359375 7.515625 41.375 12.890625 \nQ 45.40625 18.265625 45.40625 27.984375 \nz\nM 54.390625 6.78125 \nQ 54.390625 -7.171875 48.1875 -13.984375 \nQ 42 -20.796875 29.203125 -20.796875 \nQ 24.46875 -20.796875 20.265625 -20.09375 \nQ 16.0625 -19.390625 12.109375 -17.921875 \nL 12.109375 -9.1875 \nQ 16.0625 -11.328125 19.921875 -12.34375 \nQ 23.78125 -13.375 27.78125 -13.375 \nQ 36.625 -13.375 41.015625 -8.765625 \nQ 45.40625 -4.15625 45.40625 5.171875 \nL 45.40625 9.625 \nQ 42.625 4.78125 38.28125 2.390625 \nQ 33.9375 0 27.875 0 \nQ 17.828125 0 11.671875 7.65625 \nQ 5.515625 15.328125 5.515625 27.984375 \nQ 5.515625 40.671875 11.671875 48.328125 \nQ 17.828125 56 27.875 56 \nQ 33.9375 56 38.28125 53.609375 \nQ 42.625 51.21875 45.40625 46.390625 \nL 45.40625 54.6875 \nL 54.390625 54.6875 \nz\n\" id=\"DejaVuSans-103\"/>\n    </defs>\n    <g transform=\"translate(180.637349 165.972896)scale(0.12 -0.12)\">\n     <use xlink:href=\"#DejaVuSans-70\"/>\n     <use x=\"52.019531\" xlink:href=\"#DejaVuSans-117\"/>\n     <use x=\"115.398438\" xlink:href=\"#DejaVuSans-110\"/>\n     <use x=\"178.777344\" xlink:href=\"#DejaVuSans-103\"/>\n     <use x=\"242.253906\" xlink:href=\"#DejaVuSans-105\"/>\n    </g>\n   </g>\n  </g>\n  <g id=\"axes_8\">\n   <g id=\"patch_37\">\n    <path d=\"M 264.184052 247.675697 \nL 360.390948 247.675697 \nL 360.390948 160.367939 \nL 264.184052 160.367939 \nz\n\" style=\"fill:#ffffff;\"/>\n   </g>\n   <g clip-path=\"url(#p879fc8ac2b)\">\n    <image height=\"88\" id=\"image61735a9770\" transform=\"scale(1 -1)translate(0 -88)\" width=\"97\" x=\"264.184052\" xlink:href=\"data:image/png;base64,\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\" y=\"-159.675697\"/>\n   </g>\n   <g id=\"matplotlib.axis_15\">\n    <g id=\"xtick_15\">\n     <g id=\"line2d_38\">\n      <g>\n       <use style=\"stroke:#000000;stroke-width:0.8;\" x=\"264.244181\" xlink:href=\"#m9904beed74\" y=\"247.675697\"/>\n      </g>\n     </g>\n     <g id=\"text_45\">\n      <!-- 0 -->\n      <g transform=\"translate(261.062931 262.274135)scale(0.1 -0.1)\">\n       <use xlink:href=\"#DejaVuSans-48\"/>\n      </g>\n     </g>\n    </g>\n    <g id=\"xtick_16\">\n     <g id=\"line2d_39\">\n      <g>\n       <use style=\"stroke:#000000;stroke-width:0.8;\" x=\"324.373491\" xlink:href=\"#m9904beed74\" y=\"247.675697\"/>\n      </g>\n     </g>\n     <g id=\"text_46\">\n      <!-- 500 -->\n      <g transform=\"translate(314.829741 262.274135)scale(0.1 -0.1)\">\n       <use xlink:href=\"#DejaVuSans-53\"/>\n       <use x=\"63.623047\" xlink:href=\"#DejaVuSans-48\"/>\n       <use x=\"127.246094\" xlink:href=\"#DejaVuSans-48\"/>\n      </g>\n     </g>\n    </g>\n   </g>\n   <g id=\"matplotlib.axis_16\">\n    <g id=\"ytick_24\">\n     <g id=\"line2d_40\">\n      <g>\n       <use style=\"stroke:#000000;stroke-width:0.8;\" x=\"264.184052\" xlink:href=\"#m73953ed94d\" y=\"160.428068\"/>\n      </g>\n     </g>\n     <g id=\"text_47\">\n      <!-- 0 -->\n      <g transform=\"translate(250.821552 164.227287)scale(0.1 -0.1)\">\n       <use xlink:href=\"#DejaVuSans-48\"/>\n      </g>\n     </g>\n    </g>\n    <g id=\"ytick_25\">\n     <g id=\"line2d_41\">\n      <g>\n       <use style=\"stroke:#000000;stroke-width:0.8;\" x=\"264.184052\" xlink:href=\"#m73953ed94d\" y=\"184.479792\"/>\n      </g>\n     </g>\n     <g id=\"text_48\">\n      <!-- 200 -->\n      <g transform=\"translate(238.096552 188.279011)scale(0.1 -0.1)\">\n       <use xlink:href=\"#DejaVuSans-50\"/>\n       <use x=\"63.623047\" xlink:href=\"#DejaVuSans-48\"/>\n       <use x=\"127.246094\" xlink:href=\"#DejaVuSans-48\"/>\n      </g>\n     </g>\n    </g>\n    <g id=\"ytick_26\">\n     <g id=\"line2d_42\">\n      <g>\n       <use style=\"stroke:#000000;stroke-width:0.8;\" x=\"264.184052\" xlink:href=\"#m73953ed94d\" y=\"208.531516\"/>\n      </g>\n     </g>\n     <g id=\"text_49\">\n      <!-- 400 -->\n      <g transform=\"translate(238.096552 212.330735)scale(0.1 -0.1)\">\n       <use xlink:href=\"#DejaVuSans-52\"/>\n       <use x=\"63.623047\" xlink:href=\"#DejaVuSans-48\"/>\n       <use x=\"127.246094\" xlink:href=\"#DejaVuSans-48\"/>\n      </g>\n     </g>\n    </g>\n    <g id=\"ytick_27\">\n     <g id=\"line2d_43\">\n      <g>\n       <use style=\"stroke:#000000;stroke-width:0.8;\" x=\"264.184052\" xlink:href=\"#m73953ed94d\" y=\"232.583241\"/>\n      </g>\n     </g>\n     <g id=\"text_50\">\n      <!-- 600 -->\n      <g transform=\"translate(238.096552 236.382459)scale(0.1 -0.1)\">\n       <use xlink:href=\"#DejaVuSans-54\"/>\n       <use x=\"63.623047\" xlink:href=\"#DejaVuSans-48\"/>\n       <use x=\"127.246094\" xlink:href=\"#DejaVuSans-48\"/>\n      </g>\n     </g>\n    </g>\n   </g>\n   <g id=\"patch_38\">\n    <path d=\"M 264.184052 247.675697 \nL 264.184052 160.367939 \n\" style=\"fill:none;stroke:#000000;stroke-linecap:square;stroke-linejoin:miter;stroke-width:0.8;\"/>\n   </g>\n   <g id=\"patch_39\">\n    <path d=\"M 360.390948 247.675697 \nL 360.390948 160.367939 \n\" style=\"fill:none;stroke:#000000;stroke-linecap:square;stroke-linejoin:miter;stroke-width:0.8;\"/>\n   </g>\n   <g id=\"patch_40\">\n    <path d=\"M 264.184052 247.675697 \nL 360.390948 247.675697 \n\" style=\"fill:none;stroke:#000000;stroke-linecap:square;stroke-linejoin:miter;stroke-width:0.8;\"/>\n   </g>\n   <g id=\"patch_41\">\n    <path d=\"M 264.184052 160.367939 \nL 360.390948 160.367939 \n\" style=\"fill:none;stroke:#000000;stroke-linecap:square;stroke-linejoin:miter;stroke-width:0.8;\"/>\n   </g>\n   <g id=\"text_51\">\n    <!-- Arachnida -->\n    <defs>\n     <path d=\"M 41.109375 46.296875 \nQ 39.59375 47.171875 37.8125 47.578125 \nQ 36.03125 48 33.890625 48 \nQ 26.265625 48 22.1875 43.046875 \nQ 18.109375 38.09375 18.109375 28.8125 \nL 18.109375 0 \nL 9.078125 0 \nL 9.078125 54.6875 \nL 18.109375 54.6875 \nL 18.109375 46.1875 \nQ 20.953125 51.171875 25.484375 53.578125 \nQ 30.03125 56 36.53125 56 \nQ 37.453125 56 38.578125 55.875 \nQ 39.703125 55.765625 41.0625 55.515625 \nz\n\" id=\"DejaVuSans-114\"/>\n     <path d=\"M 45.40625 46.390625 \nL 45.40625 75.984375 \nL 54.390625 75.984375 \nL 54.390625 0 \nL 45.40625 0 \nL 45.40625 8.203125 \nQ 42.578125 3.328125 38.25 0.953125 \nQ 33.9375 -1.421875 27.875 -1.421875 \nQ 17.96875 -1.421875 11.734375 6.484375 \nQ 5.515625 14.40625 5.515625 27.296875 \nQ 5.515625 40.1875 11.734375 48.09375 \nQ 17.96875 56 27.875 56 \nQ 33.9375 56 38.25 53.625 \nQ 42.578125 51.265625 45.40625 46.390625 \nz\nM 14.796875 27.296875 \nQ 14.796875 17.390625 18.875 11.75 \nQ 22.953125 6.109375 30.078125 6.109375 \nQ 37.203125 6.109375 41.296875 11.75 \nQ 45.40625 17.390625 45.40625 27.296875 \nQ 45.40625 37.203125 41.296875 42.84375 \nQ 37.203125 48.484375 30.078125 48.484375 \nQ 22.953125 48.484375 18.875 42.84375 \nQ 14.796875 37.203125 14.796875 27.296875 \nz\n\" id=\"DejaVuSans-100\"/>\n    </defs>\n    <g transform=\"translate(281.982813 154.367939)scale(0.12 -0.12)\">\n     <use xlink:href=\"#DejaVuSans-65\"/>\n     <use x=\"68.408203\" xlink:href=\"#DejaVuSans-114\"/>\n     <use x=\"109.521484\" xlink:href=\"#DejaVuSans-97\"/>\n     <use x=\"170.800781\" xlink:href=\"#DejaVuSans-99\"/>\n     <use x=\"225.78125\" xlink:href=\"#DejaVuSans-104\"/>\n     <use x=\"289.160156\" xlink:href=\"#DejaVuSans-110\"/>\n     <use x=\"352.539062\" xlink:href=\"#DejaVuSans-105\"/>\n     <use x=\"380.322266\" xlink:href=\"#DejaVuSans-100\"/>\n     <use x=\"443.798828\" xlink:href=\"#DejaVuSans-97\"/>\n    </g>\n   </g>\n  </g>\n  <g id=\"axes_9\">\n   <g id=\"patch_42\">\n    <path d=\"M 379.632328 237.513844 \nL 475.839224 237.513844 \nL 475.839224 170.529792 \nL 379.632328 170.529792 \nz\n\" style=\"fill:#ffffff;\"/>\n   </g>\n   <g clip-path=\"url(#pdbcfa589c9)\">\n    <image height=\"67\" id=\"image5530bc1d99\" transform=\"scale(1 -1)translate(0 -67)\" width=\"97\" x=\"379.632328\" xlink:href=\"data:image/png;base64,\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\" y=\"-170.513844\"/>\n   </g>\n   <g id=\"matplotlib.axis_17\">\n    <g id=\"xtick_17\">\n     <g id=\"line2d_44\">\n      <g>\n       <use style=\"stroke:#000000;stroke-width:0.8;\" x=\"379.692457\" xlink:href=\"#m9904beed74\" y=\"237.513844\"/>\n      </g>\n     </g>\n     <g id=\"text_52\">\n      <!-- 0 -->\n      <g transform=\"translate(376.511207 252.112282)scale(0.1 -0.1)\">\n       <use xlink:href=\"#DejaVuSans-48\"/>\n      </g>\n     </g>\n    </g>\n    <g id=\"xtick_18\">\n     <g id=\"line2d_45\">\n      <g>\n       <use style=\"stroke:#000000;stroke-width:0.8;\" x=\"439.821767\" xlink:href=\"#m9904beed74\" y=\"237.513844\"/>\n      </g>\n     </g>\n     <g id=\"text_53\">\n      <!-- 500 -->\n      <g transform=\"translate(430.278017 252.112282)scale(0.1 -0.1)\">\n       <use xlink:href=\"#DejaVuSans-53\"/>\n       <use x=\"63.623047\" xlink:href=\"#DejaVuSans-48\"/>\n       <use x=\"127.246094\" xlink:href=\"#DejaVuSans-48\"/>\n      </g>\n     </g>\n    </g>\n   </g>\n   <g id=\"matplotlib.axis_18\">\n    <g id=\"ytick_28\">\n     <g id=\"line2d_46\">\n      <g>\n       <use style=\"stroke:#000000;stroke-width:0.8;\" x=\"379.632328\" xlink:href=\"#m73953ed94d\" y=\"170.589922\"/>\n      </g>\n     </g>\n     <g id=\"text_54\">\n      <!-- 0 -->\n      <g transform=\"translate(366.269828 174.38914)scale(0.1 -0.1)\">\n       <use xlink:href=\"#DejaVuSans-48\"/>\n      </g>\n     </g>\n    </g>\n    <g id=\"ytick_29\">\n     <g id=\"line2d_47\">\n      <g>\n       <use style=\"stroke:#000000;stroke-width:0.8;\" x=\"379.632328\" xlink:href=\"#m73953ed94d\" y=\"194.641646\"/>\n      </g>\n     </g>\n     <g id=\"text_55\">\n      <!-- 200 -->\n      <g transform=\"translate(353.544828 198.440865)scale(0.1 -0.1)\">\n       <use xlink:href=\"#DejaVuSans-50\"/>\n       <use x=\"63.623047\" xlink:href=\"#DejaVuSans-48\"/>\n       <use x=\"127.246094\" xlink:href=\"#DejaVuSans-48\"/>\n      </g>\n     </g>\n    </g>\n    <g id=\"ytick_30\">\n     <g id=\"line2d_48\">\n      <g>\n       <use style=\"stroke:#000000;stroke-width:0.8;\" x=\"379.632328\" xlink:href=\"#m73953ed94d\" y=\"218.69337\"/>\n      </g>\n     </g>\n     <g id=\"text_56\">\n      <!-- 400 -->\n      <g transform=\"translate(353.544828 222.492589)scale(0.1 -0.1)\">\n       <use xlink:href=\"#DejaVuSans-52\"/>\n       <use x=\"63.623047\" xlink:href=\"#DejaVuSans-48\"/>\n       <use x=\"127.246094\" xlink:href=\"#DejaVuSans-48\"/>\n      </g>\n     </g>\n    </g>\n   </g>\n   <g id=\"patch_43\">\n    <path d=\"M 379.632328 237.513844 \nL 379.632328 170.529792 \n\" style=\"fill:none;stroke:#000000;stroke-linecap:square;stroke-linejoin:miter;stroke-width:0.8;\"/>\n   </g>\n   <g id=\"patch_44\">\n    <path d=\"M 475.839224 237.513844 \nL 475.839224 170.529792 \n\" style=\"fill:none;stroke:#000000;stroke-linecap:square;stroke-linejoin:miter;stroke-width:0.8;\"/>\n   </g>\n   <g id=\"patch_45\">\n    <path d=\"M 379.632328 237.513844 \nL 475.839224 237.513844 \n\" style=\"fill:none;stroke:#000000;stroke-linecap:square;stroke-linejoin:miter;stroke-width:0.8;\"/>\n   </g>\n   <g id=\"patch_46\">\n    <path d=\"M 379.632328 170.529792 \nL 475.839224 170.529792 \n\" style=\"fill:none;stroke:#000000;stroke-linecap:square;stroke-linejoin:miter;stroke-width:0.8;\"/>\n   </g>\n   <g id=\"text_57\">\n    <!-- Reptilia -->\n    <defs>\n     <path d=\"M 44.390625 34.1875 \nQ 47.5625 33.109375 50.5625 29.59375 \nQ 53.5625 26.078125 56.59375 19.921875 \nL 66.609375 0 \nL 56 0 \nL 46.6875 18.703125 \nQ 43.0625 26.03125 39.671875 28.421875 \nQ 36.28125 30.8125 30.421875 30.8125 \nL 19.671875 30.8125 \nL 19.671875 0 \nL 9.8125 0 \nL 9.8125 72.90625 \nL 32.078125 72.90625 \nQ 44.578125 72.90625 50.734375 67.671875 \nQ 56.890625 62.453125 56.890625 51.90625 \nQ 56.890625 45.015625 53.6875 40.46875 \nQ 50.484375 35.9375 44.390625 34.1875 \nz\nM 19.671875 64.796875 \nL 19.671875 38.921875 \nL 32.078125 38.921875 \nQ 39.203125 38.921875 42.84375 42.21875 \nQ 46.484375 45.515625 46.484375 51.90625 \nQ 46.484375 58.296875 42.84375 61.546875 \nQ 39.203125 64.796875 32.078125 64.796875 \nz\n\" id=\"DejaVuSans-82\"/>\n    </defs>\n    <g transform=\"translate(405.306088 164.529792)scale(0.12 -0.12)\">\n     <use xlink:href=\"#DejaVuSans-82\"/>\n     <use x=\"64.982422\" xlink:href=\"#DejaVuSans-101\"/>\n     <use x=\"126.505859\" xlink:href=\"#DejaVuSans-112\"/>\n     <use x=\"189.982422\" xlink:href=\"#DejaVuSans-116\"/>\n     <use x=\"229.191406\" xlink:href=\"#DejaVuSans-105\"/>\n     <use x=\"256.974609\" xlink:href=\"#DejaVuSans-108\"/>\n     <use x=\"284.757812\" xlink:href=\"#DejaVuSans-105\"/>\n     <use x=\"312.541016\" xlink:href=\"#DejaVuSans-97\"/>\n    </g>\n   </g>\n  </g>\n  <g id=\"axes_10\">\n   <g id=\"patch_47\">\n    <path d=\"M 495.080603 241.783025 \nL 591.2875 241.783025 \nL 591.2875 166.260611 \nL 495.080603 166.260611 \nz\n\" style=\"fill:#ffffff;\"/>\n   </g>\n   <g clip-path=\"url(#p7bd8be1a3c)\">\n    <image height=\"76\" id=\"image8d9b6aa134\" transform=\"scale(1 -1)translate(0 -76)\" width=\"97\" x=\"495.080603\" xlink:href=\"data:image/png;base64,\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\" y=\"-165.783025\"/>\n   </g>\n   <g id=\"matplotlib.axis_19\">\n    <g id=\"xtick_19\">\n     <g id=\"line2d_49\">\n      <g>\n       <use style=\"stroke:#000000;stroke-width:0.8;\" x=\"495.140733\" xlink:href=\"#m9904beed74\" y=\"241.783025\"/>\n      </g>\n     </g>\n     <g id=\"text_58\">\n      <!-- 0 -->\n      <g transform=\"translate(491.959483 256.381463)scale(0.1 -0.1)\">\n       <use xlink:href=\"#DejaVuSans-48\"/>\n      </g>\n     </g>\n    </g>\n    <g id=\"xtick_20\">\n     <g id=\"line2d_50\">\n      <g>\n       <use style=\"stroke:#000000;stroke-width:0.8;\" x=\"555.270043\" xlink:href=\"#m9904beed74\" y=\"241.783025\"/>\n      </g>\n     </g>\n     <g id=\"text_59\">\n      <!-- 500 -->\n      <g transform=\"translate(545.726293 256.381463)scale(0.1 -0.1)\">\n       <use xlink:href=\"#DejaVuSans-53\"/>\n       <use x=\"63.623047\" xlink:href=\"#DejaVuSans-48\"/>\n       <use x=\"127.246094\" xlink:href=\"#DejaVuSans-48\"/>\n      </g>\n     </g>\n    </g>\n   </g>\n   <g id=\"matplotlib.axis_20\">\n    <g id=\"ytick_31\">\n     <g id=\"line2d_51\">\n      <g>\n       <use style=\"stroke:#000000;stroke-width:0.8;\" x=\"495.080603\" xlink:href=\"#m73953ed94d\" y=\"166.320741\"/>\n      </g>\n     </g>\n     <g id=\"text_60\">\n      <!-- 0 -->\n      <g transform=\"translate(481.718103 170.119959)scale(0.1 -0.1)\">\n       <use xlink:href=\"#DejaVuSans-48\"/>\n      </g>\n     </g>\n    </g>\n    <g id=\"ytick_32\">\n     <g id=\"line2d_52\">\n      <g>\n       <use style=\"stroke:#000000;stroke-width:0.8;\" x=\"495.080603\" xlink:href=\"#m73953ed94d\" y=\"196.385396\"/>\n      </g>\n     </g>\n     <g id=\"text_61\">\n      <!-- 250 -->\n      <g transform=\"translate(468.993103 200.184615)scale(0.1 -0.1)\">\n       <use xlink:href=\"#DejaVuSans-50\"/>\n       <use x=\"63.623047\" xlink:href=\"#DejaVuSans-53\"/>\n       <use x=\"127.246094\" xlink:href=\"#DejaVuSans-48\"/>\n      </g>\n     </g>\n    </g>\n    <g id=\"ytick_33\">\n     <g id=\"line2d_53\">\n      <g>\n       <use style=\"stroke:#000000;stroke-width:0.8;\" x=\"495.080603\" xlink:href=\"#m73953ed94d\" y=\"226.450051\"/>\n      </g>\n     </g>\n     <g id=\"text_62\">\n      <!-- 500 -->\n      <g transform=\"translate(468.993103 230.24927)scale(0.1 -0.1)\">\n       <use xlink:href=\"#DejaVuSans-53\"/>\n       <use x=\"63.623047\" xlink:href=\"#DejaVuSans-48\"/>\n       <use x=\"127.246094\" xlink:href=\"#DejaVuSans-48\"/>\n      </g>\n     </g>\n    </g>\n   </g>\n   <g id=\"patch_48\">\n    <path d=\"M 495.080603 241.783025 \nL 495.080603 166.260611 \n\" style=\"fill:none;stroke:#000000;stroke-linecap:square;stroke-linejoin:miter;stroke-width:0.8;\"/>\n   </g>\n   <g id=\"patch_49\">\n    <path d=\"M 591.2875 241.783025 \nL 591.2875 166.260611 \n\" style=\"fill:none;stroke:#000000;stroke-linecap:square;stroke-linejoin:miter;stroke-width:0.8;\"/>\n   </g>\n   <g id=\"patch_50\">\n    <path d=\"M 495.080603 241.783025 \nL 591.2875 241.783025 \n\" style=\"fill:none;stroke:#000000;stroke-linecap:square;stroke-linejoin:miter;stroke-width:0.8;\"/>\n   </g>\n   <g id=\"patch_51\">\n    <path d=\"M 495.080603 166.260611 \nL 591.2875 166.260611 \n\" style=\"fill:none;stroke:#000000;stroke-linecap:square;stroke-linejoin:miter;stroke-width:0.8;\"/>\n   </g>\n   <g id=\"text_63\">\n    <!-- Mammalia -->\n    <g transform=\"translate(511.954052 160.260611)scale(0.12 -0.12)\">\n     <use xlink:href=\"#DejaVuSans-77\"/>\n     <use x=\"86.279297\" xlink:href=\"#DejaVuSans-97\"/>\n     <use x=\"147.558594\" xlink:href=\"#DejaVuSans-109\"/>\n     <use x=\"244.970703\" xlink:href=\"#DejaVuSans-109\"/>\n     <use x=\"342.382812\" xlink:href=\"#DejaVuSans-97\"/>\n     <use x=\"403.662109\" xlink:href=\"#DejaVuSans-108\"/>\n     <use x=\"431.445312\" xlink:href=\"#DejaVuSans-105\"/>\n     <use x=\"459.228516\" xlink:href=\"#DejaVuSans-97\"/>\n    </g>\n   </g>\n  </g>\n  <g id=\"text_64\">\n   <!-- Sample images from each class -->\n   <defs>\n    <path d=\"M 53.515625 70.515625 \nL 53.515625 60.890625 \nQ 47.90625 63.578125 42.921875 64.890625 \nQ 37.9375 66.21875 33.296875 66.21875 \nQ 25.25 66.21875 20.875 63.09375 \nQ 16.5 59.96875 16.5 54.203125 \nQ 16.5 49.359375 19.40625 46.890625 \nQ 22.3125 44.4375 30.421875 42.921875 \nL 36.375 41.703125 \nQ 47.40625 39.59375 52.65625 34.296875 \nQ 57.90625 29 57.90625 20.125 \nQ 57.90625 9.515625 50.796875 4.046875 \nQ 43.703125 -1.421875 29.984375 -1.421875 \nQ 24.8125 -1.421875 18.96875 -0.25 \nQ 13.140625 0.921875 6.890625 3.21875 \nL 6.890625 13.375 \nQ 12.890625 10.015625 18.65625 8.296875 \nQ 24.421875 6.59375 29.984375 6.59375 \nQ 38.421875 6.59375 43.015625 9.90625 \nQ 47.609375 13.234375 47.609375 19.390625 \nQ 47.609375 24.75 44.3125 27.78125 \nQ 41.015625 30.8125 33.5 32.328125 \nL 27.484375 33.5 \nQ 16.453125 35.6875 11.515625 40.375 \nQ 6.59375 45.0625 6.59375 53.421875 \nQ 6.59375 63.09375 13.40625 68.65625 \nQ 20.21875 74.21875 32.171875 74.21875 \nQ 37.3125 74.21875 42.625 73.28125 \nQ 47.953125 72.359375 53.515625 70.515625 \nz\n\" id=\"DejaVuSans-83\"/>\n    <path id=\"DejaVuSans-32\"/>\n    <path d=\"M 37.109375 75.984375 \nL 37.109375 68.5 \nL 28.515625 68.5 \nQ 23.6875 68.5 21.796875 66.546875 \nQ 19.921875 64.59375 19.921875 59.515625 \nL 19.921875 54.6875 \nL 34.71875 54.6875 \nL 34.71875 47.703125 \nL 19.921875 47.703125 \nL 19.921875 0 \nL 10.890625 0 \nL 10.890625 47.703125 \nL 2.296875 47.703125 \nL 2.296875 54.6875 \nL 10.890625 54.6875 \nL 10.890625 58.5 \nQ 10.890625 67.625 15.140625 71.796875 \nQ 19.390625 75.984375 28.609375 75.984375 \nz\n\" id=\"DejaVuSans-102\"/>\n   </defs>\n   <g transform=\"translate(208.023438 16.318125)scale(0.12 -0.12)\">\n    <use xlink:href=\"#DejaVuSans-83\"/>\n    <use x=\"63.476562\" xlink:href=\"#DejaVuSans-97\"/>\n    <use x=\"124.755859\" xlink:href=\"#DejaVuSans-109\"/>\n    <use x=\"222.167969\" xlink:href=\"#DejaVuSans-112\"/>\n    <use x=\"285.644531\" xlink:href=\"#DejaVuSans-108\"/>\n    <use x=\"313.427734\" xlink:href=\"#DejaVuSans-101\"/>\n    <use x=\"374.951172\" xlink:href=\"#DejaVuSans-32\"/>\n    <use x=\"406.738281\" xlink:href=\"#DejaVuSans-105\"/>\n    <use x=\"434.521484\" xlink:href=\"#DejaVuSans-109\"/>\n    <use x=\"531.933594\" xlink:href=\"#DejaVuSans-97\"/>\n    <use x=\"593.212891\" xlink:href=\"#DejaVuSans-103\"/>\n    <use x=\"656.689453\" xlink:href=\"#DejaVuSans-101\"/>\n    <use x=\"718.212891\" xlink:href=\"#DejaVuSans-115\"/>\n    <use x=\"770.3125\" xlink:href=\"#DejaVuSans-32\"/>\n    <use x=\"802.099609\" xlink:href=\"#DejaVuSans-102\"/>\n    <use x=\"837.304688\" xlink:href=\"#DejaVuSans-114\"/>\n    <use x=\"876.167969\" xlink:href=\"#DejaVuSans-111\"/>\n    <use x=\"937.349609\" xlink:href=\"#DejaVuSans-109\"/>\n    <use x=\"1034.761719\" xlink:href=\"#DejaVuSans-32\"/>\n    <use x=\"1066.548828\" xlink:href=\"#DejaVuSans-101\"/>\n    <use x=\"1128.072266\" xlink:href=\"#DejaVuSans-97\"/>\n    <use x=\"1189.351562\" xlink:href=\"#DejaVuSans-99\"/>\n    <use x=\"1244.332031\" xlink:href=\"#DejaVuSans-104\"/>\n    <use x=\"1307.710938\" xlink:href=\"#DejaVuSans-32\"/>\n    <use x=\"1339.498047\" xlink:href=\"#DejaVuSans-99\"/>\n    <use x=\"1394.478516\" xlink:href=\"#DejaVuSans-108\"/>\n    <use x=\"1422.261719\" xlink:href=\"#DejaVuSans-97\"/>\n    <use x=\"1483.541016\" xlink:href=\"#DejaVuSans-115\"/>\n    <use x=\"1535.640625\" xlink:href=\"#DejaVuSans-115\"/>\n   </g>\n  </g>\n </g>\n <defs>\n  <clipPath id=\"p0182ecacd8\">\n   <rect height=\"96.206897\" width=\"96.206897\" x=\"33.2875\" y=\"37.314734\"/>\n  </clipPath>\n  <clipPath id=\"pf772446216\">\n   <rect height=\"72.155172\" width=\"96.206897\" x=\"148.735776\" y=\"49.340596\"/>\n  </clipPath>\n  <clipPath id=\"p67cca62ee3\">\n   <rect height=\"70.471552\" width=\"96.206897\" x=\"264.184052\" y=\"50.182406\"/>\n  </clipPath>\n  <clipPath id=\"p6a87d807d6\">\n   <rect height=\"98.421378\" width=\"96.206897\" x=\"379.632328\" y=\"36.207493\"/>\n  </clipPath>\n  <clipPath id=\"p7a23578775\">\n   <rect height=\"64.218103\" width=\"96.206897\" x=\"495.080603\" y=\"53.30913\"/>\n  </clipPath>\n  <clipPath id=\"p5785532839\">\n   <rect height=\"72.155172\" width=\"96.206897\" x=\"33.2875\" y=\"167.944232\"/>\n  </clipPath>\n  <clipPath id=\"p8d6860571a\">\n   <rect height=\"64.097845\" width=\"96.206897\" x=\"148.735776\" y=\"171.972896\"/>\n  </clipPath>\n  <clipPath id=\"p879fc8ac2b\">\n   <rect height=\"87.307759\" width=\"96.206897\" x=\"264.184052\" y=\"160.367939\"/>\n  </clipPath>\n  <clipPath id=\"pdbcfa589c9\">\n   <rect height=\"66.984052\" width=\"96.206897\" x=\"379.632328\" y=\"170.529792\"/>\n  </clipPath>\n  <clipPath id=\"p7bd8be1a3c\">\n   <rect height=\"75.522414\" width=\"96.206897\" x=\"495.080603\" y=\"166.260611\"/>\n  </clipPath>\n </defs>\n</svg>\n"
          },
          "metadata": {
            "tags": [],
            "needs_background": "light"
          }
        }
      ]
    },
    {
      "cell_type": "code",
      "metadata": {
        "id": "8fGfSM2T3CHr"
      },
      "source": [
        "class NeuralNet(tf.keras.Model):    \n",
        "    def __init__(self, base_model, image_shape=(256, 256)):\n",
        "        super(NeuralNet, self).__init__()\n",
        "\n",
        "        # instantiating the base model and freezing it's weights\n",
        "        self.base_model = self.select_model(base_model, image_shape)\n",
        "        self.base_model.trainable=False\n",
        "\n",
        "        # The layers below form the classification head \n",
        "        self.conv1 = layers.Conv1D(3, 12, 6, activation=\"relu\")\n",
        "        self.pool1 = layers.MaxPool1D(3,3)\n",
        "        self.bn1 = layers.BatchNormalization()\n",
        "        self.conv2 = layers.Conv1D(3, 6, 3, activation=\"relu\")\n",
        "        self.pool2 = layers.MaxPool1D(3,3)\n",
        "        self.bn2 = layers.BatchNormalization()\n",
        "        self.output_layer = layers.Dense(10, activation=None)\n",
        "\n",
        "    @staticmethod\n",
        "    def select_model(name, image_shape):\n",
        "        \n",
        "        image_shape = list(image_shape)\n",
        "        image_shape.append(3)\n",
        "        \n",
        "        INPUT_SHAPE = tuple(image_shape) \n",
        "\n",
        "        if name==\"InceptionV3\":\n",
        "            return tf.keras.applications.InceptionV3(include_top=False, input_shape=INPUT_SHAPE, weights='imagenet')\n",
        "        elif name==\"InceptionResNetV2\":\n",
        "            return tf.keras.applications.InceptionResNetV2(include_top=False, input_shape=INPUT_SHAPE, weights='imagenet')\n",
        "        elif name==\"ResNet50\":\n",
        "            return tf.keras.applications.ResNet50(include_top=False, input_shape=INPUT_SHAPE, weights='imagenet')\n",
        "        elif name==\"Xception\":\n",
        "            return tf.keras.applications.Xception(include_top=False, input_shape=INPUT_SHAPE, weights='imagenet')\n",
        "\n",
        "    def call(self, x):\n",
        "        x = layers.Flatten()(self.base_model(x))\n",
        "        \n",
        "        x = tf.expand_dims(x, -1)\n",
        "        x = self.bn1(self.pool1(self.conv1(x)))\n",
        "        x = self.bn2(self.pool2(self.conv2(x)))\n",
        "        x = layers.Flatten()(x)\n",
        "\n",
        "        return self.output_layer(x)"
      ],
      "execution_count": 7,
      "outputs": []
    },
    {
      "cell_type": "code",
      "metadata": {
        "colab": {
          "base_uri": "https://localhost:8080/"
        },
        "id": "f57el8vV8jnO",
        "outputId": "ee09802b-586c-4a94-aceb-15f1188628b6"
      },
      "source": [
        "## checking the model\n",
        "test_model = NeuralNet(\"ResNet50 \")\n",
        "x = tf.random.uniform((64,256,256,3))\n",
        "x = test_model(x)\n",
        "\n",
        "print(len(test_model.trainable_variables))\n",
        "print(len(test_model.base_model.layers))\n",
        "\n",
        "\"\"\"\n",
        "# Fine-tune from this layer onwards\n",
        "test_model.base_model.trainable = True\n",
        "print(len(test_model.trainable_variables))\n",
        "\n",
        "\n",
        "fine_tune_at = len(test_model.base_model.layers) - 30\n",
        "\n",
        "# Freeze all the layers before the `fine_tune_at` layer\n",
        "for layer in test_model.base_model.layers[:fine_tune_at]:\n",
        "    layer.trainable =  False\n",
        "\n",
        "print(len(test_model.trainable_variables))\n",
        "\"\"\"\n",
        "\n",
        "test_model.base_model.summary()"
      ],
      "execution_count": 10,
      "outputs": [
        {
          "output_type": "stream",
          "text": [
            "10\n",
            "175\n",
            "Model: \"resnet50\"\n",
            "__________________________________________________________________________________________________\n",
            "Layer (type)                    Output Shape         Param #     Connected to                     \n",
            "==================================================================================================\n",
            "input_3 (InputLayer)            [(None, 256, 256, 3) 0                                            \n",
            "__________________________________________________________________________________________________\n",
            "conv1_pad (ZeroPadding2D)       (None, 262, 262, 3)  0           input_3[0][0]                    \n",
            "__________________________________________________________________________________________________\n",
            "conv1_conv (Conv2D)             (None, 128, 128, 64) 9472        conv1_pad[0][0]                  \n",
            "__________________________________________________________________________________________________\n",
            "conv1_bn (BatchNormalization)   (None, 128, 128, 64) 256         conv1_conv[0][0]                 \n",
            "__________________________________________________________________________________________________\n",
            "conv1_relu (Activation)         (None, 128, 128, 64) 0           conv1_bn[0][0]                   \n",
            "__________________________________________________________________________________________________\n",
            "pool1_pad (ZeroPadding2D)       (None, 130, 130, 64) 0           conv1_relu[0][0]                 \n",
            "__________________________________________________________________________________________________\n",
            "pool1_pool (MaxPooling2D)       (None, 64, 64, 64)   0           pool1_pad[0][0]                  \n",
            "__________________________________________________________________________________________________\n",
            "conv2_block1_1_conv (Conv2D)    (None, 64, 64, 64)   4160        pool1_pool[0][0]                 \n",
            "__________________________________________________________________________________________________\n",
            "conv2_block1_1_bn (BatchNormali (None, 64, 64, 64)   256         conv2_block1_1_conv[0][0]        \n",
            "__________________________________________________________________________________________________\n",
            "conv2_block1_1_relu (Activation (None, 64, 64, 64)   0           conv2_block1_1_bn[0][0]          \n",
            "__________________________________________________________________________________________________\n",
            "conv2_block1_2_conv (Conv2D)    (None, 64, 64, 64)   36928       conv2_block1_1_relu[0][0]        \n",
            "__________________________________________________________________________________________________\n",
            "conv2_block1_2_bn (BatchNormali (None, 64, 64, 64)   256         conv2_block1_2_conv[0][0]        \n",
            "__________________________________________________________________________________________________\n",
            "conv2_block1_2_relu (Activation (None, 64, 64, 64)   0           conv2_block1_2_bn[0][0]          \n",
            "__________________________________________________________________________________________________\n",
            "conv2_block1_0_conv (Conv2D)    (None, 64, 64, 256)  16640       pool1_pool[0][0]                 \n",
            "__________________________________________________________________________________________________\n",
            "conv2_block1_3_conv (Conv2D)    (None, 64, 64, 256)  16640       conv2_block1_2_relu[0][0]        \n",
            "__________________________________________________________________________________________________\n",
            "conv2_block1_0_bn (BatchNormali (None, 64, 64, 256)  1024        conv2_block1_0_conv[0][0]        \n",
            "__________________________________________________________________________________________________\n",
            "conv2_block1_3_bn (BatchNormali (None, 64, 64, 256)  1024        conv2_block1_3_conv[0][0]        \n",
            "__________________________________________________________________________________________________\n",
            "conv2_block1_add (Add)          (None, 64, 64, 256)  0           conv2_block1_0_bn[0][0]          \n",
            "                                                                 conv2_block1_3_bn[0][0]          \n",
            "__________________________________________________________________________________________________\n",
            "conv2_block1_out (Activation)   (None, 64, 64, 256)  0           conv2_block1_add[0][0]           \n",
            "__________________________________________________________________________________________________\n",
            "conv2_block2_1_conv (Conv2D)    (None, 64, 64, 64)   16448       conv2_block1_out[0][0]           \n",
            "__________________________________________________________________________________________________\n",
            "conv2_block2_1_bn (BatchNormali (None, 64, 64, 64)   256         conv2_block2_1_conv[0][0]        \n",
            "__________________________________________________________________________________________________\n",
            "conv2_block2_1_relu (Activation (None, 64, 64, 64)   0           conv2_block2_1_bn[0][0]          \n",
            "__________________________________________________________________________________________________\n",
            "conv2_block2_2_conv (Conv2D)    (None, 64, 64, 64)   36928       conv2_block2_1_relu[0][0]        \n",
            "__________________________________________________________________________________________________\n",
            "conv2_block2_2_bn (BatchNormali (None, 64, 64, 64)   256         conv2_block2_2_conv[0][0]        \n",
            "__________________________________________________________________________________________________\n",
            "conv2_block2_2_relu (Activation (None, 64, 64, 64)   0           conv2_block2_2_bn[0][0]          \n",
            "__________________________________________________________________________________________________\n",
            "conv2_block2_3_conv (Conv2D)    (None, 64, 64, 256)  16640       conv2_block2_2_relu[0][0]        \n",
            "__________________________________________________________________________________________________\n",
            "conv2_block2_3_bn (BatchNormali (None, 64, 64, 256)  1024        conv2_block2_3_conv[0][0]        \n",
            "__________________________________________________________________________________________________\n",
            "conv2_block2_add (Add)          (None, 64, 64, 256)  0           conv2_block1_out[0][0]           \n",
            "                                                                 conv2_block2_3_bn[0][0]          \n",
            "__________________________________________________________________________________________________\n",
            "conv2_block2_out (Activation)   (None, 64, 64, 256)  0           conv2_block2_add[0][0]           \n",
            "__________________________________________________________________________________________________\n",
            "conv2_block3_1_conv (Conv2D)    (None, 64, 64, 64)   16448       conv2_block2_out[0][0]           \n",
            "__________________________________________________________________________________________________\n",
            "conv2_block3_1_bn (BatchNormali (None, 64, 64, 64)   256         conv2_block3_1_conv[0][0]        \n",
            "__________________________________________________________________________________________________\n",
            "conv2_block3_1_relu (Activation (None, 64, 64, 64)   0           conv2_block3_1_bn[0][0]          \n",
            "__________________________________________________________________________________________________\n",
            "conv2_block3_2_conv (Conv2D)    (None, 64, 64, 64)   36928       conv2_block3_1_relu[0][0]        \n",
            "__________________________________________________________________________________________________\n",
            "conv2_block3_2_bn (BatchNormali (None, 64, 64, 64)   256         conv2_block3_2_conv[0][0]        \n",
            "__________________________________________________________________________________________________\n",
            "conv2_block3_2_relu (Activation (None, 64, 64, 64)   0           conv2_block3_2_bn[0][0]          \n",
            "__________________________________________________________________________________________________\n",
            "conv2_block3_3_conv (Conv2D)    (None, 64, 64, 256)  16640       conv2_block3_2_relu[0][0]        \n",
            "__________________________________________________________________________________________________\n",
            "conv2_block3_3_bn (BatchNormali (None, 64, 64, 256)  1024        conv2_block3_3_conv[0][0]        \n",
            "__________________________________________________________________________________________________\n",
            "conv2_block3_add (Add)          (None, 64, 64, 256)  0           conv2_block2_out[0][0]           \n",
            "                                                                 conv2_block3_3_bn[0][0]          \n",
            "__________________________________________________________________________________________________\n",
            "conv2_block3_out (Activation)   (None, 64, 64, 256)  0           conv2_block3_add[0][0]           \n",
            "__________________________________________________________________________________________________\n",
            "conv3_block1_1_conv (Conv2D)    (None, 32, 32, 128)  32896       conv2_block3_out[0][0]           \n",
            "__________________________________________________________________________________________________\n",
            "conv3_block1_1_bn (BatchNormali (None, 32, 32, 128)  512         conv3_block1_1_conv[0][0]        \n",
            "__________________________________________________________________________________________________\n",
            "conv3_block1_1_relu (Activation (None, 32, 32, 128)  0           conv3_block1_1_bn[0][0]          \n",
            "__________________________________________________________________________________________________\n",
            "conv3_block1_2_conv (Conv2D)    (None, 32, 32, 128)  147584      conv3_block1_1_relu[0][0]        \n",
            "__________________________________________________________________________________________________\n",
            "conv3_block1_2_bn (BatchNormali (None, 32, 32, 128)  512         conv3_block1_2_conv[0][0]        \n",
            "__________________________________________________________________________________________________\n",
            "conv3_block1_2_relu (Activation (None, 32, 32, 128)  0           conv3_block1_2_bn[0][0]          \n",
            "__________________________________________________________________________________________________\n",
            "conv3_block1_0_conv (Conv2D)    (None, 32, 32, 512)  131584      conv2_block3_out[0][0]           \n",
            "__________________________________________________________________________________________________\n",
            "conv3_block1_3_conv (Conv2D)    (None, 32, 32, 512)  66048       conv3_block1_2_relu[0][0]        \n",
            "__________________________________________________________________________________________________\n",
            "conv3_block1_0_bn (BatchNormali (None, 32, 32, 512)  2048        conv3_block1_0_conv[0][0]        \n",
            "__________________________________________________________________________________________________\n",
            "conv3_block1_3_bn (BatchNormali (None, 32, 32, 512)  2048        conv3_block1_3_conv[0][0]        \n",
            "__________________________________________________________________________________________________\n",
            "conv3_block1_add (Add)          (None, 32, 32, 512)  0           conv3_block1_0_bn[0][0]          \n",
            "                                                                 conv3_block1_3_bn[0][0]          \n",
            "__________________________________________________________________________________________________\n",
            "conv3_block1_out (Activation)   (None, 32, 32, 512)  0           conv3_block1_add[0][0]           \n",
            "__________________________________________________________________________________________________\n",
            "conv3_block2_1_conv (Conv2D)    (None, 32, 32, 128)  65664       conv3_block1_out[0][0]           \n",
            "__________________________________________________________________________________________________\n",
            "conv3_block2_1_bn (BatchNormali (None, 32, 32, 128)  512         conv3_block2_1_conv[0][0]        \n",
            "__________________________________________________________________________________________________\n",
            "conv3_block2_1_relu (Activation (None, 32, 32, 128)  0           conv3_block2_1_bn[0][0]          \n",
            "__________________________________________________________________________________________________\n",
            "conv3_block2_2_conv (Conv2D)    (None, 32, 32, 128)  147584      conv3_block2_1_relu[0][0]        \n",
            "__________________________________________________________________________________________________\n",
            "conv3_block2_2_bn (BatchNormali (None, 32, 32, 128)  512         conv3_block2_2_conv[0][0]        \n",
            "__________________________________________________________________________________________________\n",
            "conv3_block2_2_relu (Activation (None, 32, 32, 128)  0           conv3_block2_2_bn[0][0]          \n",
            "__________________________________________________________________________________________________\n",
            "conv3_block2_3_conv (Conv2D)    (None, 32, 32, 512)  66048       conv3_block2_2_relu[0][0]        \n",
            "__________________________________________________________________________________________________\n",
            "conv3_block2_3_bn (BatchNormali (None, 32, 32, 512)  2048        conv3_block2_3_conv[0][0]        \n",
            "__________________________________________________________________________________________________\n",
            "conv3_block2_add (Add)          (None, 32, 32, 512)  0           conv3_block1_out[0][0]           \n",
            "                                                                 conv3_block2_3_bn[0][0]          \n",
            "__________________________________________________________________________________________________\n",
            "conv3_block2_out (Activation)   (None, 32, 32, 512)  0           conv3_block2_add[0][0]           \n",
            "__________________________________________________________________________________________________\n",
            "conv3_block3_1_conv (Conv2D)    (None, 32, 32, 128)  65664       conv3_block2_out[0][0]           \n",
            "__________________________________________________________________________________________________\n",
            "conv3_block3_1_bn (BatchNormali (None, 32, 32, 128)  512         conv3_block3_1_conv[0][0]        \n",
            "__________________________________________________________________________________________________\n",
            "conv3_block3_1_relu (Activation (None, 32, 32, 128)  0           conv3_block3_1_bn[0][0]          \n",
            "__________________________________________________________________________________________________\n",
            "conv3_block3_2_conv (Conv2D)    (None, 32, 32, 128)  147584      conv3_block3_1_relu[0][0]        \n",
            "__________________________________________________________________________________________________\n",
            "conv3_block3_2_bn (BatchNormali (None, 32, 32, 128)  512         conv3_block3_2_conv[0][0]        \n",
            "__________________________________________________________________________________________________\n",
            "conv3_block3_2_relu (Activation (None, 32, 32, 128)  0           conv3_block3_2_bn[0][0]          \n",
            "__________________________________________________________________________________________________\n",
            "conv3_block3_3_conv (Conv2D)    (None, 32, 32, 512)  66048       conv3_block3_2_relu[0][0]        \n",
            "__________________________________________________________________________________________________\n",
            "conv3_block3_3_bn (BatchNormali (None, 32, 32, 512)  2048        conv3_block3_3_conv[0][0]        \n",
            "__________________________________________________________________________________________________\n",
            "conv3_block3_add (Add)          (None, 32, 32, 512)  0           conv3_block2_out[0][0]           \n",
            "                                                                 conv3_block3_3_bn[0][0]          \n",
            "__________________________________________________________________________________________________\n",
            "conv3_block3_out (Activation)   (None, 32, 32, 512)  0           conv3_block3_add[0][0]           \n",
            "__________________________________________________________________________________________________\n",
            "conv3_block4_1_conv (Conv2D)    (None, 32, 32, 128)  65664       conv3_block3_out[0][0]           \n",
            "__________________________________________________________________________________________________\n",
            "conv3_block4_1_bn (BatchNormali (None, 32, 32, 128)  512         conv3_block4_1_conv[0][0]        \n",
            "__________________________________________________________________________________________________\n",
            "conv3_block4_1_relu (Activation (None, 32, 32, 128)  0           conv3_block4_1_bn[0][0]          \n",
            "__________________________________________________________________________________________________\n",
            "conv3_block4_2_conv (Conv2D)    (None, 32, 32, 128)  147584      conv3_block4_1_relu[0][0]        \n",
            "__________________________________________________________________________________________________\n",
            "conv3_block4_2_bn (BatchNormali (None, 32, 32, 128)  512         conv3_block4_2_conv[0][0]        \n",
            "__________________________________________________________________________________________________\n",
            "conv3_block4_2_relu (Activation (None, 32, 32, 128)  0           conv3_block4_2_bn[0][0]          \n",
            "__________________________________________________________________________________________________\n",
            "conv3_block4_3_conv (Conv2D)    (None, 32, 32, 512)  66048       conv3_block4_2_relu[0][0]        \n",
            "__________________________________________________________________________________________________\n",
            "conv3_block4_3_bn (BatchNormali (None, 32, 32, 512)  2048        conv3_block4_3_conv[0][0]        \n",
            "__________________________________________________________________________________________________\n",
            "conv3_block4_add (Add)          (None, 32, 32, 512)  0           conv3_block3_out[0][0]           \n",
            "                                                                 conv3_block4_3_bn[0][0]          \n",
            "__________________________________________________________________________________________________\n",
            "conv3_block4_out (Activation)   (None, 32, 32, 512)  0           conv3_block4_add[0][0]           \n",
            "__________________________________________________________________________________________________\n",
            "conv4_block1_1_conv (Conv2D)    (None, 16, 16, 256)  131328      conv3_block4_out[0][0]           \n",
            "__________________________________________________________________________________________________\n",
            "conv4_block1_1_bn (BatchNormali (None, 16, 16, 256)  1024        conv4_block1_1_conv[0][0]        \n",
            "__________________________________________________________________________________________________\n",
            "conv4_block1_1_relu (Activation (None, 16, 16, 256)  0           conv4_block1_1_bn[0][0]          \n",
            "__________________________________________________________________________________________________\n",
            "conv4_block1_2_conv (Conv2D)    (None, 16, 16, 256)  590080      conv4_block1_1_relu[0][0]        \n",
            "__________________________________________________________________________________________________\n",
            "conv4_block1_2_bn (BatchNormali (None, 16, 16, 256)  1024        conv4_block1_2_conv[0][0]        \n",
            "__________________________________________________________________________________________________\n",
            "conv4_block1_2_relu (Activation (None, 16, 16, 256)  0           conv4_block1_2_bn[0][0]          \n",
            "__________________________________________________________________________________________________\n",
            "conv4_block1_0_conv (Conv2D)    (None, 16, 16, 1024) 525312      conv3_block4_out[0][0]           \n",
            "__________________________________________________________________________________________________\n",
            "conv4_block1_3_conv (Conv2D)    (None, 16, 16, 1024) 263168      conv4_block1_2_relu[0][0]        \n",
            "__________________________________________________________________________________________________\n",
            "conv4_block1_0_bn (BatchNormali (None, 16, 16, 1024) 4096        conv4_block1_0_conv[0][0]        \n",
            "__________________________________________________________________________________________________\n",
            "conv4_block1_3_bn (BatchNormali (None, 16, 16, 1024) 4096        conv4_block1_3_conv[0][0]        \n",
            "__________________________________________________________________________________________________\n",
            "conv4_block1_add (Add)          (None, 16, 16, 1024) 0           conv4_block1_0_bn[0][0]          \n",
            "                                                                 conv4_block1_3_bn[0][0]          \n",
            "__________________________________________________________________________________________________\n",
            "conv4_block1_out (Activation)   (None, 16, 16, 1024) 0           conv4_block1_add[0][0]           \n",
            "__________________________________________________________________________________________________\n",
            "conv4_block2_1_conv (Conv2D)    (None, 16, 16, 256)  262400      conv4_block1_out[0][0]           \n",
            "__________________________________________________________________________________________________\n",
            "conv4_block2_1_bn (BatchNormali (None, 16, 16, 256)  1024        conv4_block2_1_conv[0][0]        \n",
            "__________________________________________________________________________________________________\n",
            "conv4_block2_1_relu (Activation (None, 16, 16, 256)  0           conv4_block2_1_bn[0][0]          \n",
            "__________________________________________________________________________________________________\n",
            "conv4_block2_2_conv (Conv2D)    (None, 16, 16, 256)  590080      conv4_block2_1_relu[0][0]        \n",
            "__________________________________________________________________________________________________\n",
            "conv4_block2_2_bn (BatchNormali (None, 16, 16, 256)  1024        conv4_block2_2_conv[0][0]        \n",
            "__________________________________________________________________________________________________\n",
            "conv4_block2_2_relu (Activation (None, 16, 16, 256)  0           conv4_block2_2_bn[0][0]          \n",
            "__________________________________________________________________________________________________\n",
            "conv4_block2_3_conv (Conv2D)    (None, 16, 16, 1024) 263168      conv4_block2_2_relu[0][0]        \n",
            "__________________________________________________________________________________________________\n",
            "conv4_block2_3_bn (BatchNormali (None, 16, 16, 1024) 4096        conv4_block2_3_conv[0][0]        \n",
            "__________________________________________________________________________________________________\n",
            "conv4_block2_add (Add)          (None, 16, 16, 1024) 0           conv4_block1_out[0][0]           \n",
            "                                                                 conv4_block2_3_bn[0][0]          \n",
            "__________________________________________________________________________________________________\n",
            "conv4_block2_out (Activation)   (None, 16, 16, 1024) 0           conv4_block2_add[0][0]           \n",
            "__________________________________________________________________________________________________\n",
            "conv4_block3_1_conv (Conv2D)    (None, 16, 16, 256)  262400      conv4_block2_out[0][0]           \n",
            "__________________________________________________________________________________________________\n",
            "conv4_block3_1_bn (BatchNormali (None, 16, 16, 256)  1024        conv4_block3_1_conv[0][0]        \n",
            "__________________________________________________________________________________________________\n",
            "conv4_block3_1_relu (Activation (None, 16, 16, 256)  0           conv4_block3_1_bn[0][0]          \n",
            "__________________________________________________________________________________________________\n",
            "conv4_block3_2_conv (Conv2D)    (None, 16, 16, 256)  590080      conv4_block3_1_relu[0][0]        \n",
            "__________________________________________________________________________________________________\n",
            "conv4_block3_2_bn (BatchNormali (None, 16, 16, 256)  1024        conv4_block3_2_conv[0][0]        \n",
            "__________________________________________________________________________________________________\n",
            "conv4_block3_2_relu (Activation (None, 16, 16, 256)  0           conv4_block3_2_bn[0][0]          \n",
            "__________________________________________________________________________________________________\n",
            "conv4_block3_3_conv (Conv2D)    (None, 16, 16, 1024) 263168      conv4_block3_2_relu[0][0]        \n",
            "__________________________________________________________________________________________________\n",
            "conv4_block3_3_bn (BatchNormali (None, 16, 16, 1024) 4096        conv4_block3_3_conv[0][0]        \n",
            "__________________________________________________________________________________________________\n",
            "conv4_block3_add (Add)          (None, 16, 16, 1024) 0           conv4_block2_out[0][0]           \n",
            "                                                                 conv4_block3_3_bn[0][0]          \n",
            "__________________________________________________________________________________________________\n",
            "conv4_block3_out (Activation)   (None, 16, 16, 1024) 0           conv4_block3_add[0][0]           \n",
            "__________________________________________________________________________________________________\n",
            "conv4_block4_1_conv (Conv2D)    (None, 16, 16, 256)  262400      conv4_block3_out[0][0]           \n",
            "__________________________________________________________________________________________________\n",
            "conv4_block4_1_bn (BatchNormali (None, 16, 16, 256)  1024        conv4_block4_1_conv[0][0]        \n",
            "__________________________________________________________________________________________________\n",
            "conv4_block4_1_relu (Activation (None, 16, 16, 256)  0           conv4_block4_1_bn[0][0]          \n",
            "__________________________________________________________________________________________________\n",
            "conv4_block4_2_conv (Conv2D)    (None, 16, 16, 256)  590080      conv4_block4_1_relu[0][0]        \n",
            "__________________________________________________________________________________________________\n",
            "conv4_block4_2_bn (BatchNormali (None, 16, 16, 256)  1024        conv4_block4_2_conv[0][0]        \n",
            "__________________________________________________________________________________________________\n",
            "conv4_block4_2_relu (Activation (None, 16, 16, 256)  0           conv4_block4_2_bn[0][0]          \n",
            "__________________________________________________________________________________________________\n",
            "conv4_block4_3_conv (Conv2D)    (None, 16, 16, 1024) 263168      conv4_block4_2_relu[0][0]        \n",
            "__________________________________________________________________________________________________\n",
            "conv4_block4_3_bn (BatchNormali (None, 16, 16, 1024) 4096        conv4_block4_3_conv[0][0]        \n",
            "__________________________________________________________________________________________________\n",
            "conv4_block4_add (Add)          (None, 16, 16, 1024) 0           conv4_block3_out[0][0]           \n",
            "                                                                 conv4_block4_3_bn[0][0]          \n",
            "__________________________________________________________________________________________________\n",
            "conv4_block4_out (Activation)   (None, 16, 16, 1024) 0           conv4_block4_add[0][0]           \n",
            "__________________________________________________________________________________________________\n",
            "conv4_block5_1_conv (Conv2D)    (None, 16, 16, 256)  262400      conv4_block4_out[0][0]           \n",
            "__________________________________________________________________________________________________\n",
            "conv4_block5_1_bn (BatchNormali (None, 16, 16, 256)  1024        conv4_block5_1_conv[0][0]        \n",
            "__________________________________________________________________________________________________\n",
            "conv4_block5_1_relu (Activation (None, 16, 16, 256)  0           conv4_block5_1_bn[0][0]          \n",
            "__________________________________________________________________________________________________\n",
            "conv4_block5_2_conv (Conv2D)    (None, 16, 16, 256)  590080      conv4_block5_1_relu[0][0]        \n",
            "__________________________________________________________________________________________________\n",
            "conv4_block5_2_bn (BatchNormali (None, 16, 16, 256)  1024        conv4_block5_2_conv[0][0]        \n",
            "__________________________________________________________________________________________________\n",
            "conv4_block5_2_relu (Activation (None, 16, 16, 256)  0           conv4_block5_2_bn[0][0]          \n",
            "__________________________________________________________________________________________________\n",
            "conv4_block5_3_conv (Conv2D)    (None, 16, 16, 1024) 263168      conv4_block5_2_relu[0][0]        \n",
            "__________________________________________________________________________________________________\n",
            "conv4_block5_3_bn (BatchNormali (None, 16, 16, 1024) 4096        conv4_block5_3_conv[0][0]        \n",
            "__________________________________________________________________________________________________\n",
            "conv4_block5_add (Add)          (None, 16, 16, 1024) 0           conv4_block4_out[0][0]           \n",
            "                                                                 conv4_block5_3_bn[0][0]          \n",
            "__________________________________________________________________________________________________\n",
            "conv4_block5_out (Activation)   (None, 16, 16, 1024) 0           conv4_block5_add[0][0]           \n",
            "__________________________________________________________________________________________________\n",
            "conv4_block6_1_conv (Conv2D)    (None, 16, 16, 256)  262400      conv4_block5_out[0][0]           \n",
            "__________________________________________________________________________________________________\n",
            "conv4_block6_1_bn (BatchNormali (None, 16, 16, 256)  1024        conv4_block6_1_conv[0][0]        \n",
            "__________________________________________________________________________________________________\n",
            "conv4_block6_1_relu (Activation (None, 16, 16, 256)  0           conv4_block6_1_bn[0][0]          \n",
            "__________________________________________________________________________________________________\n",
            "conv4_block6_2_conv (Conv2D)    (None, 16, 16, 256)  590080      conv4_block6_1_relu[0][0]        \n",
            "__________________________________________________________________________________________________\n",
            "conv4_block6_2_bn (BatchNormali (None, 16, 16, 256)  1024        conv4_block6_2_conv[0][0]        \n",
            "__________________________________________________________________________________________________\n",
            "conv4_block6_2_relu (Activation (None, 16, 16, 256)  0           conv4_block6_2_bn[0][0]          \n",
            "__________________________________________________________________________________________________\n",
            "conv4_block6_3_conv (Conv2D)    (None, 16, 16, 1024) 263168      conv4_block6_2_relu[0][0]        \n",
            "__________________________________________________________________________________________________\n",
            "conv4_block6_3_bn (BatchNormali (None, 16, 16, 1024) 4096        conv4_block6_3_conv[0][0]        \n",
            "__________________________________________________________________________________________________\n",
            "conv4_block6_add (Add)          (None, 16, 16, 1024) 0           conv4_block5_out[0][0]           \n",
            "                                                                 conv4_block6_3_bn[0][0]          \n",
            "__________________________________________________________________________________________________\n",
            "conv4_block6_out (Activation)   (None, 16, 16, 1024) 0           conv4_block6_add[0][0]           \n",
            "__________________________________________________________________________________________________\n",
            "conv5_block1_1_conv (Conv2D)    (None, 8, 8, 512)    524800      conv4_block6_out[0][0]           \n",
            "__________________________________________________________________________________________________\n",
            "conv5_block1_1_bn (BatchNormali (None, 8, 8, 512)    2048        conv5_block1_1_conv[0][0]        \n",
            "__________________________________________________________________________________________________\n",
            "conv5_block1_1_relu (Activation (None, 8, 8, 512)    0           conv5_block1_1_bn[0][0]          \n",
            "__________________________________________________________________________________________________\n",
            "conv5_block1_2_conv (Conv2D)    (None, 8, 8, 512)    2359808     conv5_block1_1_relu[0][0]        \n",
            "__________________________________________________________________________________________________\n",
            "conv5_block1_2_bn (BatchNormali (None, 8, 8, 512)    2048        conv5_block1_2_conv[0][0]        \n",
            "__________________________________________________________________________________________________\n",
            "conv5_block1_2_relu (Activation (None, 8, 8, 512)    0           conv5_block1_2_bn[0][0]          \n",
            "__________________________________________________________________________________________________\n",
            "conv5_block1_0_conv (Conv2D)    (None, 8, 8, 2048)   2099200     conv4_block6_out[0][0]           \n",
            "__________________________________________________________________________________________________\n",
            "conv5_block1_3_conv (Conv2D)    (None, 8, 8, 2048)   1050624     conv5_block1_2_relu[0][0]        \n",
            "__________________________________________________________________________________________________\n",
            "conv5_block1_0_bn (BatchNormali (None, 8, 8, 2048)   8192        conv5_block1_0_conv[0][0]        \n",
            "__________________________________________________________________________________________________\n",
            "conv5_block1_3_bn (BatchNormali (None, 8, 8, 2048)   8192        conv5_block1_3_conv[0][0]        \n",
            "__________________________________________________________________________________________________\n",
            "conv5_block1_add (Add)          (None, 8, 8, 2048)   0           conv5_block1_0_bn[0][0]          \n",
            "                                                                 conv5_block1_3_bn[0][0]          \n",
            "__________________________________________________________________________________________________\n",
            "conv5_block1_out (Activation)   (None, 8, 8, 2048)   0           conv5_block1_add[0][0]           \n",
            "__________________________________________________________________________________________________\n",
            "conv5_block2_1_conv (Conv2D)    (None, 8, 8, 512)    1049088     conv5_block1_out[0][0]           \n",
            "__________________________________________________________________________________________________\n",
            "conv5_block2_1_bn (BatchNormali (None, 8, 8, 512)    2048        conv5_block2_1_conv[0][0]        \n",
            "__________________________________________________________________________________________________\n",
            "conv5_block2_1_relu (Activation (None, 8, 8, 512)    0           conv5_block2_1_bn[0][0]          \n",
            "__________________________________________________________________________________________________\n",
            "conv5_block2_2_conv (Conv2D)    (None, 8, 8, 512)    2359808     conv5_block2_1_relu[0][0]        \n",
            "__________________________________________________________________________________________________\n",
            "conv5_block2_2_bn (BatchNormali (None, 8, 8, 512)    2048        conv5_block2_2_conv[0][0]        \n",
            "__________________________________________________________________________________________________\n",
            "conv5_block2_2_relu (Activation (None, 8, 8, 512)    0           conv5_block2_2_bn[0][0]          \n",
            "__________________________________________________________________________________________________\n",
            "conv5_block2_3_conv (Conv2D)    (None, 8, 8, 2048)   1050624     conv5_block2_2_relu[0][0]        \n",
            "__________________________________________________________________________________________________\n",
            "conv5_block2_3_bn (BatchNormali (None, 8, 8, 2048)   8192        conv5_block2_3_conv[0][0]        \n",
            "__________________________________________________________________________________________________\n",
            "conv5_block2_add (Add)          (None, 8, 8, 2048)   0           conv5_block1_out[0][0]           \n",
            "                                                                 conv5_block2_3_bn[0][0]          \n",
            "__________________________________________________________________________________________________\n",
            "conv5_block2_out (Activation)   (None, 8, 8, 2048)   0           conv5_block2_add[0][0]           \n",
            "__________________________________________________________________________________________________\n",
            "conv5_block3_1_conv (Conv2D)    (None, 8, 8, 512)    1049088     conv5_block2_out[0][0]           \n",
            "__________________________________________________________________________________________________\n",
            "conv5_block3_1_bn (BatchNormali (None, 8, 8, 512)    2048        conv5_block3_1_conv[0][0]        \n",
            "__________________________________________________________________________________________________\n",
            "conv5_block3_1_relu (Activation (None, 8, 8, 512)    0           conv5_block3_1_bn[0][0]          \n",
            "__________________________________________________________________________________________________\n",
            "conv5_block3_2_conv (Conv2D)    (None, 8, 8, 512)    2359808     conv5_block3_1_relu[0][0]        \n",
            "__________________________________________________________________________________________________\n",
            "conv5_block3_2_bn (BatchNormali (None, 8, 8, 512)    2048        conv5_block3_2_conv[0][0]        \n",
            "__________________________________________________________________________________________________\n",
            "conv5_block3_2_relu (Activation (None, 8, 8, 512)    0           conv5_block3_2_bn[0][0]          \n",
            "__________________________________________________________________________________________________\n",
            "conv5_block3_3_conv (Conv2D)    (None, 8, 8, 2048)   1050624     conv5_block3_2_relu[0][0]        \n",
            "__________________________________________________________________________________________________\n",
            "conv5_block3_3_bn (BatchNormali (None, 8, 8, 2048)   8192        conv5_block3_3_conv[0][0]        \n",
            "__________________________________________________________________________________________________\n",
            "conv5_block3_add (Add)          (None, 8, 8, 2048)   0           conv5_block2_out[0][0]           \n",
            "                                                                 conv5_block3_3_bn[0][0]          \n",
            "__________________________________________________________________________________________________\n",
            "conv5_block3_out (Activation)   (None, 8, 8, 2048)   0           conv5_block3_add[0][0]           \n",
            "==================================================================================================\n",
            "Total params: 23,587,712\n",
            "Trainable params: 0\n",
            "Non-trainable params: 23,587,712\n",
            "__________________________________________________________________________________________________\n"
          ],
          "name": "stdout"
        }
      ]
    },
    {
      "cell_type": "markdown",
      "metadata": {
        "id": "ExIfE4zB-zkz"
      },
      "source": [
        "## Preliminary Run - No fine tuning\n"
      ]
    },
    {
      "cell_type": "code",
      "metadata": {
        "id": "JISxUNw64enO"
      },
      "source": [
        "def train_with_wandb(image_shape=(256, 256), epochs=30, fine_tune_epochs=10):\n",
        "\n",
        "    config_defaults = {\"base_model\": \"InceptionV3\"}\n",
        "\n",
        "    wandb.init(config=config_defaults, project=\"cs6910-assignment2\", magic=True)\n",
        "\n",
        "    ## 1. Data loading\n",
        "    print(\"1. Loading the dataset ...\\n\")\n",
        "    train_ds, val_ds = load_data(image_shape)\n",
        "\n",
        "    ## 2. Initializing the model\n",
        "    print(\"2. Initializing the model ...\\n\")\n",
        "    model = NeuralNet(wandb.config.base_model, image_shape=image_shape)\n",
        "\n",
        "    ## 3. Compiling the model\n",
        "    base_learning_rate = 0.0002\n",
        "\n",
        "    print(\"3. Compiling the model ...\\n\")\n",
        "    model.compile(optimizer=tf.keras.optimizers.RMSprop(learning_rate=base_learning_rate),\n",
        "                  loss=tf.keras.losses.CategoricalCrossentropy(from_logits=True),\n",
        "                  metrics=['accuracy'])\n",
        "    \n",
        "    ## 4. Fitting the model\n",
        "    print(\"4. Fitting the model ...\\n\")\n",
        "    model.fit(train_ds, \n",
        "              validation_data=val_ds,\n",
        "              epochs=epochs,\n",
        "              callbacks=[WandbCallback()])\n",
        "    print(\"Model trained successfully!!\\n\")\n",
        "\n",
        "    ## 5. Fine tuning the model\n",
        "    to_tune_defaults = {\n",
        "        \"InceptionV3\": 55,\n",
        "        \"InceptionResNetV2\": 55,\n",
        "        \"ResNet50\": 50,\n",
        "        \"Xception\": 50\n",
        "    }\n",
        "    \n",
        "    model.base_model.trainable = True\n",
        "    print(f\"Total layers in base model is {len(model.base_model.layers)}\\n\")\n",
        "\n",
        "    fine_tune_at = len(model.base_model.layers) - to_tune_defaults[wandb.config.base_model]\n",
        "\n",
        "    for layer in model.base_model.layers[:fine_tune_at]:\n",
        "        layer.trainable =  False\n",
        "\n",
        "    model.compile(optimizer=tf.keras.optimizers.RMSprop(learning_rate=base_learning_rate/10),\n",
        "                  loss=tf.keras.losses.CategoricalCrossentropy(from_logits=True),\n",
        "                  metrics=['accuracy'])\n",
        "    \n",
        "    print(\"Fine tuning the model ...\\n\")\n",
        "    model.fit(train_ds, \n",
        "              validation_data=val_ds,\n",
        "              epochs=fine_tune_epochs,\n",
        "              callbacks=[WandbCallback()])\n",
        "    print(\"Model tuned successfully!!\\n\")\n"
      ],
      "execution_count": 15,
      "outputs": []
    },
    {
      "cell_type": "code",
      "metadata": {
        "colab": {
          "base_uri": "https://localhost:8080/",
          "height": 101
        },
        "id": "T1-VFk6hOAGO",
        "outputId": "89568fdc-5638-4b84-ac39-53696200f013"
      },
      "source": [
        "wandb.login()"
      ],
      "execution_count": 13,
      "outputs": [
        {
          "output_type": "display_data",
          "data": {
            "application/javascript": [
              "\n",
              "        window._wandbApiKey = new Promise((resolve, reject) => {\n",
              "            function loadScript(url) {\n",
              "            return new Promise(function(resolve, reject) {\n",
              "                let newScript = document.createElement(\"script\");\n",
              "                newScript.onerror = reject;\n",
              "                newScript.onload = resolve;\n",
              "                document.body.appendChild(newScript);\n",
              "                newScript.src = url;\n",
              "            });\n",
              "            }\n",
              "            loadScript(\"https://cdn.jsdelivr.net/npm/postmate/build/postmate.min.js\").then(() => {\n",
              "            const iframe = document.createElement('iframe')\n",
              "            iframe.style.cssText = \"width:0;height:0;border:none\"\n",
              "            document.body.appendChild(iframe)\n",
              "            const handshake = new Postmate({\n",
              "                container: iframe,\n",
              "                url: 'https://wandb.ai/authorize'\n",
              "            });\n",
              "            const timeout = setTimeout(() => reject(\"Couldn't auto authenticate\"), 5000)\n",
              "            handshake.then(function(child) {\n",
              "                child.on('authorize', data => {\n",
              "                    clearTimeout(timeout)\n",
              "                    resolve(data)\n",
              "                });\n",
              "            });\n",
              "            })\n",
              "        });\n",
              "    "
            ],
            "text/plain": [
              "<IPython.core.display.Javascript object>"
            ]
          },
          "metadata": {
            "tags": []
          }
        },
        {
          "output_type": "stream",
          "text": [
            "\u001b[34m\u001b[1mwandb\u001b[0m: You can find your API key in your browser here: https://wandb.ai/authorize\n"
          ],
          "name": "stderr"
        },
        {
          "output_type": "stream",
          "text": [
            "wandb: Paste an API key from your profile and hit enter: ··········\n"
          ],
          "name": "stdout"
        },
        {
          "output_type": "stream",
          "text": [
            "\u001b[34m\u001b[1mwandb\u001b[0m: Appending key for api.wandb.ai to your netrc file: /root/.netrc\n"
          ],
          "name": "stderr"
        },
        {
          "output_type": "execute_result",
          "data": {
            "text/plain": [
              "True"
            ]
          },
          "metadata": {
            "tags": []
          },
          "execution_count": 13
        }
      ]
    },
    {
      "cell_type": "code",
      "metadata": {
        "colab": {
          "base_uri": "https://localhost:8080/"
        },
        "id": "Bezk3AqY61FB",
        "outputId": "704daf77-8fb4-4020-9053-69d5b4a9f593"
      },
      "source": [
        "## Setting up the sweep ##\n",
        "sweep_config = {\n",
        "  \"name\": \"My Sweep\",\n",
        "  \"method\": \"grid\",\n",
        "  \"parameters\": {\n",
        "        \"base_model\": {\n",
        "            \"values\": [\"InceptionV3\", \"InceptionResNetV2\", \"ResNet50\", \"Xception\"]\n",
        "        }\n",
        "    }\n",
        "}\n",
        "\n",
        "\n",
        "sweep_id = wandb.sweep(sweep_config)"
      ],
      "execution_count": null,
      "outputs": [
        {
          "output_type": "stream",
          "text": [
            "Create sweep with ID: wbr7x3ie\n",
            "Sweep URL: https://wandb.ai/avyay-sujay/uncategorized/sweeps/wbr7x3ie\n"
          ],
          "name": "stdout"
        }
      ]
    },
    {
      "cell_type": "code",
      "metadata": {
        "colab": {
          "base_uri": "https://localhost:8080/",
          "height": 1000,
          "referenced_widgets": [
            "66ad3344280441ec870e91d201701e4f",
            "36c2c12330414554a3ce23605aa15e41",
            "b6a2071bc21c4aafbbb9f7b0b238fa2d",
            "2d6de9bcb1834b33a333acaaa52e117e",
            "b6384fc074f349c2aa6d8523280b5447",
            "b3eae86d1a154e839766be51264ea368",
            "4a7f8cadd3c448378300f79a0ff220f7",
            "806f0ba32aaa43b4bbcfe75503cb8622",
            "fa9df06b7cad45cd9f00ad73aec111e8",
            "6f4512d0db49414ebce9cb75f056f2fd",
            "82ae6f172d614701845445cda009d74c",
            "3da63bd7784549069eea30d57adf045d",
            "59c8f764d46c4fb68cbd841676aef9a3",
            "35424201f90e41168e79cfe3545a2759",
            "b0e6df5ff6204b9994fcbbf30a25da2b",
            "29661b1b915240a991696a1a95fa82b6",
            "02b3f8f466f14048b51d90573db9db14",
            "8ede235531574778ba69327aa8045d93",
            "118f66642d674af2b1210109582dbb61",
            "707ba62d43ef4fa2a420636de30cb107",
            "0fd69b7af41548daa9830484183601f5",
            "7bd7c079b77847acb374950532b93200",
            "9339733ee15e4f8a87e4d87d78d55ab8",
            "abeec411554f49d2b09dfdc5d90e41b5",
            "ee6c9664d88b499b8533dd54e70b42ea",
            "ded55daeea584ce79c19c14470910a1a",
            "665af22f3033459cb73eae5e53a70e08",
            "abcfc0d58c134e45bbed19e8261579d1",
            "6acc6c99470442b3ac44eeaaef9bd6aa",
            "20afbf7cd2164e538cee597c8853cb1e",
            "82cc46ea9f8545dba41b03eaf3759a38",
            "294c2918a4f948a1ae4fe3e3cb9aeead"
          ]
        },
        "id": "UNGMv3wP8V1W",
        "outputId": "2935b9a1-df06-49bb-e6b3-3f1c9465fa26"
      },
      "source": [
        "# Running the sweep\n",
        "wandb.agent(sweep_id, function=train_with_wandb)"
      ],
      "execution_count": null,
      "outputs": [
        {
          "output_type": "stream",
          "text": [
            "\u001b[34m\u001b[1mwandb\u001b[0m: Agent Starting Run: j9xeem63 with config:\n",
            "\u001b[34m\u001b[1mwandb\u001b[0m: \tbase_model: InceptionV3\n",
            "\u001b[34m\u001b[1mwandb\u001b[0m: \u001b[33mWARNING\u001b[0m Ignored wandb.init() arg project when running a sweep\n"
          ],
          "name": "stderr"
        },
        {
          "output_type": "display_data",
          "data": {
            "text/html": [
              "\n",
              "                Tracking run with wandb version 0.10.24<br/>\n",
              "                Syncing run <strong style=\"color:#cdcd00\">true-sweep-1</strong> to <a href=\"https://wandb.ai\" target=\"_blank\">Weights & Biases</a> <a href=\"https://docs.wandb.com/integrations/jupyter.html\" target=\"_blank\">(Documentation)</a>.<br/>\n",
              "                Project page: <a href=\"https://wandb.ai/avyay-sujay/uncategorized\" target=\"_blank\">https://wandb.ai/avyay-sujay/uncategorized</a><br/>\n",
              "                Sweep page: <a href=\"https://wandb.ai/avyay-sujay/uncategorized/sweeps/wbr7x3ie\" target=\"_blank\">https://wandb.ai/avyay-sujay/uncategorized/sweeps/wbr7x3ie</a><br/>\n",
              "Run page: <a href=\"https://wandb.ai/avyay-sujay/uncategorized/runs/j9xeem63\" target=\"_blank\">https://wandb.ai/avyay-sujay/uncategorized/runs/j9xeem63</a><br/>\n",
              "                Run data is saved locally in <code>/content/wandb/run-20210402_102134-j9xeem63</code><br/><br/>\n",
              "            "
            ],
            "text/plain": [
              "<IPython.core.display.HTML object>"
            ]
          },
          "metadata": {
            "tags": []
          }
        },
        {
          "output_type": "stream",
          "text": [
            "Loading the dataset ...\n",
            "Found 10000 images belonging to 10 classes.\n",
            "Found 2000 images belonging to 10 classes.\n",
            "Initializing the model ...\n",
            "Compiling the model ...\n",
            "Fitting the model ...\n",
            "Epoch 1/6\n",
            "79/79 [==============================] - 2353s 30s/step - loss: 3.1173 - accuracy: 0.1121 - val_loss: 2.3830 - val_accuracy: 0.1370\n"
          ],
          "name": "stdout"
        },
        {
          "output_type": "stream",
          "text": [
            "\u001b[34m\u001b[1mwandb\u001b[0m: \u001b[32m\u001b[41mERROR\u001b[0m Can't save model, h5py returned error: Saving the model to HDF5 format requires the model to be a Functional model or a Sequential model. It does not work for subclassed models, because such models are defined via the body of a Python method, which isn't safely serializable. Consider saving to the Tensorflow SavedModel format (by setting save_format=\"tf\") or using `save_weights`.\n"
          ],
          "name": "stderr"
        },
        {
          "output_type": "stream",
          "text": [
            "Epoch 2/6\n",
            "79/79 [==============================] - 205s 3s/step - loss: 2.9485 - accuracy: 0.1345 - val_loss: 2.4525 - val_accuracy: 0.1485\n",
            "Epoch 3/6\n",
            "79/79 [==============================] - 203s 3s/step - loss: 2.8272 - accuracy: 0.1496 - val_loss: 2.5018 - val_accuracy: 0.1570\n",
            "Epoch 4/6\n",
            "79/79 [==============================] - 199s 3s/step - loss: 2.7427 - accuracy: 0.1545 - val_loss: 2.5237 - val_accuracy: 0.1725\n",
            "Epoch 5/6\n",
            "79/79 [==============================] - 200s 3s/step - loss: 2.6285 - accuracy: 0.1674 - val_loss: 2.5121 - val_accuracy: 0.1855\n",
            "Epoch 6/6\n",
            "79/79 [==============================] - 199s 3s/step - loss: 2.5741 - accuracy: 0.1785 - val_loss: 2.4753 - val_accuracy: 0.1945\n"
          ],
          "name": "stdout"
        },
        {
          "output_type": "display_data",
          "data": {
            "text/html": [
              "<br/>Waiting for W&B process to finish, PID 1351<br/>Program ended successfully."
            ],
            "text/plain": [
              "<IPython.core.display.HTML object>"
            ]
          },
          "metadata": {
            "tags": []
          }
        },
        {
          "output_type": "display_data",
          "data": {
            "application/vnd.jupyter.widget-view+json": {
              "model_id": "66ad3344280441ec870e91d201701e4f",
              "version_minor": 0,
              "version_major": 2
            },
            "text/plain": [
              "VBox(children=(Label(value=' 2.80MB of 2.80MB uploaded (0.00MB deduped)\\r'), FloatProgress(value=1.0, max=1.0)…"
            ]
          },
          "metadata": {
            "tags": []
          }
        },
        {
          "output_type": "display_data",
          "data": {
            "text/html": [
              "Find user logs for this run at: <code>/content/wandb/run-20210402_102134-j9xeem63/logs/debug.log</code>"
            ],
            "text/plain": [
              "<IPython.core.display.HTML object>"
            ]
          },
          "metadata": {
            "tags": []
          }
        },
        {
          "output_type": "display_data",
          "data": {
            "text/html": [
              "Find internal logs for this run at: <code>/content/wandb/run-20210402_102134-j9xeem63/logs/debug-internal.log</code>"
            ],
            "text/plain": [
              "<IPython.core.display.HTML object>"
            ]
          },
          "metadata": {
            "tags": []
          }
        },
        {
          "output_type": "display_data",
          "data": {
            "text/html": [
              "<h3>Run summary:</h3><br/><style>\n",
              "    table.wandb td:nth-child(1) { padding: 0 10px; text-align: right }\n",
              "    </style><table class=\"wandb\">\n",
              "<tr><td>epoch</td><td>5</td></tr><tr><td>loss</td><td>2.55493</td></tr><tr><td>accuracy</td><td>0.1818</td></tr><tr><td>val_loss</td><td>2.47525</td></tr><tr><td>val_accuracy</td><td>0.1945</td></tr><tr><td>_runtime</td><td>3394</td></tr><tr><td>_timestamp</td><td>1617362288</td></tr><tr><td>_step</td><td>5</td></tr><tr><td>best_val_loss</td><td>2.38305</td></tr><tr><td>best_epoch</td><td>0</td></tr></table>"
            ],
            "text/plain": [
              "<IPython.core.display.HTML object>"
            ]
          },
          "metadata": {
            "tags": []
          }
        },
        {
          "output_type": "display_data",
          "data": {
            "text/html": [
              "<h3>Run history:</h3><br/><style>\n",
              "    table.wandb td:nth-child(1) { padding: 0 10px; text-align: right }\n",
              "    </style><table class=\"wandb\">\n",
              "<tr><td>epoch</td><td>▁▂▄▅▇█</td></tr><tr><td>loss</td><td>█▆▄▃▂▁</td></tr><tr><td>accuracy</td><td>▁▃▅▅▇█</td></tr><tr><td>val_loss</td><td>▁▄▇█▇▆</td></tr><tr><td>val_accuracy</td><td>▁▂▃▅▇█</td></tr><tr><td>_runtime</td><td>▁▂▄▅▇█</td></tr><tr><td>_timestamp</td><td>▁▂▄▅▇█</td></tr><tr><td>_step</td><td>▁▂▄▅▇█</td></tr></table><br/>"
            ],
            "text/plain": [
              "<IPython.core.display.HTML object>"
            ]
          },
          "metadata": {
            "tags": []
          }
        },
        {
          "output_type": "display_data",
          "data": {
            "text/html": [
              "Synced 5 W&B file(s), 1 media file(s), 0 artifact file(s) and 10 other file(s)"
            ],
            "text/plain": [
              "<IPython.core.display.HTML object>"
            ]
          },
          "metadata": {
            "tags": []
          }
        },
        {
          "output_type": "display_data",
          "data": {
            "text/html": [
              "\n",
              "                    <br/>Synced <strong style=\"color:#cdcd00\">true-sweep-1</strong>: <a href=\"https://wandb.ai/avyay-sujay/uncategorized/runs/j9xeem63\" target=\"_blank\">https://wandb.ai/avyay-sujay/uncategorized/runs/j9xeem63</a><br/>\n",
              "                "
            ],
            "text/plain": [
              "<IPython.core.display.HTML object>"
            ]
          },
          "metadata": {
            "tags": []
          }
        },
        {
          "output_type": "stream",
          "text": [
            "\u001b[34m\u001b[1mwandb\u001b[0m: Agent Starting Run: wsgex9sb with config:\n",
            "\u001b[34m\u001b[1mwandb\u001b[0m: \tbase_model: InceptionResNetV2\n",
            "\u001b[34m\u001b[1mwandb\u001b[0m: \u001b[33mWARNING\u001b[0m Ignored wandb.init() arg project when running a sweep\n"
          ],
          "name": "stderr"
        },
        {
          "output_type": "display_data",
          "data": {
            "text/html": [
              "\n",
              "                Tracking run with wandb version 0.10.24<br/>\n",
              "                Syncing run <strong style=\"color:#cdcd00\">floral-sweep-2</strong> to <a href=\"https://wandb.ai\" target=\"_blank\">Weights & Biases</a> <a href=\"https://docs.wandb.com/integrations/jupyter.html\" target=\"_blank\">(Documentation)</a>.<br/>\n",
              "                Project page: <a href=\"https://wandb.ai/avyay-sujay/uncategorized\" target=\"_blank\">https://wandb.ai/avyay-sujay/uncategorized</a><br/>\n",
              "                Sweep page: <a href=\"https://wandb.ai/avyay-sujay/uncategorized/sweeps/wbr7x3ie\" target=\"_blank\">https://wandb.ai/avyay-sujay/uncategorized/sweeps/wbr7x3ie</a><br/>\n",
              "Run page: <a href=\"https://wandb.ai/avyay-sujay/uncategorized/runs/wsgex9sb\" target=\"_blank\">https://wandb.ai/avyay-sujay/uncategorized/runs/wsgex9sb</a><br/>\n",
              "                Run data is saved locally in <code>/content/wandb/run-20210402_111816-wsgex9sb</code><br/><br/>\n",
              "            "
            ],
            "text/plain": [
              "<IPython.core.display.HTML object>"
            ]
          },
          "metadata": {
            "tags": []
          }
        },
        {
          "output_type": "stream",
          "text": [
            "Loading the dataset ...\n",
            "Found 10000 images belonging to 10 classes.\n",
            "Found 2000 images belonging to 10 classes.\n",
            "Initializing the model ...\n",
            "Compiling the model ...\n",
            "Fitting the model ...\n",
            "Epoch 1/6\n",
            "79/79 [==============================] - 225s 3s/step - loss: 3.0100 - accuracy: 0.0987 - val_loss: 2.5078 - val_accuracy: 0.1120\n"
          ],
          "name": "stdout"
        },
        {
          "output_type": "stream",
          "text": [
            "\u001b[34m\u001b[1mwandb\u001b[0m: \u001b[32m\u001b[41mERROR\u001b[0m Can't save model, h5py returned error: Saving the model to HDF5 format requires the model to be a Functional model or a Sequential model. It does not work for subclassed models, because such models are defined via the body of a Python method, which isn't safely serializable. Consider saving to the Tensorflow SavedModel format (by setting save_format=\"tf\") or using `save_weights`.\n"
          ],
          "name": "stderr"
        },
        {
          "output_type": "stream",
          "text": [
            "Epoch 2/6\n",
            "79/79 [==============================] - 205s 3s/step - loss: 2.7796 - accuracy: 0.1269 - val_loss: 2.4934 - val_accuracy: 0.1280\n",
            "Epoch 3/6\n",
            "79/79 [==============================] - 204s 3s/step - loss: 2.6542 - accuracy: 0.1506 - val_loss: 2.4575 - val_accuracy: 0.1640\n",
            "Epoch 4/6\n",
            "79/79 [==============================] - 205s 3s/step - loss: 2.5333 - accuracy: 0.1736 - val_loss: 2.4037 - val_accuracy: 0.1855\n",
            "Epoch 5/6\n",
            "79/79 [==============================] - 206s 3s/step - loss: 2.4241 - accuracy: 0.1962 - val_loss: 2.3354 - val_accuracy: 0.2055\n",
            "Epoch 6/6\n",
            "79/79 [==============================] - 205s 3s/step - loss: 2.3451 - accuracy: 0.2061 - val_loss: 2.2650 - val_accuracy: 0.2235\n"
          ],
          "name": "stdout"
        },
        {
          "output_type": "display_data",
          "data": {
            "text/html": [
              "<br/>Waiting for W&B process to finish, PID 2192<br/>Program ended successfully."
            ],
            "text/plain": [
              "<IPython.core.display.HTML object>"
            ]
          },
          "metadata": {
            "tags": []
          }
        },
        {
          "output_type": "display_data",
          "data": {
            "application/vnd.jupyter.widget-view+json": {
              "model_id": "fa9df06b7cad45cd9f00ad73aec111e8",
              "version_minor": 0,
              "version_major": 2
            },
            "text/plain": [
              "VBox(children=(Label(value=' 7.84MB of 7.84MB uploaded (0.00MB deduped)\\r'), FloatProgress(value=1.0, max=1.0)…"
            ]
          },
          "metadata": {
            "tags": []
          }
        },
        {
          "output_type": "display_data",
          "data": {
            "text/html": [
              "Find user logs for this run at: <code>/content/wandb/run-20210402_111816-wsgex9sb/logs/debug.log</code>"
            ],
            "text/plain": [
              "<IPython.core.display.HTML object>"
            ]
          },
          "metadata": {
            "tags": []
          }
        },
        {
          "output_type": "display_data",
          "data": {
            "text/html": [
              "Find internal logs for this run at: <code>/content/wandb/run-20210402_111816-wsgex9sb/logs/debug-internal.log</code>"
            ],
            "text/plain": [
              "<IPython.core.display.HTML object>"
            ]
          },
          "metadata": {
            "tags": []
          }
        },
        {
          "output_type": "display_data",
          "data": {
            "text/html": [
              "<h3>Run summary:</h3><br/><style>\n",
              "    table.wandb td:nth-child(1) { padding: 0 10px; text-align: right }\n",
              "    </style><table class=\"wandb\">\n",
              "<tr><td>epoch</td><td>5</td></tr><tr><td>loss</td><td>2.32545</td></tr><tr><td>accuracy</td><td>0.2113</td></tr><tr><td>val_loss</td><td>2.26505</td></tr><tr><td>val_accuracy</td><td>0.2235</td></tr><tr><td>_runtime</td><td>1272</td></tr><tr><td>_timestamp</td><td>1617363568</td></tr><tr><td>_step</td><td>5</td></tr><tr><td>best_val_loss</td><td>2.26505</td></tr><tr><td>best_epoch</td><td>5</td></tr></table>"
            ],
            "text/plain": [
              "<IPython.core.display.HTML object>"
            ]
          },
          "metadata": {
            "tags": []
          }
        },
        {
          "output_type": "display_data",
          "data": {
            "text/html": [
              "<h3>Run history:</h3><br/><style>\n",
              "    table.wandb td:nth-child(1) { padding: 0 10px; text-align: right }\n",
              "    </style><table class=\"wandb\">\n",
              "<tr><td>epoch</td><td>▁▂▄▅▇█</td></tr><tr><td>loss</td><td>█▆▄▃▂▁</td></tr><tr><td>accuracy</td><td>▁▃▅▆▇█</td></tr><tr><td>val_loss</td><td>██▇▅▃▁</td></tr><tr><td>val_accuracy</td><td>▁▂▄▆▇█</td></tr><tr><td>_runtime</td><td>▁▂▄▅▇█</td></tr><tr><td>_timestamp</td><td>▁▂▄▅▇█</td></tr><tr><td>_step</td><td>▁▂▄▅▇█</td></tr></table><br/>"
            ],
            "text/plain": [
              "<IPython.core.display.HTML object>"
            ]
          },
          "metadata": {
            "tags": []
          }
        },
        {
          "output_type": "display_data",
          "data": {
            "text/html": [
              "Synced 5 W&B file(s), 1 media file(s), 0 artifact file(s) and 10 other file(s)"
            ],
            "text/plain": [
              "<IPython.core.display.HTML object>"
            ]
          },
          "metadata": {
            "tags": []
          }
        },
        {
          "output_type": "display_data",
          "data": {
            "text/html": [
              "\n",
              "                    <br/>Synced <strong style=\"color:#cdcd00\">floral-sweep-2</strong>: <a href=\"https://wandb.ai/avyay-sujay/uncategorized/runs/wsgex9sb\" target=\"_blank\">https://wandb.ai/avyay-sujay/uncategorized/runs/wsgex9sb</a><br/>\n",
              "                "
            ],
            "text/plain": [
              "<IPython.core.display.HTML object>"
            ]
          },
          "metadata": {
            "tags": []
          }
        },
        {
          "output_type": "stream",
          "text": [
            "\u001b[34m\u001b[1mwandb\u001b[0m: Agent Starting Run: qreotkta with config:\n",
            "\u001b[34m\u001b[1mwandb\u001b[0m: \tbase_model: ResNet50\n",
            "\u001b[34m\u001b[1mwandb\u001b[0m: \u001b[33mWARNING\u001b[0m Ignored wandb.init() arg project when running a sweep\n"
          ],
          "name": "stderr"
        },
        {
          "output_type": "display_data",
          "data": {
            "text/html": [
              "\n",
              "                Tracking run with wandb version 0.10.24<br/>\n",
              "                Syncing run <strong style=\"color:#cdcd00\">rural-sweep-3</strong> to <a href=\"https://wandb.ai\" target=\"_blank\">Weights & Biases</a> <a href=\"https://docs.wandb.com/integrations/jupyter.html\" target=\"_blank\">(Documentation)</a>.<br/>\n",
              "                Project page: <a href=\"https://wandb.ai/avyay-sujay/uncategorized\" target=\"_blank\">https://wandb.ai/avyay-sujay/uncategorized</a><br/>\n",
              "                Sweep page: <a href=\"https://wandb.ai/avyay-sujay/uncategorized/sweeps/wbr7x3ie\" target=\"_blank\">https://wandb.ai/avyay-sujay/uncategorized/sweeps/wbr7x3ie</a><br/>\n",
              "Run page: <a href=\"https://wandb.ai/avyay-sujay/uncategorized/runs/qreotkta\" target=\"_blank\">https://wandb.ai/avyay-sujay/uncategorized/runs/qreotkta</a><br/>\n",
              "                Run data is saved locally in <code>/content/wandb/run-20210402_113936-qreotkta</code><br/><br/>\n",
              "            "
            ],
            "text/plain": [
              "<IPython.core.display.HTML object>"
            ]
          },
          "metadata": {
            "tags": []
          }
        },
        {
          "output_type": "stream",
          "text": [
            "Loading the dataset ...\n",
            "Found 10000 images belonging to 10 classes.\n",
            "Found 2000 images belonging to 10 classes.\n",
            "Initializing the model ...\n",
            "Downloading data from https://storage.googleapis.com/tensorflow/keras-applications/resnet/resnet50_weights_tf_dim_ordering_tf_kernels_notop.h5\n",
            "94773248/94765736 [==============================] - 1s 0us/step\n",
            "Compiling the model ...\n",
            "Fitting the model ...\n",
            "Epoch 1/6\n",
            "79/79 [==============================] - 219s 3s/step - loss: 2.4772 - accuracy: 0.1021 - val_loss: 2.4405 - val_accuracy: 0.0995\n"
          ],
          "name": "stdout"
        },
        {
          "output_type": "stream",
          "text": [
            "\u001b[34m\u001b[1mwandb\u001b[0m: \u001b[32m\u001b[41mERROR\u001b[0m Can't save model, h5py returned error: Saving the model to HDF5 format requires the model to be a Functional model or a Sequential model. It does not work for subclassed models, because such models are defined via the body of a Python method, which isn't safely serializable. Consider saving to the Tensorflow SavedModel format (by setting save_format=\"tf\") or using `save_weights`.\n"
          ],
          "name": "stderr"
        },
        {
          "output_type": "stream",
          "text": [
            "Epoch 2/6\n",
            "79/79 [==============================] - 207s 3s/step - loss: 2.2999 - accuracy: 0.1176 - val_loss: 2.4035 - val_accuracy: 0.1015\n",
            "Epoch 3/6\n",
            "79/79 [==============================] - 205s 3s/step - loss: 2.2901 - accuracy: 0.1297 - val_loss: 2.4025 - val_accuracy: 0.1010\n",
            "Epoch 4/6\n",
            "79/79 [==============================] - 202s 3s/step - loss: 2.2765 - accuracy: 0.1461 - val_loss: 2.3482 - val_accuracy: 0.1015\n",
            "Epoch 5/6\n",
            "79/79 [==============================] - 203s 3s/step - loss: 2.2680 - accuracy: 0.1439 - val_loss: 2.3146 - val_accuracy: 0.1055\n",
            "Epoch 6/6\n",
            "79/79 [==============================] - 201s 3s/step - loss: 2.2657 - accuracy: 0.1478 - val_loss: 2.2781 - val_accuracy: 0.1485\n"
          ],
          "name": "stdout"
        },
        {
          "output_type": "display_data",
          "data": {
            "text/html": [
              "<br/>Waiting for W&B process to finish, PID 2552<br/>Program ended successfully."
            ],
            "text/plain": [
              "<IPython.core.display.HTML object>"
            ]
          },
          "metadata": {
            "tags": []
          }
        },
        {
          "output_type": "display_data",
          "data": {
            "application/vnd.jupyter.widget-view+json": {
              "model_id": "02b3f8f466f14048b51d90573db9db14",
              "version_minor": 0,
              "version_major": 2
            },
            "text/plain": [
              "VBox(children=(Label(value=' 5.73MB of 5.73MB uploaded (0.00MB deduped)\\r'), FloatProgress(value=1.0, max=1.0)…"
            ]
          },
          "metadata": {
            "tags": []
          }
        },
        {
          "output_type": "display_data",
          "data": {
            "text/html": [
              "Find user logs for this run at: <code>/content/wandb/run-20210402_113936-qreotkta/logs/debug.log</code>"
            ],
            "text/plain": [
              "<IPython.core.display.HTML object>"
            ]
          },
          "metadata": {
            "tags": []
          }
        },
        {
          "output_type": "display_data",
          "data": {
            "text/html": [
              "Find internal logs for this run at: <code>/content/wandb/run-20210402_113936-qreotkta/logs/debug-internal.log</code>"
            ],
            "text/plain": [
              "<IPython.core.display.HTML object>"
            ]
          },
          "metadata": {
            "tags": []
          }
        },
        {
          "output_type": "display_data",
          "data": {
            "text/html": [
              "<h3>Run summary:</h3><br/><style>\n",
              "    table.wandb td:nth-child(1) { padding: 0 10px; text-align: right }\n",
              "    </style><table class=\"wandb\">\n",
              "<tr><td>epoch</td><td>5</td></tr><tr><td>loss</td><td>2.26433</td></tr><tr><td>accuracy</td><td>0.1493</td></tr><tr><td>val_loss</td><td>2.27813</td></tr><tr><td>val_accuracy</td><td>0.1485</td></tr><tr><td>_runtime</td><td>1248</td></tr><tr><td>_timestamp</td><td>1617364824</td></tr><tr><td>_step</td><td>5</td></tr><tr><td>best_val_loss</td><td>2.27813</td></tr><tr><td>best_epoch</td><td>5</td></tr></table>"
            ],
            "text/plain": [
              "<IPython.core.display.HTML object>"
            ]
          },
          "metadata": {
            "tags": []
          }
        },
        {
          "output_type": "display_data",
          "data": {
            "text/html": [
              "<h3>Run history:</h3><br/><style>\n",
              "    table.wandb td:nth-child(1) { padding: 0 10px; text-align: right }\n",
              "    </style><table class=\"wandb\">\n",
              "<tr><td>epoch</td><td>▁▂▄▅▇█</td></tr><tr><td>loss</td><td>█▃▂▂▁▁</td></tr><tr><td>accuracy</td><td>▁▃▅▇██</td></tr><tr><td>val_loss</td><td>█▆▆▄▃▁</td></tr><tr><td>val_accuracy</td><td>▁▁▁▁▂█</td></tr><tr><td>_runtime</td><td>▁▂▄▅▇█</td></tr><tr><td>_timestamp</td><td>▁▂▄▅▇█</td></tr><tr><td>_step</td><td>▁▂▄▅▇█</td></tr></table><br/>"
            ],
            "text/plain": [
              "<IPython.core.display.HTML object>"
            ]
          },
          "metadata": {
            "tags": []
          }
        },
        {
          "output_type": "display_data",
          "data": {
            "text/html": [
              "Synced 5 W&B file(s), 1 media file(s), 0 artifact file(s) and 10 other file(s)"
            ],
            "text/plain": [
              "<IPython.core.display.HTML object>"
            ]
          },
          "metadata": {
            "tags": []
          }
        },
        {
          "output_type": "display_data",
          "data": {
            "text/html": [
              "\n",
              "                    <br/>Synced <strong style=\"color:#cdcd00\">rural-sweep-3</strong>: <a href=\"https://wandb.ai/avyay-sujay/uncategorized/runs/qreotkta\" target=\"_blank\">https://wandb.ai/avyay-sujay/uncategorized/runs/qreotkta</a><br/>\n",
              "                "
            ],
            "text/plain": [
              "<IPython.core.display.HTML object>"
            ]
          },
          "metadata": {
            "tags": []
          }
        },
        {
          "output_type": "stream",
          "text": [
            "\u001b[34m\u001b[1mwandb\u001b[0m: Agent Starting Run: rkduwt2j with config:\n",
            "\u001b[34m\u001b[1mwandb\u001b[0m: \tbase_model: Xception\n",
            "\u001b[34m\u001b[1mwandb\u001b[0m: \u001b[33mWARNING\u001b[0m Ignored wandb.init() arg project when running a sweep\n"
          ],
          "name": "stderr"
        },
        {
          "output_type": "display_data",
          "data": {
            "text/html": [
              "\n",
              "                Tracking run with wandb version 0.10.24<br/>\n",
              "                Syncing run <strong style=\"color:#cdcd00\">clear-sweep-4</strong> to <a href=\"https://wandb.ai\" target=\"_blank\">Weights & Biases</a> <a href=\"https://docs.wandb.com/integrations/jupyter.html\" target=\"_blank\">(Documentation)</a>.<br/>\n",
              "                Project page: <a href=\"https://wandb.ai/avyay-sujay/uncategorized\" target=\"_blank\">https://wandb.ai/avyay-sujay/uncategorized</a><br/>\n",
              "                Sweep page: <a href=\"https://wandb.ai/avyay-sujay/uncategorized/sweeps/wbr7x3ie\" target=\"_blank\">https://wandb.ai/avyay-sujay/uncategorized/sweeps/wbr7x3ie</a><br/>\n",
              "Run page: <a href=\"https://wandb.ai/avyay-sujay/uncategorized/runs/rkduwt2j\" target=\"_blank\">https://wandb.ai/avyay-sujay/uncategorized/runs/rkduwt2j</a><br/>\n",
              "                Run data is saved locally in <code>/content/wandb/run-20210402_120032-rkduwt2j</code><br/><br/>\n",
              "            "
            ],
            "text/plain": [
              "<IPython.core.display.HTML object>"
            ]
          },
          "metadata": {
            "tags": []
          }
        },
        {
          "output_type": "stream",
          "text": [
            "Loading the dataset ...\n",
            "Found 10000 images belonging to 10 classes.\n",
            "Found 2000 images belonging to 10 classes.\n",
            "Initializing the model ...\n",
            "Downloading data from https://storage.googleapis.com/tensorflow/keras-applications/xception/xception_weights_tf_dim_ordering_tf_kernels_notop.h5\n",
            "83689472/83683744 [==============================] - 0s 0us/step\n",
            "Compiling the model ...\n",
            "Fitting the model ...\n",
            "Epoch 1/6\n",
            "79/79 [==============================] - 214s 3s/step - loss: 2.8980 - accuracy: 0.1179 - val_loss: 2.3256 - val_accuracy: 0.1530\n"
          ],
          "name": "stdout"
        },
        {
          "output_type": "stream",
          "text": [
            "\u001b[34m\u001b[1mwandb\u001b[0m: \u001b[32m\u001b[41mERROR\u001b[0m Can't save model, h5py returned error: Saving the model to HDF5 format requires the model to be a Functional model or a Sequential model. It does not work for subclassed models, because such models are defined via the body of a Python method, which isn't safely serializable. Consider saving to the Tensorflow SavedModel format (by setting save_format=\"tf\") or using `save_weights`.\n"
          ],
          "name": "stderr"
        },
        {
          "output_type": "stream",
          "text": [
            "Epoch 2/6\n",
            "79/79 [==============================] - 205s 3s/step - loss: 2.6148 - accuracy: 0.1560 - val_loss: 2.3299 - val_accuracy: 0.1620\n",
            "Epoch 3/6\n",
            "79/79 [==============================] - 205s 3s/step - loss: 2.4191 - accuracy: 0.1967 - val_loss: 2.2601 - val_accuracy: 0.1970\n",
            "Epoch 4/6\n",
            "79/79 [==============================] - 206s 3s/step - loss: 2.3049 - accuracy: 0.2260 - val_loss: 2.1692 - val_accuracy: 0.2410\n",
            "Epoch 5/6\n",
            "79/79 [==============================] - 204s 3s/step - loss: 2.2002 - accuracy: 0.2568 - val_loss: 2.0767 - val_accuracy: 0.2845\n",
            "Epoch 6/6\n",
            "79/79 [==============================] - 204s 3s/step - loss: 2.0950 - accuracy: 0.2926 - val_loss: 2.0038 - val_accuracy: 0.3115\n"
          ],
          "name": "stdout"
        },
        {
          "output_type": "display_data",
          "data": {
            "text/html": [
              "<br/>Waiting for W&B process to finish, PID 2924<br/>Program ended successfully."
            ],
            "text/plain": [
              "<IPython.core.display.HTML object>"
            ]
          },
          "metadata": {
            "tags": []
          }
        },
        {
          "output_type": "display_data",
          "data": {
            "application/vnd.jupyter.widget-view+json": {
              "model_id": "ee6c9664d88b499b8533dd54e70b42ea",
              "version_minor": 0,
              "version_major": 2
            },
            "text/plain": [
              "VBox(children=(Label(value=' 2.98MB of 2.98MB uploaded (0.00MB deduped)\\r'), FloatProgress(value=1.0, max=1.0)…"
            ]
          },
          "metadata": {
            "tags": []
          }
        },
        {
          "output_type": "display_data",
          "data": {
            "text/html": [
              "Find user logs for this run at: <code>/content/wandb/run-20210402_120032-rkduwt2j/logs/debug.log</code>"
            ],
            "text/plain": [
              "<IPython.core.display.HTML object>"
            ]
          },
          "metadata": {
            "tags": []
          }
        },
        {
          "output_type": "display_data",
          "data": {
            "text/html": [
              "Find internal logs for this run at: <code>/content/wandb/run-20210402_120032-rkduwt2j/logs/debug-internal.log</code>"
            ],
            "text/plain": [
              "<IPython.core.display.HTML object>"
            ]
          },
          "metadata": {
            "tags": []
          }
        },
        {
          "output_type": "display_data",
          "data": {
            "text/html": [
              "<h3>Run summary:</h3><br/><style>\n",
              "    table.wandb td:nth-child(1) { padding: 0 10px; text-align: right }\n",
              "    </style><table class=\"wandb\">\n",
              "<tr><td>epoch</td><td>5</td></tr><tr><td>loss</td><td>2.08797</td></tr><tr><td>accuracy</td><td>0.2937</td></tr><tr><td>val_loss</td><td>2.00384</td></tr><tr><td>val_accuracy</td><td>0.3115</td></tr><tr><td>_runtime</td><td>1246</td></tr><tr><td>_timestamp</td><td>1617366078</td></tr><tr><td>_step</td><td>5</td></tr><tr><td>best_val_loss</td><td>2.00384</td></tr><tr><td>best_epoch</td><td>5</td></tr></table>"
            ],
            "text/plain": [
              "<IPython.core.display.HTML object>"
            ]
          },
          "metadata": {
            "tags": []
          }
        },
        {
          "output_type": "display_data",
          "data": {
            "text/html": [
              "<h3>Run history:</h3><br/><style>\n",
              "    table.wandb td:nth-child(1) { padding: 0 10px; text-align: right }\n",
              "    </style><table class=\"wandb\">\n",
              "<tr><td>epoch</td><td>▁▂▄▅▇█</td></tr><tr><td>loss</td><td>█▆▄▃▂▁</td></tr><tr><td>accuracy</td><td>▁▃▄▆▇█</td></tr><tr><td>val_loss</td><td>██▇▅▃▁</td></tr><tr><td>val_accuracy</td><td>▁▁▃▅▇█</td></tr><tr><td>_runtime</td><td>▁▂▄▅▇█</td></tr><tr><td>_timestamp</td><td>▁▂▄▅▇█</td></tr><tr><td>_step</td><td>▁▂▄▅▇█</td></tr></table><br/>"
            ],
            "text/plain": [
              "<IPython.core.display.HTML object>"
            ]
          },
          "metadata": {
            "tags": []
          }
        },
        {
          "output_type": "display_data",
          "data": {
            "text/html": [
              "Synced 5 W&B file(s), 1 media file(s), 0 artifact file(s) and 10 other file(s)"
            ],
            "text/plain": [
              "<IPython.core.display.HTML object>"
            ]
          },
          "metadata": {
            "tags": []
          }
        },
        {
          "output_type": "display_data",
          "data": {
            "text/html": [
              "\n",
              "                    <br/>Synced <strong style=\"color:#cdcd00\">clear-sweep-4</strong>: <a href=\"https://wandb.ai/avyay-sujay/uncategorized/runs/rkduwt2j\" target=\"_blank\">https://wandb.ai/avyay-sujay/uncategorized/runs/rkduwt2j</a><br/>\n",
              "                "
            ],
            "text/plain": [
              "<IPython.core.display.HTML object>"
            ]
          },
          "metadata": {
            "tags": []
          }
        },
        {
          "output_type": "stream",
          "text": [
            "\u001b[34m\u001b[1mwandb\u001b[0m: Sweep Agent: Waiting for job.\n",
            "\u001b[34m\u001b[1mwandb\u001b[0m: Sweep Agent: Exiting.\n"
          ],
          "name": "stderr"
        }
      ]
    },
    {
      "cell_type": "markdown",
      "metadata": {
        "id": "Zz34KvPw_-OY"
      },
      "source": [
        "## Single model (to figure out training epochs)"
      ]
    },
    {
      "cell_type": "code",
      "metadata": {
        "colab": {
          "base_uri": "https://localhost:8080/"
        },
        "id": "22IaKxvL9vVq",
        "outputId": "2ac3c968-aef3-4b04-c2e4-bfb014c372fc"
      },
      "source": [
        "## Checking for best hyperparamters\n",
        "## Setting up the sweep ##\n",
        "sweep_config2 = {\n",
        "  \"name\": \"My Sweep\",\n",
        "  \"method\": \"grid\",\n",
        "  \"parameters\": {\n",
        "        \"base_model\": {\n",
        "            \"values\": [\"InceptionV3\"]\n",
        "        }\n",
        "    }\n",
        "}\n",
        "\n",
        "\n",
        "sweep_id2 = wandb.sweep(sweep_config2)"
      ],
      "execution_count": null,
      "outputs": [
        {
          "output_type": "stream",
          "text": [
            "Create sweep with ID: 3zhizfac\n",
            "Sweep URL: https://wandb.ai/avyay-sujay/uncategorized/sweeps/3zhizfac\n"
          ],
          "name": "stdout"
        }
      ]
    },
    {
      "cell_type": "code",
      "metadata": {
        "colab": {
          "base_uri": "https://localhost:8080/",
          "height": 1000,
          "referenced_widgets": [
            "03d3126fb3c94ddf8ba2c09e64741f82",
            "6f99e46daea941798fdd04b1903f4780",
            "5dac7ee2303b4ab9a393af31e7101e75",
            "c6eebea384bd4ef5b271531a5584e1c0",
            "fa539c1b588649739e266a59545f2bc7",
            "ec0b7add11be469bb33976114b0e09ea",
            "0822eed66c09447da8d242f8b9df640b",
            "3ea46d5708ed4e68b2c52272d33bf435"
          ]
        },
        "id": "CrC63VJu918N",
        "outputId": "566ba2ed-4edf-47e1-fe71-6aa083880d4f"
      },
      "source": [
        "# running the sweep\n",
        "wandb.agent(sweep_id2, function=train_with_wandb)"
      ],
      "execution_count": null,
      "outputs": [
        {
          "output_type": "stream",
          "text": [
            "\u001b[34m\u001b[1mwandb\u001b[0m: Agent Starting Run: 9aa7qnld with config:\n",
            "\u001b[34m\u001b[1mwandb\u001b[0m: \tbase_model: InceptionV3\n",
            "\u001b[34m\u001b[1mwandb\u001b[0m: Currently logged in as: \u001b[33mavyay-sujay\u001b[0m (use `wandb login --relogin` to force relogin)\n",
            "\u001b[34m\u001b[1mwandb\u001b[0m: \u001b[33mWARNING\u001b[0m Ignored wandb.init() arg project when running a sweep\n"
          ],
          "name": "stderr"
        },
        {
          "output_type": "display_data",
          "data": {
            "text/html": [
              "\n",
              "                Tracking run with wandb version 0.10.24<br/>\n",
              "                Syncing run <strong style=\"color:#cdcd00\">comfy-sweep-1</strong> to <a href=\"https://wandb.ai\" target=\"_blank\">Weights & Biases</a> <a href=\"https://docs.wandb.com/integrations/jupyter.html\" target=\"_blank\">(Documentation)</a>.<br/>\n",
              "                Project page: <a href=\"https://wandb.ai/avyay-sujay/uncategorized\" target=\"_blank\">https://wandb.ai/avyay-sujay/uncategorized</a><br/>\n",
              "                Sweep page: <a href=\"https://wandb.ai/avyay-sujay/uncategorized/sweeps/3zhizfac\" target=\"_blank\">https://wandb.ai/avyay-sujay/uncategorized/sweeps/3zhizfac</a><br/>\n",
              "Run page: <a href=\"https://wandb.ai/avyay-sujay/uncategorized/runs/9aa7qnld\" target=\"_blank\">https://wandb.ai/avyay-sujay/uncategorized/runs/9aa7qnld</a><br/>\n",
              "                Run data is saved locally in <code>/content/wandb/run-20210402_142404-9aa7qnld</code><br/><br/>\n",
              "            "
            ],
            "text/plain": [
              "<IPython.core.display.HTML object>"
            ]
          },
          "metadata": {
            "tags": []
          }
        },
        {
          "output_type": "stream",
          "text": [
            "\u001b[34m\u001b[1mwandb\u001b[0m: \u001b[33mWARNING\u001b[0m Ignored wandb.init() arg project when running a sweep\n"
          ],
          "name": "stderr"
        },
        {
          "output_type": "display_data",
          "data": {
            "text/html": [
              "Finishing last run (ID:9aa7qnld) before initializing another..."
            ],
            "text/plain": [
              "<IPython.core.display.HTML object>"
            ]
          },
          "metadata": {
            "tags": []
          }
        },
        {
          "output_type": "display_data",
          "data": {
            "text/html": [
              "<br/>Waiting for W&B process to finish, PID 352<br/>Program ended successfully."
            ],
            "text/plain": [
              "<IPython.core.display.HTML object>"
            ]
          },
          "metadata": {
            "tags": []
          }
        },
        {
          "output_type": "display_data",
          "data": {
            "application/vnd.jupyter.widget-view+json": {
              "model_id": "03d3126fb3c94ddf8ba2c09e64741f82",
              "version_minor": 0,
              "version_major": 2
            },
            "text/plain": [
              "VBox(children=(Label(value=' 0.00MB of 0.00MB uploaded (0.00MB deduped)\\r'), FloatProgress(value=1.0, max=1.0)…"
            ]
          },
          "metadata": {
            "tags": []
          }
        },
        {
          "output_type": "display_data",
          "data": {
            "text/html": [
              "Find user logs for this run at: <code>/content/wandb/run-20210402_142404-9aa7qnld/logs/debug.log</code>"
            ],
            "text/plain": [
              "<IPython.core.display.HTML object>"
            ]
          },
          "metadata": {
            "tags": []
          }
        },
        {
          "output_type": "display_data",
          "data": {
            "text/html": [
              "Find internal logs for this run at: <code>/content/wandb/run-20210402_142404-9aa7qnld/logs/debug-internal.log</code>"
            ],
            "text/plain": [
              "<IPython.core.display.HTML object>"
            ]
          },
          "metadata": {
            "tags": []
          }
        },
        {
          "output_type": "display_data",
          "data": {
            "text/html": [
              "Synced 5 W&B file(s), 0 media file(s), 0 artifact file(s) and 0 other file(s)"
            ],
            "text/plain": [
              "<IPython.core.display.HTML object>"
            ]
          },
          "metadata": {
            "tags": []
          }
        },
        {
          "output_type": "display_data",
          "data": {
            "text/html": [
              "\n",
              "                    <br/>Synced <strong style=\"color:#cdcd00\">comfy-sweep-1</strong>: <a href=\"https://wandb.ai/avyay-sujay/uncategorized/runs/9aa7qnld\" target=\"_blank\">https://wandb.ai/avyay-sujay/uncategorized/runs/9aa7qnld</a><br/>\n",
              "                "
            ],
            "text/plain": [
              "<IPython.core.display.HTML object>"
            ]
          },
          "metadata": {
            "tags": []
          }
        },
        {
          "output_type": "display_data",
          "data": {
            "text/html": [
              "...Successfully finished last run (ID:9aa7qnld). Initializing new run:<br/><br/>"
            ],
            "text/plain": [
              "<IPython.core.display.HTML object>"
            ]
          },
          "metadata": {
            "tags": []
          }
        },
        {
          "output_type": "display_data",
          "data": {
            "text/html": [
              "\n",
              "                Tracking run with wandb version 0.10.24<br/>\n",
              "                Syncing run <strong style=\"color:#cdcd00\">comfy-sweep-1</strong> to <a href=\"https://wandb.ai\" target=\"_blank\">Weights & Biases</a> <a href=\"https://docs.wandb.com/integrations/jupyter.html\" target=\"_blank\">(Documentation)</a>.<br/>\n",
              "                Project page: <a href=\"https://wandb.ai/avyay-sujay/uncategorized\" target=\"_blank\">https://wandb.ai/avyay-sujay/uncategorized</a><br/>\n",
              "                Sweep page: <a href=\"https://wandb.ai/avyay-sujay/uncategorized/sweeps/3zhizfac\" target=\"_blank\">https://wandb.ai/avyay-sujay/uncategorized/sweeps/3zhizfac</a><br/>\n",
              "Run page: <a href=\"https://wandb.ai/avyay-sujay/uncategorized/runs/9aa7qnld\" target=\"_blank\">https://wandb.ai/avyay-sujay/uncategorized/runs/9aa7qnld</a><br/>\n",
              "                Run data is saved locally in <code>/content/wandb/run-20210402_142406-9aa7qnld</code><br/><br/>\n",
              "            "
            ],
            "text/plain": [
              "<IPython.core.display.HTML object>"
            ]
          },
          "metadata": {
            "tags": []
          }
        },
        {
          "output_type": "stream",
          "text": [
            "1. Loading the dataset ...\n",
            "Found 10000 images belonging to 10 classes.\n",
            "Found 2000 images belonging to 10 classes.\n",
            "2. Initializing the model ...\n",
            "3. Compiling the model ...\n",
            "4. Fitting the model ...\n",
            "Epoch 1/100\n",
            "79/79 [==============================] - 4713s 60s/step - loss: 2.6677 - accuracy: 0.1342 - val_loss: 2.4975 - val_accuracy: 0.1390\n"
          ],
          "name": "stdout"
        },
        {
          "output_type": "stream",
          "text": [
            "\u001b[34m\u001b[1mwandb\u001b[0m: \u001b[32m\u001b[41mERROR\u001b[0m Can't save model, h5py returned error: Saving the model to HDF5 format requires the model to be a Functional model or a Sequential model. It does not work for subclassed models, because such models are defined via the body of a Python method, which isn't safely serializable. Consider saving to the Tensorflow SavedModel format (by setting save_format=\"tf\") or using `save_weights`.\n"
          ],
          "name": "stderr"
        },
        {
          "output_type": "stream",
          "text": [
            "Epoch 2/100\n",
            "79/79 [==============================] - 249s 3s/step - loss: 2.3247 - accuracy: 0.1925 - val_loss: 2.2079 - val_accuracy: 0.2210\n",
            "Epoch 3/100\n",
            "79/79 [==============================] - 237s 3s/step - loss: 2.1842 - accuracy: 0.2464 - val_loss: 2.0788 - val_accuracy: 0.2815\n",
            "Epoch 4/100\n",
            "79/79 [==============================] - 238s 3s/step - loss: 2.0818 - accuracy: 0.2697 - val_loss: 1.9762 - val_accuracy: 0.3245\n",
            "Epoch 5/100\n",
            "79/79 [==============================] - 232s 3s/step - loss: 1.9962 - accuracy: 0.3223 - val_loss: 1.9042 - val_accuracy: 0.3495\n",
            "Epoch 6/100\n",
            "79/79 [==============================] - 231s 3s/step - loss: 1.9401 - accuracy: 0.3430 - val_loss: 1.8361 - val_accuracy: 0.3835\n",
            "Epoch 7/100\n",
            "79/79 [==============================] - 234s 3s/step - loss: 1.8843 - accuracy: 0.3714 - val_loss: 1.7700 - val_accuracy: 0.4255\n",
            "Epoch 8/100\n",
            "79/79 [==============================] - 227s 3s/step - loss: 1.8300 - accuracy: 0.3974 - val_loss: 1.7160 - val_accuracy: 0.4525\n",
            "Epoch 9/100\n",
            "79/79 [==============================] - 234s 3s/step - loss: 1.7758 - accuracy: 0.4137 - val_loss: 1.6583 - val_accuracy: 0.4740\n",
            "Epoch 10/100\n",
            "79/79 [==============================] - 235s 3s/step - loss: 1.7358 - accuracy: 0.4309 - val_loss: 1.6081 - val_accuracy: 0.4960\n",
            "Epoch 11/100\n",
            "79/79 [==============================] - 235s 3s/step - loss: 1.6849 - accuracy: 0.4477 - val_loss: 1.5558 - val_accuracy: 0.5105\n",
            "Epoch 12/100\n",
            "79/79 [==============================] - 235s 3s/step - loss: 1.6325 - accuracy: 0.4714 - val_loss: 1.5122 - val_accuracy: 0.5260\n",
            "Epoch 13/100\n",
            "79/79 [==============================] - 235s 3s/step - loss: 1.6193 - accuracy: 0.4749 - val_loss: 1.4733 - val_accuracy: 0.5370\n",
            "Epoch 14/100\n",
            "79/79 [==============================] - 235s 3s/step - loss: 1.5781 - accuracy: 0.4830 - val_loss: 1.4410 - val_accuracy: 0.5510\n",
            "Epoch 15/100\n",
            "79/79 [==============================] - 234s 3s/step - loss: 1.5749 - accuracy: 0.4880 - val_loss: 1.4072 - val_accuracy: 0.5645\n",
            "Epoch 16/100\n",
            "79/79 [==============================] - 235s 3s/step - loss: 1.5057 - accuracy: 0.5113 - val_loss: 1.3790 - val_accuracy: 0.5725\n",
            "Epoch 17/100\n",
            "79/79 [==============================] - 234s 3s/step - loss: 1.5166 - accuracy: 0.5028 - val_loss: 1.3503 - val_accuracy: 0.5790\n",
            "Epoch 18/100\n",
            "79/79 [==============================] - 234s 3s/step - loss: 1.4786 - accuracy: 0.5224 - val_loss: 1.3316 - val_accuracy: 0.5835\n",
            "Epoch 19/100\n",
            "79/79 [==============================] - 233s 3s/step - loss: 1.4508 - accuracy: 0.5315 - val_loss: 1.3152 - val_accuracy: 0.5920\n",
            "Epoch 20/100\n",
            "79/79 [==============================] - 233s 3s/step - loss: 1.4459 - accuracy: 0.5325 - val_loss: 1.2911 - val_accuracy: 0.5940\n",
            "Epoch 21/100\n",
            "79/79 [==============================] - 234s 3s/step - loss: 1.4498 - accuracy: 0.5294 - val_loss: 1.2705 - val_accuracy: 0.6010\n",
            "Epoch 22/100\n",
            "79/79 [==============================] - 233s 3s/step - loss: 1.4187 - accuracy: 0.5310 - val_loss: 1.2573 - val_accuracy: 0.6080\n",
            "Epoch 23/100\n",
            "79/79 [==============================] - 233s 3s/step - loss: 1.3825 - accuracy: 0.5481 - val_loss: 1.2452 - val_accuracy: 0.6105\n",
            "Epoch 24/100\n",
            "79/79 [==============================] - 233s 3s/step - loss: 1.4022 - accuracy: 0.5416 - val_loss: 1.2306 - val_accuracy: 0.6175\n",
            "Epoch 25/100\n",
            "79/79 [==============================] - 233s 3s/step - loss: 1.3654 - accuracy: 0.5561 - val_loss: 1.2209 - val_accuracy: 0.6185\n",
            "Epoch 26/100\n",
            "79/79 [==============================] - 235s 3s/step - loss: 1.3708 - accuracy: 0.5575 - val_loss: 1.2139 - val_accuracy: 0.6230\n",
            "Epoch 27/100\n",
            "79/79 [==============================] - 237s 3s/step - loss: 1.3506 - accuracy: 0.5569 - val_loss: 1.1990 - val_accuracy: 0.6265\n",
            "Epoch 28/100\n",
            "79/79 [==============================] - 236s 3s/step - loss: 1.3513 - accuracy: 0.5636 - val_loss: 1.1908 - val_accuracy: 0.6300\n",
            "Epoch 29/100\n",
            "79/79 [==============================] - 235s 3s/step - loss: 1.3253 - accuracy: 0.5640 - val_loss: 1.1804 - val_accuracy: 0.6320\n",
            "Epoch 30/100\n",
            "79/79 [==============================] - 234s 3s/step - loss: 1.3386 - accuracy: 0.5615 - val_loss: 1.1732 - val_accuracy: 0.6305\n",
            "Epoch 31/100\n",
            "35/79 [============>.................] - ETA: 1:54 - loss: 1.3518 - accuracy: 0.5698"
          ],
          "name": "stdout"
        },
        {
          "output_type": "stream",
          "text": [
            "\u001b[34m\u001b[1mwandb\u001b[0m: Ctrl + C detected. Stopping sweep.\n"
          ],
          "name": "stderr"
        }
      ]
    },
    {
      "cell_type": "code",
      "metadata": {
        "id": "g8eSfsZ6-CLt",
        "colab": {
          "base_uri": "https://localhost:8080/"
        },
        "outputId": "820460f3-ed84-4b83-be30-df93737d163d"
      },
      "source": [
        "## Setting up the sweep ##\n",
        "sweep_config3 = {\n",
        "  \"name\": \"My Sweep\",\n",
        "  \"method\": \"grid\",\n",
        "  \"parameters\": {\n",
        "        \"base_model\": {\n",
        "            \"values\": [\"InceptionV3\"]\n",
        "        }\n",
        "    }\n",
        "}\n",
        "\n",
        "\n",
        "sweep_id3 = wandb.sweep(sweep_config3)"
      ],
      "execution_count": null,
      "outputs": [
        {
          "output_type": "stream",
          "text": [
            "Create sweep with ID: ydf5gjzx\n",
            "Sweep URL: https://wandb.ai/avyay-sujay/uncategorized/sweeps/ydf5gjzx\n"
          ],
          "name": "stdout"
        }
      ]
    },
    {
      "cell_type": "code",
      "metadata": {
        "colab": {
          "base_uri": "https://localhost:8080/",
          "height": 1000,
          "referenced_widgets": [
            "1b6f9f99872c433eba4afbcbeda9fe5d",
            "d0bef598b1e94f5f9175fa9385ad1d7f",
            "6f139f4d52f64da8b626cf5bbfe40e27",
            "03c1ad685c70473c8e8a8f6d34d9fabe",
            "59b40fa845d74633a832c3ccebe6f251",
            "13b72d14118744cebc2b31a9c83486cb",
            "5dd23c6763ef4f1a95bac40d1353a373",
            "57024700f65643918530b77d62e900b4",
            "29dd456f44054be1abd0c6882c6ac1aa",
            "84f4164bace34f5b8c4790465149d83a",
            "614694a337934a77b30d8485a86808fe",
            "16bc80cd7a97497bb604303e68d45506",
            "1b436053d1534f7a84328e499d839d63",
            "93b56193f8df4946b247faf957afed5c",
            "c05e99577222408d90b5a9ff30a66dcb",
            "ee38e6469b1a48d0a6359285cd85ee7c"
          ]
        },
        "id": "fsh57-PvnkZ0",
        "outputId": "e607c234-2799-4f76-ed57-e7501e9956f4"
      },
      "source": [
        "# running the sweep\n",
        "wandb.agent(sweep_id3, function=train_with_wandb)"
      ],
      "execution_count": null,
      "outputs": [
        {
          "output_type": "stream",
          "text": [
            "\u001b[34m\u001b[1mwandb\u001b[0m: Agent Starting Run: whty29a4 with config:\n",
            "\u001b[34m\u001b[1mwandb\u001b[0m: \tbase_model: InceptionV3\n",
            "\u001b[34m\u001b[1mwandb\u001b[0m: Currently logged in as: \u001b[33mavyay-sujay\u001b[0m (use `wandb login --relogin` to force relogin)\n",
            "\u001b[34m\u001b[1mwandb\u001b[0m: \u001b[33mWARNING\u001b[0m Ignored wandb.init() arg project when running a sweep\n"
          ],
          "name": "stderr"
        },
        {
          "output_type": "display_data",
          "data": {
            "text/html": [
              "\n",
              "                Tracking run with wandb version 0.10.24<br/>\n",
              "                Syncing run <strong style=\"color:#cdcd00\">vibrant-sweep-1</strong> to <a href=\"https://wandb.ai\" target=\"_blank\">Weights & Biases</a> <a href=\"https://docs.wandb.com/integrations/jupyter.html\" target=\"_blank\">(Documentation)</a>.<br/>\n",
              "                Project page: <a href=\"https://wandb.ai/avyay-sujay/uncategorized\" target=\"_blank\">https://wandb.ai/avyay-sujay/uncategorized</a><br/>\n",
              "                Sweep page: <a href=\"https://wandb.ai/avyay-sujay/uncategorized/sweeps/ydf5gjzx\" target=\"_blank\">https://wandb.ai/avyay-sujay/uncategorized/sweeps/ydf5gjzx</a><br/>\n",
              "Run page: <a href=\"https://wandb.ai/avyay-sujay/uncategorized/runs/whty29a4\" target=\"_blank\">https://wandb.ai/avyay-sujay/uncategorized/runs/whty29a4</a><br/>\n",
              "                Run data is saved locally in <code>/content/wandb/run-20210403_164409-whty29a4</code><br/><br/>\n",
              "            "
            ],
            "text/plain": [
              "<IPython.core.display.HTML object>"
            ]
          },
          "metadata": {
            "tags": []
          }
        },
        {
          "output_type": "stream",
          "text": [
            "\u001b[34m\u001b[1mwandb\u001b[0m: \u001b[33mWARNING\u001b[0m Ignored wandb.init() arg project when running a sweep\n"
          ],
          "name": "stderr"
        },
        {
          "output_type": "display_data",
          "data": {
            "text/html": [
              "Finishing last run (ID:whty29a4) before initializing another..."
            ],
            "text/plain": [
              "<IPython.core.display.HTML object>"
            ]
          },
          "metadata": {
            "tags": []
          }
        },
        {
          "output_type": "display_data",
          "data": {
            "text/html": [
              "<br/>Waiting for W&B process to finish, PID 372<br/>Program ended successfully."
            ],
            "text/plain": [
              "<IPython.core.display.HTML object>"
            ]
          },
          "metadata": {
            "tags": []
          }
        },
        {
          "output_type": "display_data",
          "data": {
            "application/vnd.jupyter.widget-view+json": {
              "model_id": "1b6f9f99872c433eba4afbcbeda9fe5d",
              "version_major": 2,
              "version_minor": 0
            },
            "text/plain": [
              "VBox(children=(Label(value=' 0.00MB of 0.00MB uploaded (0.00MB deduped)\\r'), FloatProgress(value=1.0, max=1.0)…"
            ]
          },
          "metadata": {
            "tags": []
          }
        },
        {
          "output_type": "display_data",
          "data": {
            "text/html": [
              "Find user logs for this run at: <code>/content/wandb/run-20210403_164409-whty29a4/logs/debug.log</code>"
            ],
            "text/plain": [
              "<IPython.core.display.HTML object>"
            ]
          },
          "metadata": {
            "tags": []
          }
        },
        {
          "output_type": "display_data",
          "data": {
            "text/html": [
              "Find internal logs for this run at: <code>/content/wandb/run-20210403_164409-whty29a4/logs/debug-internal.log</code>"
            ],
            "text/plain": [
              "<IPython.core.display.HTML object>"
            ]
          },
          "metadata": {
            "tags": []
          }
        },
        {
          "output_type": "display_data",
          "data": {
            "text/html": [
              "Synced 5 W&B file(s), 0 media file(s), 0 artifact file(s) and 0 other file(s)"
            ],
            "text/plain": [
              "<IPython.core.display.HTML object>"
            ]
          },
          "metadata": {
            "tags": []
          }
        },
        {
          "output_type": "display_data",
          "data": {
            "text/html": [
              "\n",
              "                    <br/>Synced <strong style=\"color:#cdcd00\">vibrant-sweep-1</strong>: <a href=\"https://wandb.ai/avyay-sujay/uncategorized/runs/whty29a4\" target=\"_blank\">https://wandb.ai/avyay-sujay/uncategorized/runs/whty29a4</a><br/>\n",
              "                "
            ],
            "text/plain": [
              "<IPython.core.display.HTML object>"
            ]
          },
          "metadata": {
            "tags": []
          }
        },
        {
          "output_type": "display_data",
          "data": {
            "text/html": [
              "...Successfully finished last run (ID:whty29a4). Initializing new run:<br/><br/>"
            ],
            "text/plain": [
              "<IPython.core.display.HTML object>"
            ]
          },
          "metadata": {
            "tags": []
          }
        },
        {
          "output_type": "display_data",
          "data": {
            "text/html": [
              "\n",
              "                Tracking run with wandb version 0.10.24<br/>\n",
              "                Syncing run <strong style=\"color:#cdcd00\">vibrant-sweep-1</strong> to <a href=\"https://wandb.ai\" target=\"_blank\">Weights & Biases</a> <a href=\"https://docs.wandb.com/integrations/jupyter.html\" target=\"_blank\">(Documentation)</a>.<br/>\n",
              "                Project page: <a href=\"https://wandb.ai/avyay-sujay/uncategorized\" target=\"_blank\">https://wandb.ai/avyay-sujay/uncategorized</a><br/>\n",
              "                Sweep page: <a href=\"https://wandb.ai/avyay-sujay/uncategorized/sweeps/ydf5gjzx\" target=\"_blank\">https://wandb.ai/avyay-sujay/uncategorized/sweeps/ydf5gjzx</a><br/>\n",
              "Run page: <a href=\"https://wandb.ai/avyay-sujay/uncategorized/runs/whty29a4\" target=\"_blank\">https://wandb.ai/avyay-sujay/uncategorized/runs/whty29a4</a><br/>\n",
              "                Run data is saved locally in <code>/content/wandb/run-20210403_164411-whty29a4</code><br/><br/>\n",
              "            "
            ],
            "text/plain": [
              "<IPython.core.display.HTML object>"
            ]
          },
          "metadata": {
            "tags": []
          }
        },
        {
          "output_type": "stream",
          "text": [
            "1. Loading the dataset ...\n",
            "\n",
            "Found 10000 images belonging to 10 classes.\n",
            "Found 2000 images belonging to 10 classes.\n",
            "2. Initializing the model ...\n",
            "\n",
            "3. Compiling the model ...\n",
            "\n",
            "4. Fitting the model ...\n",
            "\n",
            "Epoch 1/2\n",
            "79/79 [==============================] - 3631s 46s/step - loss: 2.8091 - accuracy: 0.1413 - val_loss: 2.3282 - val_accuracy: 0.1700\n"
          ],
          "name": "stdout"
        },
        {
          "output_type": "stream",
          "text": [
            "\u001b[34m\u001b[1mwandb\u001b[0m: \u001b[32m\u001b[41mERROR\u001b[0m Can't save model, h5py returned error: Saving the model to HDF5 format requires the model to be a Functional model or a Sequential model. It does not work for subclassed models, because such models are defined via the body of a Python method, which isn't safely serializable. Consider saving to the Tensorflow SavedModel format (by setting save_format=\"tf\") or using `save_weights`.\n"
          ],
          "name": "stderr"
        },
        {
          "output_type": "stream",
          "text": [
            "Epoch 2/2\n",
            "79/79 [==============================] - 264s 3s/step - loss: 2.4964 - accuracy: 0.2019 - val_loss: 2.1898 - val_accuracy: 0.2390\n",
            "Model trained successfully!!\n",
            "\n",
            "Total layers in base model is 311\n",
            "\n",
            "Fine tuning the model ...\n",
            "\n",
            "Epoch 1/2\n",
            "79/79 [==============================] - 274s 3s/step - loss: 2.2568 - accuracy: 0.2683 - val_loss: 1.7784 - val_accuracy: 0.4105\n"
          ],
          "name": "stdout"
        },
        {
          "output_type": "stream",
          "text": [
            "\u001b[34m\u001b[1mwandb\u001b[0m: \u001b[32m\u001b[41mERROR\u001b[0m Can't save model, h5py returned error: Saving the model to HDF5 format requires the model to be a Functional model or a Sequential model. It does not work for subclassed models, because such models are defined via the body of a Python method, which isn't safely serializable. Consider saving to the Tensorflow SavedModel format (by setting save_format=\"tf\") or using `save_weights`.\n"
          ],
          "name": "stderr"
        },
        {
          "output_type": "stream",
          "text": [
            "Epoch 2/2\n",
            "79/79 [==============================] - 268s 3s/step - loss: 1.8167 - accuracy: 0.4131 - val_loss: 1.5159 - val_accuracy: 0.5125\n",
            "Model tuned successfully!!\n",
            "\n"
          ],
          "name": "stdout"
        },
        {
          "output_type": "display_data",
          "data": {
            "text/html": [
              "<br/>Waiting for W&B process to finish, PID 402<br/>Program ended successfully."
            ],
            "text/plain": [
              "<IPython.core.display.HTML object>"
            ]
          },
          "metadata": {
            "tags": []
          }
        },
        {
          "output_type": "display_data",
          "data": {
            "application/vnd.jupyter.widget-view+json": {
              "model_id": "29dd456f44054be1abd0c6882c6ac1aa",
              "version_minor": 0,
              "version_major": 2
            },
            "text/plain": [
              "VBox(children=(Label(value=' 5.49MB of 5.49MB uploaded (0.00MB deduped)\\r'), FloatProgress(value=1.0, max=1.0)…"
            ]
          },
          "metadata": {
            "tags": []
          }
        },
        {
          "output_type": "display_data",
          "data": {
            "text/html": [
              "Find user logs for this run at: <code>/content/wandb/run-20210403_164411-whty29a4/logs/debug.log</code>"
            ],
            "text/plain": [
              "<IPython.core.display.HTML object>"
            ]
          },
          "metadata": {
            "tags": []
          }
        },
        {
          "output_type": "display_data",
          "data": {
            "text/html": [
              "Find internal logs for this run at: <code>/content/wandb/run-20210403_164411-whty29a4/logs/debug-internal.log</code>"
            ],
            "text/plain": [
              "<IPython.core.display.HTML object>"
            ]
          },
          "metadata": {
            "tags": []
          }
        },
        {
          "output_type": "display_data",
          "data": {
            "text/html": [
              "<h3>Run summary:</h3><br/><style>\n",
              "    table.wandb td:nth-child(1) { padding: 0 10px; text-align: right }\n",
              "    </style><table class=\"wandb\">\n",
              "<tr><td>epoch</td><td>1</td></tr><tr><td>loss</td><td>1.77467</td></tr><tr><td>accuracy</td><td>0.4281</td></tr><tr><td>val_loss</td><td>1.51589</td></tr><tr><td>val_accuracy</td><td>0.5125</td></tr><tr><td>_runtime</td><td>4484</td></tr><tr><td>_timestamp</td><td>1617472739</td></tr><tr><td>_step</td><td>3</td></tr><tr><td>best_val_loss</td><td>1.51589</td></tr><tr><td>best_epoch</td><td>1</td></tr></table>"
            ],
            "text/plain": [
              "<IPython.core.display.HTML object>"
            ]
          },
          "metadata": {
            "tags": []
          }
        },
        {
          "output_type": "display_data",
          "data": {
            "text/html": [
              "<h3>Run history:</h3><br/><style>\n",
              "    table.wandb td:nth-child(1) { padding: 0 10px; text-align: right }\n",
              "    </style><table class=\"wandb\">\n",
              "<tr><td>epoch</td><td>▁█▁█</td></tr><tr><td>loss</td><td>█▆▄▁</td></tr><tr><td>accuracy</td><td>▁▃▅█</td></tr><tr><td>val_loss</td><td>█▇▃▁</td></tr><tr><td>val_accuracy</td><td>▁▂▆█</td></tr><tr><td>_runtime</td><td>▁▃▆█</td></tr><tr><td>_timestamp</td><td>▁▃▆█</td></tr><tr><td>_step</td><td>▁▃▆█</td></tr></table><br/>"
            ],
            "text/plain": [
              "<IPython.core.display.HTML object>"
            ]
          },
          "metadata": {
            "tags": []
          }
        },
        {
          "output_type": "display_data",
          "data": {
            "text/html": [
              "Synced 5 W&B file(s), 1 media file(s), 0 artifact file(s) and 19 other file(s)"
            ],
            "text/plain": [
              "<IPython.core.display.HTML object>"
            ]
          },
          "metadata": {
            "tags": []
          }
        },
        {
          "output_type": "display_data",
          "data": {
            "text/html": [
              "\n",
              "                    <br/>Synced <strong style=\"color:#cdcd00\">vibrant-sweep-1</strong>: <a href=\"https://wandb.ai/avyay-sujay/uncategorized/runs/whty29a4\" target=\"_blank\">https://wandb.ai/avyay-sujay/uncategorized/runs/whty29a4</a><br/>\n",
              "                "
            ],
            "text/plain": [
              "<IPython.core.display.HTML object>"
            ]
          },
          "metadata": {
            "tags": []
          }
        },
        {
          "output_type": "stream",
          "text": [
            "\u001b[34m\u001b[1mwandb\u001b[0m: Sweep Agent: Waiting for job.\n",
            "\u001b[34m\u001b[1mwandb\u001b[0m: Sweep Agent: Exiting.\n"
          ],
          "name": "stderr"
        }
      ]
    },
    {
      "cell_type": "markdown",
      "metadata": {
        "id": "6Gd9IgDynrmJ"
      },
      "source": [
        "## Final sweep"
      ]
    },
    {
      "cell_type": "code",
      "metadata": {
        "colab": {
          "base_uri": "https://localhost:8080/"
        },
        "id": "_SX-6z2FAhgp",
        "outputId": "e7f67f23-641a-4cc1-f56a-538669767de4"
      },
      "source": [
        "## Setting up the sweep ##\n",
        "sweep_config_final = {\n",
        "  \"name\": \"My Sweep\",\n",
        "  \"method\": \"grid\",\n",
        "  \"parameters\": {\n",
        "        \"base_model\": {\n",
        "            \"values\": [ \"ResNet50\", \"Xception\"]\n",
        "        }\n",
        "    }\n",
        "}\n",
        "\n",
        "\n",
        "sweep_id_final = wandb.sweep(sweep_config_final)"
      ],
      "execution_count": 16,
      "outputs": [
        {
          "output_type": "stream",
          "text": [
            "Create sweep with ID: lj7cwcop\n",
            "Sweep URL: https://wandb.ai/avyay-sujay/uncategorized/sweeps/lj7cwcop\n"
          ],
          "name": "stdout"
        }
      ]
    },
    {
      "cell_type": "code",
      "metadata": {
        "colab": {
          "base_uri": "https://localhost:8080/",
          "height": 1000,
          "referenced_widgets": [
            "d3881b8322e5468b80ed3c3de7b2c348",
            "33cb953002734f08abc3bc8e1ca1a042",
            "b970a7b26d03478da72d451853592226",
            "008960c6691b42ab997c4a4910404ae8",
            "04b097eb270640d39118ace0cef32c24",
            "45fbef47a3cf492f8c4f76186ae69d92",
            "0bb55cd36be742949648eaecdd8dead3",
            "88c2929c182c4dc6a7a0808445724284",
            "3a4d90b9d6154a2ba27df4f4bc0aea4c",
            "1ae532c2c8b44f4d818c5a11df56e8d8",
            "862a305435cf4f6388efe9496ca0f279",
            "c7e004ec02ec43a8aeebe50c2f2c1557",
            "27234adb92784e5686f932269f92ed8f",
            "4b58b23f4a9f479c8b0103ce24d87100",
            "7cef1d7c185d491babd233af4bba8ad4",
            "0cfd210c1966401bac4039bb703e8a1c",
            "181dcd495b544fb880452115a851a2c7",
            "0249933506034b9497a1a25c24194e20",
            "b25953c6ab704680bdc39bb724eda237",
            "3f22dec0d8854501b9a1b5d420b9b87d",
            "5f0e227f57ed45739813e58d2563f2c6",
            "6ecf54ad70eb49a6b14d7020c299836b",
            "9a27f635f3bf484e833a894b1c992caa",
            "908e6ae60a7a43739e55966c995387be"
          ]
        },
        "id": "faZ_o1R-A8xW",
        "outputId": "a30817ad-6a17-4a58-aa5a-6f13b00e45d9"
      },
      "source": [
        "# running the sweep\n",
        "wandb.agent(sweep_id_final, function=train_with_wandb)"
      ],
      "execution_count": 17,
      "outputs": [
        {
          "output_type": "stream",
          "text": [
            "\u001b[34m\u001b[1mwandb\u001b[0m: Agent Starting Run: fjfw9a7h with config:\n",
            "\u001b[34m\u001b[1mwandb\u001b[0m: \tbase_model: ResNet50\n",
            "\u001b[34m\u001b[1mwandb\u001b[0m: Currently logged in as: \u001b[33mavyay-sujay\u001b[0m (use `wandb login --relogin` to force relogin)\n",
            "\u001b[34m\u001b[1mwandb\u001b[0m: \u001b[33mWARNING\u001b[0m Ignored wandb.init() arg project when running a sweep\n"
          ],
          "name": "stderr"
        },
        {
          "output_type": "display_data",
          "data": {
            "text/html": [
              "\n",
              "                Tracking run with wandb version 0.10.24<br/>\n",
              "                Syncing run <strong style=\"color:#cdcd00\">silvery-sweep-1</strong> to <a href=\"https://wandb.ai\" target=\"_blank\">Weights & Biases</a> <a href=\"https://docs.wandb.com/integrations/jupyter.html\" target=\"_blank\">(Documentation)</a>.<br/>\n",
              "                Project page: <a href=\"https://wandb.ai/avyay-sujay/uncategorized\" target=\"_blank\">https://wandb.ai/avyay-sujay/uncategorized</a><br/>\n",
              "                Sweep page: <a href=\"https://wandb.ai/avyay-sujay/uncategorized/sweeps/lj7cwcop\" target=\"_blank\">https://wandb.ai/avyay-sujay/uncategorized/sweeps/lj7cwcop</a><br/>\n",
              "Run page: <a href=\"https://wandb.ai/avyay-sujay/uncategorized/runs/fjfw9a7h\" target=\"_blank\">https://wandb.ai/avyay-sujay/uncategorized/runs/fjfw9a7h</a><br/>\n",
              "                Run data is saved locally in <code>/content/wandb/run-20210405_051210-fjfw9a7h</code><br/><br/>\n",
              "            "
            ],
            "text/plain": [
              "<IPython.core.display.HTML object>"
            ]
          },
          "metadata": {
            "tags": []
          }
        },
        {
          "output_type": "stream",
          "text": [
            "\u001b[34m\u001b[1mwandb\u001b[0m: \u001b[33mWARNING\u001b[0m Ignored wandb.init() arg project when running a sweep\n"
          ],
          "name": "stderr"
        },
        {
          "output_type": "display_data",
          "data": {
            "text/html": [
              "Finishing last run (ID:fjfw9a7h) before initializing another..."
            ],
            "text/plain": [
              "<IPython.core.display.HTML object>"
            ]
          },
          "metadata": {
            "tags": []
          }
        },
        {
          "output_type": "display_data",
          "data": {
            "text/html": [
              "<br/>Waiting for W&B process to finish, PID 631<br/>Program ended successfully."
            ],
            "text/plain": [
              "<IPython.core.display.HTML object>"
            ]
          },
          "metadata": {
            "tags": []
          }
        },
        {
          "output_type": "display_data",
          "data": {
            "application/vnd.jupyter.widget-view+json": {
              "model_id": "d3881b8322e5468b80ed3c3de7b2c348",
              "version_minor": 0,
              "version_major": 2
            },
            "text/plain": [
              "VBox(children=(Label(value=' 0.00MB of 0.00MB uploaded (0.00MB deduped)\\r'), FloatProgress(value=1.0, max=1.0)…"
            ]
          },
          "metadata": {
            "tags": []
          }
        },
        {
          "output_type": "display_data",
          "data": {
            "text/html": [
              "Find user logs for this run at: <code>/content/wandb/run-20210405_051210-fjfw9a7h/logs/debug.log</code>"
            ],
            "text/plain": [
              "<IPython.core.display.HTML object>"
            ]
          },
          "metadata": {
            "tags": []
          }
        },
        {
          "output_type": "display_data",
          "data": {
            "text/html": [
              "Find internal logs for this run at: <code>/content/wandb/run-20210405_051210-fjfw9a7h/logs/debug-internal.log</code>"
            ],
            "text/plain": [
              "<IPython.core.display.HTML object>"
            ]
          },
          "metadata": {
            "tags": []
          }
        },
        {
          "output_type": "display_data",
          "data": {
            "text/html": [
              "Synced 5 W&B file(s), 0 media file(s), 0 artifact file(s) and 0 other file(s)"
            ],
            "text/plain": [
              "<IPython.core.display.HTML object>"
            ]
          },
          "metadata": {
            "tags": []
          }
        },
        {
          "output_type": "display_data",
          "data": {
            "text/html": [
              "\n",
              "                    <br/>Synced <strong style=\"color:#cdcd00\">silvery-sweep-1</strong>: <a href=\"https://wandb.ai/avyay-sujay/uncategorized/runs/fjfw9a7h\" target=\"_blank\">https://wandb.ai/avyay-sujay/uncategorized/runs/fjfw9a7h</a><br/>\n",
              "                "
            ],
            "text/plain": [
              "<IPython.core.display.HTML object>"
            ]
          },
          "metadata": {
            "tags": []
          }
        },
        {
          "output_type": "display_data",
          "data": {
            "text/html": [
              "...Successfully finished last run (ID:fjfw9a7h). Initializing new run:<br/><br/>"
            ],
            "text/plain": [
              "<IPython.core.display.HTML object>"
            ]
          },
          "metadata": {
            "tags": []
          }
        },
        {
          "output_type": "display_data",
          "data": {
            "text/html": [
              "\n",
              "                Tracking run with wandb version 0.10.24<br/>\n",
              "                Syncing run <strong style=\"color:#cdcd00\">silvery-sweep-1</strong> to <a href=\"https://wandb.ai\" target=\"_blank\">Weights & Biases</a> <a href=\"https://docs.wandb.com/integrations/jupyter.html\" target=\"_blank\">(Documentation)</a>.<br/>\n",
              "                Project page: <a href=\"https://wandb.ai/avyay-sujay/uncategorized\" target=\"_blank\">https://wandb.ai/avyay-sujay/uncategorized</a><br/>\n",
              "                Sweep page: <a href=\"https://wandb.ai/avyay-sujay/uncategorized/sweeps/lj7cwcop\" target=\"_blank\">https://wandb.ai/avyay-sujay/uncategorized/sweeps/lj7cwcop</a><br/>\n",
              "Run page: <a href=\"https://wandb.ai/avyay-sujay/uncategorized/runs/fjfw9a7h\" target=\"_blank\">https://wandb.ai/avyay-sujay/uncategorized/runs/fjfw9a7h</a><br/>\n",
              "                Run data is saved locally in <code>/content/wandb/run-20210405_051212-fjfw9a7h</code><br/><br/>\n",
              "            "
            ],
            "text/plain": [
              "<IPython.core.display.HTML object>"
            ]
          },
          "metadata": {
            "tags": []
          }
        },
        {
          "output_type": "stream",
          "text": [
            "1. Loading the dataset ...\n",
            "\n",
            "Found 10000 images belonging to 10 classes.\n",
            "Found 2000 images belonging to 10 classes.\n",
            "2. Initializing the model ...\n",
            "\n",
            "3. Compiling the model ...\n",
            "\n",
            "4. Fitting the model ...\n",
            "\n",
            "Epoch 1/30\n",
            "79/79 [==============================] - 3853s 49s/step - loss: 2.4636 - accuracy: 0.1136 - val_loss: 2.3667 - val_accuracy: 0.1235\n"
          ],
          "name": "stdout"
        },
        {
          "output_type": "stream",
          "text": [
            "\u001b[34m\u001b[1mwandb\u001b[0m: \u001b[32m\u001b[41mERROR\u001b[0m Can't save model, h5py returned error: Saving the model to HDF5 format requires the model to be a Functional model or a Sequential model. It does not work for subclassed models, because such models are defined via the body of a Python method, which isn't safely serializable. Consider saving to the Tensorflow SavedModel format (by setting save_format=\"tf\") or using `save_weights`.\n"
          ],
          "name": "stderr"
        },
        {
          "output_type": "stream",
          "text": [
            "Epoch 2/30\n",
            "79/79 [==============================] - 307s 4s/step - loss: 2.2778 - accuracy: 0.1456 - val_loss: 2.2931 - val_accuracy: 0.1580\n",
            "Epoch 3/30\n",
            "79/79 [==============================] - 299s 4s/step - loss: 2.2661 - accuracy: 0.1565 - val_loss: 2.2612 - val_accuracy: 0.1415\n",
            "Epoch 4/30\n",
            "79/79 [==============================] - 300s 4s/step - loss: 2.2431 - accuracy: 0.1639 - val_loss: 2.2326 - val_accuracy: 0.1625\n",
            "Epoch 5/30\n",
            "79/79 [==============================] - 294s 4s/step - loss: 2.2300 - accuracy: 0.1667 - val_loss: 2.2010 - val_accuracy: 0.1945\n",
            "Epoch 6/30\n",
            "79/79 [==============================] - 293s 4s/step - loss: 2.2204 - accuracy: 0.1865 - val_loss: 2.2027 - val_accuracy: 0.1780\n",
            "Epoch 7/30\n",
            "79/79 [==============================] - 293s 4s/step - loss: 2.2123 - accuracy: 0.1849 - val_loss: 2.1868 - val_accuracy: 0.1970\n",
            "Epoch 8/30\n",
            "79/79 [==============================] - 292s 4s/step - loss: 2.2026 - accuracy: 0.2009 - val_loss: 2.1759 - val_accuracy: 0.2125\n",
            "Epoch 9/30\n",
            "79/79 [==============================] - 292s 4s/step - loss: 2.1895 - accuracy: 0.2036 - val_loss: 2.1907 - val_accuracy: 0.1945\n",
            "Epoch 10/30\n",
            "79/79 [==============================] - 290s 4s/step - loss: 2.1941 - accuracy: 0.2009 - val_loss: 2.1946 - val_accuracy: 0.1955\n",
            "Epoch 11/30\n",
            "79/79 [==============================] - 291s 4s/step - loss: 2.1751 - accuracy: 0.2078 - val_loss: 2.1856 - val_accuracy: 0.2075\n",
            "Epoch 12/30\n",
            "79/79 [==============================] - 294s 4s/step - loss: 2.1822 - accuracy: 0.2040 - val_loss: 2.1769 - val_accuracy: 0.2130\n",
            "Epoch 13/30\n",
            "79/79 [==============================] - 292s 4s/step - loss: 2.1682 - accuracy: 0.2100 - val_loss: 2.1946 - val_accuracy: 0.2070\n",
            "Epoch 14/30\n",
            "79/79 [==============================] - 287s 4s/step - loss: 2.1628 - accuracy: 0.2183 - val_loss: 2.1530 - val_accuracy: 0.2140\n",
            "Epoch 15/30\n",
            "79/79 [==============================] - 292s 4s/step - loss: 2.1782 - accuracy: 0.2096 - val_loss: 2.1647 - val_accuracy: 0.2205\n",
            "Epoch 16/30\n",
            "79/79 [==============================] - 293s 4s/step - loss: 2.1531 - accuracy: 0.2252 - val_loss: 2.1509 - val_accuracy: 0.2275\n",
            "Epoch 17/30\n",
            "79/79 [==============================] - 290s 4s/step - loss: 2.1536 - accuracy: 0.2205 - val_loss: 2.1979 - val_accuracy: 0.2000\n",
            "Epoch 18/30\n",
            "79/79 [==============================] - 291s 4s/step - loss: 2.1552 - accuracy: 0.2137 - val_loss: 2.1455 - val_accuracy: 0.2285\n",
            "Epoch 19/30\n",
            "79/79 [==============================] - 292s 4s/step - loss: 2.1507 - accuracy: 0.2295 - val_loss: 2.1584 - val_accuracy: 0.2280\n",
            "Epoch 20/30\n",
            "79/79 [==============================] - 292s 4s/step - loss: 2.1523 - accuracy: 0.2153 - val_loss: 2.1616 - val_accuracy: 0.2140\n",
            "Epoch 21/30\n",
            "79/79 [==============================] - 294s 4s/step - loss: 2.1467 - accuracy: 0.2199 - val_loss: 2.1353 - val_accuracy: 0.2335\n",
            "Epoch 22/30\n",
            "79/79 [==============================] - 290s 4s/step - loss: 2.1341 - accuracy: 0.2278 - val_loss: 2.1486 - val_accuracy: 0.2325\n",
            "Epoch 23/30\n",
            "79/79 [==============================] - 293s 4s/step - loss: 2.1368 - accuracy: 0.2298 - val_loss: 2.1539 - val_accuracy: 0.2215\n",
            "Epoch 24/30\n",
            "79/79 [==============================] - 293s 4s/step - loss: 2.1385 - accuracy: 0.2273 - val_loss: 2.1389 - val_accuracy: 0.2215\n",
            "Epoch 25/30\n",
            "79/79 [==============================] - 291s 4s/step - loss: 2.1258 - accuracy: 0.2290 - val_loss: 2.1395 - val_accuracy: 0.2290\n",
            "Epoch 26/30\n",
            "79/79 [==============================] - 291s 4s/step - loss: 2.1136 - accuracy: 0.2415 - val_loss: 2.1317 - val_accuracy: 0.2425\n",
            "Epoch 27/30\n",
            "79/79 [==============================] - 295s 4s/step - loss: 2.1296 - accuracy: 0.2355 - val_loss: 2.1390 - val_accuracy: 0.2290\n",
            "Epoch 28/30\n",
            "79/79 [==============================] - 292s 4s/step - loss: 2.1135 - accuracy: 0.2412 - val_loss: 2.1456 - val_accuracy: 0.2480\n",
            "Epoch 29/30\n",
            "79/79 [==============================] - 292s 4s/step - loss: 2.1281 - accuracy: 0.2408 - val_loss: 2.1218 - val_accuracy: 0.2295\n",
            "Epoch 30/30\n",
            "79/79 [==============================] - 293s 4s/step - loss: 2.1181 - accuracy: 0.2403 - val_loss: 2.1267 - val_accuracy: 0.2295\n",
            "Model trained successfully!!\n",
            "\n",
            "Total layers in base model is 175\n",
            "\n",
            "Fine tuning the model ...\n",
            "\n",
            "Epoch 1/10\n",
            "79/79 [==============================] - 311s 4s/step - loss: 2.9772 - accuracy: 0.1479 - val_loss: 2.7084 - val_accuracy: 0.1180\n",
            "Epoch 2/10\n",
            "79/79 [==============================] - 300s 4s/step - loss: 2.3035 - accuracy: 0.1836 - val_loss: 2.5285 - val_accuracy: 0.1230\n",
            "Epoch 3/10\n",
            "79/79 [==============================] - 300s 4s/step - loss: 2.2149 - accuracy: 0.2100 - val_loss: 2.3090 - val_accuracy: 0.1525\n",
            "Epoch 4/10\n",
            "79/79 [==============================] - 298s 4s/step - loss: 2.1619 - accuracy: 0.2196 - val_loss: 2.1414 - val_accuracy: 0.2185\n",
            "Epoch 5/10\n",
            "79/79 [==============================] - 298s 4s/step - loss: 2.1117 - accuracy: 0.2409 - val_loss: 2.1377 - val_accuracy: 0.2450\n",
            "Epoch 6/10\n",
            "79/79 [==============================] - 298s 4s/step - loss: 2.1101 - accuracy: 0.2382 - val_loss: 2.1426 - val_accuracy: 0.2520\n",
            "Epoch 7/10\n",
            "79/79 [==============================] - 297s 4s/step - loss: 2.0715 - accuracy: 0.2632 - val_loss: 2.1534 - val_accuracy: 0.2165\n",
            "Epoch 8/10\n",
            "79/79 [==============================] - 296s 4s/step - loss: 2.0365 - accuracy: 0.2676 - val_loss: 2.0309 - val_accuracy: 0.2895\n"
          ],
          "name": "stdout"
        },
        {
          "output_type": "stream",
          "text": [
            "\u001b[34m\u001b[1mwandb\u001b[0m: \u001b[32m\u001b[41mERROR\u001b[0m Can't save model, h5py returned error: Saving the model to HDF5 format requires the model to be a Functional model or a Sequential model. It does not work for subclassed models, because such models are defined via the body of a Python method, which isn't safely serializable. Consider saving to the Tensorflow SavedModel format (by setting save_format=\"tf\") or using `save_weights`.\n"
          ],
          "name": "stderr"
        },
        {
          "output_type": "stream",
          "text": [
            "Epoch 9/10\n",
            "79/79 [==============================] - 298s 4s/step - loss: 2.0098 - accuracy: 0.2821 - val_loss: 2.0596 - val_accuracy: 0.2560\n",
            "Epoch 10/10\n",
            "79/79 [==============================] - 299s 4s/step - loss: 1.9897 - accuracy: 0.2912 - val_loss: 2.0834 - val_accuracy: 0.2605\n",
            "Model tuned successfully!!\n",
            "\n"
          ],
          "name": "stdout"
        },
        {
          "output_type": "display_data",
          "data": {
            "text/html": [
              "<br/>Waiting for W&B process to finish, PID 661<br/>Program ended successfully."
            ],
            "text/plain": [
              "<IPython.core.display.HTML object>"
            ]
          },
          "metadata": {
            "tags": []
          }
        },
        {
          "output_type": "display_data",
          "data": {
            "application/vnd.jupyter.widget-view+json": {
              "model_id": "3a4d90b9d6154a2ba27df4f4bc0aea4c",
              "version_minor": 0,
              "version_major": 2
            },
            "text/plain": [
              "VBox(children=(Label(value=' 5.33MB of 5.33MB uploaded (0.00MB deduped)\\r'), FloatProgress(value=1.0, max=1.0)…"
            ]
          },
          "metadata": {
            "tags": []
          }
        },
        {
          "output_type": "display_data",
          "data": {
            "text/html": [
              "Find user logs for this run at: <code>/content/wandb/run-20210405_051212-fjfw9a7h/logs/debug.log</code>"
            ],
            "text/plain": [
              "<IPython.core.display.HTML object>"
            ]
          },
          "metadata": {
            "tags": []
          }
        },
        {
          "output_type": "display_data",
          "data": {
            "text/html": [
              "Find internal logs for this run at: <code>/content/wandb/run-20210405_051212-fjfw9a7h/logs/debug-internal.log</code>"
            ],
            "text/plain": [
              "<IPython.core.display.HTML object>"
            ]
          },
          "metadata": {
            "tags": []
          }
        },
        {
          "output_type": "display_data",
          "data": {
            "text/html": [
              "<h3>Run summary:</h3><br/><style>\n",
              "    table.wandb td:nth-child(1) { padding: 0 10px; text-align: right }\n",
              "    </style><table class=\"wandb\">\n",
              "<tr><td>epoch</td><td>9</td></tr><tr><td>loss</td><td>1.99996</td></tr><tr><td>accuracy</td><td>0.2873</td></tr><tr><td>val_loss</td><td>2.08345</td></tr><tr><td>val_accuracy</td><td>0.2605</td></tr><tr><td>_runtime</td><td>15404</td></tr><tr><td>_timestamp</td><td>1617614940</td></tr><tr><td>_step</td><td>39</td></tr><tr><td>best_val_loss</td><td>2.03089</td></tr><tr><td>best_epoch</td><td>7</td></tr></table>"
            ],
            "text/plain": [
              "<IPython.core.display.HTML object>"
            ]
          },
          "metadata": {
            "tags": []
          }
        },
        {
          "output_type": "display_data",
          "data": {
            "text/html": [
              "<h3>Run history:</h3><br/><style>\n",
              "    table.wandb td:nth-child(1) { padding: 0 10px; text-align: right }\n",
              "    </style><table class=\"wandb\">\n",
              "<tr><td>epoch</td><td>▁▁▁▂▂▂▂▃▃▃▃▄▄▄▄▅▅▅▅▆▆▆▆▇▇▇▇███▁▁▁▂▂▂▂▃▃▃</td></tr><tr><td>loss</td><td>▅▄▄▄▄▃▃▃▃▃▃▃▃▃▃▃▃▃▃▃▃▃▃▂▂▂▂▂▂▂█▄▃▃▂▂▂▁▁▁</td></tr><tr><td>accuracy</td><td>▁▂▃▃▃▄▄▄▄▄▅▄▅▅▅▅▅▅▅▅▅▆▆▆▅▆▆▆▆▆▃▄▅▅▆▆▇▇██</td></tr><tr><td>val_loss</td><td>▄▄▃▃▃▃▃▂▃▃▃▃▃▂▂▂▃▂▂▂▂▂▂▂▂▂▂▂▂▂█▆▄▂▂▂▂▁▁▂</td></tr><tr><td>val_accuracy</td><td>▁▃▂▃▄▃▄▅▄▄▅▅▅▅▅▅▄▆▅▅▆▆▅▅▆▆▆▆▆▆▁▁▂▅▆▆▅█▇▇</td></tr><tr><td>_runtime</td><td>▁▁▁▂▂▂▂▂▂▃▃▃▃▃▄▄▄▄▄▄▅▅▅▅▅▅▆▆▆▆▆▇▇▇▇▇▇███</td></tr><tr><td>_timestamp</td><td>▁▁▁▂▂▂▂▂▂▃▃▃▃▃▄▄▄▄▄▄▅▅▅▅▅▅▆▆▆▆▆▇▇▇▇▇▇███</td></tr><tr><td>_step</td><td>▁▁▁▂▂▂▂▂▂▃▃▃▃▃▄▄▄▄▄▄▅▅▅▅▅▅▆▆▆▆▆▇▇▇▇▇▇███</td></tr></table><br/>"
            ],
            "text/plain": [
              "<IPython.core.display.HTML object>"
            ]
          },
          "metadata": {
            "tags": []
          }
        },
        {
          "output_type": "display_data",
          "data": {
            "text/html": [
              "Synced 5 W&B file(s), 1 media file(s), 0 artifact file(s) and 19 other file(s)"
            ],
            "text/plain": [
              "<IPython.core.display.HTML object>"
            ]
          },
          "metadata": {
            "tags": []
          }
        },
        {
          "output_type": "display_data",
          "data": {
            "text/html": [
              "\n",
              "                    <br/>Synced <strong style=\"color:#cdcd00\">silvery-sweep-1</strong>: <a href=\"https://wandb.ai/avyay-sujay/uncategorized/runs/fjfw9a7h\" target=\"_blank\">https://wandb.ai/avyay-sujay/uncategorized/runs/fjfw9a7h</a><br/>\n",
              "                "
            ],
            "text/plain": [
              "<IPython.core.display.HTML object>"
            ]
          },
          "metadata": {
            "tags": []
          }
        },
        {
          "output_type": "stream",
          "text": [
            "\u001b[34m\u001b[1mwandb\u001b[0m: Agent Starting Run: ku2ijhnb with config:\n",
            "\u001b[34m\u001b[1mwandb\u001b[0m: \tbase_model: Xception\n",
            "\u001b[34m\u001b[1mwandb\u001b[0m: \u001b[33mWARNING\u001b[0m Ignored wandb.init() arg project when running a sweep\n"
          ],
          "name": "stderr"
        },
        {
          "output_type": "display_data",
          "data": {
            "text/html": [
              "\n",
              "                Tracking run with wandb version 0.10.24<br/>\n",
              "                Syncing run <strong style=\"color:#cdcd00\">sandy-sweep-2</strong> to <a href=\"https://wandb.ai\" target=\"_blank\">Weights & Biases</a> <a href=\"https://docs.wandb.com/integrations/jupyter.html\" target=\"_blank\">(Documentation)</a>.<br/>\n",
              "                Project page: <a href=\"https://wandb.ai/avyay-sujay/uncategorized\" target=\"_blank\">https://wandb.ai/avyay-sujay/uncategorized</a><br/>\n",
              "                Sweep page: <a href=\"https://wandb.ai/avyay-sujay/uncategorized/sweeps/lj7cwcop\" target=\"_blank\">https://wandb.ai/avyay-sujay/uncategorized/sweeps/lj7cwcop</a><br/>\n",
              "Run page: <a href=\"https://wandb.ai/avyay-sujay/uncategorized/runs/ku2ijhnb\" target=\"_blank\">https://wandb.ai/avyay-sujay/uncategorized/runs/ku2ijhnb</a><br/>\n",
              "                Run data is saved locally in <code>/content/wandb/run-20210405_092910-ku2ijhnb</code><br/><br/>\n",
              "            "
            ],
            "text/plain": [
              "<IPython.core.display.HTML object>"
            ]
          },
          "metadata": {
            "tags": []
          }
        },
        {
          "output_type": "stream",
          "text": [
            "1. Loading the dataset ...\n",
            "\n",
            "Found 10000 images belonging to 10 classes.\n",
            "Found 2000 images belonging to 10 classes.\n",
            "2. Initializing the model ...\n",
            "\n",
            "Downloading data from https://storage.googleapis.com/tensorflow/keras-applications/xception/xception_weights_tf_dim_ordering_tf_kernels_notop.h5\n",
            "83689472/83683744 [==============================] - 0s 0us/step\n",
            "3. Compiling the model ...\n",
            "\n",
            "4. Fitting the model ...\n",
            "\n",
            "Epoch 1/30\n",
            "79/79 [==============================] - 313s 4s/step - loss: 2.5936 - accuracy: 0.1549 - val_loss: 2.2002 - val_accuracy: 0.1745\n"
          ],
          "name": "stdout"
        },
        {
          "output_type": "stream",
          "text": [
            "\u001b[34m\u001b[1mwandb\u001b[0m: \u001b[32m\u001b[41mERROR\u001b[0m Can't save model, h5py returned error: Saving the model to HDF5 format requires the model to be a Functional model or a Sequential model. It does not work for subclassed models, because such models are defined via the body of a Python method, which isn't safely serializable. Consider saving to the Tensorflow SavedModel format (by setting save_format=\"tf\") or using `save_weights`.\n"
          ],
          "name": "stderr"
        },
        {
          "output_type": "stream",
          "text": [
            "Epoch 2/30\n",
            "79/79 [==============================] - 299s 4s/step - loss: 2.0211 - accuracy: 0.3199 - val_loss: 2.0131 - val_accuracy: 0.2595\n",
            "Epoch 3/30\n",
            "79/79 [==============================] - 295s 4s/step - loss: 1.7035 - accuracy: 0.4427 - val_loss: 1.6948 - val_accuracy: 0.4665\n",
            "Epoch 4/30\n",
            "79/79 [==============================] - 303s 4s/step - loss: 1.4973 - accuracy: 0.5182 - val_loss: 1.4402 - val_accuracy: 0.5430\n",
            "Epoch 5/30\n",
            "79/79 [==============================] - 305s 4s/step - loss: 1.3486 - accuracy: 0.5779 - val_loss: 1.2103 - val_accuracy: 0.6380\n",
            "Epoch 6/30\n",
            "79/79 [==============================] - 302s 4s/step - loss: 1.2787 - accuracy: 0.5892 - val_loss: 1.1038 - val_accuracy: 0.6625\n",
            "Epoch 7/30\n",
            "79/79 [==============================] - 300s 4s/step - loss: 1.2251 - accuracy: 0.6077 - val_loss: 1.0521 - val_accuracy: 0.6775\n",
            "Epoch 8/30\n",
            "79/79 [==============================] - 299s 4s/step - loss: 1.1491 - accuracy: 0.6302 - val_loss: 1.0105 - val_accuracy: 0.6880\n",
            "Epoch 9/30\n",
            "79/79 [==============================] - 300s 4s/step - loss: 1.0800 - accuracy: 0.6551 - val_loss: 0.9772 - val_accuracy: 0.6980\n",
            "Epoch 10/30\n",
            "79/79 [==============================] - 299s 4s/step - loss: 1.0750 - accuracy: 0.6585 - val_loss: 0.9553 - val_accuracy: 0.6950\n",
            "Epoch 11/30\n",
            "79/79 [==============================] - 299s 4s/step - loss: 1.0599 - accuracy: 0.6640 - val_loss: 0.9372 - val_accuracy: 0.7055\n",
            "Epoch 12/30\n",
            "79/79 [==============================] - 303s 4s/step - loss: 1.0403 - accuracy: 0.6719 - val_loss: 0.9226 - val_accuracy: 0.7120\n",
            "Epoch 13/30\n",
            "79/79 [==============================] - 296s 4s/step - loss: 1.0242 - accuracy: 0.6738 - val_loss: 0.9133 - val_accuracy: 0.7110\n",
            "Epoch 14/30\n",
            "79/79 [==============================] - 297s 4s/step - loss: 1.0028 - accuracy: 0.6786 - val_loss: 0.8919 - val_accuracy: 0.7195\n",
            "Epoch 15/30\n",
            "79/79 [==============================] - 295s 4s/step - loss: 0.9968 - accuracy: 0.6757 - val_loss: 0.8866 - val_accuracy: 0.7215\n",
            "Epoch 16/30\n",
            "79/79 [==============================] - 297s 4s/step - loss: 0.9668 - accuracy: 0.6897 - val_loss: 0.8758 - val_accuracy: 0.7245\n",
            "Epoch 17/30\n",
            "79/79 [==============================] - 297s 4s/step - loss: 0.9808 - accuracy: 0.6769 - val_loss: 0.8759 - val_accuracy: 0.7225\n",
            "Epoch 18/30\n",
            "79/79 [==============================] - 300s 4s/step - loss: 0.9468 - accuracy: 0.6933 - val_loss: 0.8632 - val_accuracy: 0.7220\n",
            "Epoch 19/30\n",
            "79/79 [==============================] - 299s 4s/step - loss: 0.9470 - accuracy: 0.6955 - val_loss: 0.8526 - val_accuracy: 0.7325\n",
            "Epoch 20/30\n",
            "79/79 [==============================] - 299s 4s/step - loss: 0.9577 - accuracy: 0.6920 - val_loss: 0.8446 - val_accuracy: 0.7335\n",
            "Epoch 21/30\n",
            "79/79 [==============================] - 299s 4s/step - loss: 0.9315 - accuracy: 0.6980 - val_loss: 0.8416 - val_accuracy: 0.7370\n",
            "Epoch 22/30\n",
            "79/79 [==============================] - 295s 4s/step - loss: 0.9206 - accuracy: 0.7026 - val_loss: 0.8410 - val_accuracy: 0.7330\n",
            "Epoch 23/30\n",
            "79/79 [==============================] - 296s 4s/step - loss: 0.9216 - accuracy: 0.6977 - val_loss: 0.8322 - val_accuracy: 0.7400\n",
            "Epoch 24/30\n",
            "79/79 [==============================] - 296s 4s/step - loss: 0.9053 - accuracy: 0.7028 - val_loss: 0.8255 - val_accuracy: 0.7410\n",
            "Epoch 25/30\n",
            "79/79 [==============================] - 301s 4s/step - loss: 0.8918 - accuracy: 0.7141 - val_loss: 0.8280 - val_accuracy: 0.7415\n",
            "Epoch 26/30\n",
            "79/79 [==============================] - 296s 4s/step - loss: 0.8894 - accuracy: 0.7121 - val_loss: 0.8371 - val_accuracy: 0.7285\n",
            "Epoch 27/30\n",
            "79/79 [==============================] - 294s 4s/step - loss: 0.8770 - accuracy: 0.7136 - val_loss: 0.8184 - val_accuracy: 0.7380\n",
            "Epoch 28/30\n",
            "79/79 [==============================] - 294s 4s/step - loss: 0.8868 - accuracy: 0.7142 - val_loss: 0.8123 - val_accuracy: 0.7400\n",
            "Epoch 29/30\n",
            "79/79 [==============================] - 294s 4s/step - loss: 0.8786 - accuracy: 0.7065 - val_loss: 0.8257 - val_accuracy: 0.7410\n",
            "Epoch 30/30\n",
            "79/79 [==============================] - 295s 4s/step - loss: 0.8691 - accuracy: 0.7135 - val_loss: 0.8076 - val_accuracy: 0.7490\n",
            "Model trained successfully!!\n",
            "\n",
            "Total layers in base model is 132\n",
            "\n",
            "Fine tuning the model ...\n",
            "\n",
            "Epoch 1/10\n",
            "79/79 [==============================] - 319s 4s/step - loss: 1.3250 - accuracy: 0.5568 - val_loss: 0.7933 - val_accuracy: 0.7480\n"
          ],
          "name": "stdout"
        },
        {
          "output_type": "stream",
          "text": [
            "\u001b[34m\u001b[1mwandb\u001b[0m: \u001b[32m\u001b[41mERROR\u001b[0m Can't save model, h5py returned error: Saving the model to HDF5 format requires the model to be a Functional model or a Sequential model. It does not work for subclassed models, because such models are defined via the body of a Python method, which isn't safely serializable. Consider saving to the Tensorflow SavedModel format (by setting save_format=\"tf\") or using `save_weights`.\n"
          ],
          "name": "stderr"
        },
        {
          "output_type": "stream",
          "text": [
            "Epoch 2/10\n",
            "79/79 [==============================] - 308s 4s/step - loss: 0.9976 - accuracy: 0.6725 - val_loss: 0.8123 - val_accuracy: 0.7510\n",
            "Epoch 3/10\n",
            "79/79 [==============================] - 308s 4s/step - loss: 0.9200 - accuracy: 0.6926 - val_loss: 0.8002 - val_accuracy: 0.7670\n",
            "Epoch 4/10\n",
            "79/79 [==============================] - 309s 4s/step - loss: 0.8441 - accuracy: 0.7174 - val_loss: 0.7715 - val_accuracy: 0.7720\n",
            "Epoch 5/10\n",
            "79/79 [==============================] - 310s 4s/step - loss: 0.7745 - accuracy: 0.7479 - val_loss: 0.7473 - val_accuracy: 0.7740\n",
            "Epoch 6/10\n",
            "79/79 [==============================] - 312s 4s/step - loss: 0.7518 - accuracy: 0.7413 - val_loss: 0.7320 - val_accuracy: 0.7780\n",
            "Epoch 7/10\n",
            "79/79 [==============================] - 309s 4s/step - loss: 0.7242 - accuracy: 0.7639 - val_loss: 0.7122 - val_accuracy: 0.7760\n",
            "Epoch 8/10\n",
            "79/79 [==============================] - 310s 4s/step - loss: 0.6623 - accuracy: 0.7797 - val_loss: 0.6925 - val_accuracy: 0.7820\n",
            "Epoch 9/10\n",
            "79/79 [==============================] - 314s 4s/step - loss: 0.6248 - accuracy: 0.7981 - val_loss: 0.6791 - val_accuracy: 0.7850\n",
            "Epoch 10/10\n",
            "79/79 [==============================] - 313s 4s/step - loss: 0.6035 - accuracy: 0.8002 - val_loss: 0.6726 - val_accuracy: 0.7815\n",
            "Model tuned successfully!!\n",
            "\n"
          ],
          "name": "stdout"
        },
        {
          "output_type": "display_data",
          "data": {
            "text/html": [
              "<br/>Waiting for W&B process to finish, PID 4113<br/>Program ended successfully."
            ],
            "text/plain": [
              "<IPython.core.display.HTML object>"
            ]
          },
          "metadata": {
            "tags": []
          }
        },
        {
          "output_type": "display_data",
          "data": {
            "application/vnd.jupyter.widget-view+json": {
              "model_id": "181dcd495b544fb880452115a851a2c7",
              "version_minor": 0,
              "version_major": 2
            },
            "text/plain": [
              "VBox(children=(Label(value=' 7.34MB of 7.34MB uploaded (0.00MB deduped)\\r'), FloatProgress(value=1.0, max=1.0)…"
            ]
          },
          "metadata": {
            "tags": []
          }
        },
        {
          "output_type": "display_data",
          "data": {
            "text/html": [
              "Find user logs for this run at: <code>/content/wandb/run-20210405_092910-ku2ijhnb/logs/debug.log</code>"
            ],
            "text/plain": [
              "<IPython.core.display.HTML object>"
            ]
          },
          "metadata": {
            "tags": []
          }
        },
        {
          "output_type": "display_data",
          "data": {
            "text/html": [
              "Find internal logs for this run at: <code>/content/wandb/run-20210405_092910-ku2ijhnb/logs/debug-internal.log</code>"
            ],
            "text/plain": [
              "<IPython.core.display.HTML object>"
            ]
          },
          "metadata": {
            "tags": []
          }
        },
        {
          "output_type": "display_data",
          "data": {
            "text/html": [
              "<h3>Run summary:</h3><br/><style>\n",
              "    table.wandb td:nth-child(1) { padding: 0 10px; text-align: right }\n",
              "    </style><table class=\"wandb\">\n",
              "<tr><td>epoch</td><td>9</td></tr><tr><td>loss</td><td>0.61787</td></tr><tr><td>accuracy</td><td>0.7937</td></tr><tr><td>val_loss</td><td>0.67262</td></tr><tr><td>val_accuracy</td><td>0.7815</td></tr><tr><td>_runtime</td><td>12089</td></tr><tr><td>_timestamp</td><td>1617627039</td></tr><tr><td>_step</td><td>39</td></tr><tr><td>best_val_loss</td><td>0.67262</td></tr><tr><td>best_epoch</td><td>9</td></tr></table>"
            ],
            "text/plain": [
              "<IPython.core.display.HTML object>"
            ]
          },
          "metadata": {
            "tags": []
          }
        },
        {
          "output_type": "display_data",
          "data": {
            "text/html": [
              "<h3>Run history:</h3><br/><style>\n",
              "    table.wandb td:nth-child(1) { padding: 0 10px; text-align: right }\n",
              "    </style><table class=\"wandb\">\n",
              "<tr><td>epoch</td><td>▁▁▁▂▂▂▂▃▃▃▃▄▄▄▄▅▅▅▅▆▆▆▆▇▇▇▇███▁▁▁▂▂▂▂▃▃▃</td></tr><tr><td>loss</td><td>█▆▅▄▄▄▃▃▃▃▃▃▃▃▃▂▂▂▂▂▂▂▂▂▂▂▂▂▂▂▃▂▂▂▂▁▁▁▁▁</td></tr><tr><td>accuracy</td><td>▁▃▄▅▅▆▆▆▆▆▆▇▇▇▇▇▇▇▇▇▇▇▇▇▇▇▇▇▇▇▆▇▇▇▇▇████</td></tr><tr><td>val_loss</td><td>█▇▆▅▃▃▃▃▂▂▂▂▂▂▂▂▂▂▂▂▂▂▂▂▂▂▂▂▂▂▂▂▂▁▁▁▁▁▁▁</td></tr><tr><td>val_accuracy</td><td>▁▂▄▅▆▇▇▇▇▇▇▇▇▇▇▇▇▇▇▇▇▇▇▇█▇▇▇▇███████████</td></tr><tr><td>_runtime</td><td>▁▁▁▂▂▂▂▂▂▃▃▃▃▃▃▄▄▄▄▄▅▅▅▅▅▅▆▆▆▆▆▇▇▇▇▇▇███</td></tr><tr><td>_timestamp</td><td>▁▁▁▂▂▂▂▂▂▃▃▃▃▃▃▄▄▄▄▄▅▅▅▅▅▅▆▆▆▆▆▇▇▇▇▇▇███</td></tr><tr><td>_step</td><td>▁▁▁▂▂▂▂▂▂▃▃▃▃▃▄▄▄▄▄▄▅▅▅▅▅▅▆▆▆▆▆▇▇▇▇▇▇███</td></tr></table><br/>"
            ],
            "text/plain": [
              "<IPython.core.display.HTML object>"
            ]
          },
          "metadata": {
            "tags": []
          }
        },
        {
          "output_type": "display_data",
          "data": {
            "text/html": [
              "Synced 5 W&B file(s), 1 media file(s), 0 artifact file(s) and 19 other file(s)"
            ],
            "text/plain": [
              "<IPython.core.display.HTML object>"
            ]
          },
          "metadata": {
            "tags": []
          }
        },
        {
          "output_type": "display_data",
          "data": {
            "text/html": [
              "\n",
              "                    <br/>Synced <strong style=\"color:#cdcd00\">sandy-sweep-2</strong>: <a href=\"https://wandb.ai/avyay-sujay/uncategorized/runs/ku2ijhnb\" target=\"_blank\">https://wandb.ai/avyay-sujay/uncategorized/runs/ku2ijhnb</a><br/>\n",
              "                "
            ],
            "text/plain": [
              "<IPython.core.display.HTML object>"
            ]
          },
          "metadata": {
            "tags": []
          }
        },
        {
          "output_type": "stream",
          "text": [
            "\u001b[34m\u001b[1mwandb\u001b[0m: Sweep Agent: Waiting for job.\n",
            "\u001b[34m\u001b[1mwandb\u001b[0m: Sweep Agent: Exiting.\n"
          ],
          "name": "stderr"
        }
      ]
    },
    {
      "cell_type": "markdown",
      "metadata": {
        "id": "bc8y4y7KB-V3"
      },
      "source": [
        "hvhvsddhghgj\n",
        "jhjhjh\n",
        "dsdsdsd\n",
        "sdsdsdsd\n",
        "hjhjhkj\n",
        "jhjhjhjhjhjh"
      ]
    }
  ]
}