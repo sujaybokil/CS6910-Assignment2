{
 "cells": [
  {
   "cell_type": "code",
   "execution_count": 3,
   "metadata": {},
   "outputs": [],
   "source": [
    "import os\n",
    "import glob\n",
    "import tensorflow as tf\n",
    "from tensorflow import keras\n",
    "from tensorflow.keras.preprocessing.image import ImageDataGenerator\n",
    "from tensorflow.keras.models import Sequential\n",
    "from tensorflow.keras.layers import Dense, Flatten, Conv2D, MaxPooling2D, Activation, Dropout, BatchNormalization\n",
    "import numpy as np\n",
    "\n",
    "import wandb\n",
    "from wandb.keras import WandbCallback\n",
    "\n",
    "from PIL import Image\n",
    "\n",
    "%matplotlib inline\n",
    "%config InlineBackend.figure_format = 'svg'\n",
    "import matplotlib.pyplot as plt\n",
    "import matplotlib.image as mpimg"
   ]
  },
  {
   "cell_type": "code",
   "execution_count": 4,
   "metadata": {},
   "outputs": [],
   "source": [
    "## Automate the building of CNN\n",
    "def createCNN(num_filters=32, filter_multiplier=1, dropout=0.2, batch_norm=False, filter_size=(7,7), dense_size=128, num_classes=10):\n",
    "    model = Sequential()\n",
    "    \n",
    "    if batch_norm:\n",
    "        for i in range(5):\n",
    "            if i <= 2:\n",
    "                model.add(Conv2D(num_filters, filter_size))\n",
    "            else:\n",
    "                model.add(Conv2D(num_filters, (3,3)))\n",
    "            model.add(BatchNormalization())\n",
    "            model.add(Activation(\"relu\"))\n",
    "            model.add(MaxPooling2D(pool_size=(2,2)))\n",
    "            num_filters = int(num_filters * filter_multiplier)\n",
    "\n",
    "    else:\n",
    "        for i in range(5):\n",
    "            if i <= 2:\n",
    "                model.add(Conv2D(num_filters, filter_size))\n",
    "            else:\n",
    "                model.add(Conv2D(num_filters, (3,3)))\n",
    "            model.add(Activation(\"relu\"))\n",
    "            model.add(MaxPooling2D(pool_size=(2,2)))\n",
    "            num_filters = int(num_filters * filter_multiplier)\n",
    "    \n",
    "    model.add(Flatten())\n",
    "    model.add(Dense(dense_size))\n",
    "    model.add(Dropout(dropout))\n",
    "    model.add(Activation(\"relu\"))\n",
    "    model.add(Dense(num_classes))\n",
    "    model.add(Activation(\"softmax\"))\n",
    "\n",
    "    return model;"
   ]
  },
  {
   "cell_type": "code",
   "execution_count": 5,
   "metadata": {},
   "outputs": [],
   "source": [
    "## Prepare the dataset for training\n",
    "def prepare_dataset(DATA_DIR=\"D:\\Documents\\Engineering - IITM\\8th Semester\\CS6910 - Deep Learning\\inaturalist_12K\", augment_data=False):\n",
    "    train_dir = os.path.join(DATA_DIR, \"train\")\n",
    "    test_dir = os.path.join(DATA_DIR, \"val\")\n",
    "\n",
    "    if augment_data:\n",
    "        train_datagen = ImageDataGenerator(rescale=1./255,\n",
    "                                          rotation_range=90,\n",
    "                                          zoom_range=0.2,\n",
    "                                          shear_range=0.2,\n",
    "                                          validation_split=0.1,\n",
    "                                          horizontal_flip=True)\n",
    "        test_datagen = ImageDataGenerator(rescale=1./255)\n",
    "\n",
    "    else:\n",
    "        train_datagen = ImageDataGenerator(rescale=1./255, validation_split=0.1)\n",
    "        test_datagen = ImageDataGenerator(rescale=1./255)\n",
    "\n",
    "    train_generator = train_datagen.flow_from_directory(train_dir, target_size=(200, 200), batch_size=256, subset=\"training\")\n",
    "    val_generator = train_datagen.flow_from_directory(train_dir, target_size=(200, 200), batch_size=256, subset=\"validation\")\n",
    "    test_generator = test_datagen.flow_from_directory(test_dir, target_size=(200, 200), batch_size=256)\n",
    "    \n",
    "    return train_generator, val_generator, test_generator;"
   ]
  },
  {
   "cell_type": "code",
   "execution_count": 6,
   "metadata": {},
   "outputs": [],
   "source": [
    "def setRunName(num_filters=32, filter_multiplier=1, augment_data=False, dropout=0.2, batch_norm=False):\n",
    "    \n",
    "    augment_data_options = {True: \"Y\", False: \"N\"}\n",
    "    batch_norm_options = {True: \"Y\", False: \"N\"}\n",
    "\n",
    "    run_name = \"_\".join([\"num\", str(num_filters), \"org\", str(filter_multiplier), \"aug\", augment_data_options[augment_data],\n",
    "                      \"drop\", str(dropout), \"norm\", batch_norm_options[batch_norm]])\n",
    "    \n",
    "    return run_name;"
   ]
  },
  {
   "cell_type": "code",
   "execution_count": 7,
   "metadata": {},
   "outputs": [],
   "source": [
    "def train():\n",
    "\n",
    "    config_defaults = {\n",
    "        \"num_filters\": 32,\n",
    "        \"filter_multiplier\": 1,\n",
    "        \"augment_data\": False,\n",
    "        \"dropout\": 0.2,\n",
    "        \"batch_norm\": False,\n",
    "        \"epochs\": 5\n",
    "    }\n",
    "\n",
    "    wandb.init(config=config_defaults, magic=True)\n",
    "    config = wandb.config\n",
    "    wandb.run.name = setRunName(config.num_filters, config.filter_multiplier, config.augment_data, config.dropout, config.batch_norm)\n",
    "\n",
    "    train_generator, val_generator, test_generator = prepare_dataset(augment_data=config.augment_data)\n",
    "    model = createCNN(num_filters=config.num_filters, filter_multiplier=config.filter_multiplier,\n",
    "                      dropout=config.dropout, batch_norm=config.batch_norm)\n",
    "    model.compile(optimizer=\"adam\", loss=\"categorical_crossentropy\", metrics=\"categorical_accuracy\")\n",
    "    model.fit(train_generator, epochs=config.epochs, validation_data=val_generator, callbacks=[WandbCallback()])"
   ]
  },
  {
   "cell_type": "code",
   "execution_count": 8,
   "metadata": {},
   "outputs": [
    {
     "name": "stdout",
     "output_type": "stream",
     "text": [
      "Create sweep with ID: yay7ot6o\n",
      "Sweep URL: https://wandb.ai/avyay/cs6910_assignment2/sweeps/yay7ot6o\n"
     ]
    }
   ],
   "source": [
    "sweep_config = {\n",
    "    \"name\": \"Testing filter size\",\n",
    "    \"description\": \"Testing good filter size variation in the CNN\",\n",
    "    \"metric\": \"Val Accuracy\",\n",
    "    \"method\": \"grid\",\n",
    "    \"project\": \"CS6910_Assignment2\",\n",
    "    \"parameters\": {\n",
    "        \"num_filters\": {\n",
    "            \"values\": [32]\n",
    "        },\n",
    "        \"filter_multiplier\": {\n",
    "            \"values\": [1]\n",
    "        },\n",
    "        \"augment_data\": {\n",
    "            \"values\": [True]\n",
    "        },\n",
    "        \"dropout\": {\n",
    "            \"values\": [0.2]\n",
    "        },\n",
    "        \"batch_norm\": {\n",
    "            \"values\": [False]\n",
    "        }\n",
    "    }\n",
    "}\n",
    "\n",
    "# creating the sweep\n",
    "sweep_id = wandb.sweep(sweep_config, project=\"CS6910_Assignment2\")"
   ]
  },
  {
   "cell_type": "code",
   "execution_count": 9,
   "metadata": {
    "scrolled": true
   },
   "outputs": [
    {
     "name": "stderr",
     "output_type": "stream",
     "text": [
      "wandb: Agent Starting Run: ewmtzzud with config:\n",
      "wandb: \taugment_data: True\n",
      "wandb: \tbatch_norm: False\n",
      "wandb: \tdropout: 0.2\n",
      "wandb: \tfilter_multiplier: 1\n",
      "wandb: \tnum_filters: 32\n",
      "wandb: Currently logged in as: avyay (use `wandb login --relogin` to force relogin)\n",
      "C:\\Users\\rao_a\\Miniconda3\\envs\\PythonCPU\\lib\\site-packages\\IPython\\html.py:14: ShimWarning: The `IPython.html` package has been deprecated since IPython 4.0. You should import from `notebook` instead. `IPython.html.widgets` has moved to `ipywidgets`.\n",
      "  \"`IPython.html.widgets` has moved to `ipywidgets`.\", ShimWarning)\n",
      "wandb: wandb version 0.10.24 is available!  To upgrade, please run:\n",
      "wandb:  $ pip install wandb --upgrade\n"
     ]
    },
    {
     "data": {
      "text/html": [
       "\n",
       "                Tracking run with wandb version 0.10.21<br/>\n",
       "                Syncing run <strong style=\"color:#cdcd00\">smooth-sweep-1</strong> to <a href=\"https://wandb.ai\" target=\"_blank\">Weights & Biases</a> <a href=\"https://docs.wandb.com/integrations/jupyter.html\" target=\"_blank\">(Documentation)</a>.<br/>\n",
       "                Project page: <a href=\"https://wandb.ai/avyay/cs6910_assignment2\" target=\"_blank\">https://wandb.ai/avyay/cs6910_assignment2</a><br/>\n",
       "                Sweep page: <a href=\"https://wandb.ai/avyay/cs6910_assignment2/sweeps/yay7ot6o\" target=\"_blank\">https://wandb.ai/avyay/cs6910_assignment2/sweeps/yay7ot6o</a><br/>\n",
       "Run page: <a href=\"https://wandb.ai/avyay/cs6910_assignment2/runs/ewmtzzud\" target=\"_blank\">https://wandb.ai/avyay/cs6910_assignment2/runs/ewmtzzud</a><br/>\n",
       "                Run data is saved locally in <code>C:\\Users\\rao_a\\PythonCPU\\Deep Learning\\CS6910-Assignment2\\wandb\\run-20210402_172311-ewmtzzud</code><br/><br/>\n",
       "            "
      ],
      "text/plain": [
       "<IPython.core.display.HTML object>"
      ]
     },
     "metadata": {},
     "output_type": "display_data"
    },
    {
     "data": {
      "text/html": [
       "Finishing last run (ID:ewmtzzud) before initializing another..."
      ],
      "text/plain": [
       "<IPython.core.display.HTML object>"
      ]
     },
     "metadata": {},
     "output_type": "display_data"
    },
    {
     "data": {
      "text/html": [
       "<br/>Waiting for W&B process to finish, PID 23352<br/>Program ended successfully."
      ],
      "text/plain": [
       "<IPython.core.display.HTML object>"
      ]
     },
     "metadata": {},
     "output_type": "display_data"
    },
    {
     "data": {
      "text/html": [
       "Find user logs for this run at: <code>C:\\Users\\rao_a\\PythonCPU\\Deep Learning\\CS6910-Assignment2\\wandb\\run-20210402_172311-ewmtzzud\\logs\\debug.log</code>"
      ],
      "text/plain": [
       "<IPython.core.display.HTML object>"
      ]
     },
     "metadata": {},
     "output_type": "display_data"
    },
    {
     "data": {
      "text/html": [
       "Find internal logs for this run at: <code>C:\\Users\\rao_a\\PythonCPU\\Deep Learning\\CS6910-Assignment2\\wandb\\run-20210402_172311-ewmtzzud\\logs\\debug-internal.log</code>"
      ],
      "text/plain": [
       "<IPython.core.display.HTML object>"
      ]
     },
     "metadata": {},
     "output_type": "display_data"
    },
    {
     "data": {
      "text/html": [
       "Synced 4 W&B file(s), 0 media file(s), 0 artifact file(s) and 0 other file(s)"
      ],
      "text/plain": [
       "<IPython.core.display.HTML object>"
      ]
     },
     "metadata": {},
     "output_type": "display_data"
    },
    {
     "data": {
      "text/html": [
       "\n",
       "                    <br/>Synced <strong style=\"color:#cdcd00\">smooth-sweep-1</strong>: <a href=\"https://wandb.ai/avyay/cs6910_assignment2/runs/ewmtzzud\" target=\"_blank\">https://wandb.ai/avyay/cs6910_assignment2/runs/ewmtzzud</a><br/>\n",
       "                "
      ],
      "text/plain": [
       "<IPython.core.display.HTML object>"
      ]
     },
     "metadata": {},
     "output_type": "display_data"
    },
    {
     "data": {
      "text/html": [
       "...Successfully finished last run (ID:ewmtzzud). Initializing new run:<br/><br/>"
      ],
      "text/plain": [
       "<IPython.core.display.HTML object>"
      ]
     },
     "metadata": {},
     "output_type": "display_data"
    },
    {
     "name": "stderr",
     "output_type": "stream",
     "text": [
      "wandb: wandb version 0.10.24 is available!  To upgrade, please run:\n",
      "wandb:  $ pip install wandb --upgrade\n"
     ]
    },
    {
     "data": {
      "text/html": [
       "\n",
       "                Tracking run with wandb version 0.10.21<br/>\n",
       "                Syncing run <strong style=\"color:#cdcd00\">smooth-sweep-1</strong> to <a href=\"https://wandb.ai\" target=\"_blank\">Weights & Biases</a> <a href=\"https://docs.wandb.com/integrations/jupyter.html\" target=\"_blank\">(Documentation)</a>.<br/>\n",
       "                Project page: <a href=\"https://wandb.ai/avyay/cs6910_assignment2\" target=\"_blank\">https://wandb.ai/avyay/cs6910_assignment2</a><br/>\n",
       "                Sweep page: <a href=\"https://wandb.ai/avyay/cs6910_assignment2/sweeps/yay7ot6o\" target=\"_blank\">https://wandb.ai/avyay/cs6910_assignment2/sweeps/yay7ot6o</a><br/>\n",
       "Run page: <a href=\"https://wandb.ai/avyay/cs6910_assignment2/runs/ewmtzzud\" target=\"_blank\">https://wandb.ai/avyay/cs6910_assignment2/runs/ewmtzzud</a><br/>\n",
       "                Run data is saved locally in <code>C:\\Users\\rao_a\\PythonCPU\\Deep Learning\\CS6910-Assignment2\\wandb\\run-20210402_172316-ewmtzzud</code><br/><br/>\n",
       "            "
      ],
      "text/plain": [
       "<IPython.core.display.HTML object>"
      ]
     },
     "metadata": {},
     "output_type": "display_data"
    },
    {
     "name": "stdout",
     "output_type": "stream",
     "text": [
      "Found 9000 images belonging to 10 classes.\n",
      "Found 999 images belonging to 10 classes.\n",
      "Found 2000 images belonging to 10 classes.\n",
      "Epoch 1/5\n",
      " 1/36 [..............................] - ETA: 0s - loss: 2.2917 - categorical_accuracy: 0.1211"
     ]
    },
    {
     "name": "stderr",
     "output_type": "stream",
     "text": [
      "WARNING: Logging before flag parsing goes to stderr.\n",
      "W0402 17:24:55.292282 12512 deprecation.py:323] From C:\\Users\\rao_a\\Miniconda3\\envs\\PythonCPU\\lib\\site-packages\\tensorflow\\python\\ops\\summary_ops_v2.py:1277: stop (from tensorflow.python.eager.profiler) is deprecated and will be removed after 2020-07-01.\n",
      "Instructions for updating:\n",
      "use `tf.profiler.experimental.stop` instead.\n"
     ]
    },
    {
     "name": "stdout",
     "output_type": "stream",
     "text": [
      "36/36 [==============================] - 802s 22s/step - loss: 2.2995 - categorical_accuracy: 0.1116 - val_loss: 2.2797 - val_categorical_accuracy: 0.1341\n",
      "Epoch 2/5\n",
      "36/36 [==============================] - 724s 20s/step - loss: 2.2595 - categorical_accuracy: 0.1381 - val_loss: 2.2183 - val_categorical_accuracy: 0.1632\n",
      "Epoch 3/5\n",
      "36/36 [==============================] - 705s 20s/step - loss: 2.2277 - categorical_accuracy: 0.1598 - val_loss: 2.2200 - val_categorical_accuracy: 0.1842\n",
      "Epoch 4/5\n",
      "36/36 [==============================] - 700s 19s/step - loss: 2.2103 - categorical_accuracy: 0.1761 - val_loss: 2.1909 - val_categorical_accuracy: 0.1942\n",
      "Epoch 5/5\n",
      "36/36 [==============================] - 712s 20s/step - loss: 2.1921 - categorical_accuracy: 0.1863 - val_loss: 2.1712 - val_categorical_accuracy: 0.1832\n"
     ]
    },
    {
     "data": {
      "text/html": [
       "<br/>Waiting for W&B process to finish, PID 26208<br/>Program ended successfully."
      ],
      "text/plain": [
       "<IPython.core.display.HTML object>"
      ]
     },
     "metadata": {},
     "output_type": "display_data"
    },
    {
     "data": {
      "text/html": [
       "Find user logs for this run at: <code>C:\\Users\\rao_a\\PythonCPU\\Deep Learning\\CS6910-Assignment2\\wandb\\run-20210402_172316-ewmtzzud\\logs\\debug.log</code>"
      ],
      "text/plain": [
       "<IPython.core.display.HTML object>"
      ]
     },
     "metadata": {},
     "output_type": "display_data"
    },
    {
     "data": {
      "text/html": [
       "Find internal logs for this run at: <code>C:\\Users\\rao_a\\PythonCPU\\Deep Learning\\CS6910-Assignment2\\wandb\\run-20210402_172316-ewmtzzud\\logs\\debug-internal.log</code>"
      ],
      "text/plain": [
       "<IPython.core.display.HTML object>"
      ]
     },
     "metadata": {},
     "output_type": "display_data"
    },
    {
     "data": {
      "text/html": [
       "<h3>Run summary:</h3><br/><style>\n",
       "    table.wandb td:nth-child(1) { padding: 0 10px; text-align: right }\n",
       "    </style><table class=\"wandb\">\n",
       "<tr><td>epoch</td><td>4</td></tr><tr><td>loss</td><td>2.19209</td></tr><tr><td>categorical_accuracy</td><td>0.18633</td></tr><tr><td>val_loss</td><td>2.17118</td></tr><tr><td>val_categorical_accuracy</td><td>0.18318</td></tr><tr><td>_runtime</td><td>3825</td></tr><tr><td>_timestamp</td><td>1617368226</td></tr><tr><td>_step</td><td>4</td></tr><tr><td>best_val_loss</td><td>2.17118</td></tr><tr><td>best_epoch</td><td>4</td></tr></table>"
      ],
      "text/plain": [
       "<IPython.core.display.HTML object>"
      ]
     },
     "metadata": {},
     "output_type": "display_data"
    },
    {
     "data": {
      "text/html": [
       "<h3>Run history:</h3><br/><style>\n",
       "    table.wandb td:nth-child(1) { padding: 0 10px; text-align: right }\n",
       "    </style><table class=\"wandb\">\n",
       "<tr><td>epoch</td><td>▁▃▅▆█</td></tr><tr><td>loss</td><td>█▅▃▂▁</td></tr><tr><td>categorical_accuracy</td><td>▁▃▆▇█</td></tr><tr><td>val_loss</td><td>█▄▄▂▁</td></tr><tr><td>val_categorical_accuracy</td><td>▁▄▇█▇</td></tr><tr><td>_runtime</td><td>▁▃▅▆█</td></tr><tr><td>_timestamp</td><td>▁▃▅▆█</td></tr><tr><td>_step</td><td>▁▃▅▆█</td></tr></table><br/>"
      ],
      "text/plain": [
       "<IPython.core.display.HTML object>"
      ]
     },
     "metadata": {},
     "output_type": "display_data"
    },
    {
     "data": {
      "text/html": [
       "Synced 5 W&B file(s), 1 media file(s), 0 artifact file(s) and 10 other file(s)"
      ],
      "text/plain": [
       "<IPython.core.display.HTML object>"
      ]
     },
     "metadata": {},
     "output_type": "display_data"
    },
    {
     "data": {
      "text/html": [
       "\n",
       "                    <br/>Synced <strong style=\"color:#cdcd00\">smooth-sweep-1</strong>: <a href=\"https://wandb.ai/avyay/cs6910_assignment2/runs/ewmtzzud\" target=\"_blank\">https://wandb.ai/avyay/cs6910_assignment2/runs/ewmtzzud</a><br/>\n",
       "                "
      ],
      "text/plain": [
       "<IPython.core.display.HTML object>"
      ]
     },
     "metadata": {},
     "output_type": "display_data"
    },
    {
     "name": "stderr",
     "output_type": "stream",
     "text": [
      "wandb: Sweep Agent: Waiting for job.\n",
      "wandb: Sweep Agent: Exiting.\n"
     ]
    }
   ],
   "source": [
    "wandb.agent(sweep_id, function=train)"
   ]
  },
  {
   "cell_type": "code",
   "execution_count": null,
   "metadata": {},
   "outputs": [],
   "source": []
  }
 ],
 "metadata": {
  "kernelspec": {
   "display_name": "Python 3",
   "language": "python",
   "name": "python3"
  },
  "language_info": {
   "codemirror_mode": {
    "name": "ipython",
    "version": 3
   },
   "file_extension": ".py",
   "mimetype": "text/x-python",
   "name": "python",
   "nbconvert_exporter": "python",
   "pygments_lexer": "ipython3",
   "version": "3.7.3"
  }
 },
 "nbformat": 4,
 "nbformat_minor": 2
}
