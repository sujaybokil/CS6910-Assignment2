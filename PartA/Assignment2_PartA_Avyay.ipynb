{
  "nbformat": 4,
  "nbformat_minor": 0,
  "metadata": {
    "kernelspec": {
      "display_name": "Python 3",
      "language": "python",
      "name": "python3"
    },
    "language_info": {
      "codemirror_mode": {
        "name": "ipython",
        "version": 3
      },
      "file_extension": ".py",
      "mimetype": "text/x-python",
      "name": "python",
      "nbconvert_exporter": "python",
      "pygments_lexer": "ipython3",
      "version": "3.7.3"
    },
    "colab": {
      "name": "Assignment2-PartA-Avyay.ipynb",
      "provenance": [],
      "collapsed_sections": []
    },
    "widgets": {
      "application/vnd.jupyter.widget-state+json": {
        "9347ed33ea4d419eafc4968a00f60060": {
          "model_module": "@jupyter-widgets/controls",
          "model_name": "VBoxModel",
          "state": {
            "_view_name": "VBoxView",
            "_dom_classes": [],
            "_model_name": "VBoxModel",
            "_view_module": "@jupyter-widgets/controls",
            "_model_module_version": "1.5.0",
            "_view_count": null,
            "_view_module_version": "1.5.0",
            "box_style": "",
            "layout": "IPY_MODEL_e8070be901bd4866a7082a2de0c054f6",
            "_model_module": "@jupyter-widgets/controls",
            "children": [
              "IPY_MODEL_aff6359800874dc580fb5deda53d408b",
              "IPY_MODEL_eed1b389722c4425be3cc4a80e367dc2"
            ]
          }
        },
        "e8070be901bd4866a7082a2de0c054f6": {
          "model_module": "@jupyter-widgets/base",
          "model_name": "LayoutModel",
          "state": {
            "_view_name": "LayoutView",
            "grid_template_rows": null,
            "right": null,
            "justify_content": null,
            "_view_module": "@jupyter-widgets/base",
            "overflow": null,
            "_model_module_version": "1.2.0",
            "_view_count": null,
            "flex_flow": null,
            "width": null,
            "min_width": null,
            "border": null,
            "align_items": null,
            "bottom": null,
            "_model_module": "@jupyter-widgets/base",
            "top": null,
            "grid_column": null,
            "overflow_y": null,
            "overflow_x": null,
            "grid_auto_flow": null,
            "grid_area": null,
            "grid_template_columns": null,
            "flex": null,
            "_model_name": "LayoutModel",
            "justify_items": null,
            "grid_row": null,
            "max_height": null,
            "align_content": null,
            "visibility": null,
            "align_self": null,
            "height": null,
            "min_height": null,
            "padding": null,
            "grid_auto_rows": null,
            "grid_gap": null,
            "max_width": null,
            "order": null,
            "_view_module_version": "1.2.0",
            "grid_template_areas": null,
            "object_position": null,
            "object_fit": null,
            "grid_auto_columns": null,
            "margin": null,
            "display": null,
            "left": null
          }
        },
        "aff6359800874dc580fb5deda53d408b": {
          "model_module": "@jupyter-widgets/controls",
          "model_name": "LabelModel",
          "state": {
            "_view_name": "LabelView",
            "style": "IPY_MODEL_7432035591024542916b20072b8b24a8",
            "_dom_classes": [],
            "description": "",
            "_model_name": "LabelModel",
            "placeholder": "​",
            "_view_module": "@jupyter-widgets/controls",
            "_model_module_version": "1.5.0",
            "value": " 2.25MB of 2.25MB uploaded (0.00MB deduped)\r",
            "_view_count": null,
            "_view_module_version": "1.5.0",
            "description_tooltip": null,
            "_model_module": "@jupyter-widgets/controls",
            "layout": "IPY_MODEL_71ecad633f1b473197bb77cb41a47e65"
          }
        },
        "eed1b389722c4425be3cc4a80e367dc2": {
          "model_module": "@jupyter-widgets/controls",
          "model_name": "FloatProgressModel",
          "state": {
            "_view_name": "ProgressView",
            "style": "IPY_MODEL_85e17fa888df4cd8a1a7a71647733b97",
            "_dom_classes": [],
            "description": "",
            "_model_name": "FloatProgressModel",
            "bar_style": "",
            "max": 1,
            "_view_module": "@jupyter-widgets/controls",
            "_model_module_version": "1.5.0",
            "value": 1,
            "_view_count": null,
            "_view_module_version": "1.5.0",
            "orientation": "horizontal",
            "min": 0,
            "description_tooltip": null,
            "_model_module": "@jupyter-widgets/controls",
            "layout": "IPY_MODEL_86b290b5359141eea9ac8b0568004f55"
          }
        },
        "7432035591024542916b20072b8b24a8": {
          "model_module": "@jupyter-widgets/controls",
          "model_name": "DescriptionStyleModel",
          "state": {
            "_view_name": "StyleView",
            "_model_name": "DescriptionStyleModel",
            "description_width": "",
            "_view_module": "@jupyter-widgets/base",
            "_model_module_version": "1.5.0",
            "_view_count": null,
            "_view_module_version": "1.2.0",
            "_model_module": "@jupyter-widgets/controls"
          }
        },
        "71ecad633f1b473197bb77cb41a47e65": {
          "model_module": "@jupyter-widgets/base",
          "model_name": "LayoutModel",
          "state": {
            "_view_name": "LayoutView",
            "grid_template_rows": null,
            "right": null,
            "justify_content": null,
            "_view_module": "@jupyter-widgets/base",
            "overflow": null,
            "_model_module_version": "1.2.0",
            "_view_count": null,
            "flex_flow": null,
            "width": null,
            "min_width": null,
            "border": null,
            "align_items": null,
            "bottom": null,
            "_model_module": "@jupyter-widgets/base",
            "top": null,
            "grid_column": null,
            "overflow_y": null,
            "overflow_x": null,
            "grid_auto_flow": null,
            "grid_area": null,
            "grid_template_columns": null,
            "flex": null,
            "_model_name": "LayoutModel",
            "justify_items": null,
            "grid_row": null,
            "max_height": null,
            "align_content": null,
            "visibility": null,
            "align_self": null,
            "height": null,
            "min_height": null,
            "padding": null,
            "grid_auto_rows": null,
            "grid_gap": null,
            "max_width": null,
            "order": null,
            "_view_module_version": "1.2.0",
            "grid_template_areas": null,
            "object_position": null,
            "object_fit": null,
            "grid_auto_columns": null,
            "margin": null,
            "display": null,
            "left": null
          }
        },
        "85e17fa888df4cd8a1a7a71647733b97": {
          "model_module": "@jupyter-widgets/controls",
          "model_name": "ProgressStyleModel",
          "state": {
            "_view_name": "StyleView",
            "_model_name": "ProgressStyleModel",
            "description_width": "",
            "_view_module": "@jupyter-widgets/base",
            "_model_module_version": "1.5.0",
            "_view_count": null,
            "_view_module_version": "1.2.0",
            "bar_color": null,
            "_model_module": "@jupyter-widgets/controls"
          }
        },
        "86b290b5359141eea9ac8b0568004f55": {
          "model_module": "@jupyter-widgets/base",
          "model_name": "LayoutModel",
          "state": {
            "_view_name": "LayoutView",
            "grid_template_rows": null,
            "right": null,
            "justify_content": null,
            "_view_module": "@jupyter-widgets/base",
            "overflow": null,
            "_model_module_version": "1.2.0",
            "_view_count": null,
            "flex_flow": null,
            "width": null,
            "min_width": null,
            "border": null,
            "align_items": null,
            "bottom": null,
            "_model_module": "@jupyter-widgets/base",
            "top": null,
            "grid_column": null,
            "overflow_y": null,
            "overflow_x": null,
            "grid_auto_flow": null,
            "grid_area": null,
            "grid_template_columns": null,
            "flex": null,
            "_model_name": "LayoutModel",
            "justify_items": null,
            "grid_row": null,
            "max_height": null,
            "align_content": null,
            "visibility": null,
            "align_self": null,
            "height": null,
            "min_height": null,
            "padding": null,
            "grid_auto_rows": null,
            "grid_gap": null,
            "max_width": null,
            "order": null,
            "_view_module_version": "1.2.0",
            "grid_template_areas": null,
            "object_position": null,
            "object_fit": null,
            "grid_auto_columns": null,
            "margin": null,
            "display": null,
            "left": null
          }
        }
      }
    },
    "accelerator": "GPU"
  },
  "cells": [
    {
      "cell_type": "code",
      "metadata": {
        "colab": {
          "base_uri": "https://localhost:8080/"
        },
        "id": "bhzjxQkyelmM",
        "outputId": "33543f58-d299-4c94-b061-2ce0b5602c74"
      },
      "source": [
        "#Import and install required libraries\n",
        "import os\n",
        "import glob\n",
        "import tensorflow as tf\n",
        "from tensorflow import keras\n",
        "from tensorflow.keras.preprocessing.image import ImageDataGenerator\n",
        "from tensorflow.keras.models import Sequential, Model\n",
        "from tensorflow.keras.layers import Dense, Flatten, Conv2D, MaxPooling2D, Activation, Dropout, BatchNormalization\n",
        "import numpy as np\n",
        "\n",
        "!pip install wandb\n",
        "import wandb\n",
        "from wandb.keras import WandbCallback\n",
        "\n",
        "from PIL import Image\n",
        "\n",
        "%matplotlib inline\n",
        "%config InlineBackend.figure_format = 'svg'\n",
        "import matplotlib.pyplot as plt\n",
        "import matplotlib.image as mpimg"
      ],
      "execution_count": 1,
      "outputs": [
        {
          "output_type": "stream",
          "text": [
            "Collecting wandb\n",
            "\u001b[?25l  Downloading https://files.pythonhosted.org/packages/47/af/4cfe48fe55046181b992251933cff4ceb3bfd71a42838f5fe683683cd925/wandb-0.10.25-py2.py3-none-any.whl (2.1MB)\n",
            "\r\u001b[K     |▏                               | 10kB 24.2MB/s eta 0:00:01\r\u001b[K     |▎                               | 20kB 29.1MB/s eta 0:00:01\r\u001b[K     |▌                               | 30kB 22.4MB/s eta 0:00:01\r\u001b[K     |▋                               | 40kB 18.0MB/s eta 0:00:01\r\u001b[K     |▉                               | 51kB 15.6MB/s eta 0:00:01\r\u001b[K     |█                               | 61kB 13.9MB/s eta 0:00:01\r\u001b[K     |█▏                              | 71kB 15.3MB/s eta 0:00:01\r\u001b[K     |█▎                              | 81kB 15.6MB/s eta 0:00:01\r\u001b[K     |█▍                              | 92kB 14.2MB/s eta 0:00:01\r\u001b[K     |█▋                              | 102kB 15.3MB/s eta 0:00:01\r\u001b[K     |█▊                              | 112kB 15.3MB/s eta 0:00:01\r\u001b[K     |██                              | 122kB 15.3MB/s eta 0:00:01\r\u001b[K     |██                              | 133kB 15.3MB/s eta 0:00:01\r\u001b[K     |██▎                             | 143kB 15.3MB/s eta 0:00:01\r\u001b[K     |██▍                             | 153kB 15.3MB/s eta 0:00:01\r\u001b[K     |██▌                             | 163kB 15.3MB/s eta 0:00:01\r\u001b[K     |██▊                             | 174kB 15.3MB/s eta 0:00:01\r\u001b[K     |██▉                             | 184kB 15.3MB/s eta 0:00:01\r\u001b[K     |███                             | 194kB 15.3MB/s eta 0:00:01\r\u001b[K     |███▏                            | 204kB 15.3MB/s eta 0:00:01\r\u001b[K     |███▍                            | 215kB 15.3MB/s eta 0:00:01\r\u001b[K     |███▌                            | 225kB 15.3MB/s eta 0:00:01\r\u001b[K     |███▊                            | 235kB 15.3MB/s eta 0:00:01\r\u001b[K     |███▉                            | 245kB 15.3MB/s eta 0:00:01\r\u001b[K     |████                            | 256kB 15.3MB/s eta 0:00:01\r\u001b[K     |████▏                           | 266kB 15.3MB/s eta 0:00:01\r\u001b[K     |████▎                           | 276kB 15.3MB/s eta 0:00:01\r\u001b[K     |████▌                           | 286kB 15.3MB/s eta 0:00:01\r\u001b[K     |████▋                           | 296kB 15.3MB/s eta 0:00:01\r\u001b[K     |████▉                           | 307kB 15.3MB/s eta 0:00:01\r\u001b[K     |█████                           | 317kB 15.3MB/s eta 0:00:01\r\u001b[K     |█████                           | 327kB 15.3MB/s eta 0:00:01\r\u001b[K     |█████▎                          | 337kB 15.3MB/s eta 0:00:01\r\u001b[K     |█████▍                          | 348kB 15.3MB/s eta 0:00:01\r\u001b[K     |█████▋                          | 358kB 15.3MB/s eta 0:00:01\r\u001b[K     |█████▊                          | 368kB 15.3MB/s eta 0:00:01\r\u001b[K     |██████                          | 378kB 15.3MB/s eta 0:00:01\r\u001b[K     |██████                          | 389kB 15.3MB/s eta 0:00:01\r\u001b[K     |██████▎                         | 399kB 15.3MB/s eta 0:00:01\r\u001b[K     |██████▍                         | 409kB 15.3MB/s eta 0:00:01\r\u001b[K     |██████▌                         | 419kB 15.3MB/s eta 0:00:01\r\u001b[K     |██████▊                         | 430kB 15.3MB/s eta 0:00:01\r\u001b[K     |██████▉                         | 440kB 15.3MB/s eta 0:00:01\r\u001b[K     |███████                         | 450kB 15.3MB/s eta 0:00:01\r\u001b[K     |███████▏                        | 460kB 15.3MB/s eta 0:00:01\r\u001b[K     |███████▍                        | 471kB 15.3MB/s eta 0:00:01\r\u001b[K     |███████▌                        | 481kB 15.3MB/s eta 0:00:01\r\u001b[K     |███████▋                        | 491kB 15.3MB/s eta 0:00:01\r\u001b[K     |███████▉                        | 501kB 15.3MB/s eta 0:00:01\r\u001b[K     |████████                        | 512kB 15.3MB/s eta 0:00:01\r\u001b[K     |████████▏                       | 522kB 15.3MB/s eta 0:00:01\r\u001b[K     |████████▎                       | 532kB 15.3MB/s eta 0:00:01\r\u001b[K     |████████▌                       | 542kB 15.3MB/s eta 0:00:01\r\u001b[K     |████████▋                       | 552kB 15.3MB/s eta 0:00:01\r\u001b[K     |████████▊                       | 563kB 15.3MB/s eta 0:00:01\r\u001b[K     |█████████                       | 573kB 15.3MB/s eta 0:00:01\r\u001b[K     |█████████                       | 583kB 15.3MB/s eta 0:00:01\r\u001b[K     |█████████▎                      | 593kB 15.3MB/s eta 0:00:01\r\u001b[K     |█████████▍                      | 604kB 15.3MB/s eta 0:00:01\r\u001b[K     |█████████▋                      | 614kB 15.3MB/s eta 0:00:01\r\u001b[K     |█████████▊                      | 624kB 15.3MB/s eta 0:00:01\r\u001b[K     |██████████                      | 634kB 15.3MB/s eta 0:00:01\r\u001b[K     |██████████                      | 645kB 15.3MB/s eta 0:00:01\r\u001b[K     |██████████▏                     | 655kB 15.3MB/s eta 0:00:01\r\u001b[K     |██████████▍                     | 665kB 15.3MB/s eta 0:00:01\r\u001b[K     |██████████▌                     | 675kB 15.3MB/s eta 0:00:01\r\u001b[K     |██████████▊                     | 686kB 15.3MB/s eta 0:00:01\r\u001b[K     |██████████▉                     | 696kB 15.3MB/s eta 0:00:01\r\u001b[K     |███████████                     | 706kB 15.3MB/s eta 0:00:01\r\u001b[K     |███████████▏                    | 716kB 15.3MB/s eta 0:00:01\r\u001b[K     |███████████▎                    | 727kB 15.3MB/s eta 0:00:01\r\u001b[K     |███████████▌                    | 737kB 15.3MB/s eta 0:00:01\r\u001b[K     |███████████▋                    | 747kB 15.3MB/s eta 0:00:01\r\u001b[K     |███████████▉                    | 757kB 15.3MB/s eta 0:00:01\r\u001b[K     |████████████                    | 768kB 15.3MB/s eta 0:00:01\r\u001b[K     |████████████▏                   | 778kB 15.3MB/s eta 0:00:01\r\u001b[K     |████████████▎                   | 788kB 15.3MB/s eta 0:00:01\r\u001b[K     |████████████▌                   | 798kB 15.3MB/s eta 0:00:01\r\u001b[K     |████████████▋                   | 808kB 15.3MB/s eta 0:00:01\r\u001b[K     |████████████▊                   | 819kB 15.3MB/s eta 0:00:01\r\u001b[K     |█████████████                   | 829kB 15.3MB/s eta 0:00:01\r\u001b[K     |█████████████                   | 839kB 15.3MB/s eta 0:00:01\r\u001b[K     |█████████████▎                  | 849kB 15.3MB/s eta 0:00:01\r\u001b[K     |█████████████▍                  | 860kB 15.3MB/s eta 0:00:01\r\u001b[K     |█████████████▋                  | 870kB 15.3MB/s eta 0:00:01\r\u001b[K     |█████████████▊                  | 880kB 15.3MB/s eta 0:00:01\r\u001b[K     |█████████████▉                  | 890kB 15.3MB/s eta 0:00:01\r\u001b[K     |██████████████                  | 901kB 15.3MB/s eta 0:00:01\r\u001b[K     |██████████████▏                 | 911kB 15.3MB/s eta 0:00:01\r\u001b[K     |██████████████▍                 | 921kB 15.3MB/s eta 0:00:01\r\u001b[K     |██████████████▌                 | 931kB 15.3MB/s eta 0:00:01\r\u001b[K     |██████████████▊                 | 942kB 15.3MB/s eta 0:00:01\r\u001b[K     |██████████████▉                 | 952kB 15.3MB/s eta 0:00:01\r\u001b[K     |███████████████                 | 962kB 15.3MB/s eta 0:00:01\r\u001b[K     |███████████████▏                | 972kB 15.3MB/s eta 0:00:01\r\u001b[K     |███████████████▎                | 983kB 15.3MB/s eta 0:00:01\r\u001b[K     |███████████████▌                | 993kB 15.3MB/s eta 0:00:01\r\u001b[K     |███████████████▋                | 1.0MB 15.3MB/s eta 0:00:01\r\u001b[K     |███████████████▉                | 1.0MB 15.3MB/s eta 0:00:01\r\u001b[K     |████████████████                | 1.0MB 15.3MB/s eta 0:00:01\r\u001b[K     |████████████████▏               | 1.0MB 15.3MB/s eta 0:00:01\r\u001b[K     |████████████████▎               | 1.0MB 15.3MB/s eta 0:00:01\r\u001b[K     |████████████████▍               | 1.1MB 15.3MB/s eta 0:00:01\r\u001b[K     |████████████████▋               | 1.1MB 15.3MB/s eta 0:00:01\r\u001b[K     |████████████████▊               | 1.1MB 15.3MB/s eta 0:00:01\r\u001b[K     |█████████████████               | 1.1MB 15.3MB/s eta 0:00:01\r\u001b[K     |█████████████████               | 1.1MB 15.3MB/s eta 0:00:01\r\u001b[K     |█████████████████▎              | 1.1MB 15.3MB/s eta 0:00:01\r\u001b[K     |█████████████████▍              | 1.1MB 15.3MB/s eta 0:00:01\r\u001b[K     |█████████████████▌              | 1.1MB 15.3MB/s eta 0:00:01\r\u001b[K     |█████████████████▊              | 1.1MB 15.3MB/s eta 0:00:01\r\u001b[K     |█████████████████▉              | 1.1MB 15.3MB/s eta 0:00:01\r\u001b[K     |██████████████████              | 1.2MB 15.3MB/s eta 0:00:01\r\u001b[K     |██████████████████▏             | 1.2MB 15.3MB/s eta 0:00:01\r\u001b[K     |██████████████████▍             | 1.2MB 15.3MB/s eta 0:00:01\r\u001b[K     |██████████████████▌             | 1.2MB 15.3MB/s eta 0:00:01\r\u001b[K     |██████████████████▊             | 1.2MB 15.3MB/s eta 0:00:01\r\u001b[K     |██████████████████▉             | 1.2MB 15.3MB/s eta 0:00:01\r\u001b[K     |███████████████████             | 1.2MB 15.3MB/s eta 0:00:01\r\u001b[K     |███████████████████▏            | 1.2MB 15.3MB/s eta 0:00:01\r\u001b[K     |███████████████████▎            | 1.2MB 15.3MB/s eta 0:00:01\r\u001b[K     |███████████████████▌            | 1.2MB 15.3MB/s eta 0:00:01\r\u001b[K     |███████████████████▋            | 1.3MB 15.3MB/s eta 0:00:01\r\u001b[K     |███████████████████▉            | 1.3MB 15.3MB/s eta 0:00:01\r\u001b[K     |████████████████████            | 1.3MB 15.3MB/s eta 0:00:01\r\u001b[K     |████████████████████            | 1.3MB 15.3MB/s eta 0:00:01\r\u001b[K     |████████████████████▎           | 1.3MB 15.3MB/s eta 0:00:01\r\u001b[K     |████████████████████▍           | 1.3MB 15.3MB/s eta 0:00:01\r\u001b[K     |████████████████████▋           | 1.3MB 15.3MB/s eta 0:00:01\r\u001b[K     |████████████████████▊           | 1.3MB 15.3MB/s eta 0:00:01\r\u001b[K     |█████████████████████           | 1.3MB 15.3MB/s eta 0:00:01\r\u001b[K     |█████████████████████           | 1.4MB 15.3MB/s eta 0:00:01\r\u001b[K     |█████████████████████▎          | 1.4MB 15.3MB/s eta 0:00:01\r\u001b[K     |█████████████████████▍          | 1.4MB 15.3MB/s eta 0:00:01\r\u001b[K     |█████████████████████▌          | 1.4MB 15.3MB/s eta 0:00:01\r\u001b[K     |█████████████████████▊          | 1.4MB 15.3MB/s eta 0:00:01\r\u001b[K     |█████████████████████▉          | 1.4MB 15.3MB/s eta 0:00:01\r\u001b[K     |██████████████████████          | 1.4MB 15.3MB/s eta 0:00:01\r\u001b[K     |██████████████████████▏         | 1.4MB 15.3MB/s eta 0:00:01\r\u001b[K     |██████████████████████▍         | 1.4MB 15.3MB/s eta 0:00:01\r\u001b[K     |██████████████████████▌         | 1.4MB 15.3MB/s eta 0:00:01\r\u001b[K     |██████████████████████▋         | 1.5MB 15.3MB/s eta 0:00:01\r\u001b[K     |██████████████████████▉         | 1.5MB 15.3MB/s eta 0:00:01\r\u001b[K     |███████████████████████         | 1.5MB 15.3MB/s eta 0:00:01\r\u001b[K     |███████████████████████▏        | 1.5MB 15.3MB/s eta 0:00:01\r\u001b[K     |███████████████████████▎        | 1.5MB 15.3MB/s eta 0:00:01\r\u001b[K     |███████████████████████▌        | 1.5MB 15.3MB/s eta 0:00:01\r\u001b[K     |███████████████████████▋        | 1.5MB 15.3MB/s eta 0:00:01\r\u001b[K     |███████████████████████▉        | 1.5MB 15.3MB/s eta 0:00:01\r\u001b[K     |████████████████████████        | 1.5MB 15.3MB/s eta 0:00:01\r\u001b[K     |████████████████████████        | 1.5MB 15.3MB/s eta 0:00:01\r\u001b[K     |████████████████████████▎       | 1.6MB 15.3MB/s eta 0:00:01\r\u001b[K     |████████████████████████▍       | 1.6MB 15.3MB/s eta 0:00:01\r\u001b[K     |████████████████████████▋       | 1.6MB 15.3MB/s eta 0:00:01\r\u001b[K     |████████████████████████▊       | 1.6MB 15.3MB/s eta 0:00:01\r\u001b[K     |█████████████████████████       | 1.6MB 15.3MB/s eta 0:00:01\r\u001b[K     |█████████████████████████       | 1.6MB 15.3MB/s eta 0:00:01\r\u001b[K     |█████████████████████████▏      | 1.6MB 15.3MB/s eta 0:00:01\r\u001b[K     |█████████████████████████▍      | 1.6MB 15.3MB/s eta 0:00:01\r\u001b[K     |█████████████████████████▌      | 1.6MB 15.3MB/s eta 0:00:01\r\u001b[K     |█████████████████████████▊      | 1.6MB 15.3MB/s eta 0:00:01\r\u001b[K     |█████████████████████████▉      | 1.7MB 15.3MB/s eta 0:00:01\r\u001b[K     |██████████████████████████      | 1.7MB 15.3MB/s eta 0:00:01\r\u001b[K     |██████████████████████████▏     | 1.7MB 15.3MB/s eta 0:00:01\r\u001b[K     |██████████████████████████▎     | 1.7MB 15.3MB/s eta 0:00:01\r\u001b[K     |██████████████████████████▌     | 1.7MB 15.3MB/s eta 0:00:01\r\u001b[K     |██████████████████████████▋     | 1.7MB 15.3MB/s eta 0:00:01\r\u001b[K     |██████████████████████████▉     | 1.7MB 15.3MB/s eta 0:00:01\r\u001b[K     |███████████████████████████     | 1.7MB 15.3MB/s eta 0:00:01\r\u001b[K     |███████████████████████████▏    | 1.7MB 15.3MB/s eta 0:00:01\r\u001b[K     |███████████████████████████▎    | 1.8MB 15.3MB/s eta 0:00:01\r\u001b[K     |███████████████████████████▌    | 1.8MB 15.3MB/s eta 0:00:01\r\u001b[K     |███████████████████████████▋    | 1.8MB 15.3MB/s eta 0:00:01\r\u001b[K     |███████████████████████████▊    | 1.8MB 15.3MB/s eta 0:00:01\r\u001b[K     |████████████████████████████    | 1.8MB 15.3MB/s eta 0:00:01\r\u001b[K     |████████████████████████████    | 1.8MB 15.3MB/s eta 0:00:01\r\u001b[K     |████████████████████████████▎   | 1.8MB 15.3MB/s eta 0:00:01\r\u001b[K     |████████████████████████████▍   | 1.8MB 15.3MB/s eta 0:00:01\r\u001b[K     |████████████████████████████▋   | 1.8MB 15.3MB/s eta 0:00:01\r\u001b[K     |████████████████████████████▊   | 1.8MB 15.3MB/s eta 0:00:01\r\u001b[K     |████████████████████████████▉   | 1.9MB 15.3MB/s eta 0:00:01\r\u001b[K     |█████████████████████████████   | 1.9MB 15.3MB/s eta 0:00:01\r\u001b[K     |█████████████████████████████▏  | 1.9MB 15.3MB/s eta 0:00:01\r\u001b[K     |█████████████████████████████▍  | 1.9MB 15.3MB/s eta 0:00:01\r\u001b[K     |█████████████████████████████▌  | 1.9MB 15.3MB/s eta 0:00:01\r\u001b[K     |█████████████████████████████▊  | 1.9MB 15.3MB/s eta 0:00:01\r\u001b[K     |█████████████████████████████▉  | 1.9MB 15.3MB/s eta 0:00:01\r\u001b[K     |██████████████████████████████  | 1.9MB 15.3MB/s eta 0:00:01\r\u001b[K     |██████████████████████████████▏ | 1.9MB 15.3MB/s eta 0:00:01\r\u001b[K     |██████████████████████████████▎ | 1.9MB 15.3MB/s eta 0:00:01\r\u001b[K     |██████████████████████████████▌ | 2.0MB 15.3MB/s eta 0:00:01\r\u001b[K     |██████████████████████████████▋ | 2.0MB 15.3MB/s eta 0:00:01\r\u001b[K     |██████████████████████████████▉ | 2.0MB 15.3MB/s eta 0:00:01\r\u001b[K     |███████████████████████████████ | 2.0MB 15.3MB/s eta 0:00:01\r\u001b[K     |███████████████████████████████▏| 2.0MB 15.3MB/s eta 0:00:01\r\u001b[K     |███████████████████████████████▎| 2.0MB 15.3MB/s eta 0:00:01\r\u001b[K     |███████████████████████████████▍| 2.0MB 15.3MB/s eta 0:00:01\r\u001b[K     |███████████████████████████████▋| 2.0MB 15.3MB/s eta 0:00:01\r\u001b[K     |███████████████████████████████▊| 2.0MB 15.3MB/s eta 0:00:01\r\u001b[K     |████████████████████████████████| 2.0MB 15.3MB/s eta 0:00:01\r\u001b[K     |████████████████████████████████| 2.1MB 15.3MB/s \n",
            "\u001b[?25hCollecting shortuuid>=0.5.0\n",
            "  Downloading https://files.pythonhosted.org/packages/25/a6/2ecc1daa6a304e7f1b216f0896b26156b78e7c38e1211e9b798b4716c53d/shortuuid-1.0.1-py3-none-any.whl\n",
            "Requirement already satisfied: psutil>=5.0.0 in /usr/local/lib/python3.7/dist-packages (from wandb) (5.4.8)\n",
            "Collecting docker-pycreds>=0.4.0\n",
            "  Downloading https://files.pythonhosted.org/packages/f5/e8/f6bd1eee09314e7e6dee49cbe2c5e22314ccdb38db16c9fc72d2fa80d054/docker_pycreds-0.4.0-py2.py3-none-any.whl\n",
            "Collecting configparser>=3.8.1\n",
            "  Downloading https://files.pythonhosted.org/packages/fd/01/ff260a18caaf4457eb028c96eeb405c4a230ca06c8ec9c1379f813caa52e/configparser-5.0.2-py3-none-any.whl\n",
            "Requirement already satisfied: Click>=7.0 in /usr/local/lib/python3.7/dist-packages (from wandb) (7.1.2)\n",
            "Requirement already satisfied: python-dateutil>=2.6.1 in /usr/local/lib/python3.7/dist-packages (from wandb) (2.8.1)\n",
            "Requirement already satisfied: protobuf>=3.12.0 in /usr/local/lib/python3.7/dist-packages (from wandb) (3.12.4)\n",
            "Requirement already satisfied: promise<3,>=2.0 in /usr/local/lib/python3.7/dist-packages (from wandb) (2.3)\n",
            "Collecting pathtools\n",
            "  Downloading https://files.pythonhosted.org/packages/e7/7f/470d6fcdf23f9f3518f6b0b76be9df16dcc8630ad409947f8be2eb0ed13a/pathtools-0.1.2.tar.gz\n",
            "Collecting sentry-sdk>=0.4.0\n",
            "\u001b[?25l  Downloading https://files.pythonhosted.org/packages/f3/92/5a33be64990ba815364a8f2dd9e6f51de60d23dfddafb4f1fc5577d4dc64/sentry_sdk-1.0.0-py2.py3-none-any.whl (131kB)\n",
            "\u001b[K     |████████████████████████████████| 133kB 57.5MB/s \n",
            "\u001b[?25hRequirement already satisfied: PyYAML in /usr/local/lib/python3.7/dist-packages (from wandb) (3.13)\n",
            "Collecting subprocess32>=3.5.3\n",
            "\u001b[?25l  Downloading https://files.pythonhosted.org/packages/32/c8/564be4d12629b912ea431f1a50eb8b3b9d00f1a0b1ceff17f266be190007/subprocess32-3.5.4.tar.gz (97kB)\n",
            "\u001b[K     |████████████████████████████████| 102kB 12.1MB/s \n",
            "\u001b[?25hCollecting GitPython>=1.0.0\n",
            "\u001b[?25l  Downloading https://files.pythonhosted.org/packages/a6/99/98019716955ba243657daedd1de8f3a88ca1f5b75057c38e959db22fb87b/GitPython-3.1.14-py3-none-any.whl (159kB)\n",
            "\u001b[K     |████████████████████████████████| 163kB 54.7MB/s \n",
            "\u001b[?25hRequirement already satisfied: six>=1.13.0 in /usr/local/lib/python3.7/dist-packages (from wandb) (1.15.0)\n",
            "Requirement already satisfied: requests<3,>=2.0.0 in /usr/local/lib/python3.7/dist-packages (from wandb) (2.23.0)\n",
            "Requirement already satisfied: setuptools in /usr/local/lib/python3.7/dist-packages (from protobuf>=3.12.0->wandb) (54.2.0)\n",
            "Requirement already satisfied: urllib3>=1.10.0 in /usr/local/lib/python3.7/dist-packages (from sentry-sdk>=0.4.0->wandb) (1.24.3)\n",
            "Requirement already satisfied: certifi in /usr/local/lib/python3.7/dist-packages (from sentry-sdk>=0.4.0->wandb) (2020.12.5)\n",
            "Collecting gitdb<5,>=4.0.1\n",
            "\u001b[?25l  Downloading https://files.pythonhosted.org/packages/ea/e8/f414d1a4f0bbc668ed441f74f44c116d9816833a48bf81d22b697090dba8/gitdb-4.0.7-py3-none-any.whl (63kB)\n",
            "\u001b[K     |████████████████████████████████| 71kB 10.7MB/s \n",
            "\u001b[?25hRequirement already satisfied: idna<3,>=2.5 in /usr/local/lib/python3.7/dist-packages (from requests<3,>=2.0.0->wandb) (2.10)\n",
            "Requirement already satisfied: chardet<4,>=3.0.2 in /usr/local/lib/python3.7/dist-packages (from requests<3,>=2.0.0->wandb) (3.0.4)\n",
            "Collecting smmap<5,>=3.0.1\n",
            "  Downloading https://files.pythonhosted.org/packages/68/ee/d540eb5e5996eb81c26ceffac6ee49041d473bc5125f2aa995cf51ec1cf1/smmap-4.0.0-py2.py3-none-any.whl\n",
            "Building wheels for collected packages: pathtools, subprocess32\n",
            "  Building wheel for pathtools (setup.py) ... \u001b[?25l\u001b[?25hdone\n",
            "  Created wheel for pathtools: filename=pathtools-0.1.2-cp37-none-any.whl size=8786 sha256=f211e1fcbb6b203793692f6790771acab0e8a8f98d88abaa28da25d57868ddef\n",
            "  Stored in directory: /root/.cache/pip/wheels/0b/04/79/c3b0c3a0266a3cb4376da31e5bfe8bba0c489246968a68e843\n",
            "  Building wheel for subprocess32 (setup.py) ... \u001b[?25l\u001b[?25hdone\n",
            "  Created wheel for subprocess32: filename=subprocess32-3.5.4-cp37-none-any.whl size=6489 sha256=94b548f5266774a2ede8cacc383978f64bf5534c8ecc43f081a828c84582813f\n",
            "  Stored in directory: /root/.cache/pip/wheels/68/39/1a/5e402bdfdf004af1786c8b853fd92f8c4a04f22aad179654d1\n",
            "Successfully built pathtools subprocess32\n",
            "Installing collected packages: shortuuid, docker-pycreds, configparser, pathtools, sentry-sdk, subprocess32, smmap, gitdb, GitPython, wandb\n",
            "Successfully installed GitPython-3.1.14 configparser-5.0.2 docker-pycreds-0.4.0 gitdb-4.0.7 pathtools-0.1.2 sentry-sdk-1.0.0 shortuuid-1.0.1 smmap-4.0.0 subprocess32-3.5.4 wandb-0.10.25\n"
          ],
          "name": "stdout"
        }
      ]
    },
    {
      "cell_type": "code",
      "metadata": {
        "colab": {
          "base_uri": "https://localhost:8080/"
        },
        "id": "Uw6Fw9Goiy5d",
        "outputId": "d0e8513a-c05e-46ba-c680-7b7295eda3b2"
      },
      "source": [
        "#Mount google drive\n",
        "from google.colab import drive\n",
        "drive.mount('/content/drive')"
      ],
      "execution_count": 2,
      "outputs": [
        {
          "output_type": "stream",
          "text": [
            "Mounted at /content/drive\n"
          ],
          "name": "stdout"
        }
      ]
    },
    {
      "cell_type": "code",
      "metadata": {
        "id": "EcA1-CQBjAN5"
      },
      "source": [
        "#Unzip and load file data file onto server, then delete zip file for optimizing performance\n",
        "zip_path = \"drive/MyDrive/nature_12K.zip\"\n",
        "!cp \"{zip_path}\" .\n",
        "!unzip -q nature_12K.zip\n",
        "!rm nature_12K.zip"
      ],
      "execution_count": 3,
      "outputs": []
    },
    {
      "cell_type": "code",
      "metadata": {
        "id": "T5fTDh3melmP"
      },
      "source": [
        "## Automate the building of CNN\n",
        "def createCNN(num_filters=32, filter_multiplier=1, dropout=0.2, batch_norm=False, dense_size=64, num_classes=10, image_size=200):\n",
        "    model = Sequential()\n",
        "    \n",
        "    for i in range(5):\n",
        "        filter_dim = 11 - 2*i\n",
        "        filter_size = (filter_dim, filter_dim)\n",
        "        if i==0:\n",
        "            model.add(Conv2D(num_filters, filter_size, input_shape=(image_size, image_size, 3), data_format=\"channels_last\"))\n",
        "        else:\n",
        "            model.add(Conv2D(num_filters, filter_size))\n",
        "        if batch_norm:\n",
        "            model.add(BatchNormalization())\n",
        "        model.add(Activation(\"relu\"))\n",
        "        model.add(MaxPooling2D(pool_size=(2,2)))\n",
        "        num_filters = int(num_filters * filter_multiplier)\n",
        "    \n",
        "    model.add(Flatten())\n",
        "    model.add(Dense(dense_size))\n",
        "    model.add(Dropout(dropout))\n",
        "    model.add(Activation(\"relu\"))\n",
        "    model.add(Dense(num_classes))\n",
        "    model.add(Activation(\"softmax\"))\n",
        "\n",
        "    return model"
      ],
      "execution_count": 19,
      "outputs": []
    },
    {
      "cell_type": "code",
      "metadata": {
        "id": "nEOLf2tXelmQ"
      },
      "source": [
        "## Prepare the dataset for training\n",
        "def prepare_dataset(DATA_DIR=\"inaturalist_12K\", augment_data=False):\n",
        "    train_dir = os.path.join(DATA_DIR, \"train\")\n",
        "    test_dir = os.path.join(DATA_DIR, \"val\")\n",
        "\n",
        "    if augment_data:\n",
        "        train_datagen = ImageDataGenerator(rescale=1./255,\n",
        "                                          rotation_range=90,\n",
        "                                          zoom_range=0.2,\n",
        "                                          shear_range=0.2,\n",
        "                                          validation_split=0.1,\n",
        "                                          horizontal_flip=True)\n",
        "        test_datagen = ImageDataGenerator(rescale=1./255)\n",
        "\n",
        "    else:\n",
        "        train_datagen = ImageDataGenerator(rescale=1./255, validation_split=0.1)\n",
        "        test_datagen = ImageDataGenerator(rescale=1./255)\n",
        "\n",
        "    train_generator = train_datagen.flow_from_directory(train_dir, target_size=(200, 200), batch_size=256, subset=\"training\")\n",
        "    val_generator = train_datagen.flow_from_directory(train_dir, target_size=(200, 200), batch_size=256, subset=\"validation\")\n",
        "    test_generator = test_datagen.flow_from_directory(test_dir, target_size=(200, 200), batch_size=256)\n",
        "    \n",
        "    return train_generator, val_generator, test_generator;"
      ],
      "execution_count": 5,
      "outputs": []
    },
    {
      "cell_type": "code",
      "metadata": {
        "id": "AiM8y1e4elmQ"
      },
      "source": [
        "#Customise run names for WandB to enhance readability\n",
        "def setRunName(num_filters=32, filter_multiplier=1, augment_data=False, dropout=0.2, batch_norm=False):\n",
        "    \n",
        "    augment_data_options = {True: \"Y\", False: \"N\"}\n",
        "    batch_norm_options = {True: \"Y\", False: \"N\"}\n",
        "\n",
        "    run_name = \"_\".join([\"num\", str(num_filters), \"org\", str(filter_multiplier), \"aug\", augment_data_options[augment_data],\n",
        "                      \"drop\", str(dropout), \"norm\", batch_norm_options[batch_norm]])\n",
        "    \n",
        "    return run_name;"
      ],
      "execution_count": 6,
      "outputs": []
    },
    {
      "cell_type": "code",
      "metadata": {
        "id": "jij5L3qaelmQ"
      },
      "source": [
        "#Integrate WandB with training and validation process\n",
        "def train():\n",
        "\n",
        "    config_defaults = {\n",
        "        \"num_filters\": 32,\n",
        "        \"filter_multiplier\": 2,\n",
        "        \"augment_data\": False,\n",
        "        \"dropout\": 0.3,\n",
        "        \"batch_norm\": False,\n",
        "        \"epochs\": 10,\n",
        "        \"dense_size\": 64,\n",
        "        \"lr\": 0.001\n",
        "    }\n",
        "\n",
        "    wandb.init(config=config_defaults, magic=True)\n",
        "    config = wandb.config\n",
        "    wandb.run.name = setRunName(config.num_filters, config.filter_multiplier, config.augment_data, config.dropout, config.batch_norm)\n",
        "\n",
        "    train_generator, val_generator, test_generator = prepare_dataset(augment_data=config.augment_data)\n",
        "    model = createCNN(num_filters=config.num_filters, filter_multiplier=config.filter_multiplier,\n",
        "                      dropout=config.dropout, batch_norm=config.batch_norm, dense_size=config.dense_size)\n",
        "    model.compile(optimizer=keras.optimizers.Adam(config.lr), loss=\"categorical_crossentropy\", metrics=\"categorical_accuracy\")\n",
        "    model.fit(train_generator, epochs=config.epochs, validation_data=val_generator, callbacks=[WandbCallback()])"
      ],
      "execution_count": 7,
      "outputs": []
    },
    {
      "cell_type": "code",
      "metadata": {
        "id": "6WzKbuxPYbKZ"
      },
      "source": [
        "#Prepare training and test generators for testing\n",
        "def prepare_test_dataset(DATA_DIR=\"inaturalist_12K\", augment_data=False, image_size=200):\n",
        "    train_dir = os.path.join(DATA_DIR, \"train\")\n",
        "    test_dir = os.path.join(DATA_DIR, \"val\")\n",
        "\n",
        "    if augment_data:\n",
        "        train_datagen = ImageDataGenerator(rescale=1./255,\n",
        "                                          rotation_range=90,\n",
        "                                          zoom_range=0.2,\n",
        "                                          shear_range=0.2,\n",
        "                                          horizontal_flip=True)\n",
        "        test_datagen = ImageDataGenerator(rescale=1./255)\n",
        "\n",
        "    else:\n",
        "        train_datagen = ImageDataGenerator(rescale=1./255)\n",
        "        test_datagen = ImageDataGenerator(rescale=1./255)\n",
        "\n",
        "    train_generator = train_datagen.flow_from_directory(train_dir, target_size=(image_size, image_size), batch_size=256)\n",
        "    test_generator = test_datagen.flow_from_directory(test_dir, target_size=(image_size, image_size), batch_size=30)\n",
        "    \n",
        "    return train_generator, test_generator;"
      ],
      "execution_count": 8,
      "outputs": []
    },
    {
      "cell_type": "code",
      "metadata": {
        "id": "haO6TDDG5MtL"
      },
      "source": [
        "#Display sample test images with their predictions and labels\n",
        "def plot_test_results(test_data, predictions, labels):\n",
        "    fig, ax = plt.subplots(nrows=5, ncols=6, figsize=(15,15))\n",
        "    output_map = {0: 'Amphibia', 1: 'Animalia', 2: 'Arachnida', 3: 'Aves', 4: 'Fungi', \n",
        "                  5: 'Insecta', 6: 'Mammalia', 7: 'Mollusca', 8: 'Plantae', 9: 'Reptilia'}\n",
        "    for i in range(30):\n",
        "        img = test_data[0][0][i]\n",
        "        ax[int(i/6), i%6].imshow(img)\n",
        "        ax[int(i/6), i%6].axis('off')\n",
        "        ax[int(i/6), i%6].set_aspect('equal')\n",
        "        ax[int(i/6), i%6].set_title(\"Predicted: \" + output_map[np.argmax(predictions, axis=1)[i]] + \"\\nLabel: \" + output_map[np.argmax(labels, axis=1)[i]])"
      ],
      "execution_count": 9,
      "outputs": []
    },
    {
      "cell_type": "code",
      "metadata": {
        "id": "GLeFuTOEw1i0"
      },
      "source": [
        "#Visualise feature maps from the first Conv layer for a test image\n",
        "def plot_filters(model, test_data, sample_num):\n",
        "    sub_model = Model(inputs=model.inputs, outputs=model.layers[1].output)\n",
        "    plt.imshow(test_data[0][0][sample_num])\n",
        "    plt.axis('off')\n",
        "    feature_maps = sub_model(test_data[0][0])\n",
        "    fig, ax = plt.subplots(4, 8, figsize=(12,6))\n",
        "    for i in range(feature_maps.shape[-1]):\n",
        "        ax[int(i/8), i%8].imshow(feature_maps[sample_num, :, :, i], cmap='gray')\n",
        "        ax[int(i/8), i%8].axis('off')"
      ],
      "execution_count": 10,
      "outputs": []
    },
    {
      "cell_type": "code",
      "metadata": {
        "id": "n7oOBrK4gOjK"
      },
      "source": [
        "#Integrate WandB with testing and evaluation process\n",
        "def test():\n",
        "\n",
        "    config_defaults = {\n",
        "        \"num_filters\": 32,\n",
        "        \"filter_multiplier\": 2,\n",
        "        \"augment_data\": True,\n",
        "        \"dropout\": 0.3,\n",
        "        \"batch_norm\": True,\n",
        "        \"epochs\": 10,\n",
        "        \"dense_size\": 64,\n",
        "        \"lr\": 0.001\n",
        "    }\n",
        "\n",
        "    wandb.init(config=config_defaults, magic=True)\n",
        "    config = wandb.config\n",
        "    wandb.run.name = setRunName(config.num_filters, config.filter_multiplier, config.augment_data, config.dropout, config.batch_norm)\n",
        "\n",
        "    train_generator, test_generator = prepare_test_dataset(augment_data=config.augment_data, image_size=256)\n",
        "    model = createCNN(num_filters=config.num_filters, filter_multiplier=config.filter_multiplier,\n",
        "                      dropout=config.dropout, batch_norm=config.batch_norm, dense_size=config.dense_size, image_size=256)\n",
        "    model.compile(optimizer=keras.optimizers.Adam(config.lr), loss=\"categorical_crossentropy\", metrics=\"categorical_accuracy\")\n",
        "    model.fit(train_generator, epochs=config.epochs, callbacks=[WandbCallback()])\n",
        "\n",
        "    print(\"Evaluating Model:\")\n",
        "    model.evaluate(test_generator, batch_size=256)\n",
        "    predictions = model(test_generator[0][0])\n",
        "    plot_test_results(test_generator, predictions, test_generator[0][1])\n",
        "    sample_num = 11\n",
        "    plot_filters(model, test_generator, sample_num)\n",
        "    #model.save(\"Best_model.h5\")"
      ],
      "execution_count": 20,
      "outputs": []
    },
    {
      "cell_type": "code",
      "metadata": {
        "colab": {
          "base_uri": "https://localhost:8080/"
        },
        "id": "trRMrFVAZlU_",
        "outputId": "28aa7b23-1e2d-486f-82e4-fbd2f4cc5d45"
      },
      "source": [
        "#Set up a sweep config\n",
        "sweep_config = {\n",
        "    \"name\": \"Test and Save Best Model Again\",\n",
        "    \"description\": \"Checking the performance of CNN on sample of test data\",\n",
        "    \"metric\": \"Val Accuracy\",\n",
        "    \"method\": \"grid\",\n",
        "    \"project\": \"CS6910_Assignment2\",\n",
        "    \"parameters\": {\n",
        "        \"num_filters\": {\n",
        "            \"values\": [32]\n",
        "        },\n",
        "        \"filter_multiplier\": {\n",
        "            \"values\": [2]\n",
        "        },\n",
        "        \"augment_data\": {\n",
        "            \"values\": [True]\n",
        "        },\n",
        "        \"dropout\": {\n",
        "            \"values\": [0.3]\n",
        "        },\n",
        "        \"batch_norm\": {\n",
        "            \"values\": [True]\n",
        "        },\n",
        "        \"epochs\": {\n",
        "            \"values\": [1]\n",
        "        },\n",
        "        \"dense_size\": {\n",
        "            \"values\": [64]\n",
        "        },\n",
        "        \"lr\": {\n",
        "            \"values\": [0.001]\n",
        "        },\n",
        "        \"epochs\": {\n",
        "            \"values\": [10]\n",
        "        }\n",
        "    }\n",
        "}\n",
        "\n",
        "# creating the sweep\n",
        "sweep_id = wandb.sweep(sweep_config, project=\"CS6910_Assignment2\")"
      ],
      "execution_count": 21,
      "outputs": [
        {
          "output_type": "stream",
          "text": [
            "Create sweep with ID: mv1yr1pl\n",
            "Sweep URL: https://wandb.ai/avyay/cs6910_assignment2/sweeps/mv1yr1pl\n"
          ],
          "name": "stdout"
        }
      ]
    },
    {
      "cell_type": "code",
      "metadata": {
        "colab": {
          "base_uri": "https://localhost:8080/",
          "height": 1000,
          "referenced_widgets": [
            "9347ed33ea4d419eafc4968a00f60060",
            "e8070be901bd4866a7082a2de0c054f6",
            "aff6359800874dc580fb5deda53d408b",
            "eed1b389722c4425be3cc4a80e367dc2",
            "7432035591024542916b20072b8b24a8",
            "71ecad633f1b473197bb77cb41a47e65",
            "85e17fa888df4cd8a1a7a71647733b97",
            "86b290b5359141eea9ac8b0568004f55"
          ]
        },
        "id": "Vq6-G1ypZ12k",
        "outputId": "8e2b4ae8-b03e-4c86-d9a9-e6e27daea361"
      },
      "source": [
        "wandb.agent(sweep_id, function=test)"
      ],
      "execution_count": 22,
      "outputs": [
        {
          "output_type": "stream",
          "text": [
            "\u001b[34m\u001b[1mwandb\u001b[0m: Agent Starting Run: 8j452811 with config:\n",
            "\u001b[34m\u001b[1mwandb\u001b[0m: \taugment_data: True\n",
            "\u001b[34m\u001b[1mwandb\u001b[0m: \tbatch_norm: True\n",
            "\u001b[34m\u001b[1mwandb\u001b[0m: \tdense_size: 64\n",
            "\u001b[34m\u001b[1mwandb\u001b[0m: \tdropout: 0.3\n",
            "\u001b[34m\u001b[1mwandb\u001b[0m: \tepochs: 10\n",
            "\u001b[34m\u001b[1mwandb\u001b[0m: \tfilter_multiplier: 2\n",
            "\u001b[34m\u001b[1mwandb\u001b[0m: \tlr: 0.001\n",
            "\u001b[34m\u001b[1mwandb\u001b[0m: \tnum_filters: 32\n"
          ],
          "name": "stderr"
        },
        {
          "output_type": "display_data",
          "data": {
            "text/html": [
              "\n",
              "                Tracking run with wandb version 0.10.25<br/>\n",
              "                Syncing run <strong style=\"color:#cdcd00\">efficient-sweep-1</strong> to <a href=\"https://wandb.ai\" target=\"_blank\">Weights & Biases</a> <a href=\"https://docs.wandb.com/integrations/jupyter.html\" target=\"_blank\">(Documentation)</a>.<br/>\n",
              "                Project page: <a href=\"https://wandb.ai/avyay/cs6910_assignment2\" target=\"_blank\">https://wandb.ai/avyay/cs6910_assignment2</a><br/>\n",
              "                Sweep page: <a href=\"https://wandb.ai/avyay/cs6910_assignment2/sweeps/mv1yr1pl\" target=\"_blank\">https://wandb.ai/avyay/cs6910_assignment2/sweeps/mv1yr1pl</a><br/>\n",
              "Run page: <a href=\"https://wandb.ai/avyay/cs6910_assignment2/runs/8j452811\" target=\"_blank\">https://wandb.ai/avyay/cs6910_assignment2/runs/8j452811</a><br/>\n",
              "                Run data is saved locally in <code>/content/wandb/run-20210410_155001-8j452811</code><br/><br/>\n",
              "            "
            ],
            "text/plain": [
              "<IPython.core.display.HTML object>"
            ]
          },
          "metadata": {
            "tags": []
          }
        },
        {
          "output_type": "stream",
          "text": [
            "Found 9999 images belonging to 10 classes.\n",
            "Found 2000 images belonging to 10 classes.\n",
            "Epoch 1/10\n",
            "40/40 [==============================] - 234s 6s/step - loss: 3.2148 - categorical_accuracy: 0.1047\n",
            "Epoch 2/10\n",
            "40/40 [==============================] - 233s 6s/step - loss: 2.3025 - categorical_accuracy: 0.1030\n",
            "Epoch 3/10\n",
            "40/40 [==============================] - 232s 6s/step - loss: 2.2995 - categorical_accuracy: 0.0928\n",
            "Epoch 4/10\n",
            "40/40 [==============================] - 232s 6s/step - loss: 2.2946 - categorical_accuracy: 0.1026\n",
            "Epoch 5/10\n",
            "40/40 [==============================] - 233s 6s/step - loss: 2.2931 - categorical_accuracy: 0.1151\n",
            "Epoch 6/10\n",
            "40/40 [==============================] - 232s 6s/step - loss: 2.2897 - categorical_accuracy: 0.1218\n",
            "Epoch 7/10\n",
            "40/40 [==============================] - 232s 6s/step - loss: 2.2773 - categorical_accuracy: 0.1243\n",
            "Epoch 8/10\n",
            "40/40 [==============================] - 233s 6s/step - loss: 2.2848 - categorical_accuracy: 0.1210\n",
            "Epoch 9/10\n",
            "40/40 [==============================] - 235s 6s/step - loss: 2.2675 - categorical_accuracy: 0.1397\n",
            "Epoch 10/10\n",
            "40/40 [==============================] - 234s 6s/step - loss: 2.2630 - categorical_accuracy: 0.1331\n",
            "Evaluating Model:\n",
            "67/67 [==============================] - 23s 346ms/step - loss: 2.2794 - categorical_accuracy: 0.1215\n"
          ],
          "name": "stdout"
        },
        {
          "output_type": "display_data",
          "data": {
            "text/html": [
              "<br/>Waiting for W&B process to finish, PID 1241<br/>Program ended successfully."
            ],
            "text/plain": [
              "<IPython.core.display.HTML object>"
            ]
          },
          "metadata": {
            "tags": []
          }
        },
        {
          "output_type": "display_data",
          "data": {
            "application/vnd.jupyter.widget-view+json": {
              "model_id": "9347ed33ea4d419eafc4968a00f60060",
              "version_minor": 0,
              "version_major": 2
            },
            "text/plain": [
              "VBox(children=(Label(value=' 0.65MB of 0.65MB uploaded (0.00MB deduped)\\r'), FloatProgress(value=1.0, max=1.0)…"
            ]
          },
          "metadata": {
            "tags": []
          }
        },
        {
          "output_type": "display_data",
          "data": {
            "text/html": [
              "Find user logs for this run at: <code>/content/wandb/run-20210410_155001-8j452811/logs/debug.log</code>"
            ],
            "text/plain": [
              "<IPython.core.display.HTML object>"
            ]
          },
          "metadata": {
            "tags": []
          }
        },
        {
          "output_type": "display_data",
          "data": {
            "text/html": [
              "Find internal logs for this run at: <code>/content/wandb/run-20210410_155001-8j452811/logs/debug-internal.log</code>"
            ],
            "text/plain": [
              "<IPython.core.display.HTML object>"
            ]
          },
          "metadata": {
            "tags": []
          }
        },
        {
          "output_type": "display_data",
          "data": {
            "text/html": [
              "<h3>Run summary:</h3><br/><style>\n",
              "    table.wandb td:nth-child(1) { padding: 0 10px; text-align: right }\n",
              "    </style><table class=\"wandb\">\n",
              "<tr><td>epoch</td><td>9</td></tr><tr><td>loss</td><td>2.26214</td></tr><tr><td>categorical_accuracy</td><td>0.13611</td></tr><tr><td>_runtime</td><td>2340</td></tr><tr><td>_timestamp</td><td>1618072141</td></tr><tr><td>_step</td><td>9</td></tr></table>"
            ],
            "text/plain": [
              "<IPython.core.display.HTML object>"
            ]
          },
          "metadata": {
            "tags": []
          }
        },
        {
          "output_type": "display_data",
          "data": {
            "text/html": [
              "<h3>Run history:</h3><br/><style>\n",
              "    table.wandb td:nth-child(1) { padding: 0 10px; text-align: right }\n",
              "    </style><table class=\"wandb\">\n",
              "<tr><td>epoch</td><td>▁▂▃▃▄▅▆▆▇█</td></tr><tr><td>loss</td><td>█▂▂▂▂▂▁▁▁▁</td></tr><tr><td>categorical_accuracy</td><td>▂▂▁▃▄▅▅▆██</td></tr><tr><td>_runtime</td><td>▁▂▃▃▄▅▆▆▇█</td></tr><tr><td>_timestamp</td><td>▁▂▃▃▄▅▆▆▇█</td></tr><tr><td>_step</td><td>▁▂▃▃▄▅▆▆▇█</td></tr></table><br/>"
            ],
            "text/plain": [
              "<IPython.core.display.HTML object>"
            ]
          },
          "metadata": {
            "tags": []
          }
        },
        {
          "output_type": "display_data",
          "data": {
            "text/html": [
              "Synced 5 W&B file(s), 1 media file(s), 0 artifact file(s) and 9 other file(s)"
            ],
            "text/plain": [
              "<IPython.core.display.HTML object>"
            ]
          },
          "metadata": {
            "tags": []
          }
        },
        {
          "output_type": "display_data",
          "data": {
            "text/html": [
              "\n",
              "                    <br/>Synced <strong style=\"color:#cdcd00\">efficient-sweep-1</strong>: <a href=\"https://wandb.ai/avyay/cs6910_assignment2/runs/8j452811\" target=\"_blank\">https://wandb.ai/avyay/cs6910_assignment2/runs/8j452811</a><br/>\n",
              "                "
            ],
            "text/plain": [
              "<IPython.core.display.HTML object>"
            ]
          },
          "metadata": {
            "tags": []
          }
        },
        {
          "output_type": "stream",
          "text": [
            "\u001b[34m\u001b[1mwandb\u001b[0m: Sweep Agent: Waiting for job.\n",
            "\u001b[34m\u001b[1mwandb\u001b[0m: Sweep Agent: Exiting.\n"
          ],
          "name": "stderr"
        }
      ]
    },
    {
      "cell_type": "code",
      "metadata": {
        "id": "EAAfXwdSwq0q"
      },
      "source": [
        ""
      ],
      "execution_count": null,
      "outputs": []
    }
  ]
}